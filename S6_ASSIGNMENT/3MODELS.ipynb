{
  "nbformat": 4,
  "nbformat_minor": 0,
  "metadata": {
    "accelerator": "GPU",
    "colab": {
      "name": "CODE3_ROTATION.ipynb",
      "provenance": [],
      "collapsed_sections": [],
      "authorship_tag": "ABX9TyNy0xfeKZOJX3vkUPRpkpaf",
      "include_colab_link": true
    },
    "kernelspec": {
      "display_name": "Python 3",
      "name": "python3"
    },
    "language_info": {
      "name": "python"
    }
  },
  "cells": [
    {
      "cell_type": "markdown",
      "metadata": {
        "id": "view-in-github",
        "colab_type": "text"
      },
      "source": [
        "<a href=\"https://colab.research.google.com/github/raghunadh-eva/eva6/blob/master/S6_ASSIGNMENT/3MODELS.ipynb\" target=\"_parent\"><img src=\"https://colab.research.google.com/assets/colab-badge.svg\" alt=\"Open In Colab\"/></a>"
      ]
    },
    {
      "cell_type": "markdown",
      "metadata": {
        "id": "89D3tlw_dJnV"
      },
      "source": [
        "**Basic setup block**\n",
        "\n",
        "\n",
        "*   Load the required utils/libraries\n",
        "*   Setup the transformations needed to load the data\n",
        "*   Split the input data into train and test\n",
        "*   Create the train and test data objects\n",
        "\n",
        "\n",
        "\n"
      ]
    },
    {
      "cell_type": "code",
      "metadata": {
        "id": "c2UphvIXcJ4D",
        "colab": {
          "base_uri": "https://localhost:8080/"
        },
        "outputId": "3c8be3f8-fb65-4d49-8333-6f84c92141b2"
      },
      "source": [
        "from __future__ import print_function\n",
        "import torch\n",
        "import torch.nn as nn\n",
        "import torch.nn.functional as F\n",
        "import torch.optim as optim\n",
        "from torchvision import datasets, transforms\n",
        "%matplotlib inline\n",
        "import matplotlib.pyplot as plt\n",
        "from torch.optim.lr_scheduler import StepLR\n",
        "!pip install torchsummary\n",
        "from torchsummary import summary\n",
        "import numpy as np"
      ],
      "execution_count": 19,
      "outputs": [
        {
          "output_type": "stream",
          "text": [
            "Requirement already satisfied: torchsummary in /usr/local/lib/python3.7/dist-packages (1.5.1)\n"
          ],
          "name": "stdout"
        }
      ]
    },
    {
      "cell_type": "code",
      "metadata": {
        "id": "hYM0Q5RKfHyR"
      },
      "source": [
        "train_transforms = transforms.Compose([\n",
        "                                       transforms.ToTensor(),\n",
        "                                       transforms.Normalize((0.1307,), (0.3081,)),\n",
        "                                       transforms.RandomRotation((-7.0,7.0),fill=(0))\n",
        "                                       #Ideally use mean - adding #0 since MNIST dark pixels and no-information around the borders\n",
        "                                       #transforms.ColorJitter(brightness = 0.1, contrast= 0.1, saturation = 0.1, hue =0.1),\n",
        "                                       #transforms.Resize((28,28)) #should be before converting to Tensor logically\n",
        "                                       ])\n",
        "test_transforms  = transforms.Compose([\n",
        "                                       transforms.ToTensor(),\n",
        "                                       transforms.Normalize((0.1307,), (0.3081,))\n",
        "                                       #transforms.RandomRotation((-7.0,7.0),fill=(0,)), #Ideally use mean - adding #0 since MNIST dark pixels and no-information around the borders\n",
        "                                       #transforms.ColorJitter(brightness = 0.1, contrast= 0.1, saturation = 0.1, hue =0.1)\n",
        "                                       #transforms.Resize((28,28)) #should be before converting to Tensor logically\n",
        "                                      ])"
      ],
      "execution_count": 2,
      "outputs": []
    },
    {
      "cell_type": "code",
      "metadata": {
        "id": "t8fMRGI4h-bV"
      },
      "source": [
        "train = datasets.MNIST('./data', train=True,  download=True, transform=train_transforms)\n",
        "test =  datasets.MNIST('./data', train=False, download=True, transform=test_transforms)"
      ],
      "execution_count": 3,
      "outputs": []
    },
    {
      "cell_type": "code",
      "metadata": {
        "colab": {
          "base_uri": "https://localhost:8080/"
        },
        "id": "tOstmqZoiluZ",
        "outputId": "859821d9-cfad-4cf2-ed59-ac09b08cbd90"
      },
      "source": [
        "#Always start with same random set everytime\n",
        "SEED = 1\n",
        "\n",
        "#Is GPU ?\n",
        "cuda = torch.cuda.is_available()\n",
        "\n",
        "print('CUDA Available?',cuda)\n",
        "\n",
        "#what happens when SEED = 2 ?\n",
        "torch.manual_seed(SEED)\n",
        "\n",
        "#set the seed for GPU device as well\n",
        "if cuda:\n",
        "  torch.cuda.manual_seed(SEED)\n",
        "\n",
        "dataloader_args = dict(shuffle=True, batch_size=128, num_workers=2, pin_memory=True) if cuda else dict(shuffle=True, batch_size=64)\n",
        "#Why change batch_size for CPU - since it should not matter\n",
        "\n",
        "train_loader = torch.utils.data.DataLoader(train, **dataloader_args)\n",
        "\n",
        "test_loader  = torch.utils.data.DataLoader(test, **dataloader_args)\n",
        "\n"
      ],
      "execution_count": 4,
      "outputs": [
        {
          "output_type": "stream",
          "text": [
            "CUDA Available? True\n"
          ],
          "name": "stdout"
        }
      ]
    },
    {
      "cell_type": "markdown",
      "metadata": {
        "id": "81Z01DMclQgP"
      },
      "source": [
        "**Visualize the input data with image standardization**\n"
      ]
    },
    {
      "cell_type": "code",
      "metadata": {
        "colab": {
          "base_uri": "https://localhost:8080/",
          "height": 282
        },
        "id": "ZW6kBIPPsAJ6",
        "outputId": "5589bcd2-c39b-4d88-bf5e-24dce8a818fd"
      },
      "source": [
        "dataiter = iter(train_loader)\n",
        "\n",
        "images, labels = dataiter.next()\n",
        "\n",
        "#print(images[0])\n",
        "#print(labels.shape)\n",
        "\n",
        "plt.imshow(images[0].numpy().squeeze(), cmap='gray_r')"
      ],
      "execution_count": 5,
      "outputs": [
        {
          "output_type": "execute_result",
          "data": {
            "text/plain": [
              "<matplotlib.image.AxesImage at 0x7fae3c0fe450>"
            ]
          },
          "metadata": {
            "tags": []
          },
          "execution_count": 5
        },
        {
          "output_type": "display_data",
          "data": {
            "image/png": "[encoded data removed]",
            "text/plain": [
              "<Figure size 432x288 with 1 Axes>"
            ]
          },
          "metadata": {
            "tags": [],
            "needs_background": "light"
          }
        }
      ]
    },
    {
      "cell_type": "markdown",
      "metadata": {
        "id": "dv3mXm9isgs6"
      },
      "source": [
        "**Visualize the input data without image standardization**\n",
        "\n"
      ]
    },
    {
      "cell_type": "code",
      "metadata": {
        "id": "z7LD-U8Mlaxg"
      },
      "source": [
        "#Comment this block from CODE2 onwards\n",
        "#train_nonorm_transforms = transforms.Compose([\n",
        "#                                       transforms.ToTensor()\n",
        "#                                       #transforms.Normalize((0.1307,), (0.3081,))\n",
        "#                                       #transforms.RandomRotation((-7.0,7.0),fill=(0,)), #Ideally use mean - adding #0 since MNIST dark pixels and no-information around the borders\n",
        "#                                       #transforms.ColorJitter(brightness = 0.1, contrast= 0.1, saturation = 0.1, hue =0.1),\n",
        "#                                       #transforms.Resize((28,28)) #should be before converting to Tensor logically\n",
        "#                                       ])\n",
        "#test_nonorm_transforms  = transforms.Compose([\n",
        "#                                       transforms.ToTensor()\n",
        "#                                       #transforms.Normalize((0.1307,), (0.3081,))\n",
        "#                                       #transforms.RandomRotation((-7.0,7.0),fill=(0,)), #Ideally use mean - adding #0 since MNIST dark pixels and no-information around the borders\n",
        "#                                       #transforms.ColorJitter(brightness = 0.1, contrast= 0.1, saturation = 0.1, hue =0.1)\n",
        "#                                       #transforms.Resize((28,28)) #should be before converting to Tensor logically\n",
        "#                                      ])\n",
        "#train_nonorm = datasets.MNIST('./data_nonorm', train=True,  download=True, transform=train_nonorm_transforms)\n",
        "#test_nonorm =  datasets.MNIST('./data_nonorm', train=False, download=True, transform=test_nonorm_transforms)\n",
        "#train_loader_nonorm = torch.utils.data.DataLoader(train_nonorm, **dataloader_args)\n",
        "#test_loader_nonorm  = torch.utils.data.DataLoader(test_nonorm, **dataloader_args)\n",
        "#dataiter_nonorm = iter(train_loader_nonorm)\n",
        "#images, labels = dataiter_nonorm.next()\n",
        "#print(images[0])\n",
        "#print(labels.shape)\n",
        "#\n",
        "#plt.imshow(images[0].numpy().squeeze(), cmap='gray_r')"
      ],
      "execution_count": 6,
      "outputs": []
    },
    {
      "cell_type": "code",
      "metadata": {
        "id": "50wZ62qSQObp"
      },
      "source": [
        "dropout_perc = 0.05"
      ],
      "execution_count": 7,
      "outputs": []
    },
    {
      "cell_type": "markdown",
      "metadata": {
        "id": "7bYxdYKtQBk9"
      },
      "source": [
        "**####Batch Normalization + L1 LOSS**"
      ]
    },
    {
      "cell_type": "code",
      "metadata": {
        "id": "5pSLtPQPvktt"
      },
      "source": [
        "class BatchNormNet(nn.Module):\n",
        "    def __init__(self):\n",
        "        super(BatchNormNet, self).__init__()\n",
        "\n",
        "        # Input Block\n",
        "        self.convblock1 = nn.Sequential(\n",
        "            nn.Conv2d(in_channels=1, out_channels=10, kernel_size=(3, 3), padding=0, bias=False),\n",
        "            nn.ReLU(),\n",
        "            nn.BatchNorm2d(10),\n",
        "            nn.Dropout(dropout_perc)\n",
        "        ) # output_size = 26 ; #Receptive field = 3x3\n",
        "\n",
        "        #CT1\n",
        "        self.convblock2 = nn.Sequential(\n",
        "            nn.Conv2d(in_channels=10, out_channels=18, kernel_size=(3, 3), padding=0, bias=False),\n",
        "            nn.ReLU(),\n",
        "            nn.BatchNorm2d(18),\n",
        "            nn.Dropout(dropout_perc)\n",
        "        ) # output_size = 24; #Receptive field = 5x5\n",
        "\n",
        "        self.convblock3 = nn.Sequential(\n",
        "            nn.Conv2d(in_channels=18, out_channels=10, kernel_size=(1, 1), padding=0, bias=False),\n",
        "        ) # output_size = 24; #Receptive field = 5x5\n",
        "\n",
        "        self.pool1 = nn.MaxPool2d(2, 2) # output_size = 12 ; #Receptive field = 6x6\n",
        "\n",
        "        #CT2\n",
        "        self.convblock4 = nn.Sequential(\n",
        "            nn.Conv2d(in_channels=10, out_channels=16, kernel_size=(3, 3), padding=0, bias=False),\n",
        "            nn.ReLU(),\n",
        "            nn.BatchNorm2d(16),\n",
        "            nn.Dropout(dropout_perc)\n",
        "        ) # output_size = 10 ;  #Receptive field = 10x10\n",
        "\n",
        "        self.convblock6 = nn.Sequential(\n",
        "            nn.Conv2d(in_channels=16, out_channels=20, kernel_size=(3, 3), padding=0, bias=False),\n",
        "            nn.ReLU(),\n",
        "            nn.BatchNorm2d(20),            \n",
        "            nn.Dropout(dropout_perc)\n",
        "        ) # output_size = 8 ; #Receptive field = 14x14\n",
        "\n",
        "        self.convblock7 = nn.Sequential(\n",
        "            nn.Conv2d(in_channels=20, out_channels=10, kernel_size=(1, 1), padding=0, bias=False),\n",
        "        ) # output_size = 8 ; #Receptive field = 14x14\n",
        "     \n",
        "        #CT3\n",
        "        self.convblock8 = nn.Sequential(\n",
        "            nn.Conv2d(in_channels=10, out_channels=32, kernel_size=(3, 3), padding=0, bias=False), \n",
        "            nn.ReLU(),\n",
        "            nn.BatchNorm2d(32),\n",
        "            nn.Dropout(dropout_perc)          \n",
        "        ) # output_size = 6 ; #Receptive field = 18x18\n",
        "                 \n",
        "        # OUTPUT BLOCK\n",
        "        self.gap = nn.Sequential(\n",
        "            nn.AvgPool2d(kernel_size=6)\n",
        "        ) # output_size = 1\n",
        "\n",
        "        self.convblock9 = nn.Sequential(\n",
        "            nn.Conv2d(in_channels=32, out_channels=10, kernel_size=(1, 1), padding=0, bias=False)\n",
        "        )\n",
        "\n",
        "    def forward(self, x):\n",
        "        x = self.convblock1(x)\n",
        "        x = self.convblock2(x)\n",
        "        x = self.convblock3(x)\n",
        "        x = self.pool1(x)\n",
        "        x = self.convblock4(x)\n",
        "        x = self.convblock6(x)\n",
        "        x = self.convblock7(x)\n",
        "        x = self.convblock8(x)\n",
        "        x = self.gap(x)        \n",
        "        x = self.convblock9(x)\n",
        "\n",
        "        x = x.view(-1, 10)\n",
        "        return F.log_softmax(x, dim=-1)"
      ],
      "execution_count": 8,
      "outputs": []
    },
    {
      "cell_type": "markdown",
      "metadata": {
        "id": "ghFiQ6mjQXdl"
      },
      "source": [
        "####LayerNorm Normalization + L1 LOSS"
      ]
    },
    {
      "cell_type": "code",
      "metadata": {
        "id": "tCU6KY3UQhUI"
      },
      "source": [
        "class LayerNormNet(nn.Module):\n",
        "    def __init__(self):\n",
        "        super(LayerNormNet, self).__init__()\n",
        "\n",
        "        # Input Block\n",
        "        self.convblock1 = nn.Sequential(\n",
        "            nn.Conv2d(in_channels=1, out_channels=10, kernel_size=(3, 3), padding=0, bias=False),\n",
        "            nn.ReLU(),\n",
        "            nn.GroupNorm(1,10),\n",
        "            nn.Dropout(dropout_perc)\n",
        "        ) # output_size = 26 ; #Receptive field = 3x3\n",
        "\n",
        "        #CT1\n",
        "        self.convblock2 = nn.Sequential(\n",
        "            nn.Conv2d(in_channels=10, out_channels=18, kernel_size=(3, 3), padding=0, bias=False),\n",
        "            nn.ReLU(),\n",
        "            nn.GroupNorm(1,18),\n",
        "            nn.Dropout(dropout_perc)\n",
        "        ) # output_size = 24; #Receptive field = 5x5\n",
        "\n",
        "        self.convblock3 = nn.Sequential(\n",
        "            nn.Conv2d(in_channels=18, out_channels=10, kernel_size=(1, 1), padding=0, bias=False),\n",
        "        ) # output_size = 24; #Receptive field = 5x5\n",
        "\n",
        "        self.pool1 = nn.MaxPool2d(2, 2) # output_size = 12 ; #Receptive field = 6x6\n",
        "\n",
        "        #CT2\n",
        "        self.convblock4 = nn.Sequential(\n",
        "            nn.Conv2d(in_channels=10, out_channels=16, kernel_size=(3, 3), padding=0, bias=False),\n",
        "            nn.ReLU(),\n",
        "            nn.GroupNorm(1,16),\n",
        "            nn.Dropout(dropout_perc)\n",
        "        ) # output_size = 10 ;  #Receptive field = 10x10\n",
        "\n",
        "        self.convblock6 = nn.Sequential(\n",
        "            nn.Conv2d(in_channels=16, out_channels=20, kernel_size=(3, 3), padding=0, bias=False),\n",
        "            nn.ReLU(),\n",
        "            nn.GroupNorm(1,20),            \n",
        "            nn.Dropout(dropout_perc)\n",
        "        ) # output_size = 8 ; #Receptive field = 14x14\n",
        "\n",
        "        self.convblock7 = nn.Sequential(\n",
        "            nn.Conv2d(in_channels=20, out_channels=10, kernel_size=(1, 1), padding=0, bias=False),\n",
        "        ) # output_size = 8 ; #Receptive field = 14x14\n",
        "     \n",
        "        #CT3\n",
        "        self.convblock8 = nn.Sequential(\n",
        "            nn.Conv2d(in_channels=10, out_channels=32, kernel_size=(3, 3), padding=0, bias=False), \n",
        "            nn.ReLU(),\n",
        "            nn.GroupNorm(1,32),\n",
        "            nn.Dropout(dropout_perc)          \n",
        "        ) # output_size = 6 ; #Receptive field = 18x18\n",
        "                 \n",
        "        # OUTPUT BLOCK\n",
        "        self.gap = nn.Sequential(\n",
        "            nn.AvgPool2d(kernel_size=6)\n",
        "        ) # output_size = 1\n",
        "\n",
        "        self.convblock9 = nn.Sequential(\n",
        "            nn.Conv2d(in_channels=32, out_channels=10, kernel_size=(1, 1), padding=0, bias=False)\n",
        "        )\n",
        "\n",
        "    def forward(self, x):\n",
        "        x = self.convblock1(x)\n",
        "        x = self.convblock2(x)\n",
        "        x = self.convblock3(x)\n",
        "        x = self.pool1(x)\n",
        "        x = self.convblock4(x)\n",
        "        x = self.convblock6(x)\n",
        "        x = self.convblock7(x)\n",
        "        x = self.convblock8(x)\n",
        "        x = self.gap(x)        \n",
        "        x = self.convblock9(x)\n",
        "\n",
        "        x = x.view(-1, 10)\n",
        "        return F.log_softmax(x, dim=-1)"
      ],
      "execution_count": 9,
      "outputs": []
    },
    {
      "cell_type": "markdown",
      "metadata": {
        "id": "SuN00vTAQphA"
      },
      "source": [
        "**`####Group normalization network + L1 LOSS`**"
      ]
    },
    {
      "cell_type": "code",
      "metadata": {
        "id": "p8RvVtzzQyGg"
      },
      "source": [
        "class GroupNormNet(nn.Module):\n",
        "    def __init__(self):\n",
        "        super(GroupNormNet, self).__init__()\n",
        "\n",
        "        # Input Block\n",
        "        self.convblock1 = nn.Sequential(\n",
        "            nn.Conv2d(in_channels=1, out_channels=10, kernel_size=(3, 3), padding=0, bias=False),\n",
        "            nn.ReLU(),\n",
        "            nn.GroupNorm(2,10),\n",
        "            nn.Dropout(dropout_perc)\n",
        "        ) # output_size = 26 ; #Receptive field = 3x3\n",
        "\n",
        "        #CT1\n",
        "        self.convblock2 = nn.Sequential(\n",
        "            nn.Conv2d(in_channels=10, out_channels=18, kernel_size=(3, 3), padding=0, bias=False),\n",
        "            nn.ReLU(),\n",
        "            nn.GroupNorm(3,18),\n",
        "            nn.Dropout(dropout_perc)\n",
        "        ) # output_size = 24; #Receptive field = 5x5\n",
        "\n",
        "        self.convblock3 = nn.Sequential(\n",
        "            nn.Conv2d(in_channels=18, out_channels=10, kernel_size=(1, 1), padding=0, bias=False),\n",
        "        ) # output_size = 24; #Receptive field = 5x5\n",
        "\n",
        "        self.pool1 = nn.MaxPool2d(2, 2) # output_size = 12 ; #Receptive field = 6x6\n",
        "\n",
        "        #CT2\n",
        "        self.convblock4 = nn.Sequential(\n",
        "            nn.Conv2d(in_channels=10, out_channels=16, kernel_size=(3, 3), padding=0, bias=False),\n",
        "            nn.ReLU(),\n",
        "            nn.GroupNorm(2,16),\n",
        "            nn.Dropout(dropout_perc)\n",
        "        ) # output_size = 10 ;  #Receptive field = 10x10\n",
        "\n",
        "        self.convblock6 = nn.Sequential(\n",
        "            nn.Conv2d(in_channels=16, out_channels=20, kernel_size=(3, 3), padding=0, bias=False),\n",
        "            nn.ReLU(),\n",
        "            nn.GroupNorm(2,20),            \n",
        "            nn.Dropout(dropout_perc)\n",
        "        ) # output_size = 8 ; #Receptive field = 14x14\n",
        "\n",
        "        self.convblock7 = nn.Sequential(\n",
        "            nn.Conv2d(in_channels=20, out_channels=10, kernel_size=(1, 1), padding=0, bias=False),\n",
        "        ) # output_size = 8 ; #Receptive field = 14x14\n",
        "     \n",
        "        #CT3\n",
        "        self.convblock8 = nn.Sequential(\n",
        "            nn.Conv2d(in_channels=10, out_channels=32, kernel_size=(3, 3), padding=0, bias=False), \n",
        "            nn.ReLU(),\n",
        "            nn.GroupNorm(2,32),\n",
        "            nn.Dropout(dropout_perc)          \n",
        "        ) # output_size = 6 ; #Receptive field = 18x18\n",
        "                 \n",
        "        # OUTPUT BLOCK\n",
        "        self.gap = nn.Sequential(\n",
        "            nn.AvgPool2d(kernel_size=6)\n",
        "        ) # output_size = 1\n",
        "\n",
        "        self.convblock9 = nn.Sequential(\n",
        "            nn.Conv2d(in_channels=32, out_channels=10, kernel_size=(1, 1), padding=0, bias=False)\n",
        "        )\n",
        "\n",
        "    def forward(self, x):\n",
        "        x = self.convblock1(x)\n",
        "        x = self.convblock2(x)\n",
        "        x = self.convblock3(x)\n",
        "        x = self.pool1(x)\n",
        "        x = self.convblock4(x)\n",
        "        x = self.convblock6(x)\n",
        "        x = self.convblock7(x)\n",
        "        x = self.convblock8(x)\n",
        "        x = self.gap(x)        \n",
        "        x = self.convblock9(x)\n",
        "\n",
        "        x = x.view(-1, 10)\n",
        "        return F.log_softmax(x, dim=-1)"
      ],
      "execution_count": 10,
      "outputs": []
    },
    {
      "cell_type": "code",
      "metadata": {
        "id": "33qg7uBpxtYe"
      },
      "source": [
        "from tqdm import tqdm\n",
        "\n",
        "test_fail_data = []\n",
        "test_fail_target = []\n",
        "test_losses = []\n",
        "test_acc = []\n",
        "train_acc = []\n",
        "train_losses = []\n",
        "\n",
        "def train(model, device, train_loader, optimizer, epoch):\n",
        "  model.train()\n",
        "  pbar = tqdm(train_loader)\n",
        "  \n",
        "  l1_lamda = 0.0001\n",
        "  \n",
        "  correct = 0\n",
        "  processed = 0\n",
        "  for batch_idx, (data, target) in enumerate(pbar):\n",
        "    # get samples\n",
        "    data, target = data.to(device), target.to(device)\n",
        "\n",
        "    # Init\n",
        "    optimizer.zero_grad()\n",
        "    # In PyTorch, we need to set the gradients to zero before starting to do backpropragation because PyTorch accumulates the gradients on subsequent backward passes. \n",
        "    # Because of this, when you start your training loop, ideally you should zero out the gradients so that you do the parameter update correctly.\n",
        "\n",
        "    # Predict\n",
        "    y_pred = model(data)\n",
        "\n",
        "    # Calculate loss\n",
        "    loss = F.nll_loss(y_pred, target)\n",
        "\n",
        "    ##Add L1 Loss\n",
        "    l1 = 0\n",
        "    for p in model.parameters():\n",
        "      p_tensor = torch.sum(torch.abs(p))\n",
        "      l1 += p_tensor\n",
        "\n",
        "    loss = loss + l1_lamda * l1\n",
        "    \n",
        "    train_losses.append(loss)\n",
        "\n",
        "    # Backpropagation\n",
        "    loss.backward()\n",
        "    optimizer.step()\n",
        "\n",
        "    # Update pbar-tqdm\n",
        "    \n",
        "    pred = y_pred.argmax(dim=1, keepdim=True)  # get the index of the max log-probability\n",
        "    correct += pred.eq(target.view_as(pred)).sum().item()\n",
        "    processed += len(data)\n",
        "\n",
        "    pbar.set_description(desc= f'Loss={loss.item()} Batch_id={batch_idx} Accuracy={100*correct/processed:0.2f}')\n",
        "    train_acc.append(100*correct/processed)\n",
        "\n",
        "def test(model, device, test_loader):\n",
        "    test_fail_data = []\n",
        "    test_fail_target = []\n",
        "\n",
        "    model.eval()\n",
        "    test_loss = 0\n",
        "    correct = 0\n",
        "    with torch.no_grad():\n",
        "        for data, target in test_loader:\n",
        "            indices = []\n",
        "            data, target = data.to(device), target.to(device)\n",
        "            output = model(data)\n",
        "            test_loss += F.nll_loss(output, target, reduction='sum').item()  # sum up batch loss\n",
        "            pred = output.argmax(dim=1, keepdim=True)  # get the index of the max log-probability\n",
        "            correct += pred.eq(target.view_as(pred)).sum().item()\n",
        "            for i,x in enumerate(pred.eq(target.view_as(pred))):\n",
        "              if not x:\n",
        "                test_fail_data.append(data[i])\n",
        "                test_fail_target.append(target[i])\n",
        "\n",
        "    test_losses.append(test_loss)\n",
        "    \n",
        "    print('\\nTest set: Average loss: {:.4f}, Accuracy: {}/{} ({:.2f}%)\\n'.format(\n",
        "        test_loss, correct, len(test_loader.dataset),\n",
        "        100. * correct / len(test_loader.dataset)))\n",
        "    \n",
        "    test_acc.append(100. * correct / len(test_loader.dataset))\n",
        "\n",
        "    return test_losses, test_acc, test_fail_data, test_fail_target;"
      ],
      "execution_count": 11,
      "outputs": []
    },
    {
      "cell_type": "code",
      "metadata": {
        "colab": {
          "base_uri": "https://localhost:8080/"
        },
        "id": "Xg1-Op7FRknU",
        "outputId": "a44db7e7-e936-45b6-f086-01a427f4daa4"
      },
      "source": [
        "use_cuda = torch.cuda.is_available()\n",
        "device = torch.device(\"cuda\" if use_cuda else \"cpu\")\n",
        "print(device)"
      ],
      "execution_count": 12,
      "outputs": [
        {
          "output_type": "stream",
          "text": [
            "cuda\n"
          ],
          "name": "stdout"
        }
      ]
    },
    {
      "cell_type": "markdown",
      "metadata": {
        "id": "i_4SP4-nRGKG"
      },
      "source": [
        "**####Block to pass argment and call the Model**\n",
        "\n",
        "Pass the model to be Invoked based on Input Argument"
      ]
    },
    {
      "cell_type": "code",
      "metadata": {
        "id": "bf_rAU10xhSU"
      },
      "source": [
        "def main(input_model_type,EPOCHS):\n",
        "  if input_model_type == 0:\n",
        "    model = BatchNormNet().to(device)\n",
        "    run_train_test(model,EPOCHS,input_model_type)    \n",
        "  elif input_model_type == 1:\n",
        "    model = LayerNormNet().to(device)\n",
        "    run_train_test(model,EPOCHS,input_model_type)    \n",
        "  elif input_model_type == 2:\n",
        "    model = GroupNormNet().to(device)\n",
        "    run_train_test(model,EPOCHS,input_model_type)    \n",
        "  else:\n",
        "    print(\"Invalid input for input_model_type\",input_model_type)\n",
        "    print(\"Supported values are 0 = Batch Norm,1 = Layer Norm,2 = Group Norm\")\n",
        "\n",
        "def run_train_test(model,EPOCHS,input_model_type):\n",
        "  summary(model, input_size=(1, 28, 28))\n",
        "  optimizer = optim.SGD(model.parameters(), lr=0.01, momentum=0.9)\n",
        "\n",
        "  for epoch in range(EPOCHS):\n",
        "    print(\"EPOCH:\", epoch)\n",
        "    \n",
        "    train(model, device, train_loader, optimizer, epoch)\n",
        "    \n",
        "    test_losses, test_acc, test_fail_data, test_fail_target = test(model, device, test_loader)\n",
        "  \n",
        "  print(test_losses,test_acc)\n",
        "  print(len(test_fail_target))\n",
        "  #print(test_fail_data)\n",
        "  fig, axs = plt.subplots(1, 2)\n",
        "  if input_model_type == 0:\n",
        "    fig.suptitle('Model Type: Batch normalization')\n",
        "  if input_model_type == 1:\n",
        "    fig.suptitle('Model Type: Layer normalization')\n",
        "  if input_model_type == 2:\n",
        "    fig.suptitle('Model Type: Group normalization')\n",
        "  \n",
        "  axs[0].set_title('Test/Validation Loss Graph')\n",
        "  axs[0].set_xticks(np.arange(1,EPOCHS+1))\n",
        "  #axs[0].xlabel('Test/Validation Loss Graph')\n",
        "  #axs[0].ylabel('LOSS')\n",
        "  axs[1].set_title('Test/Validation Accuracy Graph')\n",
        "  axs[1].set_xticks(np.arange(1,EPOCHS+1))\n",
        "  #axs[1].xlabel('Test/Validation Accuracy Graph')\n",
        "  #axs[1].ylabel('Accuracy')\n",
        "  \n",
        "  axs[0].plot(test_losses)\n",
        "  axs[1].plot(test_acc)"
      ],
      "execution_count": 21,
      "outputs": []
    },
    {
      "cell_type": "markdown",
      "metadata": {
        "id": "bEXmcfDRXoGN"
      },
      "source": [
        "**####Call to main function**\n",
        "\n",
        "main(input_model_type,EPOCHS)\n",
        "\n",
        "input_model_type:\n",
        "\n",
        "Supported values are\n",
        "\n",
        "0 = Train a model with Batch normalization\n",
        "\n",
        "1 = Train a model with Layer normalization\n",
        "\n",
        "2 = Train a model with Group Normalization\n",
        "\n",
        "EPOCHS: num_epochs\n"
      ]
    },
    {
      "cell_type": "code",
      "metadata": {
        "id": "U-ScCBSfbadI",
        "outputId": "a6087b5c-fa85-4624-9ee9-bcf48184353d",
        "colab": {
          "base_uri": "https://localhost:8080/",
          "height": 1000
        }
      },
      "source": [
        "main(2,2)"
      ],
      "execution_count": 20,
      "outputs": [
        {
          "output_type": "stream",
          "text": [
            "\r  0%|          | 0/469 [00:00<?, ?it/s]"
          ],
          "name": "stderr"
        },
        {
          "output_type": "stream",
          "text": [
            "----------------------------------------------------------------\n",
            "        Layer (type)               Output Shape         Param #\n",
            "================================================================\n",
            "            Conv2d-1           [-1, 10, 26, 26]              90\n",
            "              ReLU-2           [-1, 10, 26, 26]               0\n",
            "         GroupNorm-3           [-1, 10, 26, 26]              20\n",
            "           Dropout-4           [-1, 10, 26, 26]               0\n",
            "            Conv2d-5           [-1, 18, 24, 24]           1,620\n",
            "              ReLU-6           [-1, 18, 24, 24]               0\n",
            "         GroupNorm-7           [-1, 18, 24, 24]              36\n",
            "           Dropout-8           [-1, 18, 24, 24]               0\n",
            "            Conv2d-9           [-1, 10, 24, 24]             180\n",
            "        MaxPool2d-10           [-1, 10, 12, 12]               0\n",
            "           Conv2d-11           [-1, 16, 10, 10]           1,440\n",
            "             ReLU-12           [-1, 16, 10, 10]               0\n",
            "        GroupNorm-13           [-1, 16, 10, 10]              32\n",
            "          Dropout-14           [-1, 16, 10, 10]               0\n",
            "           Conv2d-15             [-1, 20, 8, 8]           2,880\n",
            "             ReLU-16             [-1, 20, 8, 8]               0\n",
            "        GroupNorm-17             [-1, 20, 8, 8]              40\n",
            "          Dropout-18             [-1, 20, 8, 8]               0\n",
            "           Conv2d-19             [-1, 10, 8, 8]             200\n",
            "           Conv2d-20             [-1, 32, 6, 6]           2,880\n",
            "             ReLU-21             [-1, 32, 6, 6]               0\n",
            "        GroupNorm-22             [-1, 32, 6, 6]              64\n",
            "          Dropout-23             [-1, 32, 6, 6]               0\n",
            "        AvgPool2d-24             [-1, 32, 1, 1]               0\n",
            "           Conv2d-25             [-1, 10, 1, 1]             320\n",
            "================================================================\n",
            "Total params: 9,802\n",
            "Trainable params: 9,802\n",
            "Non-trainable params: 0\n",
            "----------------------------------------------------------------\n",
            "Input size (MB): 0.00\n",
            "Forward/backward pass size (MB): 0.71\n",
            "Params size (MB): 0.04\n",
            "Estimated Total Size (MB): 0.75\n",
            "----------------------------------------------------------------\n",
            "EPOCH: 0\n"
          ],
          "name": "stdout"
        },
        {
          "output_type": "stream",
          "text": [
            "Loss=0.20382003486156464 Batch_id=468 Accuracy=85.39: 100%|██████████| 469/469 [00:28<00:00, 16.72it/s]\n",
            "  0%|          | 0/469 [00:00<?, ?it/s]"
          ],
          "name": "stderr"
        },
        {
          "output_type": "stream",
          "text": [
            "\n",
            "Test set: Average loss: 881.3990, Accuracy: 9774/10000 (97.74%)\n",
            "\n",
            "EPOCH: 1\n"
          ],
          "name": "stdout"
        },
        {
          "output_type": "stream",
          "text": [
            "Loss=0.20714783668518066 Batch_id=468 Accuracy=97.22: 100%|██████████| 469/469 [00:28<00:00, 16.64it/s]\n"
          ],
          "name": "stderr"
        },
        {
          "output_type": "stream",
          "text": [
            "\n",
            "Test set: Average loss: 605.5638, Accuracy: 9847/10000 (98.47%)\n",
            "\n",
            "[831.7123047113419, 549.9530719518661, 474.6212195456028, 368.7147733569145, 341.78644958138466, 337.133890401572, 293.101068476215, 275.21027186512947, 281.0299714282155, 236.91057096794248, 232.8305822983384, 271.2263186350465, 271.55594868957996, 264.79117131233215, 228.6970642954111, 1227.8336734771729, 554.1471709012985, 1019.063228726387, 779.2143055200577, 881.3990459144115, 605.5638191699982] [98.04, 98.37, 98.57, 98.82, 98.96, 99.02, 99.18, 99.16, 99.17, 99.3, 99.21, 99.21, 99.15, 99.1, 99.28, 96.47, 98.42, 97.21, 97.86, 97.74, 98.47]\n",
            "153\n"
          ],
          "name": "stdout"
        },
        {
          "output_type": "display_data",
          "data": {
            "image/png": "[encoded data removed]",
            "text/plain": [
              "<Figure size 432x288 with 2 Axes>"
            ]
          },
          "metadata": {
            "tags": [],
            "needs_background": "light"
          }
        }
      ]
    }
  ]
}