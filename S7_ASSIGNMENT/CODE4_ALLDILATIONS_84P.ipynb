{
  "nbformat": 4,
  "nbformat_minor": 0,
  "metadata": {
    "accelerator": "GPU",
    "colab": {
      "name": "3MODELS.ipynb",
      "provenance": [],
      "collapsed_sections": [],
      "include_colab_link": true
    },
    "kernelspec": {
      "display_name": "Python 3",
      "name": "python3"
    },
    "language_info": {
      "name": "python"
    }
  },
  "cells": [
    {
      "cell_type": "markdown",
      "metadata": {
        "id": "view-in-github",
        "colab_type": "text"
      },
      "source": [
        "<a href=\"https://colab.research.google.com/github/raghunadh-eva/eva6/blob/master/S7_ASSIGNMENT/CODE4_ALLDILATIONS_84P.ipynb\" target=\"_parent\"><img src=\"https://colab.research.google.com/assets/colab-badge.svg\" alt=\"Open In Colab\"/></a>"
      ]
    },
    {
      "cell_type": "markdown",
      "metadata": {
        "id": "89D3tlw_dJnV"
      },
      "source": [
        "**Basic setup block**\n",
        "\n",
        "\n",
        "*   Load the required utils/libraries\n",
        "*   Setup the transformations needed to load the data\n",
        "*   Split the input data into train and test\n",
        "*   Create the train and test data objects\n",
        "\n",
        "\n",
        "\n"
      ]
    },
    {
      "cell_type": "code",
      "metadata": {
        "id": "c2UphvIXcJ4D",
        "colab": {
          "base_uri": "https://localhost:8080/"
        },
        "outputId": "1b61e6a0-9aee-4749-9ee0-6f51e527b9dd"
      },
      "source": [
        "from __future__ import print_function\n",
        "import torch\n",
        "import torch.nn as nn\n",
        "import torch.nn.functional as F\n",
        "import torch.optim as optim\n",
        "import torchvision\n",
        "from torchvision import datasets, transforms, utils\n",
        "%matplotlib inline\n",
        "import matplotlib.pyplot as plt\n",
        "from torch.optim.lr_scheduler import StepLR\n",
        "!pip install torchsummary\n",
        "from torchsummary import summary\n",
        "import numpy as np"
      ],
      "execution_count": 1,
      "outputs": [
        {
          "output_type": "stream",
          "text": [
            "Requirement already satisfied: torchsummary in /usr/local/lib/python3.7/dist-packages (1.5.1)\n"
          ],
          "name": "stdout"
        }
      ]
    },
    {
      "cell_type": "code",
      "metadata": {
        "colab": {
          "base_uri": "https://localhost:8080/"
        },
        "id": "7juHzCDavqqZ",
        "outputId": "bc6ad2c6-8d06-414c-96d4-65b7938eacec"
      },
      "source": [
        "!pip install -U albumentations\n",
        "import albumentations as A\n",
        "import cv2\n",
        "\n",
        "\n",
        "import albumentations as A\n",
        "from albumentations.pytorch import ToTensorV2"
      ],
      "execution_count": 2,
      "outputs": [
        {
          "output_type": "stream",
          "text": [
            "Requirement already up-to-date: albumentations in /usr/local/lib/python3.7/dist-packages (1.0.0)\n",
            "Requirement already satisfied, skipping upgrade: scikit-image>=0.16.1 in /usr/local/lib/python3.7/dist-packages (from albumentations) (0.16.2)\n",
            "Requirement already satisfied, skipping upgrade: scipy in /usr/local/lib/python3.7/dist-packages (from albumentations) (1.4.1)\n",
            "Requirement already satisfied, skipping upgrade: opencv-python-headless>=4.1.1 in /usr/local/lib/python3.7/dist-packages (from albumentations) (4.5.2.54)\n",
            "Requirement already satisfied, skipping upgrade: PyYAML in /usr/local/lib/python3.7/dist-packages (from albumentations) (3.13)\n",
            "Requirement already satisfied, skipping upgrade: numpy>=1.11.1 in /usr/local/lib/python3.7/dist-packages (from albumentations) (1.19.5)\n",
            "Requirement already satisfied, skipping upgrade: networkx>=2.0 in /usr/local/lib/python3.7/dist-packages (from scikit-image>=0.16.1->albumentations) (2.5.1)\n",
            "Requirement already satisfied, skipping upgrade: PyWavelets>=0.4.0 in /usr/local/lib/python3.7/dist-packages (from scikit-image>=0.16.1->albumentations) (1.1.1)\n",
            "Requirement already satisfied, skipping upgrade: imageio>=2.3.0 in /usr/local/lib/python3.7/dist-packages (from scikit-image>=0.16.1->albumentations) (2.4.1)\n",
            "Requirement already satisfied, skipping upgrade: matplotlib!=3.0.0,>=2.0.0 in /usr/local/lib/python3.7/dist-packages (from scikit-image>=0.16.1->albumentations) (3.2.2)\n",
            "Requirement already satisfied, skipping upgrade: pillow>=4.3.0 in /usr/local/lib/python3.7/dist-packages (from scikit-image>=0.16.1->albumentations) (7.1.2)\n",
            "Requirement already satisfied, skipping upgrade: decorator<5,>=4.3 in /usr/local/lib/python3.7/dist-packages (from networkx>=2.0->scikit-image>=0.16.1->albumentations) (4.4.2)\n",
            "Requirement already satisfied, skipping upgrade: python-dateutil>=2.1 in /usr/local/lib/python3.7/dist-packages (from matplotlib!=3.0.0,>=2.0.0->scikit-image>=0.16.1->albumentations) (2.8.1)\n",
            "Requirement already satisfied, skipping upgrade: pyparsing!=2.0.4,!=2.1.2,!=2.1.6,>=2.0.1 in /usr/local/lib/python3.7/dist-packages (from matplotlib!=3.0.0,>=2.0.0->scikit-image>=0.16.1->albumentations) (2.4.7)\n",
            "Requirement already satisfied, skipping upgrade: kiwisolver>=1.0.1 in /usr/local/lib/python3.7/dist-packages (from matplotlib!=3.0.0,>=2.0.0->scikit-image>=0.16.1->albumentations) (1.3.1)\n",
            "Requirement already satisfied, skipping upgrade: cycler>=0.10 in /usr/local/lib/python3.7/dist-packages (from matplotlib!=3.0.0,>=2.0.0->scikit-image>=0.16.1->albumentations) (0.10.0)\n",
            "Requirement already satisfied, skipping upgrade: six>=1.5 in /usr/local/lib/python3.7/dist-packages (from python-dateutil>=2.1->matplotlib!=3.0.0,>=2.0.0->scikit-image>=0.16.1->albumentations) (1.15.0)\n"
          ],
          "name": "stdout"
        }
      ]
    },
    {
      "cell_type": "code",
      "metadata": {
        "id": "hYM0Q5RKfHyR"
      },
      "source": [
        "test_transforms  = transforms.Compose([\n",
        "                                       transforms.ToTensor(),\n",
        "                                       transforms.Normalize((0.4914,0.4822,0.4465), (0.247,0.2435,0.2616))\n",
        "                                      ])"
      ],
      "execution_count": 3,
      "outputs": []
    },
    {
      "cell_type": "code",
      "metadata": {
        "id": "LD5RlnxdxSzs"
      },
      "source": [
        "train_transforms_a = A.Compose([\n",
        "                                       A.Normalize(mean=(0.4914, 0.4822, 0.4465), std=(0.247, 0.2435, 0.2616)),\n",
        "                                       A.HorizontalFlip(p=0.5),\n",
        "                                       A.ShiftScaleRotate(),\n",
        "                                       A.CoarseDropout(max_holes=1,max_height=16,max_width=16,min_holes=1,min_height=16,min_width=16,fill_value=(0.4914, 0.4822, 0.4465),mask_fill_value=None),\n",
        "                                       ToTensorV2()\n",
        "                                       ])"
      ],
      "execution_count": 4,
      "outputs": []
    },
    {
      "cell_type": "code",
      "metadata": {
        "id": "oejBzxzq50tX"
      },
      "source": [
        "import cv2\n",
        "import torchvision\n",
        "\n",
        "##copied from albumentations.io\n",
        "cv2.setNumThreads(0)\n",
        "cv2.ocl.setUseOpenCL(False)\n",
        "\n",
        "class data_albumentations(datasets.CIFAR10):\n",
        "    def __init__(self, root=\"~/data/cifar10\", train=True, download=True, transform=None):\n",
        "        super().__init__(root=root, train=train, download=download, transform=transform)\n",
        "\n",
        "    def __getitem__(self, index):\n",
        "        image, label = self.data[index], self.targets[index]\n",
        "\n",
        "        if self.transform is not None:\n",
        "            transformed = self.transform(image=image)\n",
        "            image = transformed[\"image\"]\n",
        "\n",
        "        return image, label\n",
        "\n"
      ],
      "execution_count": 5,
      "outputs": []
    },
    {
      "cell_type": "code",
      "metadata": {
        "id": "t8fMRGI4h-bV",
        "colab": {
          "base_uri": "https://localhost:8080/"
        },
        "outputId": "a0e0aafc-f07f-43b5-dd95-230a3a8d5fa6"
      },
      "source": [
        "#train = datasets.CIFAR10('./data', train=True,  download=True, transform=train_transforms)\n",
        "train = data_albumentations(train=True,  download=True, transform=train_transforms_a)\n",
        "test =  datasets.CIFAR10('./data', train=False, download=True, transform=test_transforms)\n"
      ],
      "execution_count": 6,
      "outputs": [
        {
          "output_type": "stream",
          "text": [
            "Files already downloaded and verified\n",
            "Files already downloaded and verified\n"
          ],
          "name": "stdout"
        }
      ]
    },
    {
      "cell_type": "code",
      "metadata": {
        "colab": {
          "base_uri": "https://localhost:8080/"
        },
        "id": "tOstmqZoiluZ",
        "outputId": "7925b778-99d5-4c71-81c3-70320182fe43"
      },
      "source": [
        "#Always start with same random set everytime\n",
        "SEED = 1\n",
        "\n",
        "#Is GPU ?\n",
        "cuda = torch.cuda.is_available()\n",
        "\n",
        "print('CUDA Available?',cuda)\n",
        "\n",
        "#what happens when SEED = 2 ?\n",
        "torch.manual_seed(SEED)\n",
        "\n",
        "#set the seed for GPU device as well\n",
        "if cuda:\n",
        "  torch.cuda.manual_seed(SEED)\n",
        "\n",
        "device = torch.device(\"cuda\" if cuda else \"cpu\")\n",
        "print(device)\n",
        "\n",
        "dataloader_args = dict(shuffle=True, batch_size=128, num_workers=2, pin_memory=True) if cuda else dict(shuffle=True, batch_size=64)\n",
        "#Why change batch_size for CPU - since it should not matter\n",
        "\n",
        "train_loader = torch.utils.data.DataLoader(train, **dataloader_args)\n",
        "\n",
        "\n",
        "test_loader  = torch.utils.data.DataLoader(test, **dataloader_args)\n",
        "\n",
        "classes = ('plane', 'car', 'bird', 'cat',\n",
        "           'deer', 'dog', 'frog', 'horse', 'ship', 'truck')\n",
        "\n",
        "##Why shuffle=false in the example provided ?"
      ],
      "execution_count": 7,
      "outputs": [
        {
          "output_type": "stream",
          "text": [
            "CUDA Available? True\n",
            "cuda\n"
          ],
          "name": "stdout"
        }
      ]
    },
    {
      "cell_type": "markdown",
      "metadata": {
        "id": "81Z01DMclQgP"
      },
      "source": [
        "**Visualize the input data with image standardization**\n"
      ]
    },
    {
      "cell_type": "code",
      "metadata": {
        "id": "ZW6kBIPPsAJ6"
      },
      "source": [
        "image_loader = torch.utils.data.DataLoader(train, shuffle=True,batch_size=4)\n",
        "\n",
        "def imshow(img):\n",
        "    npimg = img.numpy()\n",
        "    npimg[0] = (npimg[0] * 0.247) + 0.4914\n",
        "    npimg[1] = (npimg[1] * 0.2435) + 0.4822\n",
        "    npimg[2] = (npimg[2] * 0.2616) + 0.4465\n",
        "    #we can use this directly but simply converting to tensor and converting back\n",
        "    timg = torch.from_numpy(npimg)\n",
        "    nimg = timg.numpy()\n",
        "    plt.imshow(np.transpose(nimg, (1, 2, 0)))\n",
        "\n",
        "# get some random training images\n",
        "dataiter = iter(image_loader)\n",
        "images, labels = dataiter.next()\n",
        "\n",
        "# show images\n",
        "#imshow(torchvision.utils.make_grid(images))\n",
        "#print(classes[labels[10]])\n",
        "#print(' '.join('%5s' % classes[labels[j]] for j in range(4)))"
      ],
      "execution_count": 8,
      "outputs": []
    },
    {
      "cell_type": "markdown",
      "metadata": {
        "id": "dv3mXm9isgs6"
      },
      "source": [
        "**Visualize the input data without image standardization**\n",
        "\n"
      ]
    },
    {
      "cell_type": "code",
      "metadata": {
        "id": "z7LD-U8Mlaxg",
        "colab": {
          "base_uri": "https://localhost:8080/"
        },
        "outputId": "0faf209e-6f14-46a0-b650-ad60742bf8a7"
      },
      "source": [
        "#Comment this block from CODE2 onwards\n",
        "train_nonorm_transforms = transforms.Compose([\n",
        "                                       transforms.ToTensor()\n",
        "                                       #transforms.Normalize((0.1307,), (0.3081,))\n",
        "                                       #transforms.RandomRotation((-7.0,7.0),fill=(0,)), #Ideally use mean - adding #0 since MNIST dark pixels and no-information around the borders\n",
        "                                       #transforms.ColorJitter(brightness = 0.1, contrast= 0.1, saturation = 0.1, hue =0.1),\n",
        "                                       #transforms.Resize((28,28)) #should be before converting to Tensor logically\n",
        "                                       ])\n",
        "test_nonorm_transforms  = transforms.Compose([\n",
        "                                       transforms.ToTensor()\n",
        "                                       #transforms.Normalize((0.1307,), (0.3081,))\n",
        "                                       #transforms.RandomRotation((-7.0,7.0),fill=(0,)), #Ideally use mean - adding #0 since MNIST dark pixels and no-information around the borders\n",
        "                                       #transforms.ColorJitter(brightness = 0.1, contrast= 0.1, saturation = 0.1, hue =0.1)\n",
        "                                       #transforms.Resize((28,28)) #should be before converting to Tensor logically\n",
        "                                      ])\n",
        "train_nonorm = datasets.CIFAR10('./data_nonorm', train=True,  download=True, transform=train_nonorm_transforms)\n",
        "test_nonorm =  datasets.CIFAR10('./data_nonorm', train=False, download=True, transform=test_nonorm_transforms)\n",
        "train_loader_nonorm = torch.utils.data.DataLoader(train_nonorm, **dataloader_args)\n",
        "test_loader_nonorm  = torch.utils.data.DataLoader(test_nonorm, **dataloader_args)"
      ],
      "execution_count": 9,
      "outputs": [
        {
          "output_type": "stream",
          "text": [
            "Files already downloaded and verified\n",
            "Files already downloaded and verified\n"
          ],
          "name": "stdout"
        }
      ]
    },
    {
      "cell_type": "code",
      "metadata": {
        "id": "IPCPA7N-LLY2"
      },
      "source": [
        "#chsum = 0\n",
        "##pbar = tqdm(train_loader_nonorm)\n",
        "\n",
        "#for index, (data,target) in enumerate(train_loader_nonorm):\n",
        "#    chsum += data.sum(dim=(0,2,3),keepdim=True)\n",
        "\n",
        "#mean = chsum / (len(train_nonorm) * 32 *32)\n",
        "#\n",
        "#chsum = None\n",
        "#for index, (data,target) in enumerate(train_loader_nonorm):\n",
        "#  if index == 0:\n",
        "#   print(data.min(),data.max())\n",
        "#   chsum = (data - mean).pow(2).sum(dim=(0,2,3),keepdim=True)\n",
        "#  else:\n",
        "#   chsum += (data - mean).pow(2).sum(dim=(0,2,3),keepdim=True)\n",
        "\n",
        "#std = torch.sqrt(chsum/(len(train_nonorm) * 32 * 32))\n",
        "#print(\"Traindata Mean\",mean)\n",
        "#print(\"Traindata std dev\",std)\n",
        "\n",
        "#chsum = 0\n",
        "\n",
        "#for index, (data,target) in enumerate(test_loader_nonorm):\n",
        "#    chsum += data.sum(dim=(0,2,3),keepdim=True)\n",
        "\n",
        "#mean = chsum / (len(test_nonorm) * 32 *32)\n",
        "\n",
        "#chsum = None\n",
        "#for index, (data,target) in enumerate(test_loader_nonorm):\n",
        "#  if index == 0:\n",
        "#    chsum = (data - mean).pow(2).sum(dim=(0,2,3),keepdim=True)\n",
        "#  else:\n",
        "#   chsum += (data - mean).pow(2).sum(dim=(0,2,3),keepdim=True)\n",
        "\n",
        "#std = torch.sqrt(chsum/(len(test_nonorm) * 32 * 32))\n",
        "#print(\"Test data Mean\",mean)\n",
        "#print(\"Test data std dev\",std)"
      ],
      "execution_count": 10,
      "outputs": []
    },
    {
      "cell_type": "code",
      "metadata": {
        "colab": {
          "base_uri": "https://localhost:8080/",
          "height": 283
        },
        "id": "2i0FYCLFEas_",
        "outputId": "3fb8eb48-5328-43b6-81e1-43e18587ceb5"
      },
      "source": [
        "dataiter = iter(train_loader_nonorm)\n",
        "images, labels = dataiter.next()\n",
        "\n",
        "def imshow_nonorm(img):\n",
        "    img = img     # unnormalize\n",
        "    npimg = img.numpy()\n",
        "    plt.imshow(np.transpose(npimg, (1, 2, 0)))\n",
        "    \n",
        "# show images\n",
        "imshow_nonorm(torchvision.utils.make_grid(images[10]))\n",
        "\n",
        "print(classes[labels[10]])\n",
        "#print(' '.join('%5s' % classes[labels[j]] for j in range(4)))"
      ],
      "execution_count": 11,
      "outputs": [
        {
          "output_type": "stream",
          "text": [
            "ship\n"
          ],
          "name": "stdout"
        },
        {
          "output_type": "display_data",
          "data": {
            "image/png": "[encoded data removed]",
            "text/plain": [
              "<Figure size 432x288 with 1 Axes>"
            ]
          },
          "metadata": {
            "tags": [],
            "needs_background": "light"
          }
        }
      ]
    },
    {
      "cell_type": "markdown",
      "metadata": {
        "id": "7bYxdYKtQBk9"
      },
      "source": [
        "**####Batch Normalization + L1 LOSS**"
      ]
    },
    {
      "cell_type": "code",
      "metadata": {
        "id": "5pSLtPQPvktt"
      },
      "source": [
        "dropout_perc = 0.05\n",
        "\n",
        "class BatchNormNet(nn.Module):\n",
        "    def __init__(self):\n",
        "        super(BatchNormNet, self).__init__()\n",
        "\n",
        "        #BLOCK C1\n",
        "        self.convblock1 = nn.Sequential(\n",
        "            nn.Conv2d(in_channels=3, out_channels=32, kernel_size=(3, 3), padding=1, dilation = 1,bias=False),\n",
        "            nn.BatchNorm2d(32),\n",
        "            nn.ReLU(),\n",
        "            nn.Dropout(dropout_perc)\n",
        "        ) \n",
        "\n",
        "        self.convblock2 = nn.Sequential(\n",
        "            nn.Conv2d(in_channels=32, out_channels=64, kernel_size=(3, 3), padding=1, dilation = 1,bias=False),\n",
        "            nn.BatchNorm2d(64),\n",
        "            nn.ReLU(),\n",
        "            nn.Dropout(dropout_perc)\n",
        "        ) \n",
        "        \n",
        "       #BLOCK C1 TRANSITION\n",
        "        self.convblock4 = nn.Sequential(\n",
        "            nn.Conv2d(in_channels=64, out_channels=32, kernel_size=(1, 1), padding=0, bias=False),\n",
        "        ) \n",
        "\n",
        "        #self.pool1 = nn.MaxPool2d(2, 2) # output_size = 16 ; #Receptive field = 8x8\n",
        "        #Drop maxPooling and use strided convolution\n",
        "        self.pool1 = nn.Sequential(\n",
        "            nn.Conv2d(in_channels=32, out_channels=64, kernel_size=(3, 3), stride=2, padding=1, dilation =1, bias=False),\n",
        "            nn.BatchNorm2d(64),\n",
        "            nn.ReLU(),\n",
        "            nn.Dropout(dropout_perc)\n",
        "        )\n",
        "        #Use dilated kernels instead of Max pooling / stride =2 conv\n",
        "        self.pool1_dilation = nn.Sequential(\n",
        "            nn.Conv2d(in_channels=32, out_channels=64, groups = 32 , kernel_size=(3, 3), dilation=2, padding=0, bias=False),\n",
        "            nn.BatchNorm2d(64),\n",
        "            nn.ReLU(),\n",
        "            nn.Dropout(dropout_perc),\n",
        "            nn.Conv2d(in_channels=64, out_channels=128, groups = 64 ,kernel_size=(3, 3), dilation=2, padding=0, bias=False),\n",
        "            nn.BatchNorm2d(128),\n",
        "            nn.ReLU(),\n",
        "            nn.Dropout(dropout_perc),\n",
        "            #nn.Conv2d(in_channels=128, out_channels=256, groups = 128 , kernel_size=(3, 3), dilation=2, padding=0, bias=False),\n",
        "            #nn.BatchNorm2d(256),\n",
        "            #nn.ReLU(),\n",
        "            #nn.Dropout(dropout_perc),\n",
        "            #nn.Conv2d(in_channels=256, out_channels=512, groups = 256 ,kernel_size=(3, 3), dilation=2, padding=0, bias=False),\n",
        "            #nn.BatchNorm2d(512),\n",
        "            #nn.ReLU(),\n",
        "            #nn.Dropout(dropout_perc),\n",
        "            nn.Conv2d(in_channels=128, out_channels=64, kernel_size=(1, 1), padding=0, bias=False)\n",
        "        )\n",
        "        #BLOCK C2\n",
        "        \n",
        "        self.convblock5 = nn.Sequential(\n",
        "            nn.Conv2d(in_channels=64, out_channels=128, groups = 64, kernel_size=(3, 3), padding=0, dilation = 2 ,bias=False),\n",
        "            nn.BatchNorm2d(128),\n",
        "            nn.ReLU(),\n",
        "            nn.Dropout(dropout_perc)\n",
        "        )\n",
        "        \n",
        "        self.convblock6 = nn.Sequential(\n",
        "            nn.Conv2d(in_channels=128, out_channels=256, groups = 128, kernel_size=(3, 3), padding=0, dilation =2, bias=False),\n",
        "            nn.BatchNorm2d(256),\n",
        "            nn.ReLU(),\n",
        "            nn.Dropout(dropout_perc)\n",
        "        ) \n",
        "\n",
        "        \n",
        "        #BLOCK C2 TRANSITION\n",
        "        self.convblock7 = nn.Sequential(\n",
        "            nn.Conv2d(in_channels=256, out_channels=32, kernel_size=(1, 1), padding=0, bias=False),\n",
        "        ) \n",
        "        \n",
        "        \n",
        "        #self.pool2 = nn.MaxPool2d(2, 2) # output_size = 8 ; #Receptive field = 8x8\n",
        "        self.pool2 = nn.Sequential(\n",
        "            nn.Conv2d(in_channels=32, out_channels=64, kernel_size=(3, 3), stride=2, padding=1, dilation = 1,bias=False),\n",
        "            nn.BatchNorm2d(64),\n",
        "            nn.ReLU(),\n",
        "            nn.Dropout(dropout_perc)\n",
        "        )\n",
        "        self.pool2_dilation = nn.Sequential(\n",
        "            nn.Conv2d(in_channels=32, out_channels=64, groups = 32, kernel_size=(3, 3), padding=0, dilation =2,bias=False),\n",
        "            nn.BatchNorm2d(64),\n",
        "            nn.ReLU(),\n",
        "            nn.Dropout(dropout_perc),\n",
        "            nn.Conv2d(in_channels=64, out_channels=128, groups = 64, kernel_size=(3, 3), padding=0, dilation =2,bias=False),\n",
        "            nn.BatchNorm2d(128),\n",
        "            nn.ReLU(),\n",
        "            nn.Dropout(dropout_perc),\n",
        "            nn.Conv2d(in_channels=128, out_channels=32, kernel_size=(1, 1), padding=0,bias=False)\n",
        "        )\n",
        "\n",
        "        #BLOCK C3\n",
        "\n",
        "        self.convblock8a = nn.Sequential(\n",
        "            nn.Conv2d(in_channels=32, out_channels=64, groups = 32, kernel_size=(3, 3), padding=2, dilation =2,bias=False),\n",
        "            nn.BatchNorm2d(64),\n",
        "            nn.ReLU(),\n",
        "            nn.Dropout(dropout_perc)\n",
        "        )\n",
        "        \n",
        "        self.convblock8 = nn.Sequential(\n",
        "            nn.Conv2d(in_channels=64, out_channels=128, groups = 64, kernel_size=(3, 3), padding=2, dilation =2,bias=False),\n",
        "            nn.BatchNorm2d(128),\n",
        "            nn.ReLU(),\n",
        "            nn.Dropout(dropout_perc)\n",
        "        )\n",
        "        \n",
        "        self.convblock9 = nn.Sequential(\n",
        "            nn.Conv2d(in_channels=128, out_channels=256, groups = 128, kernel_size=(3, 3), padding=2, dilation=2 , bias=False),\n",
        "            nn.BatchNorm2d(256),\n",
        "            nn.ReLU(),\n",
        "            nn.Dropout(dropout_perc)\n",
        "        ) \n",
        "\n",
        "        #BLOCK C3 TRANSITION\n",
        "        self.convblock10 = nn.Sequential(\n",
        "            nn.Conv2d(in_channels=256, out_channels=32, kernel_size=(1, 1), padding=0, bias=False),\n",
        "        ) \n",
        "        \n",
        "        #self.pool2 = nn.MaxPool2d(2, 2) # output_size = 8 ; #Receptive field = 8x8\n",
        "        self.pool3 = nn.Sequential(\n",
        "            nn.Conv2d(in_channels=32, out_channels=64, kernel_size=(3, 3), stride=2, padding=1, dilation = 1,bias=False),\n",
        "            nn.BatchNorm2d(64),\n",
        "            nn.ReLU(),\n",
        "            nn.Dropout(dropout_perc)\n",
        "        )\n",
        "        self.pool3_dilation = nn.Sequential(\n",
        "            nn.Conv2d(in_channels=32, out_channels=64, groups=32 , kernel_size=(3, 3), padding=0, dilation = 2,bias=False),\n",
        "            nn.BatchNorm2d(64),\n",
        "            nn.ReLU(),\n",
        "            nn.Dropout(dropout_perc)\n",
        "        )\n",
        "        #BLOCK C4\n",
        "        \n",
        "        \n",
        "        self.convblock11 = nn.Sequential(\n",
        "            nn.Conv2d(in_channels=64, out_channels=128, groups = 64, kernel_size=(3, 3), padding=2, dilation=2 , bias=False),\n",
        "            nn.BatchNorm2d(128),\n",
        "            nn.ReLU(),\n",
        "            nn.Dropout(dropout_perc)\n",
        "        ) \n",
        "        \n",
        "        self.convblock12 = nn.Sequential(\n",
        "            nn.Conv2d(in_channels=128, out_channels=256, groups = 128 , kernel_size=(3, 3), padding=2, dilation =2,bias=False),\n",
        "            nn.BatchNorm2d(256),\n",
        "            nn.ReLU(),\n",
        "            nn.Dropout(dropout_perc)\n",
        "        )\n",
        "\n",
        "        self.convblock25 = nn.Sequential(\n",
        "            nn.Conv2d(in_channels=256, groups = 256, out_channels=512, kernel_size=(3, 3), padding=2, dilation=2, bias=False)\n",
        "        ) \n",
        "\n",
        "                 \n",
        "        # OUTPUT BLOCK\n",
        "        self.gap = nn.Sequential(\n",
        "            nn.AvgPool2d(kernel_size=4)\n",
        "        ) # output_size = 1\n",
        "\n",
        "        self.convblock13 = nn.Sequential(\n",
        "            nn.Linear(512,10,0)\n",
        "        )\n",
        "\n",
        "    def forward(self, x):\n",
        "        x = self.convblock1(x)\n",
        "        x = self.convblock2(x)\n",
        "        x = self.convblock4(x)\n",
        "        \n",
        "        #x = self.pool1(x)\n",
        "        x = self.pool1_dilation(x)\n",
        "        \n",
        "        x = self.convblock5(x)\n",
        "        x = self.convblock6(x)\n",
        "        x = self.convblock7(x)\n",
        "\n",
        "        #x = self.pool2(x)\n",
        "        x = self.pool2_dilation(x)\n",
        "\n",
        "        x = self.convblock8a(x)\n",
        "        x = self.convblock8(x)\n",
        "        x = self.convblock9(x)\n",
        "        x = self.convblock10(x)\n",
        "\n",
        "        #x = self.pool3(x)\n",
        "        x = self.pool3_dilation(x)\n",
        "        \n",
        "        x = self.convblock11(x)\n",
        "        x = self.convblock12(x)\n",
        "        x = self.convblock25(x)\n",
        "        x = self.gap(x)\n",
        "        \n",
        "        x = x.view(x.size(0), -1)\n",
        "        x = self.convblock13(x)\n",
        "   \n",
        "        return F.log_softmax(x, dim=-1)"
      ],
      "execution_count": 19,
      "outputs": []
    },
    {
      "cell_type": "code",
      "metadata": {
        "colab": {
          "base_uri": "https://localhost:8080/"
        },
        "id": "yxbYtWxRvP6I",
        "outputId": "7670a11e-9725-4d94-8eba-bfa35bf979a2"
      },
      "source": [
        "model = BatchNormNet().to(device)\n",
        "summary(model, input_size=(3, 32, 32))"
      ],
      "execution_count": 20,
      "outputs": [
        {
          "output_type": "stream",
          "text": [
            "----------------------------------------------------------------\n",
            "        Layer (type)               Output Shape         Param #\n",
            "================================================================\n",
            "            Conv2d-1           [-1, 32, 32, 32]             864\n",
            "       BatchNorm2d-2           [-1, 32, 32, 32]              64\n",
            "              ReLU-3           [-1, 32, 32, 32]               0\n",
            "           Dropout-4           [-1, 32, 32, 32]               0\n",
            "            Conv2d-5           [-1, 64, 32, 32]          18,432\n",
            "       BatchNorm2d-6           [-1, 64, 32, 32]             128\n",
            "              ReLU-7           [-1, 64, 32, 32]               0\n",
            "           Dropout-8           [-1, 64, 32, 32]               0\n",
            "            Conv2d-9           [-1, 32, 32, 32]           2,048\n",
            "           Conv2d-10           [-1, 64, 28, 28]             576\n",
            "      BatchNorm2d-11           [-1, 64, 28, 28]             128\n",
            "             ReLU-12           [-1, 64, 28, 28]               0\n",
            "          Dropout-13           [-1, 64, 28, 28]               0\n",
            "           Conv2d-14          [-1, 128, 24, 24]           1,152\n",
            "      BatchNorm2d-15          [-1, 128, 24, 24]             256\n",
            "             ReLU-16          [-1, 128, 24, 24]               0\n",
            "          Dropout-17          [-1, 128, 24, 24]               0\n",
            "           Conv2d-18           [-1, 64, 24, 24]           8,192\n",
            "           Conv2d-19          [-1, 128, 20, 20]           1,152\n",
            "      BatchNorm2d-20          [-1, 128, 20, 20]             256\n",
            "             ReLU-21          [-1, 128, 20, 20]               0\n",
            "          Dropout-22          [-1, 128, 20, 20]               0\n",
            "           Conv2d-23          [-1, 256, 16, 16]           2,304\n",
            "      BatchNorm2d-24          [-1, 256, 16, 16]             512\n",
            "             ReLU-25          [-1, 256, 16, 16]               0\n",
            "          Dropout-26          [-1, 256, 16, 16]               0\n",
            "           Conv2d-27           [-1, 32, 16, 16]           8,192\n",
            "           Conv2d-28           [-1, 64, 12, 12]             576\n",
            "      BatchNorm2d-29           [-1, 64, 12, 12]             128\n",
            "             ReLU-30           [-1, 64, 12, 12]               0\n",
            "          Dropout-31           [-1, 64, 12, 12]               0\n",
            "           Conv2d-32            [-1, 128, 8, 8]           1,152\n",
            "      BatchNorm2d-33            [-1, 128, 8, 8]             256\n",
            "             ReLU-34            [-1, 128, 8, 8]               0\n",
            "          Dropout-35            [-1, 128, 8, 8]               0\n",
            "           Conv2d-36             [-1, 32, 8, 8]           4,096\n",
            "           Conv2d-37             [-1, 64, 8, 8]             576\n",
            "      BatchNorm2d-38             [-1, 64, 8, 8]             128\n",
            "             ReLU-39             [-1, 64, 8, 8]               0\n",
            "          Dropout-40             [-1, 64, 8, 8]               0\n",
            "           Conv2d-41            [-1, 128, 8, 8]           1,152\n",
            "      BatchNorm2d-42            [-1, 128, 8, 8]             256\n",
            "             ReLU-43            [-1, 128, 8, 8]               0\n",
            "          Dropout-44            [-1, 128, 8, 8]               0\n",
            "           Conv2d-45            [-1, 256, 8, 8]           2,304\n",
            "      BatchNorm2d-46            [-1, 256, 8, 8]             512\n",
            "             ReLU-47            [-1, 256, 8, 8]               0\n",
            "          Dropout-48            [-1, 256, 8, 8]               0\n",
            "           Conv2d-49             [-1, 32, 8, 8]           8,192\n",
            "           Conv2d-50             [-1, 64, 4, 4]             576\n",
            "      BatchNorm2d-51             [-1, 64, 4, 4]             128\n",
            "             ReLU-52             [-1, 64, 4, 4]               0\n",
            "          Dropout-53             [-1, 64, 4, 4]               0\n",
            "           Conv2d-54            [-1, 128, 4, 4]           1,152\n",
            "      BatchNorm2d-55            [-1, 128, 4, 4]             256\n",
            "             ReLU-56            [-1, 128, 4, 4]               0\n",
            "          Dropout-57            [-1, 128, 4, 4]               0\n",
            "           Conv2d-58            [-1, 256, 4, 4]           2,304\n",
            "      BatchNorm2d-59            [-1, 256, 4, 4]             512\n",
            "             ReLU-60            [-1, 256, 4, 4]               0\n",
            "          Dropout-61            [-1, 256, 4, 4]               0\n",
            "           Conv2d-62            [-1, 512, 4, 4]           4,608\n",
            "        AvgPool2d-63            [-1, 512, 1, 1]               0\n",
            "           Linear-64                   [-1, 10]           5,120\n",
            "================================================================\n",
            "Total params: 78,240\n",
            "Trainable params: 78,240\n",
            "Non-trainable params: 0\n",
            "----------------------------------------------------------------\n",
            "Input size (MB): 0.01\n",
            "Forward/backward pass size (MB): 12.66\n",
            "Params size (MB): 0.30\n",
            "Estimated Total Size (MB): 12.97\n",
            "----------------------------------------------------------------\n"
          ],
          "name": "stdout"
        }
      ]
    },
    {
      "cell_type": "markdown",
      "metadata": {
        "id": "ghFiQ6mjQXdl"
      },
      "source": [
        "####LayerNorm Normalization + L1 LOSS"
      ]
    },
    {
      "cell_type": "markdown",
      "metadata": {
        "id": "SuN00vTAQphA"
      },
      "source": [
        "**`####Group normalization network + L1 LOSS`**"
      ]
    },
    {
      "cell_type": "code",
      "metadata": {
        "id": "33qg7uBpxtYe"
      },
      "source": [
        "from tqdm import tqdm\n",
        "\n",
        "test_fail_data = []\n",
        "test_fail_target = []\n",
        "test_pred_target = []\n",
        "test_losses = []\n",
        "test_acc = []\n",
        "train_acc = []\n",
        "train_losses = []\n",
        "\n",
        "loss_function = nn.CrossEntropyLoss()\n",
        "\n",
        "def train(model, device, train_loader, optimizer, epoch):\n",
        "  model.train()\n",
        "  pbar = tqdm(train_loader)\n",
        "\n",
        "  l1_lamda = 0.0001\n",
        "  \n",
        "  correct = 0\n",
        "  processed = 0\n",
        "  for batch_idx, (data, target) in enumerate(pbar):\n",
        "    # get samples\n",
        "    data, target = data.to(device), target.to(device)\n",
        "\n",
        "    # Init\n",
        "    optimizer.zero_grad()\n",
        "    # In PyTorch, we need to set the gradients to zero before starting to do backpropragation because PyTorch accumulates the gradients on subsequent backward passes. \n",
        "    # Because of this, when you start your training loop, ideally you should zero out the gradients so that you do the parameter update correctly.\n",
        "\n",
        "    # Predict\n",
        "    y_pred = model(data)\n",
        "\n",
        "    # Calculate loss\n",
        "    #Cross entropy loss\n",
        "    #loss = F.nll_loss(y_pred, target)\n",
        "    loss = loss_function(y_pred,target)\n",
        "    #\n",
        "\n",
        "    ##Add L1 Loss\n",
        "    l1 = 0\n",
        "    for p in model.parameters():\n",
        "      p_tensor = torch.sum(torch.abs(p))\n",
        "      l1 += p_tensor\n",
        "\n",
        "    loss = loss + l1_lamda * l1\n",
        "    \n",
        "    train_losses.append(loss)\n",
        "\n",
        "    # Backpropagation\n",
        "    loss.backward()\n",
        "    optimizer.step()\n",
        "\n",
        "    # Update pbar-tqdm\n",
        "    \n",
        "    pred = y_pred.argmax(dim=1, keepdim=True)  # get the index of the max log-probability\n",
        "    correct += pred.eq(target.view_as(pred)).sum().item()\n",
        "    processed += len(data)\n",
        "\n",
        "    pbar.set_description(desc= f'Loss={loss.item()} Batch_id={batch_idx} Accuracy={100*correct/processed:0.2f}')\n",
        "    train_acc.append(100*correct/processed)\n",
        "\n",
        "def test(model, device, test_loader):\n",
        "    test_fail_data = []\n",
        "    test_fail_target = []\n",
        "    test_pred_target = []\n",
        "\n",
        "    model.eval()\n",
        "    test_loss = 0\n",
        "    correct = 0\n",
        "    with torch.no_grad():\n",
        "        for data, target in test_loader:\n",
        "            data, target = data.to(device), target.to(device)\n",
        "            output = model(data)\n",
        "            test_loss += F.nll_loss(output, target, reduction='sum').item()  # sum up batch loss\n",
        "            pred = output.argmax(dim=1, keepdim=True)  # get the index of the max log-probability\n",
        "            #print(pred,target.view_as(pred))\n",
        "            correct += pred.eq(target.view_as(pred)).sum().item()\n",
        "            for i,x in enumerate(pred.eq(target.view_as(pred))):\n",
        "              if not x:\n",
        "                test_fail_data.append(data[i])\n",
        "                test_fail_target.append(target[i])\n",
        "                test_pred_target.append(pred[i])\n",
        "                #print(target[i])\n",
        "\n",
        "    test_losses.append(test_loss)\n",
        "    \n",
        "    print('\\nTest set: Average loss: {:.4f}, Accuracy: {}/{} ({:.2f}%)\\n'.format(\n",
        "        test_loss, correct, len(test_loader.dataset),\n",
        "        100. * correct / len(test_loader.dataset)))\n",
        "    \n",
        "    test_acc.append(100. * correct / len(test_loader.dataset))\n",
        "\n",
        "    return test_losses, test_acc, test_fail_data, test_fail_target, test_pred_target;"
      ],
      "execution_count": 14,
      "outputs": []
    },
    {
      "cell_type": "markdown",
      "metadata": {
        "id": "i_4SP4-nRGKG"
      },
      "source": [
        "**####Block to pass argment and call the Model**\n",
        "\n",
        "Pass the model to be Invoked based on Input Argument"
      ]
    },
    {
      "cell_type": "code",
      "metadata": {
        "id": "bf_rAU10xhSU"
      },
      "source": [
        "def main(input_model_type,EPOCHS):\n",
        "  if input_model_type == 0:\n",
        "    model = BatchNormNet().to(device)\n",
        "    test_10_images, test_10_images_target , test_10_pred_target = run_train_test(model,EPOCHS,input_model_type)\n",
        "    return test_10_images, test_10_images_target , test_10_pred_target ;\n",
        "  elif input_model_type == 1:\n",
        "    model = LayerNormNet().to(device)\n",
        "    test_10_images, test_10_images_target , test_10_pred_target = run_train_test(model,EPOCHS,input_model_type)\n",
        "    return test_10_images, test_10_images_target , test_10_pred_target ;\n",
        "  elif input_model_type == 2:\n",
        "    model = GroupNormNet().to(device)\n",
        "    test_10_images, test_10_images_target , test_10_pred_target = run_train_test(model,EPOCHS,input_model_type)\n",
        "    return test_10_images, test_10_images_target , test_10_pred_target ;\n",
        "  else:\n",
        "    print(\"Invalid input for input_model_type\",input_model_type)\n",
        "    print(\"Supported values are 0 = Batch Norm,1 = Layer Norm,2 = Group Norm\")\n",
        "\n",
        "def run_train_test(model,EPOCHS,input_model_type):\n",
        "  summary(model, input_size=(3, 32, 32))\n",
        "  optimizer = optim.SGD(model.parameters(), lr=0.02, momentum=0.9)\n",
        "  scheduler = optim.lr_scheduler.StepLR(optimizer,step_size=10, gamma=0.7)\n",
        "\n",
        "  for epoch in range(EPOCHS):\n",
        "    #print(\"EPOCH:\", epoch)\n",
        "    \n",
        "    scheduler.step()\n",
        "    \n",
        "    print('Epoch {}, lr {}'.format(\n",
        "        epoch, optimizer.param_groups[0]['lr']))\n",
        "    \n",
        "    train(model, device, train_loader, optimizer, epoch)\n",
        "    \n",
        "    test_losses, test_acc, test_fail_data, test_fail_target, test_pred_target = test(model, device, test_loader)\n",
        "  \n",
        "  #print(test_fail_data)\n",
        "  fig, axs = plt.subplots(1, 2)\n",
        "  if input_model_type == 0:\n",
        "    fig.suptitle('Model Type: Batch normalization')\n",
        "  if input_model_type == 1:\n",
        "    fig.suptitle('Model Type: Layer normalization')\n",
        "  if input_model_type == 2:\n",
        "    fig.suptitle('Model Type: Group normalization')\n",
        "  \n",
        "  axs[0].set_title('Test/Validation Loss Graph')\n",
        "  axs[0].set_xticks(np.arange(1,EPOCHS+1))\n",
        "  #axs[0].xlabel('Test/Validation Loss Graph')\n",
        "  #axs[0].ylabel('LOSS')\n",
        "  axs[1].set_title('Test/Validation Accuracy Graph')\n",
        "  axs[1].set_xticks(np.arange(1,EPOCHS+1))\n",
        "  #axs[1].xlabel('Test/Validation Accuracy Graph')\n",
        "  #axs[1].ylabel('Accuracy')\n",
        "  \n",
        "  axs[0].plot(test_losses)\n",
        "  axs[1].plot(test_acc)\n",
        "\n",
        "  test_10_images = []\n",
        "  for i in range(0,10):\n",
        "    test_10_images.append(test_fail_data[i])\n",
        "  \n",
        "  test_10_images_target = []\n",
        "  for i in range(0,10):\n",
        "    test_10_images_target.append(test_fail_target[i])\n",
        "\n",
        "  test_10_pred_target = []\n",
        "  for i in range(0,10):\n",
        "    test_10_pred_target.append(test_pred_target[i])\n",
        "  #print(test_10_images_target)\n",
        "\n",
        "  print('Actual Labels')\n",
        "  print(' '.join('%5s' % classes[test_10_images_target[j]] for j in range(0,10)))\n",
        "  print('Predicted Labels')\n",
        "  print(' '.join('%5s' % classes[test_10_pred_target[j]] for j in range(0,10)))\n",
        "\n",
        "  test_10_images_unnorm = []\n",
        "  for img in test_10_images:\n",
        "    img = img.cpu()\n",
        "    img = img.numpy()\n",
        "    img[0] = img[0] * 0.247 + 0.4914\n",
        "    img[1] = img[1] * 0.2435 + 0.4822\n",
        "    img[2] = img[2] * 0.2616 + 0.4465\n",
        "\n",
        "    img = torch.from_numpy(img)\n",
        "    test_10_images_unnorm.append(img)\n",
        "  \n",
        "  grid = torchvision.utils.make_grid(torch.stack(test_10_images_unnorm).cpu(), nrow=5)\n",
        "  plt.figure(figsize=(5,5))\n",
        "  plt.imshow(np.transpose(grid, (1,2,0)))\n",
        "\n",
        "  return test_10_images, test_10_images_target , test_10_pred_target;"
      ],
      "execution_count": 15,
      "outputs": []
    },
    {
      "cell_type": "markdown",
      "metadata": {
        "id": "bEXmcfDRXoGN"
      },
      "source": [
        "**####Call to main function**\n",
        "\n",
        "main(input_model_type,EPOCHS)\n",
        "\n",
        "input_model_type:\n",
        "\n",
        "Supported values are\n",
        "\n",
        "0 = Train a model with Batch normalization\n",
        "\n",
        "1 = Train a model with Layer normalization\n",
        "\n",
        "2 = Train a model with Group Normalization\n",
        "\n",
        "EPOCHS: num_epochs\n"
      ]
    },
    {
      "cell_type": "code",
      "metadata": {
        "id": "U-ScCBSfbadI",
        "colab": {
          "base_uri": "https://localhost:8080/",
          "height": 1000
        },
        "outputId": "40c0cdd8-ef58-43ea-80b5-a494cd1b6554"
      },
      "source": [
        "test_10_images, test_10_images_target , test_10_pred_target = main(0,100)\n"
      ],
      "execution_count": 16,
      "outputs": [
        {
          "output_type": "stream",
          "text": [
            "/usr/local/lib/python3.7/dist-packages/torch/optim/lr_scheduler.py:134: UserWarning: Detected call of `lr_scheduler.step()` before `optimizer.step()`. In PyTorch 1.1.0 and later, you should call them in the opposite order: `optimizer.step()` before `lr_scheduler.step()`.  Failure to do this will result in PyTorch skipping the first value of the learning rate schedule. See more details at https://pytorch.org/docs/stable/optim.html#how-to-adjust-learning-rate\n",
            "  \"https://pytorch.org/docs/stable/optim.html#how-to-adjust-learning-rate\", UserWarning)\n",
            "\r  0%|          | 0/391 [00:00<?, ?it/s]"
          ],
          "name": "stderr"
        },
        {
          "output_type": "stream",
          "text": [
            "----------------------------------------------------------------\n",
            "        Layer (type)               Output Shape         Param #\n",
            "================================================================\n",
            "            Conv2d-1           [-1, 32, 32, 32]             864\n",
            "       BatchNorm2d-2           [-1, 32, 32, 32]              64\n",
            "              ReLU-3           [-1, 32, 32, 32]               0\n",
            "           Dropout-4           [-1, 32, 32, 32]               0\n",
            "            Conv2d-5           [-1, 64, 32, 32]          18,432\n",
            "       BatchNorm2d-6           [-1, 64, 32, 32]             128\n",
            "              ReLU-7           [-1, 64, 32, 32]               0\n",
            "           Dropout-8           [-1, 64, 32, 32]               0\n",
            "            Conv2d-9           [-1, 32, 32, 32]           2,048\n",
            "           Conv2d-10           [-1, 64, 28, 28]             576\n",
            "      BatchNorm2d-11           [-1, 64, 28, 28]             128\n",
            "             ReLU-12           [-1, 64, 28, 28]               0\n",
            "          Dropout-13           [-1, 64, 28, 28]               0\n",
            "           Conv2d-14          [-1, 128, 24, 24]           1,152\n",
            "      BatchNorm2d-15          [-1, 128, 24, 24]             256\n",
            "             ReLU-16          [-1, 128, 24, 24]               0\n",
            "          Dropout-17          [-1, 128, 24, 24]               0\n",
            "           Conv2d-18           [-1, 64, 24, 24]           8,192\n",
            "           Conv2d-19          [-1, 128, 20, 20]           1,152\n",
            "      BatchNorm2d-20          [-1, 128, 20, 20]             256\n",
            "             ReLU-21          [-1, 128, 20, 20]               0\n",
            "          Dropout-22          [-1, 128, 20, 20]               0\n",
            "           Conv2d-23          [-1, 256, 16, 16]           2,304\n",
            "      BatchNorm2d-24          [-1, 256, 16, 16]             512\n",
            "             ReLU-25          [-1, 256, 16, 16]               0\n",
            "          Dropout-26          [-1, 256, 16, 16]               0\n",
            "           Conv2d-27           [-1, 32, 16, 16]           8,192\n",
            "           Conv2d-28           [-1, 64, 12, 12]             576\n",
            "      BatchNorm2d-29           [-1, 64, 12, 12]             128\n",
            "             ReLU-30           [-1, 64, 12, 12]               0\n",
            "          Dropout-31           [-1, 64, 12, 12]               0\n",
            "           Conv2d-32            [-1, 128, 8, 8]           1,152\n",
            "      BatchNorm2d-33            [-1, 128, 8, 8]             256\n",
            "             ReLU-34            [-1, 128, 8, 8]               0\n",
            "          Dropout-35            [-1, 128, 8, 8]               0\n",
            "           Conv2d-36             [-1, 64, 8, 8]           8,192\n",
            "           Conv2d-37            [-1, 128, 8, 8]           1,152\n",
            "      BatchNorm2d-38            [-1, 128, 8, 8]             256\n",
            "             ReLU-39            [-1, 128, 8, 8]               0\n",
            "          Dropout-40            [-1, 128, 8, 8]               0\n",
            "           Conv2d-41            [-1, 256, 8, 8]           2,304\n",
            "      BatchNorm2d-42            [-1, 256, 8, 8]             512\n",
            "             ReLU-43            [-1, 256, 8, 8]               0\n",
            "          Dropout-44            [-1, 256, 8, 8]               0\n",
            "           Conv2d-45             [-1, 32, 8, 8]           8,192\n",
            "           Conv2d-46             [-1, 64, 4, 4]             576\n",
            "      BatchNorm2d-47             [-1, 64, 4, 4]             128\n",
            "             ReLU-48             [-1, 64, 4, 4]               0\n",
            "          Dropout-49             [-1, 64, 4, 4]               0\n",
            "           Conv2d-50            [-1, 128, 4, 4]           1,152\n",
            "      BatchNorm2d-51            [-1, 128, 4, 4]             256\n",
            "             ReLU-52            [-1, 128, 4, 4]               0\n",
            "          Dropout-53            [-1, 128, 4, 4]               0\n",
            "           Conv2d-54            [-1, 256, 4, 4]           2,304\n",
            "      BatchNorm2d-55            [-1, 256, 4, 4]             512\n",
            "             ReLU-56            [-1, 256, 4, 4]               0\n",
            "          Dropout-57            [-1, 256, 4, 4]               0\n",
            "           Conv2d-58            [-1, 512, 4, 4]           4,608\n",
            "        AvgPool2d-59            [-1, 512, 1, 1]               0\n",
            "           Linear-60                   [-1, 10]           5,120\n",
            "================================================================\n",
            "Total params: 81,632\n",
            "Trainable params: 81,632\n",
            "Non-trainable params: 0\n",
            "----------------------------------------------------------------\n",
            "Input size (MB): 0.01\n",
            "Forward/backward pass size (MB): 12.55\n",
            "Params size (MB): 0.31\n",
            "Estimated Total Size (MB): 12.87\n",
            "----------------------------------------------------------------\n",
            "Epoch 0, lr 0.02\n"
          ],
          "name": "stdout"
        },
        {
          "output_type": "stream",
          "text": [
            "Loss=2.479185104370117 Batch_id=390 Accuracy=28.98: 100%|██████████| 391/391 [00:24<00:00, 15.90it/s]\n",
            "  0%|          | 0/391 [00:00<?, ?it/s]"
          ],
          "name": "stderr"
        },
        {
          "output_type": "stream",
          "text": [
            "\n",
            "Test set: Average loss: 15106.4855, Accuracy: 4470/10000 (44.70%)\n",
            "\n",
            "Epoch 1, lr 0.02\n"
          ],
          "name": "stdout"
        },
        {
          "output_type": "stream",
          "text": [
            "Loss=2.213766574859619 Batch_id=390 Accuracy=45.69: 100%|██████████| 391/391 [00:24<00:00, 15.98it/s]\n",
            "  0%|          | 0/391 [00:00<?, ?it/s]"
          ],
          "name": "stderr"
        },
        {
          "output_type": "stream",
          "text": [
            "\n",
            "Test set: Average loss: 12144.0125, Accuracy: 5588/10000 (55.88%)\n",
            "\n",
            "Epoch 2, lr 0.02\n"
          ],
          "name": "stdout"
        },
        {
          "output_type": "stream",
          "text": [
            "Loss=1.973321795463562 Batch_id=390 Accuracy=51.00: 100%|██████████| 391/391 [00:24<00:00, 15.97it/s]\n",
            "  0%|          | 0/391 [00:00<?, ?it/s]"
          ],
          "name": "stderr"
        },
        {
          "output_type": "stream",
          "text": [
            "\n",
            "Test set: Average loss: 11041.5604, Accuracy: 6009/10000 (60.09%)\n",
            "\n",
            "Epoch 3, lr 0.02\n"
          ],
          "name": "stdout"
        },
        {
          "output_type": "stream",
          "text": [
            "Loss=1.9581996202468872 Batch_id=390 Accuracy=54.41: 100%|██████████| 391/391 [00:24<00:00, 15.97it/s]\n",
            "  0%|          | 0/391 [00:00<?, ?it/s]"
          ],
          "name": "stderr"
        },
        {
          "output_type": "stream",
          "text": [
            "\n",
            "Test set: Average loss: 10450.6673, Accuracy: 6333/10000 (63.33%)\n",
            "\n",
            "Epoch 4, lr 0.02\n"
          ],
          "name": "stdout"
        },
        {
          "output_type": "stream",
          "text": [
            "Loss=2.019066333770752 Batch_id=390 Accuracy=57.06: 100%|██████████| 391/391 [00:24<00:00, 15.95it/s]\n",
            "  0%|          | 0/391 [00:00<?, ?it/s]"
          ],
          "name": "stderr"
        },
        {
          "output_type": "stream",
          "text": [
            "\n",
            "Test set: Average loss: 9664.1041, Accuracy: 6595/10000 (65.95%)\n",
            "\n",
            "Epoch 5, lr 0.02\n"
          ],
          "name": "stdout"
        },
        {
          "output_type": "stream",
          "text": [
            "Loss=1.7035644054412842 Batch_id=390 Accuracy=58.80: 100%|██████████| 391/391 [00:24<00:00, 15.91it/s]\n",
            "  0%|          | 0/391 [00:00<?, ?it/s]"
          ],
          "name": "stderr"
        },
        {
          "output_type": "stream",
          "text": [
            "\n",
            "Test set: Average loss: 9745.3579, Accuracy: 6600/10000 (66.00%)\n",
            "\n",
            "Epoch 6, lr 0.02\n"
          ],
          "name": "stdout"
        },
        {
          "output_type": "stream",
          "text": [
            "Loss=1.8542261123657227 Batch_id=390 Accuracy=60.24: 100%|██████████| 391/391 [00:24<00:00, 15.86it/s]\n",
            "  0%|          | 0/391 [00:00<?, ?it/s]"
          ],
          "name": "stderr"
        },
        {
          "output_type": "stream",
          "text": [
            "\n",
            "Test set: Average loss: 9371.6111, Accuracy: 6705/10000 (67.05%)\n",
            "\n",
            "Epoch 7, lr 0.02\n"
          ],
          "name": "stdout"
        },
        {
          "output_type": "stream",
          "text": [
            "Loss=1.502761721611023 Batch_id=390 Accuracy=61.66: 100%|██████████| 391/391 [00:24<00:00, 15.95it/s]\n",
            "  0%|          | 0/391 [00:00<?, ?it/s]"
          ],
          "name": "stderr"
        },
        {
          "output_type": "stream",
          "text": [
            "\n",
            "Test set: Average loss: 8980.7966, Accuracy: 6876/10000 (68.76%)\n",
            "\n",
            "Epoch 8, lr 0.013999999999999999\n"
          ],
          "name": "stdout"
        },
        {
          "output_type": "stream",
          "text": [
            "Loss=1.6015584468841553 Batch_id=390 Accuracy=63.26: 100%|██████████| 391/391 [00:24<00:00, 15.92it/s]\n",
            "  0%|          | 0/391 [00:00<?, ?it/s]"
          ],
          "name": "stderr"
        },
        {
          "output_type": "stream",
          "text": [
            "\n",
            "Test set: Average loss: 8163.6126, Accuracy: 7184/10000 (71.84%)\n",
            "\n",
            "Epoch 9, lr 0.013999999999999999\n"
          ],
          "name": "stdout"
        },
        {
          "output_type": "stream",
          "text": [
            "Loss=1.5652449131011963 Batch_id=390 Accuracy=64.22: 100%|██████████| 391/391 [00:24<00:00, 15.97it/s]\n",
            "  0%|          | 0/391 [00:00<?, ?it/s]"
          ],
          "name": "stderr"
        },
        {
          "output_type": "stream",
          "text": [
            "\n",
            "Test set: Average loss: 7816.3616, Accuracy: 7249/10000 (72.49%)\n",
            "\n",
            "Epoch 10, lr 0.013999999999999999\n"
          ],
          "name": "stdout"
        },
        {
          "output_type": "stream",
          "text": [
            "Loss=1.4263898134231567 Batch_id=390 Accuracy=64.75: 100%|██████████| 391/391 [00:24<00:00, 15.89it/s]\n",
            "  0%|          | 0/391 [00:00<?, ?it/s]"
          ],
          "name": "stderr"
        },
        {
          "output_type": "stream",
          "text": [
            "\n",
            "Test set: Average loss: 7563.2086, Accuracy: 7389/10000 (73.89%)\n",
            "\n",
            "Epoch 11, lr 0.013999999999999999\n"
          ],
          "name": "stdout"
        },
        {
          "output_type": "stream",
          "text": [
            "Loss=1.525159239768982 Batch_id=390 Accuracy=65.41: 100%|██████████| 391/391 [00:24<00:00, 15.93it/s]\n",
            "  0%|          | 0/391 [00:00<?, ?it/s]"
          ],
          "name": "stderr"
        },
        {
          "output_type": "stream",
          "text": [
            "\n",
            "Test set: Average loss: 7755.1213, Accuracy: 7260/10000 (72.60%)\n",
            "\n",
            "Epoch 12, lr 0.013999999999999999\n"
          ],
          "name": "stdout"
        },
        {
          "output_type": "stream",
          "text": [
            "Loss=1.6972429752349854 Batch_id=390 Accuracy=65.79: 100%|██████████| 391/391 [00:24<00:00, 15.81it/s]\n",
            "  0%|          | 0/391 [00:00<?, ?it/s]"
          ],
          "name": "stderr"
        },
        {
          "output_type": "stream",
          "text": [
            "\n",
            "Test set: Average loss: 8168.2232, Accuracy: 7183/10000 (71.83%)\n",
            "\n",
            "Epoch 13, lr 0.013999999999999999\n"
          ],
          "name": "stdout"
        },
        {
          "output_type": "stream",
          "text": [
            "Loss=1.5920801162719727 Batch_id=390 Accuracy=65.91: 100%|██████████| 391/391 [00:24<00:00, 15.84it/s]\n",
            "  0%|          | 0/391 [00:00<?, ?it/s]"
          ],
          "name": "stderr"
        },
        {
          "output_type": "stream",
          "text": [
            "\n",
            "Test set: Average loss: 7391.9926, Accuracy: 7453/10000 (74.53%)\n",
            "\n",
            "Epoch 14, lr 0.013999999999999999\n"
          ],
          "name": "stdout"
        },
        {
          "output_type": "stream",
          "text": [
            "Loss=1.5050808191299438 Batch_id=390 Accuracy=66.41: 100%|██████████| 391/391 [00:24<00:00, 15.87it/s]\n",
            "  0%|          | 0/391 [00:00<?, ?it/s]"
          ],
          "name": "stderr"
        },
        {
          "output_type": "stream",
          "text": [
            "\n",
            "Test set: Average loss: 6972.7695, Accuracy: 7586/10000 (75.86%)\n",
            "\n",
            "Epoch 15, lr 0.013999999999999999\n"
          ],
          "name": "stdout"
        },
        {
          "output_type": "stream",
          "text": [
            "Loss=1.488016963005066 Batch_id=390 Accuracy=66.74: 100%|██████████| 391/391 [00:24<00:00, 15.90it/s]\n",
            "  0%|          | 0/391 [00:00<?, ?it/s]"
          ],
          "name": "stderr"
        },
        {
          "output_type": "stream",
          "text": [
            "\n",
            "Test set: Average loss: 7182.7488, Accuracy: 7477/10000 (74.77%)\n",
            "\n",
            "Epoch 16, lr 0.013999999999999999\n"
          ],
          "name": "stdout"
        },
        {
          "output_type": "stream",
          "text": [
            "Loss=1.3008177280426025 Batch_id=390 Accuracy=67.04: 100%|██████████| 391/391 [00:24<00:00, 15.81it/s]\n",
            "  0%|          | 0/391 [00:00<?, ?it/s]"
          ],
          "name": "stderr"
        },
        {
          "output_type": "stream",
          "text": [
            "\n",
            "Test set: Average loss: 7368.6564, Accuracy: 7465/10000 (74.65%)\n",
            "\n",
            "Epoch 17, lr 0.009799999999999998\n"
          ],
          "name": "stdout"
        },
        {
          "output_type": "stream",
          "text": [
            "Loss=1.4173521995544434 Batch_id=390 Accuracy=68.34: 100%|██████████| 391/391 [00:24<00:00, 15.86it/s]\n",
            "  0%|          | 0/391 [00:00<?, ?it/s]"
          ],
          "name": "stderr"
        },
        {
          "output_type": "stream",
          "text": [
            "\n",
            "Test set: Average loss: 6572.3859, Accuracy: 7675/10000 (76.75%)\n",
            "\n",
            "Epoch 18, lr 0.009799999999999998\n"
          ],
          "name": "stdout"
        },
        {
          "output_type": "stream",
          "text": [
            "Loss=1.7532631158828735 Batch_id=390 Accuracy=68.58: 100%|██████████| 391/391 [00:24<00:00, 15.80it/s]\n",
            "  0%|          | 0/391 [00:00<?, ?it/s]"
          ],
          "name": "stderr"
        },
        {
          "output_type": "stream",
          "text": [
            "\n",
            "Test set: Average loss: 6490.3920, Accuracy: 7761/10000 (77.61%)\n",
            "\n",
            "Epoch 19, lr 0.009799999999999998\n"
          ],
          "name": "stdout"
        },
        {
          "output_type": "stream",
          "text": [
            "Loss=1.4865643978118896 Batch_id=390 Accuracy=68.90: 100%|██████████| 391/391 [00:24<00:00, 15.89it/s]\n",
            "  0%|          | 0/391 [00:00<?, ?it/s]"
          ],
          "name": "stderr"
        },
        {
          "output_type": "stream",
          "text": [
            "\n",
            "Test set: Average loss: 6710.1932, Accuracy: 7669/10000 (76.69%)\n",
            "\n",
            "Epoch 20, lr 0.009799999999999998\n"
          ],
          "name": "stdout"
        },
        {
          "output_type": "stream",
          "text": [
            "Loss=1.4607009887695312 Batch_id=390 Accuracy=68.91: 100%|██████████| 391/391 [00:24<00:00, 15.82it/s]\n",
            "  0%|          | 0/391 [00:00<?, ?it/s]"
          ],
          "name": "stderr"
        },
        {
          "output_type": "stream",
          "text": [
            "\n",
            "Test set: Average loss: 6754.4643, Accuracy: 7650/10000 (76.50%)\n",
            "\n",
            "Epoch 21, lr 0.009799999999999998\n"
          ],
          "name": "stdout"
        },
        {
          "output_type": "stream",
          "text": [
            "Loss=1.5685176849365234 Batch_id=390 Accuracy=68.76: 100%|██████████| 391/391 [00:24<00:00, 15.83it/s]\n",
            "  0%|          | 0/391 [00:00<?, ?it/s]"
          ],
          "name": "stderr"
        },
        {
          "output_type": "stream",
          "text": [
            "\n",
            "Test set: Average loss: 6324.0029, Accuracy: 7854/10000 (78.54%)\n",
            "\n",
            "Epoch 22, lr 0.009799999999999998\n"
          ],
          "name": "stdout"
        },
        {
          "output_type": "stream",
          "text": [
            "Loss=1.3925228118896484 Batch_id=390 Accuracy=69.44: 100%|██████████| 391/391 [00:24<00:00, 15.86it/s]\n",
            "  0%|          | 0/391 [00:00<?, ?it/s]"
          ],
          "name": "stderr"
        },
        {
          "output_type": "stream",
          "text": [
            "\n",
            "Test set: Average loss: 7074.7382, Accuracy: 7563/10000 (75.63%)\n",
            "\n",
            "Epoch 23, lr 0.009799999999999998\n"
          ],
          "name": "stdout"
        },
        {
          "output_type": "stream",
          "text": [
            "Loss=1.5392916202545166 Batch_id=390 Accuracy=69.25: 100%|██████████| 391/391 [00:24<00:00, 15.80it/s]\n",
            "  0%|          | 0/391 [00:00<?, ?it/s]"
          ],
          "name": "stderr"
        },
        {
          "output_type": "stream",
          "text": [
            "\n",
            "Test set: Average loss: 6595.6988, Accuracy: 7725/10000 (77.25%)\n",
            "\n",
            "Epoch 24, lr 0.009799999999999998\n"
          ],
          "name": "stdout"
        },
        {
          "output_type": "stream",
          "text": [
            "Loss=1.4703813791275024 Batch_id=390 Accuracy=69.48: 100%|██████████| 391/391 [00:24<00:00, 15.87it/s]\n",
            "  0%|          | 0/391 [00:00<?, ?it/s]"
          ],
          "name": "stderr"
        },
        {
          "output_type": "stream",
          "text": [
            "\n",
            "Test set: Average loss: 6378.8500, Accuracy: 7785/10000 (77.85%)\n",
            "\n",
            "Epoch 25, lr 0.009799999999999998\n"
          ],
          "name": "stdout"
        },
        {
          "output_type": "stream",
          "text": [
            "Loss=1.617244005203247 Batch_id=390 Accuracy=69.52: 100%|██████████| 391/391 [00:24<00:00, 15.87it/s]\n",
            "  0%|          | 0/391 [00:00<?, ?it/s]"
          ],
          "name": "stderr"
        },
        {
          "output_type": "stream",
          "text": [
            "\n",
            "Test set: Average loss: 6408.4696, Accuracy: 7794/10000 (77.94%)\n",
            "\n",
            "Epoch 26, lr 0.006859999999999998\n"
          ],
          "name": "stdout"
        },
        {
          "output_type": "stream",
          "text": [
            "Loss=1.2170906066894531 Batch_id=390 Accuracy=70.61: 100%|██████████| 391/391 [00:24<00:00, 15.84it/s]\n",
            "  0%|          | 0/391 [00:00<?, ?it/s]"
          ],
          "name": "stderr"
        },
        {
          "output_type": "stream",
          "text": [
            "\n",
            "Test set: Average loss: 6159.9223, Accuracy: 7878/10000 (78.78%)\n",
            "\n",
            "Epoch 27, lr 0.006859999999999998\n"
          ],
          "name": "stdout"
        },
        {
          "output_type": "stream",
          "text": [
            "Loss=1.430304765701294 Batch_id=390 Accuracy=71.16: 100%|██████████| 391/391 [00:24<00:00, 15.86it/s]\n",
            "  0%|          | 0/391 [00:00<?, ?it/s]"
          ],
          "name": "stderr"
        },
        {
          "output_type": "stream",
          "text": [
            "\n",
            "Test set: Average loss: 5731.1258, Accuracy: 8017/10000 (80.17%)\n",
            "\n",
            "Epoch 28, lr 0.006859999999999998\n"
          ],
          "name": "stdout"
        },
        {
          "output_type": "stream",
          "text": [
            "Loss=1.2941851615905762 Batch_id=390 Accuracy=71.17: 100%|██████████| 391/391 [00:24<00:00, 15.86it/s]\n",
            "  0%|          | 0/391 [00:00<?, ?it/s]"
          ],
          "name": "stderr"
        },
        {
          "output_type": "stream",
          "text": [
            "\n",
            "Test set: Average loss: 5916.1777, Accuracy: 7966/10000 (79.66%)\n",
            "\n",
            "Epoch 29, lr 0.006859999999999998\n"
          ],
          "name": "stdout"
        },
        {
          "output_type": "stream",
          "text": [
            "Loss=1.0562729835510254 Batch_id=390 Accuracy=71.11: 100%|██████████| 391/391 [00:24<00:00, 15.86it/s]\n",
            "  0%|          | 0/391 [00:00<?, ?it/s]"
          ],
          "name": "stderr"
        },
        {
          "output_type": "stream",
          "text": [
            "\n",
            "Test set: Average loss: 6146.7461, Accuracy: 7908/10000 (79.08%)\n",
            "\n",
            "Epoch 30, lr 0.006859999999999998\n"
          ],
          "name": "stdout"
        },
        {
          "output_type": "stream",
          "text": [
            "Loss=1.26677405834198 Batch_id=390 Accuracy=71.26: 100%|██████████| 391/391 [00:24<00:00, 15.85it/s]\n",
            "  0%|          | 0/391 [00:00<?, ?it/s]"
          ],
          "name": "stderr"
        },
        {
          "output_type": "stream",
          "text": [
            "\n",
            "Test set: Average loss: 6104.2202, Accuracy: 7927/10000 (79.27%)\n",
            "\n",
            "Epoch 31, lr 0.006859999999999998\n"
          ],
          "name": "stdout"
        },
        {
          "output_type": "stream",
          "text": [
            "Loss=1.2016031742095947 Batch_id=390 Accuracy=71.45: 100%|██████████| 391/391 [00:24<00:00, 15.84it/s]\n",
            "  0%|          | 0/391 [00:00<?, ?it/s]"
          ],
          "name": "stderr"
        },
        {
          "output_type": "stream",
          "text": [
            "\n",
            "Test set: Average loss: 6165.1463, Accuracy: 7910/10000 (79.10%)\n",
            "\n",
            "Epoch 32, lr 0.006859999999999998\n"
          ],
          "name": "stdout"
        },
        {
          "output_type": "stream",
          "text": [
            "Loss=1.2186384201049805 Batch_id=390 Accuracy=71.49: 100%|██████████| 391/391 [00:24<00:00, 15.83it/s]\n",
            "  0%|          | 0/391 [00:00<?, ?it/s]"
          ],
          "name": "stderr"
        },
        {
          "output_type": "stream",
          "text": [
            "\n",
            "Test set: Average loss: 6026.0043, Accuracy: 7914/10000 (79.14%)\n",
            "\n",
            "Epoch 33, lr 0.006859999999999998\n"
          ],
          "name": "stdout"
        },
        {
          "output_type": "stream",
          "text": [
            "Loss=1.1835334300994873 Batch_id=390 Accuracy=71.36: 100%|██████████| 391/391 [00:24<00:00, 15.83it/s]\n",
            "  0%|          | 0/391 [00:00<?, ?it/s]"
          ],
          "name": "stderr"
        },
        {
          "output_type": "stream",
          "text": [
            "\n",
            "Test set: Average loss: 5928.6601, Accuracy: 8016/10000 (80.16%)\n",
            "\n",
            "Epoch 34, lr 0.006859999999999998\n"
          ],
          "name": "stdout"
        },
        {
          "output_type": "stream",
          "text": [
            "Loss=1.1236824989318848 Batch_id=390 Accuracy=71.69: 100%|██████████| 391/391 [00:24<00:00, 15.89it/s]\n",
            "  0%|          | 0/391 [00:00<?, ?it/s]"
          ],
          "name": "stderr"
        },
        {
          "output_type": "stream",
          "text": [
            "\n",
            "Test set: Average loss: 5827.3868, Accuracy: 8009/10000 (80.09%)\n",
            "\n",
            "Epoch 35, lr 0.004801999999999998\n"
          ],
          "name": "stdout"
        },
        {
          "output_type": "stream",
          "text": [
            "Loss=1.4242044687271118 Batch_id=390 Accuracy=72.34: 100%|██████████| 391/391 [00:24<00:00, 15.82it/s]\n",
            "  0%|          | 0/391 [00:00<?, ?it/s]"
          ],
          "name": "stderr"
        },
        {
          "output_type": "stream",
          "text": [
            "\n",
            "Test set: Average loss: 5605.9417, Accuracy: 8109/10000 (81.09%)\n",
            "\n",
            "Epoch 36, lr 0.004801999999999998\n"
          ],
          "name": "stdout"
        },
        {
          "output_type": "stream",
          "text": [
            "Loss=1.2619661092758179 Batch_id=390 Accuracy=72.28: 100%|██████████| 391/391 [00:24<00:00, 15.84it/s]\n",
            "  0%|          | 0/391 [00:00<?, ?it/s]"
          ],
          "name": "stderr"
        },
        {
          "output_type": "stream",
          "text": [
            "\n",
            "Test set: Average loss: 5403.6539, Accuracy: 8142/10000 (81.42%)\n",
            "\n",
            "Epoch 37, lr 0.004801999999999998\n"
          ],
          "name": "stdout"
        },
        {
          "output_type": "stream",
          "text": [
            "Loss=1.5055122375488281 Batch_id=390 Accuracy=72.84: 100%|██████████| 391/391 [00:24<00:00, 15.87it/s]\n",
            "  0%|          | 0/391 [00:00<?, ?it/s]"
          ],
          "name": "stderr"
        },
        {
          "output_type": "stream",
          "text": [
            "\n",
            "Test set: Average loss: 5643.5852, Accuracy: 8100/10000 (81.00%)\n",
            "\n",
            "Epoch 38, lr 0.004801999999999998\n"
          ],
          "name": "stdout"
        },
        {
          "output_type": "stream",
          "text": [
            "Loss=1.0830577611923218 Batch_id=390 Accuracy=72.84: 100%|██████████| 391/391 [00:24<00:00, 15.87it/s]\n",
            "  0%|          | 0/391 [00:00<?, ?it/s]"
          ],
          "name": "stderr"
        },
        {
          "output_type": "stream",
          "text": [
            "\n",
            "Test set: Average loss: 5509.0586, Accuracy: 8098/10000 (80.98%)\n",
            "\n",
            "Epoch 39, lr 0.004801999999999998\n"
          ],
          "name": "stdout"
        },
        {
          "output_type": "stream",
          "text": [
            "Loss=1.199777364730835 Batch_id=390 Accuracy=72.81: 100%|██████████| 391/391 [00:24<00:00, 15.80it/s]\n",
            "  0%|          | 0/391 [00:00<?, ?it/s]"
          ],
          "name": "stderr"
        },
        {
          "output_type": "stream",
          "text": [
            "\n",
            "Test set: Average loss: 5643.6778, Accuracy: 8073/10000 (80.73%)\n",
            "\n",
            "Epoch 40, lr 0.004801999999999998\n"
          ],
          "name": "stdout"
        },
        {
          "output_type": "stream",
          "text": [
            "Loss=1.1707580089569092 Batch_id=390 Accuracy=72.69: 100%|██████████| 391/391 [00:24<00:00, 15.79it/s]\n",
            "  0%|          | 0/391 [00:00<?, ?it/s]"
          ],
          "name": "stderr"
        },
        {
          "output_type": "stream",
          "text": [
            "\n",
            "Test set: Average loss: 5413.6644, Accuracy: 8162/10000 (81.62%)\n",
            "\n",
            "Epoch 41, lr 0.004801999999999998\n"
          ],
          "name": "stdout"
        },
        {
          "output_type": "stream",
          "text": [
            "Loss=1.101693868637085 Batch_id=390 Accuracy=72.87: 100%|██████████| 391/391 [00:24<00:00, 15.75it/s]\n",
            "  0%|          | 0/391 [00:00<?, ?it/s]"
          ],
          "name": "stderr"
        },
        {
          "output_type": "stream",
          "text": [
            "\n",
            "Test set: Average loss: 5685.9156, Accuracy: 8064/10000 (80.64%)\n",
            "\n",
            "Epoch 42, lr 0.004801999999999998\n"
          ],
          "name": "stdout"
        },
        {
          "output_type": "stream",
          "text": [
            "Loss=1.1446728706359863 Batch_id=390 Accuracy=72.57: 100%|██████████| 391/391 [00:24<00:00, 15.89it/s]\n",
            "  0%|          | 0/391 [00:00<?, ?it/s]"
          ],
          "name": "stderr"
        },
        {
          "output_type": "stream",
          "text": [
            "\n",
            "Test set: Average loss: 5880.7022, Accuracy: 8017/10000 (80.17%)\n",
            "\n",
            "Epoch 43, lr 0.004801999999999998\n"
          ],
          "name": "stdout"
        },
        {
          "output_type": "stream",
          "text": [
            "Loss=1.282638430595398 Batch_id=390 Accuracy=72.86: 100%|██████████| 391/391 [00:24<00:00, 15.76it/s]\n",
            "  0%|          | 0/391 [00:00<?, ?it/s]"
          ],
          "name": "stderr"
        },
        {
          "output_type": "stream",
          "text": [
            "\n",
            "Test set: Average loss: 5727.4225, Accuracy: 8048/10000 (80.48%)\n",
            "\n",
            "Epoch 44, lr 0.0033613999999999983\n"
          ],
          "name": "stdout"
        },
        {
          "output_type": "stream",
          "text": [
            "Loss=1.1388250589370728 Batch_id=390 Accuracy=73.82: 100%|██████████| 391/391 [00:24<00:00, 15.84it/s]\n",
            "  0%|          | 0/391 [00:00<?, ?it/s]"
          ],
          "name": "stderr"
        },
        {
          "output_type": "stream",
          "text": [
            "\n",
            "Test set: Average loss: 5326.1743, Accuracy: 8173/10000 (81.73%)\n",
            "\n",
            "Epoch 45, lr 0.0033613999999999983\n"
          ],
          "name": "stdout"
        },
        {
          "output_type": "stream",
          "text": [
            "Loss=1.4171439409255981 Batch_id=390 Accuracy=73.87: 100%|██████████| 391/391 [00:24<00:00, 15.78it/s]\n",
            "  0%|          | 0/391 [00:00<?, ?it/s]"
          ],
          "name": "stderr"
        },
        {
          "output_type": "stream",
          "text": [
            "\n",
            "Test set: Average loss: 5340.0138, Accuracy: 8190/10000 (81.90%)\n",
            "\n",
            "Epoch 46, lr 0.0033613999999999983\n"
          ],
          "name": "stdout"
        },
        {
          "output_type": "stream",
          "text": [
            "Loss=1.226731538772583 Batch_id=390 Accuracy=73.86: 100%|██████████| 391/391 [00:24<00:00, 15.75it/s]\n",
            "  0%|          | 0/391 [00:00<?, ?it/s]"
          ],
          "name": "stderr"
        },
        {
          "output_type": "stream",
          "text": [
            "\n",
            "Test set: Average loss: 5305.6484, Accuracy: 8209/10000 (82.09%)\n",
            "\n",
            "Epoch 47, lr 0.0033613999999999983\n"
          ],
          "name": "stdout"
        },
        {
          "output_type": "stream",
          "text": [
            "Loss=1.1841151714324951 Batch_id=390 Accuracy=73.67: 100%|██████████| 391/391 [00:24<00:00, 15.69it/s]\n",
            "  0%|          | 0/391 [00:00<?, ?it/s]"
          ],
          "name": "stderr"
        },
        {
          "output_type": "stream",
          "text": [
            "\n",
            "Test set: Average loss: 5342.0301, Accuracy: 8214/10000 (82.14%)\n",
            "\n",
            "Epoch 48, lr 0.0033613999999999983\n"
          ],
          "name": "stdout"
        },
        {
          "output_type": "stream",
          "text": [
            "Loss=1.1546558141708374 Batch_id=390 Accuracy=74.00: 100%|██████████| 391/391 [00:24<00:00, 15.70it/s]\n",
            "  0%|          | 0/391 [00:00<?, ?it/s]"
          ],
          "name": "stderr"
        },
        {
          "output_type": "stream",
          "text": [
            "\n",
            "Test set: Average loss: 5482.6958, Accuracy: 8121/10000 (81.21%)\n",
            "\n",
            "Epoch 49, lr 0.0033613999999999983\n"
          ],
          "name": "stdout"
        },
        {
          "output_type": "stream",
          "text": [
            "Loss=1.2412234544754028 Batch_id=390 Accuracy=74.08: 100%|██████████| 391/391 [00:24<00:00, 15.80it/s]\n",
            "  0%|          | 0/391 [00:00<?, ?it/s]"
          ],
          "name": "stderr"
        },
        {
          "output_type": "stream",
          "text": [
            "\n",
            "Test set: Average loss: 5492.0095, Accuracy: 8119/10000 (81.19%)\n",
            "\n",
            "Epoch 50, lr 0.0033613999999999983\n"
          ],
          "name": "stdout"
        },
        {
          "output_type": "stream",
          "text": [
            "Loss=1.387756586074829 Batch_id=390 Accuracy=74.05: 100%|██████████| 391/391 [00:24<00:00, 15.80it/s]\n",
            "  0%|          | 0/391 [00:00<?, ?it/s]"
          ],
          "name": "stderr"
        },
        {
          "output_type": "stream",
          "text": [
            "\n",
            "Test set: Average loss: 5218.6476, Accuracy: 8181/10000 (81.81%)\n",
            "\n",
            "Epoch 51, lr 0.0033613999999999983\n"
          ],
          "name": "stdout"
        },
        {
          "output_type": "stream",
          "text": [
            "Loss=1.2050731182098389 Batch_id=390 Accuracy=74.09: 100%|██████████| 391/391 [00:24<00:00, 15.86it/s]\n",
            "  0%|          | 0/391 [00:00<?, ?it/s]"
          ],
          "name": "stderr"
        },
        {
          "output_type": "stream",
          "text": [
            "\n",
            "Test set: Average loss: 5332.8237, Accuracy: 8197/10000 (81.97%)\n",
            "\n",
            "Epoch 52, lr 0.0033613999999999983\n"
          ],
          "name": "stdout"
        },
        {
          "output_type": "stream",
          "text": [
            "Loss=1.2213513851165771 Batch_id=390 Accuracy=74.30: 100%|██████████| 391/391 [00:24<00:00, 15.76it/s]\n",
            "  0%|          | 0/391 [00:00<?, ?it/s]"
          ],
          "name": "stderr"
        },
        {
          "output_type": "stream",
          "text": [
            "\n",
            "Test set: Average loss: 5310.8560, Accuracy: 8169/10000 (81.69%)\n",
            "\n",
            "Epoch 53, lr 0.002352979999999999\n"
          ],
          "name": "stdout"
        },
        {
          "output_type": "stream",
          "text": [
            "Loss=1.3451793193817139 Batch_id=390 Accuracy=74.59: 100%|██████████| 391/391 [00:24<00:00, 15.80it/s]\n",
            "  0%|          | 0/391 [00:00<?, ?it/s]"
          ],
          "name": "stderr"
        },
        {
          "output_type": "stream",
          "text": [
            "\n",
            "Test set: Average loss: 5097.2360, Accuracy: 8287/10000 (82.87%)\n",
            "\n",
            "Epoch 54, lr 0.002352979999999999\n"
          ],
          "name": "stdout"
        },
        {
          "output_type": "stream",
          "text": [
            "Loss=1.0649797916412354 Batch_id=390 Accuracy=74.86: 100%|██████████| 391/391 [00:24<00:00, 15.72it/s]\n",
            "  0%|          | 0/391 [00:00<?, ?it/s]"
          ],
          "name": "stderr"
        },
        {
          "output_type": "stream",
          "text": [
            "\n",
            "Test set: Average loss: 5233.3533, Accuracy: 8224/10000 (82.24%)\n",
            "\n",
            "Epoch 55, lr 0.002352979999999999\n"
          ],
          "name": "stdout"
        },
        {
          "output_type": "stream",
          "text": [
            "Loss=1.3398481607437134 Batch_id=390 Accuracy=74.93: 100%|██████████| 391/391 [00:24<00:00, 15.80it/s]\n",
            "  0%|          | 0/391 [00:00<?, ?it/s]"
          ],
          "name": "stderr"
        },
        {
          "output_type": "stream",
          "text": [
            "\n",
            "Test set: Average loss: 5198.0193, Accuracy: 8258/10000 (82.58%)\n",
            "\n",
            "Epoch 56, lr 0.002352979999999999\n"
          ],
          "name": "stdout"
        },
        {
          "output_type": "stream",
          "text": [
            "Loss=1.1569902896881104 Batch_id=390 Accuracy=75.00: 100%|██████████| 391/391 [00:24<00:00, 15.72it/s]\n",
            "  0%|          | 0/391 [00:00<?, ?it/s]"
          ],
          "name": "stderr"
        },
        {
          "output_type": "stream",
          "text": [
            "\n",
            "Test set: Average loss: 5183.5008, Accuracy: 8231/10000 (82.31%)\n",
            "\n",
            "Epoch 57, lr 0.002352979999999999\n"
          ],
          "name": "stdout"
        },
        {
          "output_type": "stream",
          "text": [
            "Loss=1.377482533454895 Batch_id=390 Accuracy=75.06: 100%|██████████| 391/391 [00:24<00:00, 15.71it/s]\n",
            "  0%|          | 0/391 [00:00<?, ?it/s]"
          ],
          "name": "stderr"
        },
        {
          "output_type": "stream",
          "text": [
            "\n",
            "Test set: Average loss: 5258.7733, Accuracy: 8213/10000 (82.13%)\n",
            "\n",
            "Epoch 58, lr 0.002352979999999999\n"
          ],
          "name": "stdout"
        },
        {
          "output_type": "stream",
          "text": [
            "Loss=0.9166117310523987 Batch_id=390 Accuracy=75.07: 100%|██████████| 391/391 [00:24<00:00, 15.74it/s]\n",
            "  0%|          | 0/391 [00:00<?, ?it/s]"
          ],
          "name": "stderr"
        },
        {
          "output_type": "stream",
          "text": [
            "\n",
            "Test set: Average loss: 5287.2637, Accuracy: 8216/10000 (82.16%)\n",
            "\n",
            "Epoch 59, lr 0.002352979999999999\n"
          ],
          "name": "stdout"
        },
        {
          "output_type": "stream",
          "text": [
            "Loss=1.3396501541137695 Batch_id=390 Accuracy=74.79: 100%|██████████| 391/391 [00:24<00:00, 15.70it/s]\n",
            "  0%|          | 0/391 [00:00<?, ?it/s]"
          ],
          "name": "stderr"
        },
        {
          "output_type": "stream",
          "text": [
            "\n",
            "Test set: Average loss: 5091.4154, Accuracy: 8290/10000 (82.90%)\n",
            "\n",
            "Epoch 60, lr 0.002352979999999999\n"
          ],
          "name": "stdout"
        },
        {
          "output_type": "stream",
          "text": [
            "Loss=1.095950961112976 Batch_id=390 Accuracy=75.05: 100%|██████████| 391/391 [00:24<00:00, 15.84it/s]\n",
            "  0%|          | 0/391 [00:00<?, ?it/s]"
          ],
          "name": "stderr"
        },
        {
          "output_type": "stream",
          "text": [
            "\n",
            "Test set: Average loss: 4968.7845, Accuracy: 8313/10000 (83.13%)\n",
            "\n",
            "Epoch 61, lr 0.002352979999999999\n"
          ],
          "name": "stdout"
        },
        {
          "output_type": "stream",
          "text": [
            "Loss=1.3577096462249756 Batch_id=390 Accuracy=74.93: 100%|██████████| 391/391 [00:24<00:00, 15.69it/s]\n",
            "  0%|          | 0/391 [00:00<?, ?it/s]"
          ],
          "name": "stderr"
        },
        {
          "output_type": "stream",
          "text": [
            "\n",
            "Test set: Average loss: 5096.3843, Accuracy: 8277/10000 (82.77%)\n",
            "\n",
            "Epoch 62, lr 0.0016470859999999992\n"
          ],
          "name": "stdout"
        },
        {
          "output_type": "stream",
          "text": [
            "Loss=1.1238212585449219 Batch_id=390 Accuracy=75.53: 100%|██████████| 391/391 [00:24<00:00, 15.74it/s]\n",
            "  0%|          | 0/391 [00:00<?, ?it/s]"
          ],
          "name": "stderr"
        },
        {
          "output_type": "stream",
          "text": [
            "\n",
            "Test set: Average loss: 4942.5839, Accuracy: 8318/10000 (83.18%)\n",
            "\n",
            "Epoch 63, lr 0.0016470859999999992\n"
          ],
          "name": "stdout"
        },
        {
          "output_type": "stream",
          "text": [
            "Loss=1.1767494678497314 Batch_id=390 Accuracy=75.62: 100%|██████████| 391/391 [00:24<00:00, 15.76it/s]\n",
            "  0%|          | 0/391 [00:00<?, ?it/s]"
          ],
          "name": "stderr"
        },
        {
          "output_type": "stream",
          "text": [
            "\n",
            "Test set: Average loss: 4907.1640, Accuracy: 8365/10000 (83.65%)\n",
            "\n",
            "Epoch 64, lr 0.0016470859999999992\n"
          ],
          "name": "stdout"
        },
        {
          "output_type": "stream",
          "text": [
            "Loss=1.2407692670822144 Batch_id=390 Accuracy=75.82: 100%|██████████| 391/391 [00:24<00:00, 15.75it/s]\n",
            "  0%|          | 0/391 [00:00<?, ?it/s]"
          ],
          "name": "stderr"
        },
        {
          "output_type": "stream",
          "text": [
            "\n",
            "Test set: Average loss: 4990.8560, Accuracy: 8324/10000 (83.24%)\n",
            "\n",
            "Epoch 65, lr 0.0016470859999999992\n"
          ],
          "name": "stdout"
        },
        {
          "output_type": "stream",
          "text": [
            "Loss=1.0734702348709106 Batch_id=390 Accuracy=75.86: 100%|██████████| 391/391 [00:24<00:00, 15.72it/s]\n",
            "  0%|          | 0/391 [00:00<?, ?it/s]"
          ],
          "name": "stderr"
        },
        {
          "output_type": "stream",
          "text": [
            "\n",
            "Test set: Average loss: 4955.4987, Accuracy: 8335/10000 (83.35%)\n",
            "\n",
            "Epoch 66, lr 0.0016470859999999992\n"
          ],
          "name": "stdout"
        },
        {
          "output_type": "stream",
          "text": [
            "Loss=1.092394471168518 Batch_id=390 Accuracy=75.94: 100%|██████████| 391/391 [00:24<00:00, 15.73it/s]\n",
            "  0%|          | 0/391 [00:00<?, ?it/s]"
          ],
          "name": "stderr"
        },
        {
          "output_type": "stream",
          "text": [
            "\n",
            "Test set: Average loss: 4957.4321, Accuracy: 8331/10000 (83.31%)\n",
            "\n",
            "Epoch 67, lr 0.0016470859999999992\n"
          ],
          "name": "stdout"
        },
        {
          "output_type": "stream",
          "text": [
            "Loss=1.02629554271698 Batch_id=390 Accuracy=75.67: 100%|██████████| 391/391 [00:24<00:00, 15.72it/s]\n",
            "  0%|          | 0/391 [00:00<?, ?it/s]"
          ],
          "name": "stderr"
        },
        {
          "output_type": "stream",
          "text": [
            "\n",
            "Test set: Average loss: 5003.1581, Accuracy: 8322/10000 (83.22%)\n",
            "\n",
            "Epoch 68, lr 0.0016470859999999992\n"
          ],
          "name": "stdout"
        },
        {
          "output_type": "stream",
          "text": [
            "Loss=1.1807700395584106 Batch_id=390 Accuracy=75.81: 100%|██████████| 391/391 [00:24<00:00, 15.72it/s]\n",
            "  0%|          | 0/391 [00:00<?, ?it/s]"
          ],
          "name": "stderr"
        },
        {
          "output_type": "stream",
          "text": [
            "\n",
            "Test set: Average loss: 4821.9677, Accuracy: 8383/10000 (83.83%)\n",
            "\n",
            "Epoch 69, lr 0.0016470859999999992\n"
          ],
          "name": "stdout"
        },
        {
          "output_type": "stream",
          "text": [
            "Loss=1.118133544921875 Batch_id=390 Accuracy=75.75: 100%|██████████| 391/391 [00:24<00:00, 15.70it/s]\n",
            "  0%|          | 0/391 [00:00<?, ?it/s]"
          ],
          "name": "stderr"
        },
        {
          "output_type": "stream",
          "text": [
            "\n",
            "Test set: Average loss: 5019.0236, Accuracy: 8307/10000 (83.07%)\n",
            "\n",
            "Epoch 70, lr 0.0016470859999999992\n"
          ],
          "name": "stdout"
        },
        {
          "output_type": "stream",
          "text": [
            "Loss=1.0204919576644897 Batch_id=390 Accuracy=75.85: 100%|██████████| 391/391 [00:25<00:00, 15.63it/s]\n",
            "  0%|          | 0/391 [00:00<?, ?it/s]"
          ],
          "name": "stderr"
        },
        {
          "output_type": "stream",
          "text": [
            "\n",
            "Test set: Average loss: 4899.1853, Accuracy: 8370/10000 (83.70%)\n",
            "\n",
            "Epoch 71, lr 0.0011529601999999994\n"
          ],
          "name": "stdout"
        },
        {
          "output_type": "stream",
          "text": [
            "Loss=1.1582269668579102 Batch_id=390 Accuracy=76.03: 100%|██████████| 391/391 [00:24<00:00, 15.73it/s]\n",
            "  0%|          | 0/391 [00:00<?, ?it/s]"
          ],
          "name": "stderr"
        },
        {
          "output_type": "stream",
          "text": [
            "\n",
            "Test set: Average loss: 5005.1508, Accuracy: 8331/10000 (83.31%)\n",
            "\n",
            "Epoch 72, lr 0.0011529601999999994\n"
          ],
          "name": "stdout"
        },
        {
          "output_type": "stream",
          "text": [
            "Loss=0.9414776563644409 Batch_id=390 Accuracy=76.39: 100%|██████████| 391/391 [00:24<00:00, 15.67it/s]\n",
            "  0%|          | 0/391 [00:00<?, ?it/s]"
          ],
          "name": "stderr"
        },
        {
          "output_type": "stream",
          "text": [
            "\n",
            "Test set: Average loss: 4892.8425, Accuracy: 8370/10000 (83.70%)\n",
            "\n",
            "Epoch 73, lr 0.0011529601999999994\n"
          ],
          "name": "stdout"
        },
        {
          "output_type": "stream",
          "text": [
            "Loss=1.037196397781372 Batch_id=390 Accuracy=76.39: 100%|██████████| 391/391 [00:25<00:00, 15.62it/s]\n",
            "  0%|          | 0/391 [00:00<?, ?it/s]"
          ],
          "name": "stderr"
        },
        {
          "output_type": "stream",
          "text": [
            "\n",
            "Test set: Average loss: 4804.7725, Accuracy: 8383/10000 (83.83%)\n",
            "\n",
            "Epoch 74, lr 0.0011529601999999994\n"
          ],
          "name": "stdout"
        },
        {
          "output_type": "stream",
          "text": [
            "Loss=0.9228255152702332 Batch_id=390 Accuracy=76.34: 100%|██████████| 391/391 [00:24<00:00, 15.68it/s]\n",
            "  0%|          | 0/391 [00:00<?, ?it/s]"
          ],
          "name": "stderr"
        },
        {
          "output_type": "stream",
          "text": [
            "\n",
            "Test set: Average loss: 4862.8842, Accuracy: 8354/10000 (83.54%)\n",
            "\n",
            "Epoch 75, lr 0.0011529601999999994\n"
          ],
          "name": "stdout"
        },
        {
          "output_type": "stream",
          "text": [
            "Loss=1.0655251741409302 Batch_id=390 Accuracy=76.19: 100%|██████████| 391/391 [00:24<00:00, 15.69it/s]\n",
            "  0%|          | 0/391 [00:00<?, ?it/s]"
          ],
          "name": "stderr"
        },
        {
          "output_type": "stream",
          "text": [
            "\n",
            "Test set: Average loss: 4948.2284, Accuracy: 8343/10000 (83.43%)\n",
            "\n",
            "Epoch 76, lr 0.0011529601999999994\n"
          ],
          "name": "stdout"
        },
        {
          "output_type": "stream",
          "text": [
            "Loss=1.1310920715332031 Batch_id=390 Accuracy=76.21: 100%|██████████| 391/391 [00:24<00:00, 15.69it/s]\n",
            "  0%|          | 0/391 [00:00<?, ?it/s]"
          ],
          "name": "stderr"
        },
        {
          "output_type": "stream",
          "text": [
            "\n",
            "Test set: Average loss: 4714.0528, Accuracy: 8402/10000 (84.02%)\n",
            "\n",
            "Epoch 77, lr 0.0011529601999999994\n"
          ],
          "name": "stdout"
        },
        {
          "output_type": "stream",
          "text": [
            "Loss=1.1856367588043213 Batch_id=390 Accuracy=76.40: 100%|██████████| 391/391 [00:25<00:00, 15.63it/s]\n",
            "  0%|          | 0/391 [00:00<?, ?it/s]"
          ],
          "name": "stderr"
        },
        {
          "output_type": "stream",
          "text": [
            "\n",
            "Test set: Average loss: 4780.2863, Accuracy: 8350/10000 (83.50%)\n",
            "\n",
            "Epoch 78, lr 0.0011529601999999994\n"
          ],
          "name": "stdout"
        },
        {
          "output_type": "stream",
          "text": [
            "Loss=1.3995531797409058 Batch_id=390 Accuracy=76.21: 100%|██████████| 391/391 [00:24<00:00, 15.69it/s]\n",
            "  0%|          | 0/391 [00:00<?, ?it/s]"
          ],
          "name": "stderr"
        },
        {
          "output_type": "stream",
          "text": [
            "\n",
            "Test set: Average loss: 4890.5001, Accuracy: 8354/10000 (83.54%)\n",
            "\n",
            "Epoch 79, lr 0.0011529601999999994\n"
          ],
          "name": "stdout"
        },
        {
          "output_type": "stream",
          "text": [
            "Loss=1.201013445854187 Batch_id=390 Accuracy=76.45: 100%|██████████| 391/391 [00:25<00:00, 15.62it/s]\n",
            "  0%|          | 0/391 [00:00<?, ?it/s]"
          ],
          "name": "stderr"
        },
        {
          "output_type": "stream",
          "text": [
            "\n",
            "Test set: Average loss: 4886.6224, Accuracy: 8340/10000 (83.40%)\n",
            "\n",
            "Epoch 80, lr 0.0008070721399999995\n"
          ],
          "name": "stdout"
        },
        {
          "output_type": "stream",
          "text": [
            "Loss=0.937731921672821 Batch_id=390 Accuracy=77.12: 100%|██████████| 391/391 [00:24<00:00, 15.71it/s]\n",
            "  0%|          | 0/391 [00:00<?, ?it/s]"
          ],
          "name": "stderr"
        },
        {
          "output_type": "stream",
          "text": [
            "\n",
            "Test set: Average loss: 4796.9755, Accuracy: 8393/10000 (83.93%)\n",
            "\n",
            "Epoch 81, lr 0.0008070721399999995\n"
          ],
          "name": "stdout"
        },
        {
          "output_type": "stream",
          "text": [
            "Loss=1.125795602798462 Batch_id=390 Accuracy=76.89: 100%|██████████| 391/391 [00:24<00:00, 15.65it/s]\n",
            "  0%|          | 0/391 [00:00<?, ?it/s]"
          ],
          "name": "stderr"
        },
        {
          "output_type": "stream",
          "text": [
            "\n",
            "Test set: Average loss: 4720.0774, Accuracy: 8404/10000 (84.04%)\n",
            "\n",
            "Epoch 82, lr 0.0008070721399999995\n"
          ],
          "name": "stdout"
        },
        {
          "output_type": "stream",
          "text": [
            "Loss=0.891079306602478 Batch_id=390 Accuracy=76.67: 100%|██████████| 391/391 [00:25<00:00, 15.62it/s]\n",
            "  0%|          | 0/391 [00:00<?, ?it/s]"
          ],
          "name": "stderr"
        },
        {
          "output_type": "stream",
          "text": [
            "\n",
            "Test set: Average loss: 4711.0833, Accuracy: 8407/10000 (84.07%)\n",
            "\n",
            "Epoch 83, lr 0.0008070721399999995\n"
          ],
          "name": "stdout"
        },
        {
          "output_type": "stream",
          "text": [
            "Loss=1.227959156036377 Batch_id=390 Accuracy=76.76: 100%|██████████| 391/391 [00:24<00:00, 15.66it/s]\n",
            "  0%|          | 0/391 [00:00<?, ?it/s]"
          ],
          "name": "stderr"
        },
        {
          "output_type": "stream",
          "text": [
            "\n",
            "Test set: Average loss: 4772.2221, Accuracy: 8403/10000 (84.03%)\n",
            "\n",
            "Epoch 84, lr 0.0008070721399999995\n"
          ],
          "name": "stdout"
        },
        {
          "output_type": "stream",
          "text": [
            "Loss=1.1520891189575195 Batch_id=390 Accuracy=76.89: 100%|██████████| 391/391 [00:24<00:00, 15.65it/s]\n"
          ],
          "name": "stderr"
        },
        {
          "output_type": "stream",
          "text": [
            "\n",
            "Test set: Average loss: 4725.0722, Accuracy: 8398/10000 (83.98%)\n",
            "\n",
            "Actual Labels\n",
            "horse   cat truck  deer  bird   dog   dog   cat   dog   dog\n",
            "Predicted Labels\n",
            " deer   dog   car  bird plane plane  deer horse horse horse\n"
          ],
          "name": "stdout"
        },
        {
          "output_type": "display_data",
          "data": {
            "image/png": "[encoded data removed]",
            "text/plain": [
              "<Figure size 432x288 with 2 Axes>"
            ]
          },
          "metadata": {
            "tags": [],
            "needs_background": "light"
          }
        },
        {
          "output_type": "display_data",
          "data": {
            "image/png": "[encoded data removed]",
            "text/plain": [
              "<Figure size 360x360 with 1 Axes>"
            ]
          },
          "metadata": {
            "tags": [],
            "needs_background": "light"
          }
        }
      ]
    },
    {
      "cell_type": "code",
      "metadata": {
        "colab": {
          "base_uri": "https://localhost:8080/",
          "height": 199
        },
        "id": "vC8_fkj-5-uD",
        "outputId": "7d69c5ee-961c-4600-b6f0-5241fc7e96fd"
      },
      "source": [
        "  grid = torchvision.utils.make_grid(torch.stack(test_10_images).cpu(), nrow=5)\n",
        "  plt.figure(figsize=(5,5))\n",
        "  plt.imshow(np.transpose(grid, (1,2,0)))"
      ],
      "execution_count": 17,
      "outputs": [
        {
          "output_type": "stream",
          "text": [
            "Clipping input data to the valid range for imshow with RGB data ([0..1] for floats or [0..255] for integers).\n"
          ],
          "name": "stderr"
        },
        {
          "output_type": "execute_result",
          "data": {
            "text/plain": [
              "<matplotlib.image.AxesImage at 0x7f4405076450>"
            ]
          },
          "metadata": {
            "tags": []
          },
          "execution_count": 17
        },
        {
          "output_type": "display_data",
          "data": {
            "image/png": "[encoded data removed]",
            "text/plain": [
              "<Figure size 360x360 with 1 Axes>"
            ]
          },
          "metadata": {
            "tags": [],
            "needs_background": "light"
          }
        }
      ]
    },
    {
      "cell_type": "code",
      "metadata": {
        "id": "A8i6aDg_3PTO",
        "colab": {
          "base_uri": "https://localhost:8080/",
          "height": 182
        },
        "outputId": "fcb1d70c-891f-4d73-c5b2-1d746b3562ff"
      },
      "source": [
        "test_10_images_unnorm = []\n",
        "for img in test_10_images:\n",
        "  img = img.cpu()\n",
        "  img = img.numpy()\n",
        "  img[0] = img[0] * 0.247 + 0.4914\n",
        "  img[1] = img[1] * 0.2435 + 0.4822\n",
        "  img[2] = img[2] * 0.2616 + 0.4465\n",
        "\n",
        "  img = torch.from_numpy(img)\n",
        "  test_10_images_unnorm.append(img)\n",
        "\n",
        "grid = torchvision.utils.make_grid(torch.stack(test_10_images_unnorm).cpu(), nrow=5)\n",
        "plt.figure(figsize=(5,5))\n",
        "plt.imshow(np.transpose(grid, (1,2,0)))\n",
        "  \n"
      ],
      "execution_count": 18,
      "outputs": [
        {
          "output_type": "execute_result",
          "data": {
            "text/plain": [
              "<matplotlib.image.AxesImage at 0x7f4404fde510>"
            ]
          },
          "metadata": {
            "tags": []
          },
          "execution_count": 18
        },
        {
          "output_type": "display_data",
          "data": {
            "image/png": "[encoded data removed]",
            "text/plain": [
              "<Figure size 360x360 with 1 Axes>"
            ]
          },
          "metadata": {
            "tags": [],
            "needs_background": "light"
          }
        }
      ]
    }
  ]
}