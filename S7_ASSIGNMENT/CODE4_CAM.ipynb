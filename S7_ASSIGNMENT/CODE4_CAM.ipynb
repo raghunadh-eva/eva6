{
  "nbformat": 4,
  "nbformat_minor": 0,
  "metadata": {
    "accelerator": "GPU",
    "colab": {
      "name": "CODE4_FINAL.ipynb",
      "provenance": [],
      "collapsed_sections": []
    },
    "kernelspec": {
      "display_name": "Python 3",
      "name": "python3"
    },
    "language_info": {
      "name": "python"
    }
  },
  "cells": [
    {
      "cell_type": "markdown",
      "metadata": {
        "id": "89D3tlw_dJnV"
      },
      "source": [
        "**Basic setup block**\n",
        "\n",
        "\n",
        "*   Load the required utils/libraries\n",
        "*   Setup the transformations needed to load the data\n",
        "*   Split the input data into train and test\n",
        "*   Create the train and test data objects\n",
        "\n",
        "\n",
        "\n"
      ]
    },
    {
      "cell_type": "code",
      "metadata": {
        "id": "c2UphvIXcJ4D",
        "colab": {
          "base_uri": "https://localhost:8080/"
        },
        "outputId": "0cb0bc25-9e7f-489d-db5e-9d37f23ee56f"
      },
      "source": [
        "from __future__ import print_function\n",
        "import torch\n",
        "import torch.nn as nn\n",
        "import torch.nn.functional as F\n",
        "import torch.optim as optim\n",
        "import torchvision\n",
        "from torchvision import datasets, transforms, utils\n",
        "%matplotlib inline\n",
        "import matplotlib.pyplot as plt\n",
        "from torch.optim.lr_scheduler import StepLR\n",
        "!pip install torchsummary\n",
        "from torchsummary import summary\n",
        "import numpy as np\n",
        "from torchvision.utils import save_image"
      ],
      "execution_count": 1,
      "outputs": [
        {
          "output_type": "stream",
          "text": [
            "Requirement already satisfied: torchsummary in /usr/local/lib/python3.7/dist-packages (1.5.1)\n"
          ],
          "name": "stdout"
        }
      ]
    },
    {
      "cell_type": "code",
      "metadata": {
        "colab": {
          "base_uri": "https://localhost:8080/"
        },
        "id": "7juHzCDavqqZ",
        "outputId": "cfbb438b-57b6-4bf9-8dac-a74c7d364338"
      },
      "source": [
        "!pip install -U albumentations\n",
        "import albumentations as A\n",
        "import cv2\n",
        "\n",
        "\n",
        "import albumentations as A\n",
        "from albumentations.pytorch import ToTensorV2"
      ],
      "execution_count": 2,
      "outputs": [
        {
          "output_type": "stream",
          "text": [
            "Requirement already up-to-date: albumentations in /usr/local/lib/python3.7/dist-packages (1.0.0)\n",
            "Requirement already satisfied, skipping upgrade: numpy>=1.11.1 in /usr/local/lib/python3.7/dist-packages (from albumentations) (1.19.5)\n",
            "Requirement already satisfied, skipping upgrade: PyYAML in /usr/local/lib/python3.7/dist-packages (from albumentations) (3.13)\n",
            "Requirement already satisfied, skipping upgrade: scipy in /usr/local/lib/python3.7/dist-packages (from albumentations) (1.4.1)\n",
            "Requirement already satisfied, skipping upgrade: opencv-python-headless>=4.1.1 in /usr/local/lib/python3.7/dist-packages (from albumentations) (4.5.2.54)\n",
            "Requirement already satisfied, skipping upgrade: scikit-image>=0.16.1 in /usr/local/lib/python3.7/dist-packages (from albumentations) (0.16.2)\n",
            "Requirement already satisfied, skipping upgrade: networkx>=2.0 in /usr/local/lib/python3.7/dist-packages (from scikit-image>=0.16.1->albumentations) (2.5.1)\n",
            "Requirement already satisfied, skipping upgrade: pillow>=4.3.0 in /usr/local/lib/python3.7/dist-packages (from scikit-image>=0.16.1->albumentations) (7.1.2)\n",
            "Requirement already satisfied, skipping upgrade: PyWavelets>=0.4.0 in /usr/local/lib/python3.7/dist-packages (from scikit-image>=0.16.1->albumentations) (1.1.1)\n",
            "Requirement already satisfied, skipping upgrade: imageio>=2.3.0 in /usr/local/lib/python3.7/dist-packages (from scikit-image>=0.16.1->albumentations) (2.4.1)\n",
            "Requirement already satisfied, skipping upgrade: matplotlib!=3.0.0,>=2.0.0 in /usr/local/lib/python3.7/dist-packages (from scikit-image>=0.16.1->albumentations) (3.2.2)\n",
            "Requirement already satisfied, skipping upgrade: decorator<5,>=4.3 in /usr/local/lib/python3.7/dist-packages (from networkx>=2.0->scikit-image>=0.16.1->albumentations) (4.4.2)\n",
            "Requirement already satisfied, skipping upgrade: cycler>=0.10 in /usr/local/lib/python3.7/dist-packages (from matplotlib!=3.0.0,>=2.0.0->scikit-image>=0.16.1->albumentations) (0.10.0)\n",
            "Requirement already satisfied, skipping upgrade: pyparsing!=2.0.4,!=2.1.2,!=2.1.6,>=2.0.1 in /usr/local/lib/python3.7/dist-packages (from matplotlib!=3.0.0,>=2.0.0->scikit-image>=0.16.1->albumentations) (2.4.7)\n",
            "Requirement already satisfied, skipping upgrade: python-dateutil>=2.1 in /usr/local/lib/python3.7/dist-packages (from matplotlib!=3.0.0,>=2.0.0->scikit-image>=0.16.1->albumentations) (2.8.1)\n",
            "Requirement already satisfied, skipping upgrade: kiwisolver>=1.0.1 in /usr/local/lib/python3.7/dist-packages (from matplotlib!=3.0.0,>=2.0.0->scikit-image>=0.16.1->albumentations) (1.3.1)\n",
            "Requirement already satisfied, skipping upgrade: six in /usr/local/lib/python3.7/dist-packages (from cycler>=0.10->matplotlib!=3.0.0,>=2.0.0->scikit-image>=0.16.1->albumentations) (1.15.0)\n"
          ],
          "name": "stdout"
        }
      ]
    },
    {
      "cell_type": "code",
      "metadata": {
        "id": "hYM0Q5RKfHyR"
      },
      "source": [
        "test_transforms  = transforms.Compose([\n",
        "                                       transforms.ToTensor(),\n",
        "                                       transforms.Normalize((0.4914,0.4822,0.4465), (0.247,0.2435,0.2616))\n",
        "                                      ])"
      ],
      "execution_count": 3,
      "outputs": []
    },
    {
      "cell_type": "code",
      "metadata": {
        "id": "LD5RlnxdxSzs"
      },
      "source": [
        "train_transforms_a = A.Compose([\n",
        "                                       A.Normalize(mean=(0.4914, 0.4822, 0.4465), std=(0.247, 0.2435, 0.2616)),\n",
        "                                       A.Sequential([\n",
        "                                         A.PadIfNeeded(\n",
        "                                             min_height=36,\n",
        "                                             min_width=36,\n",
        "                                             border_mode=cv2.BORDER_CONSTANT,\n",
        "                                             value=(0.4914,0.4822,0.4465)\n",
        "                                         ),\n",
        "                                         A.RandomCrop(\n",
        "                                             height=32,\n",
        "                                             width=32\n",
        "                                         )\n",
        "                                       ], p = 0.5),\n",
        "                                       #A.Cutout(num_holes=1,max_h_size=16,max_w_size=16,fill_value=(0.4914,0.4822,0.4465))\n",
        "                                       A.CoarseDropout(max_holes=1,max_height=16,max_width=16,min_holes=1,min_height=16,min_width=16,fill_value=(0.4914, 0.4822, 0.4465),mask_fill_value=None),\n",
        "                                       ToTensorV2()\n",
        "                                       ])"
      ],
      "execution_count": 4,
      "outputs": []
    },
    {
      "cell_type": "code",
      "metadata": {
        "id": "oejBzxzq50tX"
      },
      "source": [
        "import cv2\n",
        "import torchvision\n",
        "\n",
        "##copied from albumentations.io\n",
        "cv2.setNumThreads(0)\n",
        "cv2.ocl.setUseOpenCL(False)\n",
        "\n",
        "class data_albumentations(datasets.CIFAR10):\n",
        "    def __init__(self, root=\"~/data/cifar10\", train=True, download=True, transform=None):\n",
        "        super().__init__(root=root, train=train, download=download, transform=transform)\n",
        "\n",
        "    def __getitem__(self, index):\n",
        "        image, label = self.data[index], self.targets[index]\n",
        "\n",
        "        if self.transform is not None:\n",
        "            transformed = self.transform(image=image)\n",
        "            image = transformed[\"image\"]\n",
        "\n",
        "        return image, label\n",
        "\n"
      ],
      "execution_count": 5,
      "outputs": []
    },
    {
      "cell_type": "code",
      "metadata": {
        "id": "t8fMRGI4h-bV",
        "colab": {
          "base_uri": "https://localhost:8080/"
        },
        "outputId": "ba2e0893-4c6d-41d4-b6de-2663925a3242"
      },
      "source": [
        "#train = datasets.CIFAR10('./data', train=True,  download=True, transform=train_transforms)\n",
        "train = data_albumentations(train=True,  download=True, transform=train_transforms_a)\n",
        "test =  datasets.CIFAR10('./data', train=False, download=True, transform=test_transforms)\n"
      ],
      "execution_count": 6,
      "outputs": [
        {
          "output_type": "stream",
          "text": [
            "Files already downloaded and verified\n",
            "Files already downloaded and verified\n"
          ],
          "name": "stdout"
        }
      ]
    },
    {
      "cell_type": "code",
      "metadata": {
        "colab": {
          "base_uri": "https://localhost:8080/"
        },
        "id": "tOstmqZoiluZ",
        "outputId": "0c2c9361-c686-43c2-b6c9-580e708a0ffa"
      },
      "source": [
        "#Always start with same random set everytime\n",
        "SEED = 1\n",
        "\n",
        "#Is GPU ?\n",
        "cuda = torch.cuda.is_available()\n",
        "\n",
        "print('CUDA Available?',cuda)\n",
        "\n",
        "#what happens when SEED = 2 ?\n",
        "torch.manual_seed(SEED)\n",
        "\n",
        "#set the seed for GPU device as well\n",
        "if cuda:\n",
        "  torch.cuda.manual_seed(SEED)\n",
        "\n",
        "device = torch.device(\"cuda\" if cuda else \"cpu\")\n",
        "print(device)\n",
        "\n",
        "dataloader_args = dict(shuffle=True, batch_size=128, num_workers=2, pin_memory=True) if cuda else dict(shuffle=True, batch_size=64)\n",
        "#Why change batch_size for CPU - since it should not matter\n",
        "\n",
        "train_loader = torch.utils.data.DataLoader(train, **dataloader_args)\n",
        "\n",
        "\n",
        "test_loader  = torch.utils.data.DataLoader(test, **dataloader_args)\n",
        "\n",
        "classes = ('plane', 'car', 'bird', 'cat',\n",
        "           'deer', 'dog', 'frog', 'horse', 'ship', 'truck')\n",
        "\n",
        "##Why shuffle=false in the example provided ?"
      ],
      "execution_count": 7,
      "outputs": [
        {
          "output_type": "stream",
          "text": [
            "CUDA Available? True\n",
            "cuda\n"
          ],
          "name": "stdout"
        }
      ]
    },
    {
      "cell_type": "markdown",
      "metadata": {
        "id": "81Z01DMclQgP"
      },
      "source": [
        "**Visualize the input data with image standardization**\n"
      ]
    },
    {
      "cell_type": "code",
      "metadata": {
        "id": "ZW6kBIPPsAJ6"
      },
      "source": [
        "image_loader = torch.utils.data.DataLoader(train, shuffle=True,batch_size=4)\n",
        "\n",
        "def imshow(img):\n",
        "    npimg = img.numpy()\n",
        "    npimg[0] = (npimg[0] * 0.247) + 0.4914\n",
        "    npimg[1] = (npimg[1] * 0.2435) + 0.4822\n",
        "    npimg[2] = (npimg[2] * 0.2616) + 0.4465\n",
        "    #we can use this directly but simply converting to tensor and converting back\n",
        "    timg = torch.from_numpy(npimg)\n",
        "    nimg = timg.numpy()\n",
        "    plt.imshow(np.transpose(nimg, (1, 2, 0)))\n",
        "\n",
        "# get some random training images\n",
        "dataiter = iter(image_loader)\n",
        "images, labels = dataiter.next()\n",
        "\n",
        "# show images\n",
        "#imshow(torchvision.utils.make_grid(images))\n",
        "#print(classes[labels[10]])\n",
        "#print(' '.join('%5s' % classes[labels[j]] for j in range(4)))"
      ],
      "execution_count": 8,
      "outputs": []
    },
    {
      "cell_type": "markdown",
      "metadata": {
        "id": "dv3mXm9isgs6"
      },
      "source": [
        "**Visualize the input data without image standardization**\n",
        "\n"
      ]
    },
    {
      "cell_type": "code",
      "metadata": {
        "id": "z7LD-U8Mlaxg",
        "colab": {
          "base_uri": "https://localhost:8080/"
        },
        "outputId": "9916ead3-f285-4d73-9df9-0bf9ff57c68d"
      },
      "source": [
        "#Comment this block from CODE2 onwards\n",
        "train_nonorm_transforms = transforms.Compose([\n",
        "                                       transforms.ToTensor()\n",
        "                                       #transforms.Normalize((0.1307,), (0.3081,))\n",
        "                                       #transforms.RandomRotation((-7.0,7.0),fill=(0,)), #Ideally use mean - adding #0 since MNIST dark pixels and no-information around the borders\n",
        "                                       #transforms.ColorJitter(brightness = 0.1, contrast= 0.1, saturation = 0.1, hue =0.1),\n",
        "                                       #transforms.Resize((28,28)) #should be before converting to Tensor logically\n",
        "                                       ])\n",
        "test_nonorm_transforms  = transforms.Compose([\n",
        "                                       transforms.ToTensor()\n",
        "                                       #transforms.Normalize((0.1307,), (0.3081,))\n",
        "                                       #transforms.RandomRotation((-7.0,7.0),fill=(0,)), #Ideally use mean - adding #0 since MNIST dark pixels and no-information around the borders\n",
        "                                       #transforms.ColorJitter(brightness = 0.1, contrast= 0.1, saturation = 0.1, hue =0.1)\n",
        "                                       #transforms.Resize((28,28)) #should be before converting to Tensor logically\n",
        "                                      ])\n",
        "train_nonorm = datasets.CIFAR10('./data_nonorm', train=True,  download=True, transform=train_nonorm_transforms)\n",
        "test_nonorm =  datasets.CIFAR10('./data_nonorm', train=False, download=True, transform=test_nonorm_transforms)\n",
        "train_loader_nonorm = torch.utils.data.DataLoader(train_nonorm, **dataloader_args)\n",
        "test_loader_nonorm  = torch.utils.data.DataLoader(test_nonorm, **dataloader_args)"
      ],
      "execution_count": 9,
      "outputs": [
        {
          "output_type": "stream",
          "text": [
            "Files already downloaded and verified\n",
            "Files already downloaded and verified\n"
          ],
          "name": "stdout"
        }
      ]
    },
    {
      "cell_type": "code",
      "metadata": {
        "id": "IPCPA7N-LLY2"
      },
      "source": [
        "#chsum = 0\n",
        "##pbar = tqdm(train_loader_nonorm)\n",
        "\n",
        "#for index, (data,target) in enumerate(train_loader_nonorm):\n",
        "#    chsum += data.sum(dim=(0,2,3),keepdim=True)\n",
        "\n",
        "#mean = chsum / (len(train_nonorm) * 32 *32)\n",
        "#\n",
        "#chsum = None\n",
        "#for index, (data,target) in enumerate(train_loader_nonorm):\n",
        "#  if index == 0:\n",
        "#   print(data.min(),data.max())\n",
        "#   chsum = (data - mean).pow(2).sum(dim=(0,2,3),keepdim=True)\n",
        "#  else:\n",
        "#   chsum += (data - mean).pow(2).sum(dim=(0,2,3),keepdim=True)\n",
        "\n",
        "#std = torch.sqrt(chsum/(len(train_nonorm) * 32 * 32))\n",
        "#print(\"Traindata Mean\",mean)\n",
        "#print(\"Traindata std dev\",std)\n",
        "\n",
        "#chsum = 0\n",
        "\n",
        "#for index, (data,target) in enumerate(test_loader_nonorm):\n",
        "#    chsum += data.sum(dim=(0,2,3),keepdim=True)\n",
        "\n",
        "#mean = chsum / (len(test_nonorm) * 32 *32)\n",
        "\n",
        "#chsum = None\n",
        "#for index, (data,target) in enumerate(test_loader_nonorm):\n",
        "#  if index == 0:\n",
        "#    chsum = (data - mean).pow(2).sum(dim=(0,2,3),keepdim=True)\n",
        "#  else:\n",
        "#   chsum += (data - mean).pow(2).sum(dim=(0,2,3),keepdim=True)\n",
        "\n",
        "#std = torch.sqrt(chsum/(len(test_nonorm) * 32 * 32))\n",
        "#print(\"Test data Mean\",mean)\n",
        "#print(\"Test data std dev\",std)"
      ],
      "execution_count": 10,
      "outputs": []
    },
    {
      "cell_type": "code",
      "metadata": {
        "colab": {
          "base_uri": "https://localhost:8080/",
          "height": 283
        },
        "id": "2i0FYCLFEas_",
        "outputId": "a889e328-04e2-4db8-fc76-8479406f5b68"
      },
      "source": [
        "dataiter = iter(train_loader_nonorm)\n",
        "images, labels = dataiter.next()\n",
        "\n",
        "def imshow_nonorm(img):\n",
        "    img = img     # unnormalize\n",
        "    npimg = img.numpy()\n",
        "    plt.imshow(np.transpose(npimg, (1, 2, 0)))\n",
        "    \n",
        "# show images\n",
        "imshow_nonorm(torchvision.utils.make_grid(images[10]))\n",
        "\n",
        "print(classes[labels[10]])\n",
        "#print(' '.join('%5s' % classes[labels[j]] for j in range(4)))"
      ],
      "execution_count": 11,
      "outputs": [
        {
          "output_type": "stream",
          "text": [
            "ship\n"
          ],
          "name": "stdout"
        },
        {
          "output_type": "display_data",
          "data": {
            "image/png": "[encoded data removed]",
            "text/plain": [
              "<Figure size 432x288 with 1 Axes>"
            ]
          },
          "metadata": {
            "tags": [],
            "needs_background": "light"
          }
        }
      ]
    },
    {
      "cell_type": "markdown",
      "metadata": {
        "id": "7bYxdYKtQBk9"
      },
      "source": [
        "**####Batch Normalization + L1 LOSS**"
      ]
    },
    {
      "cell_type": "code",
      "metadata": {
        "id": "5pSLtPQPvktt"
      },
      "source": [
        "dropout_perc = 0.05\n",
        "\n",
        "class BatchNormNet(nn.Module):\n",
        "    def __init__(self):\n",
        "        super(BatchNormNet, self).__init__()\n",
        "\n",
        "        #BLOCK C1\n",
        "        self.convblock1 = nn.Sequential(\n",
        "            nn.Conv2d(in_channels=3, out_channels=32, kernel_size=(3, 3), padding=1, dilation = 1,bias=False),\n",
        "            nn.BatchNorm2d(32),\n",
        "            nn.ReLU(),\n",
        "            nn.Dropout(dropout_perc)\n",
        "            #output size = 32 ; receptive field = 3x3\n",
        "        ) \n",
        "\n",
        "        self.convblock2 = nn.Sequential(\n",
        "            nn.Conv2d(in_channels=32, out_channels=64, kernel_size=(3, 3), padding=1, dilation = 1,bias=False),\n",
        "            nn.BatchNorm2d(64),\n",
        "            nn.ReLU(),\n",
        "            nn.Dropout(dropout_perc)\n",
        "            #output size = 32 ; receptive field = 5x5\n",
        "        ) \n",
        "        \n",
        "       #BLOCK C1 TRANSITION\n",
        "        self.convblock4 = nn.Sequential(\n",
        "            nn.Conv2d(in_channels=64, out_channels=32, kernel_size=(1, 1), padding=0, bias=False),\n",
        "        )  #output size = 32 ; receptive field = 5x5\n",
        "\n",
        "        #Drop maxPooling and use strided convolution\n",
        "        self.pool1 = nn.Sequential(\n",
        "            nn.Conv2d(in_channels=32, out_channels=64, kernel_size=(3, 3), stride=2, padding=1, dilation =1, bias=False),\n",
        "            nn.BatchNorm2d(64),\n",
        "            nn.ReLU(),\n",
        "            nn.Dropout(dropout_perc)\n",
        "        )\n",
        "        #Use dilated kernels instead of Max pooling / stride =2 conv\n",
        "        self.pool1_dilation = nn.Sequential(\n",
        "            nn.Conv2d(in_channels=32, out_channels=64, groups = 32 , kernel_size=(3, 3), dilation=2, padding=1, bias=False),\n",
        "            nn.BatchNorm2d(64),\n",
        "            nn.ReLU(),\n",
        "            nn.Dropout(dropout_perc),\n",
        "            nn.Conv2d(in_channels=64, out_channels=128, groups = 64 ,kernel_size=(3, 3), dilation=2, padding=1, bias=False),\n",
        "            nn.BatchNorm2d(128),\n",
        "            nn.ReLU(),\n",
        "            nn.Dropout(dropout_perc),\n",
        "            nn.Conv2d(in_channels=128, out_channels=64, kernel_size=(1, 1), padding=0, bias=False)\n",
        "        ) ; #output size = 28 ; receptive field = 13x13\n",
        "        #BLOCK C2\n",
        "        \n",
        "        self.convblock5 = nn.Sequential(\n",
        "            nn.Conv2d(in_channels=64, out_channels=128, groups = 64, kernel_size=(3, 3), padding=1, dilation = 2 ,bias=False),\n",
        "            nn.BatchNorm2d(128),\n",
        "            nn.ReLU(),\n",
        "            nn.Dropout(dropout_perc)\n",
        "        ) ; #output size = 26 ; receptive field = 17x17\n",
        "        \n",
        "        self.convblock6 = nn.Sequential(\n",
        "            nn.Conv2d(in_channels=128, out_channels=256, groups = 128, kernel_size=(3, 3), padding=1, dilation =2, bias=False),\n",
        "            nn.BatchNorm2d(256),\n",
        "            nn.ReLU(),\n",
        "            nn.Dropout(dropout_perc)\n",
        "        ) ; #output size = 24 ; receptive field = 21x21\n",
        "\n",
        "       \n",
        "        #BLOCK C2 TRANSITION\n",
        "        self.convblock7 = nn.Sequential(\n",
        "            nn.Conv2d(in_channels=256, out_channels=32, kernel_size=(1, 1), padding=0, bias=False),\n",
        "        )\n",
        "             \n",
        "\n",
        "        \n",
        "        #self.pool2 = nn.MaxPool2d(2, 2) # output_size = 8 ; #Receptive field = 8x8\n",
        "        self.pool2 = nn.Sequential(\n",
        "            nn.Conv2d(in_channels=32, out_channels=64, kernel_size=(3, 3), stride=2, padding=1, dilation = 1,bias=False),\n",
        "            nn.BatchNorm2d(64),\n",
        "            nn.ReLU(),\n",
        "            nn.Dropout(dropout_perc)\n",
        "        )\n",
        "        self.pool2_dilation = nn.Sequential(\n",
        "            nn.Conv2d(in_channels=32, out_channels=64, groups = 32, kernel_size=(3, 3), padding=1, dilation =2,bias=False),\n",
        "            nn.BatchNorm2d(64),\n",
        "            nn.ReLU(),\n",
        "            nn.Dropout(dropout_perc),\n",
        "            nn.Conv2d(in_channels=64, out_channels=128, groups = 64, kernel_size=(3, 3), padding=1, dilation =2,bias=False),\n",
        "            nn.BatchNorm2d(128),\n",
        "            nn.ReLU(),\n",
        "            nn.Dropout(dropout_perc),\n",
        "            nn.Conv2d(in_channels=128, out_channels=64, kernel_size=(1, 1), padding=0,bias=False)\n",
        "        ); #output size = 20 ; receptive field = 29x29\n",
        "\n",
        "        #BLOCK C3\n",
        "\n",
        "     \n",
        "        self.convblock8 = nn.Sequential(\n",
        "            nn.Conv2d(in_channels=64, out_channels=128, groups = 64, kernel_size=(3, 3), padding=1, dilation =2,bias=False),\n",
        "            nn.BatchNorm2d(128),\n",
        "            nn.ReLU(),\n",
        "            nn.Dropout(dropout_perc)\n",
        "        );#output size = 18 ; receptive field = 33x33\n",
        "        \n",
        "        self.convblock9 = nn.Sequential(\n",
        "            nn.Conv2d(in_channels=128, out_channels=256, groups = 128, kernel_size=(3, 3), padding=1, dilation=2 , bias=False),\n",
        "            nn.BatchNorm2d(256),\n",
        "            nn.ReLU(),\n",
        "            nn.Dropout(dropout_perc)\n",
        "        );#output size = 16 ; receptive field = 37x37\n",
        "\n",
        "        #BLOCK C3 TRANSITION\n",
        "        self.convblock10 = nn.Sequential(\n",
        "            nn.Conv2d(in_channels=256, out_channels=32, kernel_size=(1, 1), padding=0, bias=False),\n",
        "        ) \n",
        "        \n",
        "        #self.pool2 = nn.MaxPool2d(2, 2) # output_size = 8 ; #Receptive field = 8x8\n",
        "        self.pool3 = nn.Sequential(\n",
        "            nn.Conv2d(in_channels=32, out_channels=64, kernel_size=(3, 3), stride=2, padding=1, dilation = 1,bias=False),\n",
        "            nn.BatchNorm2d(64),\n",
        "            nn.ReLU(),\n",
        "            nn.Dropout(dropout_perc)\n",
        "        )\n",
        "        \n",
        "        self.pool3_dilation = nn.Sequential(\n",
        "            nn.Conv2d(in_channels=32, out_channels=64, groups=32 , kernel_size=(3, 3), padding=1, dilation = 2,bias=False),\n",
        "            nn.BatchNorm2d(64),\n",
        "            nn.ReLU(),\n",
        "            nn.Dropout(dropout_perc)\n",
        "        );#output size = 14 ; receptive field = 41x41\n",
        "        #BLOCK C4\n",
        "        \n",
        "        \n",
        "        self.convblock11 = nn.Sequential(\n",
        "            nn.Conv2d(in_channels=64, out_channels=128, groups = 64, kernel_size=(3, 3), padding=1, dilation=2 , bias=False),\n",
        "            nn.BatchNorm2d(128),\n",
        "            nn.ReLU(),\n",
        "            nn.Dropout(dropout_perc)\n",
        "        ) ;#output size = 12 ; receptive field = 45x45\n",
        "        \n",
        "        self.convblock12 = nn.Sequential(\n",
        "            nn.Conv2d(in_channels=128, out_channels=256, groups = 128 , kernel_size=(3, 3), padding=1, dilation =2,bias=False),\n",
        "            nn.BatchNorm2d(256),\n",
        "            nn.ReLU(),\n",
        "            nn.Dropout(dropout_perc)\n",
        "        );#output size = 10 ; receptive field = 49x49\n",
        "\n",
        "        self.convblock25 = nn.Sequential(\n",
        "            nn.Conv2d(in_channels=256, groups = 256, out_channels=512, kernel_size=(3, 3), padding=1, dilation=2, bias=False)\n",
        "        );#output size = 8 ; receptive field = 53x53\n",
        "\n",
        "                 \n",
        "        # OUTPUT BLOCK\n",
        "        self.gap = nn.Sequential(\n",
        "            nn.AvgPool2d(kernel_size=8)\n",
        "        ) # output_size = 1\n",
        "\n",
        "        self.convblock13 = nn.Sequential(\n",
        "            nn.Linear(512,10,0)\n",
        "        )\n",
        "\n",
        "    def forward(self, x):\n",
        "        x = self.convblock1(x)\n",
        "        x = self.convblock2(x)\n",
        "        x = self.convblock4(x)\n",
        "        \n",
        "        #x = self.pool1(x)\n",
        "        x = self.pool1_dilation(x)\n",
        "        \n",
        "        x = self.convblock5(x)\n",
        "        x = self.convblock6(x)\n",
        "        x = self.convblock7(x)\n",
        "\n",
        "        #x = self.pool2(x)\n",
        "        x = self.pool2_dilation(x)\n",
        "\n",
        "        x = self.convblock8(x)\n",
        "        x = self.convblock9(x)\n",
        "        x = self.convblock10(x)\n",
        "\n",
        "        #x = self.pool3(x)\n",
        "        x = self.pool3_dilation(x)\n",
        "        \n",
        "        x = self.convblock11(x)\n",
        "        x = self.convblock12(x)\n",
        "        x = self.convblock25(x)\n",
        "        x = self.gap(x)\n",
        "        \n",
        "        x = x.view(x.size(0), -1)\n",
        "        x = self.convblock13(x)\n",
        "   \n",
        "        return F.log_softmax(x, dim=-1)"
      ],
      "execution_count": 12,
      "outputs": []
    },
    {
      "cell_type": "code",
      "metadata": {
        "id": "v7dcP2Od41OC"
      },
      "source": [
        "class BasicBlock(nn.Module):\n",
        "    expansion = 1\n",
        "\n",
        "    def __init__(self, in_planes, planes, stride=1):\n",
        "        super(BasicBlock, self).__init__()\n",
        "        self.conv1 = nn.Conv2d(\n",
        "            in_planes, planes, kernel_size=3, stride=stride, padding=1, bias=False)\n",
        "        self.bn1 = nn.BatchNorm2d(planes)\n",
        "        self.conv2 = nn.Conv2d(planes, planes, kernel_size=3,\n",
        "                               stride=1, padding=1, bias=False)\n",
        "        self.bn2 = nn.BatchNorm2d(planes)\n",
        "\n",
        "        self.shortcut = nn.Sequential()\n",
        "        if stride != 1 or in_planes != self.expansion*planes:\n",
        "            self.shortcut = nn.Sequential(\n",
        "                nn.Conv2d(in_planes, self.expansion*planes,\n",
        "                          kernel_size=1, stride=stride, bias=False),\n",
        "                nn.BatchNorm2d(self.expansion*planes)\n",
        "            )\n",
        "\n",
        "    def forward(self, x):\n",
        "        out = F.relu(self.bn1(self.conv1(x)))\n",
        "        out = self.bn2(self.conv2(out))\n",
        "        out += self.shortcut(x)\n",
        "        out = F.relu(out)\n",
        "        return out\n",
        "\n",
        "class ResNet(nn.Module):\n",
        "    def __init__(self, block, num_blocks, num_classes=10):\n",
        "        super(ResNet, self).__init__()\n",
        "        self.in_planes = 64\n",
        "       \n",
        "        self.features = nn.Sequential(\n",
        "            nn.Conv2d(3, 64, kernel_size=3,stride=1, padding=1, bias=False),\n",
        "            nn.BatchNorm2d(64),\n",
        "            nn.ReLU(),\n",
        "            self._make_layer(block, 64, num_blocks[0], stride=1),\n",
        "            self._make_layer(block, 128, num_blocks[1], stride=2),\n",
        "            self._make_layer(block, 256, num_blocks[2], stride=2),\n",
        "            self._make_layer(block, 512, num_blocks[3], stride=1)\n",
        "        )\n",
        "        self.linear = nn.Linear(512*block.expansion, num_classes)\n",
        "\n",
        "        self.gradient = None\n",
        "    def _make_layer(self, block, planes, num_blocks, stride):\n",
        "        strides = [stride] + [1]*(num_blocks-1)\n",
        "        layers = []\n",
        "        for stride in strides:\n",
        "            layers.append(block(self.in_planes, planes, stride))\n",
        "            self.in_planes = planes * block.expansion\n",
        "        return nn.Sequential(*layers)\n",
        "\n",
        "    def activations_hook(self, grad):\n",
        "        self.gradient = grad\n",
        "    \n",
        "    def get_gradient(self):\n",
        "        return self.gradient\n",
        "    \n",
        "    def get_activations(self, x):\n",
        "        print('a1')\n",
        "        out = self.features(x)\n",
        "        print('a6')\n",
        "        return out\n",
        "    \n",
        "    def forward(self, x):\n",
        "      \n",
        "        out = self.features(x)\n",
        "        \n",
        "        if out.requires_grad:\n",
        "          out.register_hook(self.activations_hook)\n",
        "\n",
        "        out = F.avg_pool2d(out, 8)\n",
        "        out = out.view(out.size(0), -1)\n",
        "        out = self.linear(out)\n",
        "        return out\n",
        "    \n",
        "def ResNet18():\n",
        "    return ResNet(BasicBlock, [2, 2, 2, 2])\n",
        "\n",
        "def ResNet34():\n",
        "    return ResNet(BasicBlock, [3, 4, 6, 3])"
      ],
      "execution_count": 14,
      "outputs": []
    },
    {
      "cell_type": "code",
      "metadata": {
        "colab": {
          "base_uri": "https://localhost:8080/"
        },
        "id": "yxbYtWxRvP6I",
        "outputId": "097bd117-a039-488c-ccb9-747419dba478"
      },
      "source": [
        "model = ResNet18().to(device)\n",
        "summary(model, input_size=(3, 32, 32))"
      ],
      "execution_count": 15,
      "outputs": [
        {
          "output_type": "stream",
          "text": [
            "reached resnet block init\n",
            "reached basicl block init\n",
            "reached basicl block init\n",
            "reached basicl block init\n",
            "reached basicl block init\n",
            "reached basicl block init\n",
            "reached basicl block init\n",
            "reached basicl block init\n",
            "reached basicl block init\n",
            "resnet block end\n",
            "f1\n",
            "f2\n",
            "f3\n",
            "----------------------------------------------------------------\n",
            "        Layer (type)               Output Shape         Param #\n",
            "================================================================\n",
            "            Conv2d-1           [-1, 64, 32, 32]           1,728\n",
            "       BatchNorm2d-2           [-1, 64, 32, 32]             128\n",
            "              ReLU-3           [-1, 64, 32, 32]               0\n",
            "            Conv2d-4           [-1, 64, 32, 32]          36,864\n",
            "       BatchNorm2d-5           [-1, 64, 32, 32]             128\n",
            "            Conv2d-6           [-1, 64, 32, 32]          36,864\n",
            "       BatchNorm2d-7           [-1, 64, 32, 32]             128\n",
            "        BasicBlock-8           [-1, 64, 32, 32]               0\n",
            "            Conv2d-9           [-1, 64, 32, 32]          36,864\n",
            "      BatchNorm2d-10           [-1, 64, 32, 32]             128\n",
            "           Conv2d-11           [-1, 64, 32, 32]          36,864\n",
            "      BatchNorm2d-12           [-1, 64, 32, 32]             128\n",
            "       BasicBlock-13           [-1, 64, 32, 32]               0\n",
            "           Conv2d-14          [-1, 128, 16, 16]          73,728\n",
            "      BatchNorm2d-15          [-1, 128, 16, 16]             256\n",
            "           Conv2d-16          [-1, 128, 16, 16]         147,456\n",
            "      BatchNorm2d-17          [-1, 128, 16, 16]             256\n",
            "           Conv2d-18          [-1, 128, 16, 16]           8,192\n",
            "      BatchNorm2d-19          [-1, 128, 16, 16]             256\n",
            "       BasicBlock-20          [-1, 128, 16, 16]               0\n",
            "           Conv2d-21          [-1, 128, 16, 16]         147,456\n",
            "      BatchNorm2d-22          [-1, 128, 16, 16]             256\n",
            "           Conv2d-23          [-1, 128, 16, 16]         147,456\n",
            "      BatchNorm2d-24          [-1, 128, 16, 16]             256\n",
            "       BasicBlock-25          [-1, 128, 16, 16]               0\n",
            "           Conv2d-26            [-1, 256, 8, 8]         294,912\n",
            "      BatchNorm2d-27            [-1, 256, 8, 8]             512\n",
            "           Conv2d-28            [-1, 256, 8, 8]         589,824\n",
            "      BatchNorm2d-29            [-1, 256, 8, 8]             512\n",
            "           Conv2d-30            [-1, 256, 8, 8]          32,768\n",
            "      BatchNorm2d-31            [-1, 256, 8, 8]             512\n",
            "       BasicBlock-32            [-1, 256, 8, 8]               0\n",
            "           Conv2d-33            [-1, 256, 8, 8]         589,824\n",
            "      BatchNorm2d-34            [-1, 256, 8, 8]             512\n",
            "           Conv2d-35            [-1, 256, 8, 8]         589,824\n",
            "      BatchNorm2d-36            [-1, 256, 8, 8]             512\n",
            "       BasicBlock-37            [-1, 256, 8, 8]               0\n",
            "           Conv2d-38            [-1, 512, 8, 8]       1,179,648\n",
            "      BatchNorm2d-39            [-1, 512, 8, 8]           1,024\n",
            "           Conv2d-40            [-1, 512, 8, 8]       2,359,296\n",
            "      BatchNorm2d-41            [-1, 512, 8, 8]           1,024\n",
            "           Conv2d-42            [-1, 512, 8, 8]         131,072\n",
            "      BatchNorm2d-43            [-1, 512, 8, 8]           1,024\n",
            "       BasicBlock-44            [-1, 512, 8, 8]               0\n",
            "           Conv2d-45            [-1, 512, 8, 8]       2,359,296\n",
            "      BatchNorm2d-46            [-1, 512, 8, 8]           1,024\n",
            "           Conv2d-47            [-1, 512, 8, 8]       2,359,296\n",
            "      BatchNorm2d-48            [-1, 512, 8, 8]           1,024\n",
            "       BasicBlock-49            [-1, 512, 8, 8]               0\n",
            "           Linear-50                   [-1, 10]           5,130\n",
            "================================================================\n",
            "Total params: 11,173,962\n",
            "Trainable params: 11,173,962\n",
            "Non-trainable params: 0\n",
            "----------------------------------------------------------------\n",
            "Input size (MB): 0.01\n",
            "Forward/backward pass size (MB): 14.00\n",
            "Params size (MB): 42.63\n",
            "Estimated Total Size (MB): 56.64\n",
            "----------------------------------------------------------------\n"
          ],
          "name": "stdout"
        }
      ]
    },
    {
      "cell_type": "markdown",
      "metadata": {
        "id": "ghFiQ6mjQXdl"
      },
      "source": [
        "####LayerNorm Normalization + L1 LOSS"
      ]
    },
    {
      "cell_type": "markdown",
      "metadata": {
        "id": "SuN00vTAQphA"
      },
      "source": [
        "**`####Group normalization network + L1 LOSS`**"
      ]
    },
    {
      "cell_type": "code",
      "metadata": {
        "id": "33qg7uBpxtYe"
      },
      "source": [
        "from tqdm import tqdm\n",
        "\n",
        "test_fail_data = []\n",
        "test_fail_target = []\n",
        "test_pred_target = []\n",
        "test_losses = []\n",
        "test_acc = []\n",
        "train_acc = []\n",
        "train_losses = []\n",
        "\n",
        "loss_function = nn.CrossEntropyLoss()\n",
        "\n",
        "def train(model, device, train_loader, optimizer, epoch):\n",
        "  model.train()\n",
        "  pbar = tqdm(train_loader)\n",
        "\n",
        "  l1_lamda = 0.0001\n",
        "  \n",
        "  correct = 0\n",
        "  processed = 0\n",
        "  for batch_idx, (data, target) in enumerate(pbar):\n",
        "    # get samples\n",
        "    data, target = data.to(device), target.to(device)\n",
        "\n",
        "    # Init\n",
        "    optimizer.zero_grad()\n",
        "    # In PyTorch, we need to set the gradients to zero before starting to do backpropragation because PyTorch accumulates the gradients on subsequent backward passes. \n",
        "    # Because of this, when you start your training loop, ideally you should zero out the gradients so that you do the parameter update correctly.\n",
        "\n",
        "    # Predict\n",
        "    y_pred = model(data)\n",
        "\n",
        "    # Calculate loss\n",
        "    #Cross entropy loss\n",
        "    #loss = F.nll_loss(y_pred, target)\n",
        "    loss = loss_function(y_pred,target)\n",
        "    #\n",
        "\n",
        "    ##Add L1 Loss\n",
        "    l1 = 0\n",
        "    for p in model.parameters():\n",
        "      p_tensor = torch.sum(torch.abs(p))\n",
        "      l1 += p_tensor\n",
        "\n",
        "    loss = loss + l1_lamda * l1\n",
        "    \n",
        "    train_losses.append(loss)\n",
        "\n",
        "    # Backpropagation\n",
        "    #print(loss)\n",
        "    #print(loss.type)\n",
        "    #print(loss.shape)\n",
        "    #break\n",
        "    loss.backward()\n",
        "    \n",
        "    optimizer.step()\n",
        "\n",
        "    # Update pbar-tqdm\n",
        "    \n",
        "    pred = y_pred.argmax(dim=1, keepdim=True)  # get the index of the max log-probability\n",
        "    correct += pred.eq(target.view_as(pred)).sum().item()\n",
        "    processed += len(data)\n",
        "\n",
        "    pbar.set_description(desc= f'Loss={loss.item()} Batch_id={batch_idx} Accuracy={100*correct/processed:0.2f}')\n",
        "    train_acc.append(100*correct/processed)\n",
        "\n",
        "def test(model, device, test_loader):\n",
        "    test_fail_data = []\n",
        "    test_fail_target = []\n",
        "    test_pred_target = []\n",
        "\n",
        "    model.eval()\n",
        "    test_loss = 0\n",
        "    correct = 0\n",
        "    with torch.no_grad():\n",
        "        for data, target in test_loader:\n",
        "            data, target = data.to(device), target.to(device)\n",
        "            output = model(data)\n",
        "            test_loss += F.nll_loss(output, target, reduction='sum').item()  # sum up batch loss\n",
        "            pred = output.argmax(dim=1, keepdim=True)  # get the index of the max log-probability\n",
        "            #print(pred,target.view_as(pred))\n",
        "            correct += pred.eq(target.view_as(pred)).sum().item()\n",
        "            for i,x in enumerate(pred.eq(target.view_as(pred))):\n",
        "              if not x:\n",
        "                test_fail_data.append(data[i])\n",
        "                test_fail_target.append(target[i])\n",
        "                test_pred_target.append(pred[i])\n",
        "                #print(target[i])\n",
        "\n",
        "    test_losses.append(test_loss)\n",
        "    \n",
        "    print('\\nTest set: Average loss: {:.4f}, Accuracy: {}/{} ({:.2f}%)\\n'.format(\n",
        "        test_loss, correct, len(test_loader.dataset),\n",
        "        100. * correct / len(test_loader.dataset)))\n",
        "    \n",
        "    test_acc.append(100. * correct / len(test_loader.dataset))\n",
        "\n",
        "    return test_losses, test_acc, test_fail_data, test_fail_target, test_pred_target;    "
      ],
      "execution_count": 16,
      "outputs": []
    },
    {
      "cell_type": "markdown",
      "metadata": {
        "id": "i_4SP4-nRGKG"
      },
      "source": [
        "**####Block to pass argment and call the Model**\n",
        "\n",
        "Pass the model to be Invoked based on Input Argument"
      ]
    },
    {
      "cell_type": "code",
      "metadata": {
        "id": "bf_rAU10xhSU"
      },
      "source": [
        "def main(input_model_type,EPOCHS):\n",
        "  if input_model_type == 0:\n",
        "    model = ResNet18().to(device)\n",
        "    #test_10_images, test_10_images_target , test_10_pred_target\n",
        "    run_train_test(model,EPOCHS,input_model_type)\n",
        "    #return test_10_images, test_10_images_target , test_10_pred_target ;\n",
        "  elif input_model_type == 1:\n",
        "    model = LayerNormNet().to(device)\n",
        "    test_10_images, test_10_images_target , test_10_pred_target = run_train_test(model,EPOCHS,input_model_type)\n",
        "    return test_10_images, test_10_images_target , test_10_pred_target ;\n",
        "  elif input_model_type == 2:\n",
        "    model = GroupNormNet().to(device)\n",
        "    test_10_images, test_10_images_target , test_10_pred_target = run_train_test(model,EPOCHS,input_model_type)\n",
        "    return test_10_images, test_10_images_target , test_10_pred_target ;\n",
        "  else:\n",
        "    print(\"Invalid input for input_model_type\",input_model_type)\n",
        "    print(\"Supported values are 0 = Batch Norm,1 = Layer Norm,2 = Group Norm\")\n",
        "\n",
        "def run_train_test(model,EPOCHS,input_model_type):\n",
        "  #summary(model, input_size=(3, 32, 32))\n",
        "  optimizer = optim.SGD(model.parameters(), lr=0.02, momentum=0.9)\n",
        "  scheduler = optim.lr_scheduler.StepLR(optimizer,step_size=20, gamma=0.7)\n",
        "\n",
        "  for epoch in range(EPOCHS):\n",
        "    #print(\"EPOCH:\", epoch)\n",
        "         \n",
        "    print('Epoch {}, lr {}'.format(\n",
        "        epoch, optimizer.param_groups[0]['lr']))\n",
        "    \n",
        "    train(model, device, train_loader, optimizer, epoch)\n",
        "    scheduler.step()\n",
        "    #test_losses, test_acc, test_fail_data, test_fail_target, test_pred_target = test(model, device, test_loader)\n",
        "  \n",
        "  #print(test_fail_data)\n",
        "  fig, axs = plt.subplots(1, 2)\n",
        "  if input_model_type == 0:\n",
        "    fig.suptitle('Model Type: Batch normalization')\n",
        "  if input_model_type == 1:\n",
        "    fig.suptitle('Model Type: Layer normalization')\n",
        "  if input_model_type == 2:\n",
        "    fig.suptitle('Model Type: Group normalization')\n",
        "  \n",
        "  axs[0].set_title('Test/Validation Loss Graph')\n",
        "  axs[0].set_xticks(np.arange(1,EPOCHS+1))\n",
        "  #axs[0].xlabel('Test/Validation Loss Graph')\n",
        "  #axs[0].ylabel('LOSS')\n",
        "  axs[1].set_title('Test/Validation Accuracy Graph')\n",
        "  axs[1].set_xticks(np.arange(1,EPOCHS+1))\n",
        "  #axs[1].xlabel('Test/Validation Accuracy Graph')\n",
        "  #axs[1].ylabel('Accuracy')\n",
        "  \n",
        "  axs[0].plot(test_losses)\n",
        "  axs[1].plot(test_acc)\n",
        "\n",
        "  test_10_images = []\n",
        "  for i in range(0,10):\n",
        "    test_10_images.append(test_fail_data[i])\n",
        "  \n",
        "  test_10_images_target = []\n",
        "  for i in range(0,10):\n",
        "    test_10_images_target.append(test_fail_target[i])\n",
        "\n",
        "  test_10_pred_target = []\n",
        "  for i in range(0,10):\n",
        "    test_10_pred_target.append(test_pred_target[i])\n",
        "  #print(test_10_images_target)\n",
        "\n",
        "  print('Actual Labels')\n",
        "  print(' '.join('%5s' % classes[test_10_images_target[j]] for j in range(0,10)))\n",
        "  print('Predicted Labels')\n",
        "  print(' '.join('%5s' % classes[test_10_pred_target[j]] for j in range(0,10)))\n",
        "\n",
        "  test_10_images_unnorm = []\n",
        "  for img in test_10_images:\n",
        "    img = img.cpu()\n",
        "    img = img.numpy()\n",
        "    img[0] = img[0] * 0.247 + 0.4914\n",
        "    img[1] = img[1] * 0.2435 + 0.4822\n",
        "    img[2] = img[2] * 0.2616 + 0.4465\n",
        "\n",
        "    img = torch.from_numpy(img)\n",
        "    test_10_images_unnorm.append(img)\n",
        "  \n",
        "  grid = torchvision.utils.make_grid(torch.stack(test_10_images_unnorm).cpu(), nrow=5)\n",
        "  plt.figure(figsize=(5,5))\n",
        "  plt.imshow(np.transpose(grid, (1,2,0)))\n",
        "\n",
        "  #return test_10_images, test_10_images_target , test_10_pred_target;"
      ],
      "execution_count": null,
      "outputs": []
    },
    {
      "cell_type": "markdown",
      "metadata": {
        "id": "bEXmcfDRXoGN"
      },
      "source": [
        "**####Call to main function**\n",
        "\n",
        "main(input_model_type,EPOCHS)\n",
        "\n",
        "input_model_type:\n",
        "\n",
        "Supported values are\n",
        "\n",
        "0 = Train a model with Batch normalization\n",
        "\n",
        "1 = Train a model with Layer normalization\n",
        "\n",
        "2 = Train a model with Group Normalization\n",
        "\n",
        "EPOCHS: num_epochs\n"
      ]
    },
    {
      "cell_type": "code",
      "metadata": {
        "id": "U-ScCBSfbadI",
        "colab": {
          "base_uri": "https://localhost:8080/"
        },
        "outputId": "23415973-330f-4f22-d149-5cf9a5e13bd9"
      },
      "source": [
        "loss_function = nn.CrossEntropyLoss()\n",
        "optimizer = optim.SGD(model.parameters(), lr=0.02, momentum=0.9)\n",
        "scheduler = optim.lr_scheduler.StepLR(optimizer,step_size=20, gamma=0.7)\n",
        "#model = ResNet18().to(device)\n",
        "for epoch in range(1):\n",
        "    #print(\"EPOCH:\", epoch)\n",
        "         \n",
        "    print('Epoch {}, lr {}'.format(\n",
        "        epoch, optimizer.param_groups[0]['lr']))\n",
        "    \n",
        "    train(model, device, train_loader, optimizer, epoch)\n",
        "    scheduler.step()\n"
      ],
      "execution_count": 17,
      "outputs": [
        {
          "output_type": "stream",
          "text": [
            "\r  0%|          | 0/391 [00:00<?, ?it/s]"
          ],
          "name": "stderr"
        },
        {
          "output_type": "stream",
          "text": [
            "Epoch 0, lr 0.02\n",
            "f1\n",
            "f2\n",
            "f3\n"
          ],
          "name": "stdout"
        },
        {
          "output_type": "stream",
          "text": [
            "Loss=13.233884811401367 Batch_id=1 Accuracy=14.84:   1%|          | 2/391 [00:00<01:52,  3.46it/s]"
          ],
          "name": "stderr"
        },
        {
          "output_type": "stream",
          "text": [
            "f1\n",
            "f2\n",
            "f3\n",
            "f1\n",
            "f2\n",
            "f3\n"
          ],
          "name": "stdout"
        },
        {
          "output_type": "stream",
          "text": [
            "Loss=13.192583084106445 Batch_id=3 Accuracy=14.45:   1%|          | 4/391 [00:00<01:26,  4.47it/s]"
          ],
          "name": "stderr"
        },
        {
          "output_type": "stream",
          "text": [
            "f1\n",
            "f2\n",
            "f3\n",
            "f1\n",
            "f2\n",
            "f3\n"
          ],
          "name": "stdout"
        },
        {
          "output_type": "stream",
          "text": [
            "Loss=12.953948974609375 Batch_id=5 Accuracy=16.28:   2%|▏         | 6/391 [00:01<01:13,  5.21it/s]"
          ],
          "name": "stderr"
        },
        {
          "output_type": "stream",
          "text": [
            "f1\n",
            "f2\n",
            "f3\n",
            "f1\n",
            "f2\n",
            "f3\n"
          ],
          "name": "stdout"
        },
        {
          "output_type": "stream",
          "text": [
            "Loss=13.050537109375 Batch_id=7 Accuracy=17.87:   2%|▏         | 8/391 [00:01<01:07,  5.65it/s]"
          ],
          "name": "stderr"
        },
        {
          "output_type": "stream",
          "text": [
            "f1\n",
            "f2\n",
            "f3\n",
            "f1\n",
            "f2\n",
            "f3\n"
          ],
          "name": "stdout"
        },
        {
          "output_type": "stream",
          "text": [
            "Loss=13.027795791625977 Batch_id=9 Accuracy=18.44:   3%|▎         | 10/391 [00:01<01:04,  5.93it/s]"
          ],
          "name": "stderr"
        },
        {
          "output_type": "stream",
          "text": [
            "f1\n",
            "f2\n",
            "f3\n",
            "f1\n",
            "f2\n",
            "f3\n"
          ],
          "name": "stdout"
        },
        {
          "output_type": "stream",
          "text": [
            "Loss=12.970621109008789 Batch_id=11 Accuracy=19.01:   3%|▎         | 12/391 [00:02<01:02,  6.04it/s]"
          ],
          "name": "stderr"
        },
        {
          "output_type": "stream",
          "text": [
            "f1\n",
            "f2\n",
            "f3\n",
            "f1\n",
            "f2\n",
            "f3\n"
          ],
          "name": "stdout"
        },
        {
          "output_type": "stream",
          "text": [
            "Loss=12.984630584716797 Batch_id=13 Accuracy=19.64:   4%|▎         | 14/391 [00:02<01:01,  6.11it/s]"
          ],
          "name": "stderr"
        },
        {
          "output_type": "stream",
          "text": [
            "f1\n",
            "f2\n",
            "f3\n",
            "f1\n",
            "f2\n",
            "f3\n"
          ],
          "name": "stdout"
        },
        {
          "output_type": "stream",
          "text": [
            "Loss=12.678224563598633 Batch_id=15 Accuracy=20.51:   4%|▍         | 16/391 [00:02<01:00,  6.15it/s]"
          ],
          "name": "stderr"
        },
        {
          "output_type": "stream",
          "text": [
            "f1\n",
            "f2\n",
            "f3\n",
            "f1\n",
            "f2\n",
            "f3\n"
          ],
          "name": "stdout"
        },
        {
          "output_type": "stream",
          "text": [
            "Loss=12.6892728805542 Batch_id=17 Accuracy=21.05:   5%|▍         | 18/391 [00:03<01:00,  6.16it/s]"
          ],
          "name": "stderr"
        },
        {
          "output_type": "stream",
          "text": [
            "f1\n",
            "f2\n",
            "f3\n",
            "f1\n",
            "f2\n",
            "f3\n"
          ],
          "name": "stdout"
        },
        {
          "output_type": "stream",
          "text": [
            "Loss=12.87964916229248 Batch_id=19 Accuracy=21.68:   5%|▌         | 20/391 [00:03<00:59,  6.24it/s]"
          ],
          "name": "stderr"
        },
        {
          "output_type": "stream",
          "text": [
            "f1\n",
            "f2\n",
            "f3\n",
            "f1\n",
            "f2\n",
            "f3\n"
          ],
          "name": "stdout"
        },
        {
          "output_type": "stream",
          "text": [
            "Loss=12.6185941696167 Batch_id=21 Accuracy=22.12:   6%|▌         | 22/391 [00:03<00:59,  6.18it/s]"
          ],
          "name": "stderr"
        },
        {
          "output_type": "stream",
          "text": [
            "f1\n",
            "f2\n",
            "f3\n",
            "f1\n",
            "f2\n",
            "f3\n"
          ],
          "name": "stdout"
        },
        {
          "output_type": "stream",
          "text": [
            "Loss=12.849178314208984 Batch_id=23 Accuracy=22.75:   6%|▌         | 24/391 [00:04<00:59,  6.17it/s]"
          ],
          "name": "stderr"
        },
        {
          "output_type": "stream",
          "text": [
            "f1\n",
            "f2\n",
            "f3\n",
            "f1\n",
            "f2\n",
            "f3\n"
          ],
          "name": "stdout"
        },
        {
          "output_type": "stream",
          "text": [
            "Loss=12.568285942077637 Batch_id=25 Accuracy=22.93:   7%|▋         | 26/391 [00:04<00:58,  6.21it/s]"
          ],
          "name": "stderr"
        },
        {
          "output_type": "stream",
          "text": [
            "f1\n",
            "f2\n",
            "f3\n",
            "f1\n",
            "f2\n",
            "f3\n"
          ],
          "name": "stdout"
        },
        {
          "output_type": "stream",
          "text": [
            "Loss=12.622828483581543 Batch_id=27 Accuracy=23.13:   7%|▋         | 28/391 [00:04<00:59,  6.12it/s]"
          ],
          "name": "stderr"
        },
        {
          "output_type": "stream",
          "text": [
            "f1\n",
            "f2\n",
            "f3\n",
            "f1\n",
            "f2\n",
            "f3\n"
          ],
          "name": "stdout"
        },
        {
          "output_type": "stream",
          "text": [
            "Loss=12.49632453918457 Batch_id=29 Accuracy=23.46:   8%|▊         | 30/391 [00:05<00:58,  6.14it/s]"
          ],
          "name": "stderr"
        },
        {
          "output_type": "stream",
          "text": [
            "f1\n",
            "f2\n",
            "f3\n",
            "f1\n",
            "f2\n",
            "f3\n"
          ],
          "name": "stdout"
        },
        {
          "output_type": "stream",
          "text": [
            "Loss=12.438546180725098 Batch_id=31 Accuracy=23.61:   8%|▊         | 32/391 [00:05<00:58,  6.16it/s]"
          ],
          "name": "stderr"
        },
        {
          "output_type": "stream",
          "text": [
            "f1\n",
            "f2\n",
            "f3\n",
            "f1\n",
            "f2\n",
            "f3\n"
          ],
          "name": "stdout"
        },
        {
          "output_type": "stream",
          "text": [
            "Loss=12.309377670288086 Batch_id=33 Accuracy=24.03:   9%|▊         | 34/391 [00:05<00:57,  6.19it/s]"
          ],
          "name": "stderr"
        },
        {
          "output_type": "stream",
          "text": [
            "f1\n",
            "f2\n",
            "f3\n",
            "f1\n",
            "f2\n",
            "f3\n"
          ],
          "name": "stdout"
        },
        {
          "output_type": "stream",
          "text": [
            "Loss=12.188421249389648 Batch_id=35 Accuracy=24.50:   9%|▉         | 36/391 [00:06<00:57,  6.16it/s]"
          ],
          "name": "stderr"
        },
        {
          "output_type": "stream",
          "text": [
            "f1\n",
            "f2\n",
            "f3\n",
            "f1\n",
            "f2\n",
            "f3\n"
          ],
          "name": "stdout"
        },
        {
          "output_type": "stream",
          "text": [
            "Loss=12.25764274597168 Batch_id=37 Accuracy=24.57:  10%|▉         | 38/391 [00:06<00:56,  6.22it/s]"
          ],
          "name": "stderr"
        },
        {
          "output_type": "stream",
          "text": [
            "f1\n",
            "f2\n",
            "f3\n",
            "f1\n",
            "f2\n",
            "f3\n"
          ],
          "name": "stdout"
        },
        {
          "output_type": "stream",
          "text": [
            "Loss=12.175127029418945 Batch_id=39 Accuracy=25.00:  10%|█         | 40/391 [00:06<00:56,  6.20it/s]"
          ],
          "name": "stderr"
        },
        {
          "output_type": "stream",
          "text": [
            "f1\n",
            "f2\n",
            "f3\n",
            "f1\n",
            "f2\n",
            "f3\n"
          ],
          "name": "stdout"
        },
        {
          "output_type": "stream",
          "text": [
            "Loss=12.372248649597168 Batch_id=41 Accuracy=25.20:  11%|█         | 42/391 [00:06<00:56,  6.15it/s]"
          ],
          "name": "stderr"
        },
        {
          "output_type": "stream",
          "text": [
            "f1\n",
            "f2\n",
            "f3\n",
            "f1\n",
            "f2\n",
            "f3\n"
          ],
          "name": "stdout"
        },
        {
          "output_type": "stream",
          "text": [
            "Loss=12.151323318481445 Batch_id=43 Accuracy=25.46:  11%|█▏        | 44/391 [00:07<00:56,  6.19it/s]"
          ],
          "name": "stderr"
        },
        {
          "output_type": "stream",
          "text": [
            "f1\n",
            "f2\n",
            "f3\n",
            "f1\n",
            "f2\n",
            "f3\n"
          ],
          "name": "stdout"
        },
        {
          "output_type": "stream",
          "text": [
            "Loss=11.976625442504883 Batch_id=45 Accuracy=25.95:  12%|█▏        | 46/391 [00:07<00:55,  6.17it/s]"
          ],
          "name": "stderr"
        },
        {
          "output_type": "stream",
          "text": [
            "f1\n",
            "f2\n",
            "f3\n",
            "f1\n",
            "f2\n",
            "f3\n"
          ],
          "name": "stdout"
        },
        {
          "output_type": "stream",
          "text": [
            "Loss=11.994270324707031 Batch_id=47 Accuracy=26.16:  12%|█▏        | 48/391 [00:07<00:55,  6.13it/s]"
          ],
          "name": "stderr"
        },
        {
          "output_type": "stream",
          "text": [
            "f1\n",
            "f2\n",
            "f3\n",
            "f1\n",
            "f2\n",
            "f3\n"
          ],
          "name": "stdout"
        },
        {
          "output_type": "stream",
          "text": [
            "Loss=12.012144088745117 Batch_id=49 Accuracy=26.44:  13%|█▎        | 50/391 [00:08<00:55,  6.15it/s]"
          ],
          "name": "stderr"
        },
        {
          "output_type": "stream",
          "text": [
            "f1\n",
            "f2\n",
            "f3\n",
            "f1\n",
            "f2\n",
            "f3\n"
          ],
          "name": "stdout"
        },
        {
          "output_type": "stream",
          "text": [
            "Loss=11.9771728515625 Batch_id=51 Accuracy=26.71:  13%|█▎        | 52/391 [00:08<00:55,  6.16it/s]"
          ],
          "name": "stderr"
        },
        {
          "output_type": "stream",
          "text": [
            "f1\n",
            "f2\n",
            "f3\n",
            "f1\n",
            "f2\n",
            "f3\n"
          ],
          "name": "stdout"
        },
        {
          "output_type": "stream",
          "text": [
            "Loss=11.799922943115234 Batch_id=53 Accuracy=26.95:  14%|█▍        | 54/391 [00:08<00:54,  6.13it/s]"
          ],
          "name": "stderr"
        },
        {
          "output_type": "stream",
          "text": [
            "f1\n",
            "f2\n",
            "f3\n",
            "f1\n",
            "f2\n",
            "f3\n"
          ],
          "name": "stdout"
        },
        {
          "output_type": "stream",
          "text": [
            "Loss=11.728384017944336 Batch_id=55 Accuracy=27.53:  14%|█▍        | 56/391 [00:09<00:54,  6.14it/s]"
          ],
          "name": "stderr"
        },
        {
          "output_type": "stream",
          "text": [
            "f1\n",
            "f2\n",
            "f3\n",
            "f1\n",
            "f2\n",
            "f3\n"
          ],
          "name": "stdout"
        },
        {
          "output_type": "stream",
          "text": [
            "Loss=11.826644897460938 Batch_id=57 Accuracy=27.69:  15%|█▍        | 58/391 [00:09<00:54,  6.14it/s]"
          ],
          "name": "stderr"
        },
        {
          "output_type": "stream",
          "text": [
            "f1\n",
            "f2\n",
            "f3\n",
            "f1\n",
            "f2\n",
            "f3\n"
          ],
          "name": "stdout"
        },
        {
          "output_type": "stream",
          "text": [
            "Loss=11.722400665283203 Batch_id=59 Accuracy=27.90:  15%|█▌        | 60/391 [00:09<00:54,  6.12it/s]"
          ],
          "name": "stderr"
        },
        {
          "output_type": "stream",
          "text": [
            "f1\n",
            "f2\n",
            "f3\n",
            "f1\n",
            "f2\n",
            "f3\n"
          ],
          "name": "stdout"
        },
        {
          "output_type": "stream",
          "text": [
            "Loss=11.82480525970459 Batch_id=61 Accuracy=28.02:  16%|█▌        | 62/391 [00:10<00:53,  6.15it/s]"
          ],
          "name": "stderr"
        },
        {
          "output_type": "stream",
          "text": [
            "f1\n",
            "f2\n",
            "f3\n",
            "f1\n",
            "f2\n",
            "f3\n"
          ],
          "name": "stdout"
        },
        {
          "output_type": "stream",
          "text": [
            "Loss=11.515460968017578 Batch_id=63 Accuracy=28.42:  16%|█▋        | 64/391 [00:10<00:53,  6.15it/s]"
          ],
          "name": "stderr"
        },
        {
          "output_type": "stream",
          "text": [
            "f1\n",
            "f2\n",
            "f3\n",
            "f1\n",
            "f2\n",
            "f3\n"
          ],
          "name": "stdout"
        },
        {
          "output_type": "stream",
          "text": [
            "Loss=11.48438549041748 Batch_id=65 Accuracy=28.63:  17%|█▋        | 66/391 [00:10<00:52,  6.15it/s]"
          ],
          "name": "stderr"
        },
        {
          "output_type": "stream",
          "text": [
            "f1\n",
            "f2\n",
            "f3\n",
            "f1\n",
            "f2\n",
            "f3\n"
          ],
          "name": "stdout"
        },
        {
          "output_type": "stream",
          "text": [
            "Loss=11.505270004272461 Batch_id=67 Accuracy=28.81:  17%|█▋        | 68/391 [00:11<00:52,  6.17it/s]"
          ],
          "name": "stderr"
        },
        {
          "output_type": "stream",
          "text": [
            "f1\n",
            "f2\n",
            "f3\n",
            "f1\n",
            "f2\n",
            "f3\n"
          ],
          "name": "stdout"
        },
        {
          "output_type": "stream",
          "text": [
            "Loss=11.55050277709961 Batch_id=69 Accuracy=29.14:  18%|█▊        | 70/391 [00:11<00:52,  6.15it/s]"
          ],
          "name": "stderr"
        },
        {
          "output_type": "stream",
          "text": [
            "f1\n",
            "f2\n",
            "f3\n",
            "f1\n",
            "f2\n",
            "f3\n"
          ],
          "name": "stdout"
        },
        {
          "output_type": "stream",
          "text": [
            "Loss=11.40540885925293 Batch_id=71 Accuracy=29.25:  18%|█▊        | 72/391 [00:11<00:51,  6.14it/s]"
          ],
          "name": "stderr"
        },
        {
          "output_type": "stream",
          "text": [
            "f1\n",
            "f2\n",
            "f3\n",
            "f1\n",
            "f2\n",
            "f3\n"
          ],
          "name": "stdout"
        },
        {
          "output_type": "stream",
          "text": [
            "Loss=11.273416519165039 Batch_id=73 Accuracy=29.57:  19%|█▉        | 74/391 [00:12<00:51,  6.16it/s]"
          ],
          "name": "stderr"
        },
        {
          "output_type": "stream",
          "text": [
            "f1\n",
            "f2\n",
            "f3\n",
            "f1\n",
            "f2\n",
            "f3\n"
          ],
          "name": "stdout"
        },
        {
          "output_type": "stream",
          "text": [
            "Loss=11.250328063964844 Batch_id=75 Accuracy=29.73:  19%|█▉        | 76/391 [00:12<00:51,  6.16it/s]"
          ],
          "name": "stderr"
        },
        {
          "output_type": "stream",
          "text": [
            "f1\n",
            "f2\n",
            "f3\n",
            "f1\n",
            "f2\n",
            "f3\n"
          ],
          "name": "stdout"
        },
        {
          "output_type": "stream",
          "text": [
            "Loss=11.293224334716797 Batch_id=77 Accuracy=29.78:  20%|█▉        | 78/391 [00:12<00:50,  6.16it/s]"
          ],
          "name": "stderr"
        },
        {
          "output_type": "stream",
          "text": [
            "f1\n",
            "f2\n",
            "f3\n",
            "f1\n",
            "f2\n",
            "f3\n"
          ],
          "name": "stdout"
        },
        {
          "output_type": "stream",
          "text": [
            "Loss=11.22916316986084 Batch_id=79 Accuracy=29.89:  20%|██        | 80/391 [00:13<00:50,  6.14it/s]"
          ],
          "name": "stderr"
        },
        {
          "output_type": "stream",
          "text": [
            "f1\n",
            "f2\n",
            "f3\n",
            "f1\n",
            "f2\n",
            "f3\n"
          ],
          "name": "stdout"
        },
        {
          "output_type": "stream",
          "text": [
            "Loss=11.22462272644043 Batch_id=81 Accuracy=30.14:  21%|██        | 82/391 [00:13<00:50,  6.11it/s]"
          ],
          "name": "stderr"
        },
        {
          "output_type": "stream",
          "text": [
            "f1\n",
            "f2\n",
            "f3\n",
            "f1\n",
            "f2\n",
            "f3\n"
          ],
          "name": "stdout"
        },
        {
          "output_type": "stream",
          "text": [
            "Loss=11.11874771118164 Batch_id=83 Accuracy=30.22:  21%|██▏       | 84/391 [00:13<00:50,  6.08it/s]"
          ],
          "name": "stderr"
        },
        {
          "output_type": "stream",
          "text": [
            "f1\n",
            "f2\n",
            "f3\n",
            "f1\n",
            "f2\n",
            "f3\n"
          ],
          "name": "stdout"
        },
        {
          "output_type": "stream",
          "text": [
            "Loss=11.083547592163086 Batch_id=85 Accuracy=30.41:  22%|██▏       | 86/391 [00:14<00:50,  6.08it/s]"
          ],
          "name": "stderr"
        },
        {
          "output_type": "stream",
          "text": [
            "f1\n",
            "f2\n",
            "f3\n",
            "f1\n",
            "f2\n",
            "f3\n"
          ],
          "name": "stdout"
        },
        {
          "output_type": "stream",
          "text": [
            "Loss=11.040316581726074 Batch_id=87 Accuracy=30.53:  23%|██▎       | 88/391 [00:14<00:50,  6.06it/s]"
          ],
          "name": "stderr"
        },
        {
          "output_type": "stream",
          "text": [
            "f1\n",
            "f2\n",
            "f3\n",
            "f1\n",
            "f2\n",
            "f3\n"
          ],
          "name": "stdout"
        },
        {
          "output_type": "stream",
          "text": [
            "Loss=11.082592964172363 Batch_id=89 Accuracy=30.63:  23%|██▎       | 90/391 [00:14<00:49,  6.10it/s]"
          ],
          "name": "stderr"
        },
        {
          "output_type": "stream",
          "text": [
            "f1\n",
            "f2\n",
            "f3\n",
            "f1\n",
            "f2\n",
            "f3\n"
          ],
          "name": "stdout"
        },
        {
          "output_type": "stream",
          "text": [
            "Loss=10.895769119262695 Batch_id=91 Accuracy=30.76:  24%|██▎       | 92/391 [00:15<00:48,  6.13it/s]"
          ],
          "name": "stderr"
        },
        {
          "output_type": "stream",
          "text": [
            "f1\n",
            "f2\n",
            "f3\n",
            "f1\n",
            "f2\n",
            "f3\n"
          ],
          "name": "stdout"
        },
        {
          "output_type": "stream",
          "text": [
            "Loss=10.881363868713379 Batch_id=93 Accuracy=30.93:  24%|██▍       | 94/391 [00:15<00:48,  6.13it/s]"
          ],
          "name": "stderr"
        },
        {
          "output_type": "stream",
          "text": [
            "f1\n",
            "f2\n",
            "f3\n",
            "f1\n",
            "f2\n",
            "f3\n"
          ],
          "name": "stdout"
        },
        {
          "output_type": "stream",
          "text": [
            "Loss=10.777015686035156 Batch_id=95 Accuracy=31.09:  25%|██▍       | 96/391 [00:15<00:48,  6.13it/s]"
          ],
          "name": "stderr"
        },
        {
          "output_type": "stream",
          "text": [
            "f1\n",
            "f2\n",
            "f3\n",
            "f1\n",
            "f2\n",
            "f3\n"
          ],
          "name": "stdout"
        },
        {
          "output_type": "stream",
          "text": [
            "Loss=10.715633392333984 Batch_id=97 Accuracy=31.24:  25%|██▌       | 98/391 [00:16<00:47,  6.17it/s]"
          ],
          "name": "stderr"
        },
        {
          "output_type": "stream",
          "text": [
            "f1\n",
            "f2\n",
            "f3\n",
            "f1\n",
            "f2\n",
            "f3\n"
          ],
          "name": "stdout"
        },
        {
          "output_type": "stream",
          "text": [
            "Loss=10.726030349731445 Batch_id=99 Accuracy=31.37:  26%|██▌       | 100/391 [00:16<00:47,  6.14it/s]"
          ],
          "name": "stderr"
        },
        {
          "output_type": "stream",
          "text": [
            "f1\n",
            "f2\n",
            "f3\n",
            "f1\n",
            "f2\n",
            "f3\n"
          ],
          "name": "stdout"
        },
        {
          "output_type": "stream",
          "text": [
            "Loss=10.797079086303711 Batch_id=101 Accuracy=31.47:  26%|██▌       | 102/391 [00:16<00:47,  6.11it/s]"
          ],
          "name": "stderr"
        },
        {
          "output_type": "stream",
          "text": [
            "f1\n",
            "f2\n",
            "f3\n",
            "f1\n",
            "f2\n",
            "f3\n"
          ],
          "name": "stdout"
        },
        {
          "output_type": "stream",
          "text": [
            "Loss=10.7902193069458 Batch_id=103 Accuracy=31.55:  27%|██▋       | 104/391 [00:17<00:47,  6.09it/s]"
          ],
          "name": "stderr"
        },
        {
          "output_type": "stream",
          "text": [
            "f1\n",
            "f2\n",
            "f3\n",
            "f1\n",
            "f2\n",
            "f3\n"
          ],
          "name": "stdout"
        },
        {
          "output_type": "stream",
          "text": [
            "Loss=10.63715934753418 Batch_id=105 Accuracy=31.63:  27%|██▋       | 106/391 [00:17<00:46,  6.06it/s]"
          ],
          "name": "stderr"
        },
        {
          "output_type": "stream",
          "text": [
            "f1\n",
            "f2\n",
            "f3\n",
            "f1\n",
            "f2\n",
            "f3\n"
          ],
          "name": "stdout"
        },
        {
          "output_type": "stream",
          "text": [
            "Loss=10.420676231384277 Batch_id=107 Accuracy=31.81:  28%|██▊       | 108/391 [00:17<00:46,  6.06it/s]"
          ],
          "name": "stderr"
        },
        {
          "output_type": "stream",
          "text": [
            "f1\n",
            "f2\n",
            "f3\n",
            "f1\n",
            "f2\n",
            "f3\n"
          ],
          "name": "stdout"
        },
        {
          "output_type": "stream",
          "text": [
            "Loss=10.536419868469238 Batch_id=109 Accuracy=32.00:  28%|██▊       | 110/391 [00:18<00:46,  6.05it/s]"
          ],
          "name": "stderr"
        },
        {
          "output_type": "stream",
          "text": [
            "f1\n",
            "f2\n",
            "f3\n",
            "f1\n",
            "f2\n",
            "f3\n"
          ],
          "name": "stdout"
        },
        {
          "output_type": "stream",
          "text": [
            "Loss=10.54835033416748 Batch_id=111 Accuracy=32.09:  29%|██▊       | 112/391 [00:18<00:45,  6.08it/s]"
          ],
          "name": "stderr"
        },
        {
          "output_type": "stream",
          "text": [
            "f1\n",
            "f2\n",
            "f3\n",
            "f1\n",
            "f2\n",
            "f3\n"
          ],
          "name": "stdout"
        },
        {
          "output_type": "stream",
          "text": [
            "Loss=10.470354080200195 Batch_id=113 Accuracy=32.33:  29%|██▉       | 114/391 [00:18<00:45,  6.09it/s]"
          ],
          "name": "stderr"
        },
        {
          "output_type": "stream",
          "text": [
            "f1\n",
            "f2\n",
            "f3\n",
            "f1\n",
            "f2\n",
            "f3\n"
          ],
          "name": "stdout"
        },
        {
          "output_type": "stream",
          "text": [
            "Loss=10.467411041259766 Batch_id=115 Accuracy=32.42:  30%|██▉       | 116/391 [00:19<00:45,  6.08it/s]"
          ],
          "name": "stderr"
        },
        {
          "output_type": "stream",
          "text": [
            "f1\n",
            "f2\n",
            "f3\n",
            "f1\n",
            "f2\n",
            "f3\n"
          ],
          "name": "stdout"
        },
        {
          "output_type": "stream",
          "text": [
            "Loss=10.36617374420166 Batch_id=117 Accuracy=32.53:  30%|███       | 118/391 [00:19<00:44,  6.15it/s]"
          ],
          "name": "stderr"
        },
        {
          "output_type": "stream",
          "text": [
            "f1\n",
            "f2\n",
            "f3\n",
            "f1\n",
            "f2\n",
            "f3\n"
          ],
          "name": "stdout"
        },
        {
          "output_type": "stream",
          "text": [
            "Loss=10.382798194885254 Batch_id=119 Accuracy=32.63:  31%|███       | 120/391 [00:19<00:44,  6.10it/s]"
          ],
          "name": "stderr"
        },
        {
          "output_type": "stream",
          "text": [
            "f1\n",
            "f2\n",
            "f3\n",
            "f1\n",
            "f2\n",
            "f3\n"
          ],
          "name": "stdout"
        },
        {
          "output_type": "stream",
          "text": [
            "Loss=10.169904708862305 Batch_id=121 Accuracy=32.75:  31%|███       | 122/391 [00:20<00:43,  6.18it/s]"
          ],
          "name": "stderr"
        },
        {
          "output_type": "stream",
          "text": [
            "f1\n",
            "f2\n",
            "f3\n",
            "f1\n",
            "f2\n",
            "f3\n"
          ],
          "name": "stdout"
        },
        {
          "output_type": "stream",
          "text": [
            "Loss=10.54568099975586 Batch_id=123 Accuracy=32.78:  32%|███▏      | 124/391 [00:20<00:42,  6.21it/s]"
          ],
          "name": "stderr"
        },
        {
          "output_type": "stream",
          "text": [
            "f1\n",
            "f2\n",
            "f3\n",
            "f1\n",
            "f2\n",
            "f3\n"
          ],
          "name": "stdout"
        },
        {
          "output_type": "stream",
          "text": [
            "Loss=10.127427101135254 Batch_id=125 Accuracy=32.90:  32%|███▏      | 126/391 [00:20<00:42,  6.17it/s]"
          ],
          "name": "stderr"
        },
        {
          "output_type": "stream",
          "text": [
            "f1\n",
            "f2\n",
            "f3\n",
            "f1\n",
            "f2\n",
            "f3\n"
          ],
          "name": "stdout"
        },
        {
          "output_type": "stream",
          "text": [
            "Loss=10.099396705627441 Batch_id=127 Accuracy=33.06:  33%|███▎      | 128/391 [00:21<00:42,  6.15it/s]"
          ],
          "name": "stderr"
        },
        {
          "output_type": "stream",
          "text": [
            "f1\n",
            "f2\n",
            "f3\n",
            "f1\n",
            "f2\n",
            "f3\n"
          ],
          "name": "stdout"
        },
        {
          "output_type": "stream",
          "text": [
            "Loss=10.042837142944336 Batch_id=129 Accuracy=33.28:  33%|███▎      | 130/391 [00:21<00:42,  6.16it/s]"
          ],
          "name": "stderr"
        },
        {
          "output_type": "stream",
          "text": [
            "f1\n",
            "f2\n",
            "f3\n",
            "f1\n",
            "f2\n",
            "f3\n"
          ],
          "name": "stdout"
        },
        {
          "output_type": "stream",
          "text": [
            "Loss=10.092300415039062 Batch_id=131 Accuracy=33.43:  34%|███▍      | 132/391 [00:21<00:42,  6.15it/s]"
          ],
          "name": "stderr"
        },
        {
          "output_type": "stream",
          "text": [
            "f1\n",
            "f2\n",
            "f3\n",
            "f1\n",
            "f2\n",
            "f3\n"
          ],
          "name": "stdout"
        },
        {
          "output_type": "stream",
          "text": [
            "Loss=9.912205696105957 Batch_id=133 Accuracy=33.63:  34%|███▍      | 134/391 [00:21<00:41,  6.20it/s]"
          ],
          "name": "stderr"
        },
        {
          "output_type": "stream",
          "text": [
            "f1\n",
            "f2\n",
            "f3\n",
            "f1\n",
            "f2\n",
            "f3\n"
          ],
          "name": "stdout"
        },
        {
          "output_type": "stream",
          "text": [
            "Loss=10.098808288574219 Batch_id=135 Accuracy=33.73:  35%|███▍      | 136/391 [00:22<00:41,  6.15it/s]"
          ],
          "name": "stderr"
        },
        {
          "output_type": "stream",
          "text": [
            "f1\n",
            "f2\n",
            "f3\n",
            "f1\n",
            "f2\n",
            "f3\n"
          ],
          "name": "stdout"
        },
        {
          "output_type": "stream",
          "text": [
            "Loss=10.009679794311523 Batch_id=137 Accuracy=33.87:  35%|███▌      | 138/391 [00:22<00:41,  6.12it/s]"
          ],
          "name": "stderr"
        },
        {
          "output_type": "stream",
          "text": [
            "f1\n",
            "f2\n",
            "f3\n",
            "f1\n",
            "f2\n",
            "f3\n"
          ],
          "name": "stdout"
        },
        {
          "output_type": "stream",
          "text": [
            "Loss=9.899659156799316 Batch_id=139 Accuracy=34.00:  36%|███▌      | 140/391 [00:22<00:40,  6.17it/s]"
          ],
          "name": "stderr"
        },
        {
          "output_type": "stream",
          "text": [
            "f1\n",
            "f2\n",
            "f3\n",
            "f1\n",
            "f2\n",
            "f3\n"
          ],
          "name": "stdout"
        },
        {
          "output_type": "stream",
          "text": [
            "Loss=9.892531394958496 Batch_id=141 Accuracy=34.13:  36%|███▋      | 142/391 [00:23<00:40,  6.11it/s]"
          ],
          "name": "stderr"
        },
        {
          "output_type": "stream",
          "text": [
            "f1\n",
            "f2\n",
            "f3\n",
            "f1\n",
            "f2\n",
            "f3\n"
          ],
          "name": "stdout"
        },
        {
          "output_type": "stream",
          "text": [
            "Loss=9.922921180725098 Batch_id=143 Accuracy=34.23:  37%|███▋      | 144/391 [00:23<00:40,  6.14it/s]"
          ],
          "name": "stderr"
        },
        {
          "output_type": "stream",
          "text": [
            "f1\n",
            "f2\n",
            "f3\n",
            "f1\n",
            "f2\n",
            "f3\n"
          ],
          "name": "stdout"
        },
        {
          "output_type": "stream",
          "text": [
            "Loss=9.969935417175293 Batch_id=145 Accuracy=34.33:  37%|███▋      | 146/391 [00:23<00:39,  6.16it/s]"
          ],
          "name": "stderr"
        },
        {
          "output_type": "stream",
          "text": [
            "f1\n",
            "f2\n",
            "f3\n",
            "f1\n",
            "f2\n",
            "f3\n"
          ],
          "name": "stdout"
        },
        {
          "output_type": "stream",
          "text": [
            "Loss=9.792357444763184 Batch_id=147 Accuracy=34.42:  38%|███▊      | 148/391 [00:24<00:39,  6.16it/s]"
          ],
          "name": "stderr"
        },
        {
          "output_type": "stream",
          "text": [
            "f1\n",
            "f2\n",
            "f3\n",
            "f1\n",
            "f2\n",
            "f3\n"
          ],
          "name": "stdout"
        },
        {
          "output_type": "stream",
          "text": [
            "Loss=9.676578521728516 Batch_id=149 Accuracy=34.51:  38%|███▊      | 150/391 [00:24<00:39,  6.16it/s]"
          ],
          "name": "stderr"
        },
        {
          "output_type": "stream",
          "text": [
            "f1\n",
            "f2\n",
            "f3\n",
            "f1\n",
            "f2\n",
            "f3\n"
          ],
          "name": "stdout"
        },
        {
          "output_type": "stream",
          "text": [
            "Loss=9.764820098876953 Batch_id=151 Accuracy=34.60:  39%|███▉      | 152/391 [00:24<00:38,  6.18it/s]"
          ],
          "name": "stderr"
        },
        {
          "output_type": "stream",
          "text": [
            "f1\n",
            "f2\n",
            "f3\n",
            "f1\n",
            "f2\n",
            "f3\n"
          ],
          "name": "stdout"
        },
        {
          "output_type": "stream",
          "text": [
            "Loss=9.795355796813965 Batch_id=153 Accuracy=34.68:  39%|███▉      | 154/391 [00:25<00:38,  6.17it/s]"
          ],
          "name": "stderr"
        },
        {
          "output_type": "stream",
          "text": [
            "f1\n",
            "f2\n",
            "f3\n",
            "f1\n",
            "f2\n",
            "f3\n"
          ],
          "name": "stdout"
        },
        {
          "output_type": "stream",
          "text": [
            "Loss=9.63161849975586 Batch_id=155 Accuracy=34.74:  40%|███▉      | 156/391 [00:25<00:38,  6.15it/s]"
          ],
          "name": "stderr"
        },
        {
          "output_type": "stream",
          "text": [
            "f1\n",
            "f2\n",
            "f3\n",
            "f1\n",
            "f2\n",
            "f3\n"
          ],
          "name": "stdout"
        },
        {
          "output_type": "stream",
          "text": [
            "Loss=9.509669303894043 Batch_id=157 Accuracy=34.88:  40%|████      | 158/391 [00:25<00:38,  6.04it/s]"
          ],
          "name": "stderr"
        },
        {
          "output_type": "stream",
          "text": [
            "f1\n",
            "f2\n",
            "f3\n",
            "f1\n",
            "f2\n",
            "f3\n"
          ],
          "name": "stdout"
        },
        {
          "output_type": "stream",
          "text": [
            "Loss=9.578264236450195 Batch_id=159 Accuracy=34.95:  41%|████      | 160/391 [00:26<00:38,  6.04it/s]"
          ],
          "name": "stderr"
        },
        {
          "output_type": "stream",
          "text": [
            "f1\n",
            "f2\n",
            "f3\n",
            "f1\n",
            "f2\n",
            "f3\n"
          ],
          "name": "stdout"
        },
        {
          "output_type": "stream",
          "text": [
            "Loss=9.5582275390625 Batch_id=161 Accuracy=35.08:  41%|████▏     | 162/391 [00:26<00:37,  6.05it/s]"
          ],
          "name": "stderr"
        },
        {
          "output_type": "stream",
          "text": [
            "f1\n",
            "f2\n",
            "f3\n",
            "f1\n",
            "f2\n",
            "f3\n"
          ],
          "name": "stdout"
        },
        {
          "output_type": "stream",
          "text": [
            "Loss=9.354391098022461 Batch_id=163 Accuracy=35.18:  42%|████▏     | 164/391 [00:26<00:37,  6.12it/s]"
          ],
          "name": "stderr"
        },
        {
          "output_type": "stream",
          "text": [
            "f1\n",
            "f2\n",
            "f3\n",
            "f1\n",
            "f2\n",
            "f3\n"
          ],
          "name": "stdout"
        },
        {
          "output_type": "stream",
          "text": [
            "Loss=9.514875411987305 Batch_id=165 Accuracy=35.25:  42%|████▏     | 166/391 [00:27<00:36,  6.16it/s]"
          ],
          "name": "stderr"
        },
        {
          "output_type": "stream",
          "text": [
            "f1\n",
            "f2\n",
            "f3\n",
            "f1\n",
            "f2\n",
            "f3\n"
          ],
          "name": "stdout"
        },
        {
          "output_type": "stream",
          "text": [
            "Loss=9.33297348022461 Batch_id=167 Accuracy=35.27:  43%|████▎     | 168/391 [00:27<00:36,  6.14it/s]"
          ],
          "name": "stderr"
        },
        {
          "output_type": "stream",
          "text": [
            "f1\n",
            "f2\n",
            "f3\n",
            "f1\n",
            "f2\n",
            "f3\n"
          ],
          "name": "stdout"
        },
        {
          "output_type": "stream",
          "text": [
            "Loss=9.564632415771484 Batch_id=169 Accuracy=35.29:  43%|████▎     | 170/391 [00:27<00:36,  6.13it/s]"
          ],
          "name": "stderr"
        },
        {
          "output_type": "stream",
          "text": [
            "f1\n",
            "f2\n",
            "f3\n",
            "f1\n",
            "f2\n",
            "f3\n"
          ],
          "name": "stdout"
        },
        {
          "output_type": "stream",
          "text": [
            "Loss=9.410784721374512 Batch_id=171 Accuracy=35.34:  44%|████▍     | 172/391 [00:28<00:35,  6.14it/s]"
          ],
          "name": "stderr"
        },
        {
          "output_type": "stream",
          "text": [
            "f1\n",
            "f2\n",
            "f3\n",
            "f1\n",
            "f2\n",
            "f3\n"
          ],
          "name": "stdout"
        },
        {
          "output_type": "stream",
          "text": [
            "Loss=9.416845321655273 Batch_id=173 Accuracy=35.41:  45%|████▍     | 174/391 [00:28<00:35,  6.15it/s]"
          ],
          "name": "stderr"
        },
        {
          "output_type": "stream",
          "text": [
            "f1\n",
            "f2\n",
            "f3\n",
            "f1\n",
            "f2\n",
            "f3\n"
          ],
          "name": "stdout"
        },
        {
          "output_type": "stream",
          "text": [
            "Loss=9.337010383605957 Batch_id=175 Accuracy=35.41:  45%|████▌     | 176/391 [00:28<00:35,  6.14it/s]"
          ],
          "name": "stderr"
        },
        {
          "output_type": "stream",
          "text": [
            "f1\n",
            "f2\n",
            "f3\n",
            "f1\n",
            "f2\n",
            "f3\n"
          ],
          "name": "stdout"
        },
        {
          "output_type": "stream",
          "text": [
            "Loss=9.13454532623291 Batch_id=177 Accuracy=35.50:  46%|████▌     | 178/391 [00:29<00:34,  6.14it/s]"
          ],
          "name": "stderr"
        },
        {
          "output_type": "stream",
          "text": [
            "f1\n",
            "f2\n",
            "f3\n",
            "f1\n",
            "f2\n",
            "f3\n"
          ],
          "name": "stdout"
        },
        {
          "output_type": "stream",
          "text": [
            "Loss=9.157281875610352 Batch_id=179 Accuracy=35.58:  46%|████▌     | 180/391 [00:29<00:34,  6.14it/s]"
          ],
          "name": "stderr"
        },
        {
          "output_type": "stream",
          "text": [
            "f1\n",
            "f2\n",
            "f3\n",
            "f1\n",
            "f2\n",
            "f3\n"
          ],
          "name": "stdout"
        },
        {
          "output_type": "stream",
          "text": [
            "Loss=9.245352745056152 Batch_id=181 Accuracy=35.58:  47%|████▋     | 182/391 [00:29<00:33,  6.16it/s]"
          ],
          "name": "stderr"
        },
        {
          "output_type": "stream",
          "text": [
            "f1\n",
            "f2\n",
            "f3\n",
            "f1\n",
            "f2\n",
            "f3\n"
          ],
          "name": "stdout"
        },
        {
          "output_type": "stream",
          "text": [
            "Loss=9.066703796386719 Batch_id=183 Accuracy=35.71:  47%|████▋     | 184/391 [00:30<00:34,  6.08it/s]"
          ],
          "name": "stderr"
        },
        {
          "output_type": "stream",
          "text": [
            "f1\n",
            "f2\n",
            "f3\n",
            "f1\n",
            "f2\n",
            "f3\n"
          ],
          "name": "stdout"
        },
        {
          "output_type": "stream",
          "text": [
            "Loss=9.142147064208984 Batch_id=185 Accuracy=35.78:  48%|████▊     | 186/391 [00:30<00:33,  6.10it/s]"
          ],
          "name": "stderr"
        },
        {
          "output_type": "stream",
          "text": [
            "f1\n",
            "f2\n",
            "f3\n",
            "f1\n",
            "f2\n",
            "f3\n"
          ],
          "name": "stdout"
        },
        {
          "output_type": "stream",
          "text": [
            "Loss=9.046918869018555 Batch_id=187 Accuracy=35.86:  48%|████▊     | 188/391 [00:30<00:33,  6.09it/s]"
          ],
          "name": "stderr"
        },
        {
          "output_type": "stream",
          "text": [
            "f1\n",
            "f2\n",
            "f3\n",
            "f1\n",
            "f2\n",
            "f3\n"
          ],
          "name": "stdout"
        },
        {
          "output_type": "stream",
          "text": [
            "Loss=8.96057415008545 Batch_id=189 Accuracy=35.97:  49%|████▊     | 190/391 [00:31<00:32,  6.12it/s]"
          ],
          "name": "stderr"
        },
        {
          "output_type": "stream",
          "text": [
            "f1\n",
            "f2\n",
            "f3\n",
            "f1\n",
            "f2\n",
            "f3\n"
          ],
          "name": "stdout"
        },
        {
          "output_type": "stream",
          "text": [
            "Loss=8.953337669372559 Batch_id=191 Accuracy=36.04:  49%|████▉     | 192/391 [00:31<00:32,  6.11it/s]"
          ],
          "name": "stderr"
        },
        {
          "output_type": "stream",
          "text": [
            "f1\n",
            "f2\n",
            "f3\n",
            "f1\n",
            "f2\n",
            "f3\n"
          ],
          "name": "stdout"
        },
        {
          "output_type": "stream",
          "text": [
            "Loss=8.909026145935059 Batch_id=193 Accuracy=36.16:  50%|████▉     | 194/391 [00:31<00:32,  6.03it/s]"
          ],
          "name": "stderr"
        },
        {
          "output_type": "stream",
          "text": [
            "f1\n",
            "f2\n",
            "f3\n",
            "f1\n",
            "f2\n",
            "f3\n"
          ],
          "name": "stdout"
        },
        {
          "output_type": "stream",
          "text": [
            "Loss=8.869390487670898 Batch_id=195 Accuracy=36.31:  50%|█████     | 196/391 [00:32<00:32,  6.03it/s]"
          ],
          "name": "stderr"
        },
        {
          "output_type": "stream",
          "text": [
            "f1\n",
            "f2\n",
            "f3\n",
            "f1\n",
            "f2\n",
            "f3\n"
          ],
          "name": "stdout"
        },
        {
          "output_type": "stream",
          "text": [
            "Loss=8.801891326904297 Batch_id=197 Accuracy=36.43:  51%|█████     | 198/391 [00:32<00:31,  6.05it/s]"
          ],
          "name": "stderr"
        },
        {
          "output_type": "stream",
          "text": [
            "f1\n",
            "f2\n",
            "f3\n",
            "f1\n",
            "f2\n",
            "f3\n"
          ],
          "name": "stdout"
        },
        {
          "output_type": "stream",
          "text": [
            "Loss=8.689760208129883 Batch_id=199 Accuracy=36.53:  51%|█████     | 200/391 [00:32<00:31,  6.09it/s]"
          ],
          "name": "stderr"
        },
        {
          "output_type": "stream",
          "text": [
            "f1\n",
            "f2\n",
            "f3\n",
            "f1\n",
            "f2\n",
            "f3\n"
          ],
          "name": "stdout"
        },
        {
          "output_type": "stream",
          "text": [
            "Loss=8.589378356933594 Batch_id=201 Accuracy=36.63:  52%|█████▏    | 202/391 [00:33<00:31,  6.04it/s]"
          ],
          "name": "stderr"
        },
        {
          "output_type": "stream",
          "text": [
            "f1\n",
            "f2\n",
            "f3\n",
            "f1\n",
            "f2\n",
            "f3\n"
          ],
          "name": "stdout"
        },
        {
          "output_type": "stream",
          "text": [
            "Loss=8.62474536895752 Batch_id=203 Accuracy=36.68:  52%|█████▏    | 204/391 [00:33<00:30,  6.03it/s]"
          ],
          "name": "stderr"
        },
        {
          "output_type": "stream",
          "text": [
            "f1\n",
            "f2\n",
            "f3\n",
            "f1\n",
            "f2\n",
            "f3\n"
          ],
          "name": "stdout"
        },
        {
          "output_type": "stream",
          "text": [
            "Loss=8.494199752807617 Batch_id=205 Accuracy=36.81:  53%|█████▎    | 206/391 [00:33<00:30,  6.07it/s]"
          ],
          "name": "stderr"
        },
        {
          "output_type": "stream",
          "text": [
            "f1\n",
            "f2\n",
            "f3\n",
            "f1\n",
            "f2\n",
            "f3\n"
          ],
          "name": "stdout"
        },
        {
          "output_type": "stream",
          "text": [
            "Loss=8.730796813964844 Batch_id=207 Accuracy=36.90:  53%|█████▎    | 208/391 [00:34<00:29,  6.11it/s]"
          ],
          "name": "stderr"
        },
        {
          "output_type": "stream",
          "text": [
            "f1\n",
            "f2\n",
            "f3\n",
            "f1\n",
            "f2\n",
            "f3\n"
          ],
          "name": "stdout"
        },
        {
          "output_type": "stream",
          "text": [
            "Loss=8.597436904907227 Batch_id=209 Accuracy=36.96:  54%|█████▎    | 210/391 [00:34<00:29,  6.11it/s]"
          ],
          "name": "stderr"
        },
        {
          "output_type": "stream",
          "text": [
            "f1\n",
            "f2\n",
            "f3\n",
            "f1\n",
            "f2\n",
            "f3\n"
          ],
          "name": "stdout"
        },
        {
          "output_type": "stream",
          "text": [
            "Loss=8.606330871582031 Batch_id=211 Accuracy=37.01:  54%|█████▍    | 212/391 [00:34<00:29,  6.08it/s]"
          ],
          "name": "stderr"
        },
        {
          "output_type": "stream",
          "text": [
            "f1\n",
            "f2\n",
            "f3\n",
            "f1\n",
            "f2\n",
            "f3\n"
          ],
          "name": "stdout"
        },
        {
          "output_type": "stream",
          "text": [
            "Loss=8.570743560791016 Batch_id=213 Accuracy=37.05:  55%|█████▍    | 214/391 [00:35<00:29,  6.05it/s]"
          ],
          "name": "stderr"
        },
        {
          "output_type": "stream",
          "text": [
            "f1\n",
            "f2\n",
            "f3\n",
            "f1\n",
            "f2\n",
            "f3\n"
          ],
          "name": "stdout"
        },
        {
          "output_type": "stream",
          "text": [
            "Loss=8.25155258178711 Batch_id=215 Accuracy=37.22:  55%|█████▌    | 216/391 [00:35<00:28,  6.06it/s]"
          ],
          "name": "stderr"
        },
        {
          "output_type": "stream",
          "text": [
            "f1\n",
            "f2\n",
            "f3\n",
            "f1\n",
            "f2\n",
            "f3\n"
          ],
          "name": "stdout"
        },
        {
          "output_type": "stream",
          "text": [
            "Loss=8.763644218444824 Batch_id=217 Accuracy=37.25:  56%|█████▌    | 218/391 [00:35<00:28,  6.01it/s]"
          ],
          "name": "stderr"
        },
        {
          "output_type": "stream",
          "text": [
            "f1\n",
            "f2\n",
            "f3\n",
            "f1\n",
            "f2\n",
            "f3\n"
          ],
          "name": "stdout"
        },
        {
          "output_type": "stream",
          "text": [
            "Loss=8.51504898071289 Batch_id=219 Accuracy=37.30:  56%|█████▋    | 220/391 [00:36<00:28,  6.05it/s]"
          ],
          "name": "stderr"
        },
        {
          "output_type": "stream",
          "text": [
            "f1\n",
            "f2\n",
            "f3\n",
            "f1\n",
            "f2\n",
            "f3\n"
          ],
          "name": "stdout"
        },
        {
          "output_type": "stream",
          "text": [
            "Loss=8.27835464477539 Batch_id=221 Accuracy=37.39:  57%|█████▋    | 222/391 [00:36<00:27,  6.05it/s]"
          ],
          "name": "stderr"
        },
        {
          "output_type": "stream",
          "text": [
            "f1\n",
            "f2\n",
            "f3\n",
            "f1\n",
            "f2\n",
            "f3\n"
          ],
          "name": "stdout"
        },
        {
          "output_type": "stream",
          "text": [
            "Loss=8.441903114318848 Batch_id=223 Accuracy=37.43:  57%|█████▋    | 224/391 [00:36<00:27,  6.11it/s]"
          ],
          "name": "stderr"
        },
        {
          "output_type": "stream",
          "text": [
            "f1\n",
            "f2\n",
            "f3\n",
            "f1\n",
            "f2\n",
            "f3\n"
          ],
          "name": "stdout"
        },
        {
          "output_type": "stream",
          "text": [
            "Loss=8.407504081726074 Batch_id=225 Accuracy=37.48:  58%|█████▊    | 226/391 [00:37<00:27,  6.10it/s]"
          ],
          "name": "stderr"
        },
        {
          "output_type": "stream",
          "text": [
            "f1\n",
            "f2\n",
            "f3\n",
            "f1\n",
            "f2\n",
            "f3\n"
          ],
          "name": "stdout"
        },
        {
          "output_type": "stream",
          "text": [
            "Loss=8.449212074279785 Batch_id=227 Accuracy=37.55:  58%|█████▊    | 228/391 [00:37<00:26,  6.05it/s]"
          ],
          "name": "stderr"
        },
        {
          "output_type": "stream",
          "text": [
            "f1\n",
            "f2\n",
            "f3\n",
            "f1\n",
            "f2\n",
            "f3\n"
          ],
          "name": "stdout"
        },
        {
          "output_type": "stream",
          "text": [
            "Loss=8.27614688873291 Batch_id=229 Accuracy=37.57:  59%|█████▉    | 230/391 [00:37<00:26,  5.99it/s]"
          ],
          "name": "stderr"
        },
        {
          "output_type": "stream",
          "text": [
            "f1\n",
            "f2\n",
            "f3\n",
            "f1\n",
            "f2\n",
            "f3\n"
          ],
          "name": "stdout"
        },
        {
          "output_type": "stream",
          "text": [
            "Loss=8.26022720336914 Batch_id=231 Accuracy=37.67:  59%|█████▉    | 232/391 [00:38<00:26,  6.05it/s]"
          ],
          "name": "stderr"
        },
        {
          "output_type": "stream",
          "text": [
            "f1\n",
            "f2\n",
            "f3\n",
            "f1\n",
            "f2\n",
            "f3\n"
          ],
          "name": "stdout"
        },
        {
          "output_type": "stream",
          "text": [
            "Loss=8.224224090576172 Batch_id=233 Accuracy=37.74:  60%|█████▉    | 234/391 [00:38<00:26,  6.01it/s]"
          ],
          "name": "stderr"
        },
        {
          "output_type": "stream",
          "text": [
            "f1\n",
            "f2\n",
            "f3\n",
            "f1\n",
            "f2\n",
            "f3\n"
          ],
          "name": "stdout"
        },
        {
          "output_type": "stream",
          "text": [
            "Loss=8.140434265136719 Batch_id=235 Accuracy=37.83:  60%|██████    | 236/391 [00:38<00:25,  5.98it/s]"
          ],
          "name": "stderr"
        },
        {
          "output_type": "stream",
          "text": [
            "f1\n",
            "f2\n",
            "f3\n",
            "f1\n",
            "f2\n",
            "f3\n"
          ],
          "name": "stdout"
        },
        {
          "output_type": "stream",
          "text": [
            "Loss=8.188278198242188 Batch_id=237 Accuracy=37.91:  61%|██████    | 238/391 [00:39<00:25,  6.02it/s]"
          ],
          "name": "stderr"
        },
        {
          "output_type": "stream",
          "text": [
            "f1\n",
            "f2\n",
            "f3\n",
            "f1\n",
            "f2\n",
            "f3\n"
          ],
          "name": "stdout"
        },
        {
          "output_type": "stream",
          "text": [
            "Loss=8.247502326965332 Batch_id=239 Accuracy=37.97:  61%|██████▏   | 240/391 [00:39<00:25,  6.02it/s]"
          ],
          "name": "stderr"
        },
        {
          "output_type": "stream",
          "text": [
            "f1\n",
            "f2\n",
            "f3\n",
            "f1\n",
            "f2\n",
            "f3\n"
          ],
          "name": "stdout"
        },
        {
          "output_type": "stream",
          "text": [
            "Loss=7.812934875488281 Batch_id=241 Accuracy=38.04:  62%|██████▏   | 242/391 [00:39<00:24,  5.99it/s]"
          ],
          "name": "stderr"
        },
        {
          "output_type": "stream",
          "text": [
            "f1\n",
            "f2\n",
            "f3\n",
            "f1\n",
            "f2\n",
            "f3\n"
          ],
          "name": "stdout"
        },
        {
          "output_type": "stream",
          "text": [
            "Loss=8.13894271850586 Batch_id=243 Accuracy=38.10:  62%|██████▏   | 244/391 [00:40<00:24,  5.98it/s]"
          ],
          "name": "stderr"
        },
        {
          "output_type": "stream",
          "text": [
            "f1\n",
            "f2\n",
            "f3\n",
            "f1\n",
            "f2\n",
            "f3\n"
          ],
          "name": "stdout"
        },
        {
          "output_type": "stream",
          "text": [
            "Loss=7.925405502319336 Batch_id=245 Accuracy=38.16:  63%|██████▎   | 246/391 [00:40<00:24,  6.00it/s]"
          ],
          "name": "stderr"
        },
        {
          "output_type": "stream",
          "text": [
            "f1\n",
            "f2\n",
            "f3\n",
            "f1\n",
            "f2\n",
            "f3\n"
          ],
          "name": "stdout"
        },
        {
          "output_type": "stream",
          "text": [
            "Loss=7.8839898109436035 Batch_id=247 Accuracy=38.26:  63%|██████▎   | 248/391 [00:40<00:24,  5.95it/s]"
          ],
          "name": "stderr"
        },
        {
          "output_type": "stream",
          "text": [
            "f1\n",
            "f2\n",
            "f3\n",
            "f1\n",
            "f2\n",
            "f3\n"
          ],
          "name": "stdout"
        },
        {
          "output_type": "stream",
          "text": [
            "Loss=7.949826240539551 Batch_id=249 Accuracy=38.31:  64%|██████▍   | 250/391 [00:41<00:23,  5.95it/s]"
          ],
          "name": "stderr"
        },
        {
          "output_type": "stream",
          "text": [
            "f1\n",
            "f2\n",
            "f3\n",
            "f1\n",
            "f2\n",
            "f3\n"
          ],
          "name": "stdout"
        },
        {
          "output_type": "stream",
          "text": [
            "Loss=7.848949909210205 Batch_id=251 Accuracy=38.38:  64%|██████▍   | 252/391 [00:41<00:23,  5.96it/s]"
          ],
          "name": "stderr"
        },
        {
          "output_type": "stream",
          "text": [
            "f1\n",
            "f2\n",
            "f3\n",
            "f1\n",
            "f2\n",
            "f3\n"
          ],
          "name": "stdout"
        },
        {
          "output_type": "stream",
          "text": [
            "Loss=7.591700553894043 Batch_id=253 Accuracy=38.50:  65%|██████▍   | 254/391 [00:41<00:22,  5.98it/s]"
          ],
          "name": "stderr"
        },
        {
          "output_type": "stream",
          "text": [
            "f1\n",
            "f2\n",
            "f3\n",
            "f1\n",
            "f2\n",
            "f3\n"
          ],
          "name": "stdout"
        },
        {
          "output_type": "stream",
          "text": [
            "Loss=7.706998825073242 Batch_id=255 Accuracy=38.58:  65%|██████▌   | 256/391 [00:42<00:22,  5.92it/s]"
          ],
          "name": "stderr"
        },
        {
          "output_type": "stream",
          "text": [
            "f1\n",
            "f2\n",
            "f3\n",
            "f1\n",
            "f2\n",
            "f3\n"
          ],
          "name": "stdout"
        },
        {
          "output_type": "stream",
          "text": [
            "Loss=7.564382076263428 Batch_id=257 Accuracy=38.69:  66%|██████▌   | 258/391 [00:42<00:22,  5.93it/s]"
          ],
          "name": "stderr"
        },
        {
          "output_type": "stream",
          "text": [
            "f1\n",
            "f2\n",
            "f3\n",
            "f1\n",
            "f2\n",
            "f3\n"
          ],
          "name": "stdout"
        },
        {
          "output_type": "stream",
          "text": [
            "Loss=7.836270809173584 Batch_id=259 Accuracy=38.81:  66%|██████▋   | 260/391 [00:42<00:21,  5.96it/s]"
          ],
          "name": "stderr"
        },
        {
          "output_type": "stream",
          "text": [
            "f1\n",
            "f2\n",
            "f3\n",
            "f1\n",
            "f2\n",
            "f3\n"
          ],
          "name": "stdout"
        },
        {
          "output_type": "stream",
          "text": [
            "Loss=7.662188529968262 Batch_id=261 Accuracy=38.90:  67%|██████▋   | 262/391 [00:43<00:21,  5.93it/s]"
          ],
          "name": "stderr"
        },
        {
          "output_type": "stream",
          "text": [
            "f1\n",
            "f2\n",
            "f3\n",
            "f1\n",
            "f2\n",
            "f3\n"
          ],
          "name": "stdout"
        },
        {
          "output_type": "stream",
          "text": [
            "Loss=7.747287750244141 Batch_id=263 Accuracy=38.99:  68%|██████▊   | 264/391 [00:43<00:21,  5.99it/s]"
          ],
          "name": "stderr"
        },
        {
          "output_type": "stream",
          "text": [
            "f1\n",
            "f2\n",
            "f3\n",
            "f1\n",
            "f2\n",
            "f3\n"
          ],
          "name": "stdout"
        },
        {
          "output_type": "stream",
          "text": [
            "Loss=7.699573516845703 Batch_id=265 Accuracy=39.06:  68%|██████▊   | 266/391 [00:43<00:20,  5.95it/s]"
          ],
          "name": "stderr"
        },
        {
          "output_type": "stream",
          "text": [
            "f1\n",
            "f2\n",
            "f3\n",
            "f1\n",
            "f2\n",
            "f3\n"
          ],
          "name": "stdout"
        },
        {
          "output_type": "stream",
          "text": [
            "Loss=7.543532371520996 Batch_id=267 Accuracy=39.10:  69%|██████▊   | 268/391 [00:44<00:20,  5.94it/s]"
          ],
          "name": "stderr"
        },
        {
          "output_type": "stream",
          "text": [
            "f1\n",
            "f2\n",
            "f3\n",
            "f1\n",
            "f2\n",
            "f3\n"
          ],
          "name": "stdout"
        },
        {
          "output_type": "stream",
          "text": [
            "Loss=7.538145065307617 Batch_id=269 Accuracy=39.18:  69%|██████▉   | 270/391 [00:44<00:20,  5.94it/s]"
          ],
          "name": "stderr"
        },
        {
          "output_type": "stream",
          "text": [
            "f1\n",
            "f2\n",
            "f3\n",
            "f1\n",
            "f2\n",
            "f3\n"
          ],
          "name": "stdout"
        },
        {
          "output_type": "stream",
          "text": [
            "Loss=7.730693817138672 Batch_id=271 Accuracy=39.25:  70%|██████▉   | 272/391 [00:44<00:19,  5.96it/s]"
          ],
          "name": "stderr"
        },
        {
          "output_type": "stream",
          "text": [
            "f1\n",
            "f2\n",
            "f3\n",
            "f1\n",
            "f2\n",
            "f3\n"
          ],
          "name": "stdout"
        },
        {
          "output_type": "stream",
          "text": [
            "Loss=7.481047630310059 Batch_id=273 Accuracy=39.29:  70%|███████   | 274/391 [00:45<00:19,  5.95it/s]"
          ],
          "name": "stderr"
        },
        {
          "output_type": "stream",
          "text": [
            "f1\n",
            "f2\n",
            "f3\n",
            "f1\n",
            "f2\n",
            "f3\n"
          ],
          "name": "stdout"
        },
        {
          "output_type": "stream",
          "text": [
            "Loss=7.619880676269531 Batch_id=275 Accuracy=39.37:  71%|███████   | 276/391 [00:45<00:19,  5.99it/s]"
          ],
          "name": "stderr"
        },
        {
          "output_type": "stream",
          "text": [
            "f1\n",
            "f2\n",
            "f3\n",
            "f1\n",
            "f2\n",
            "f3\n"
          ],
          "name": "stdout"
        },
        {
          "output_type": "stream",
          "text": [
            "Loss=7.621912956237793 Batch_id=277 Accuracy=39.39:  71%|███████   | 278/391 [00:45<00:19,  5.94it/s]"
          ],
          "name": "stderr"
        },
        {
          "output_type": "stream",
          "text": [
            "f1\n",
            "f2\n",
            "f3\n",
            "f1\n",
            "f2\n",
            "f3\n"
          ],
          "name": "stdout"
        },
        {
          "output_type": "stream",
          "text": [
            "Loss=7.551105976104736 Batch_id=279 Accuracy=39.42:  72%|███████▏  | 280/391 [00:46<00:18,  5.94it/s]"
          ],
          "name": "stderr"
        },
        {
          "output_type": "stream",
          "text": [
            "f1\n",
            "f2\n",
            "f3\n",
            "f1\n",
            "f2\n",
            "f3\n"
          ],
          "name": "stdout"
        },
        {
          "output_type": "stream",
          "text": [
            "Loss=7.383852005004883 Batch_id=281 Accuracy=39.47:  72%|███████▏  | 282/391 [00:46<00:18,  5.97it/s]"
          ],
          "name": "stderr"
        },
        {
          "output_type": "stream",
          "text": [
            "f1\n",
            "f2\n",
            "f3\n",
            "f1\n",
            "f2\n",
            "f3\n"
          ],
          "name": "stdout"
        },
        {
          "output_type": "stream",
          "text": [
            "Loss=7.530361652374268 Batch_id=283 Accuracy=39.53:  73%|███████▎  | 284/391 [00:46<00:17,  6.02it/s]"
          ],
          "name": "stderr"
        },
        {
          "output_type": "stream",
          "text": [
            "f1\n",
            "f2\n",
            "f3\n",
            "f1\n",
            "f2\n",
            "f3\n"
          ],
          "name": "stdout"
        },
        {
          "output_type": "stream",
          "text": [
            "Loss=7.368502616882324 Batch_id=285 Accuracy=39.54:  73%|███████▎  | 286/391 [00:47<00:17,  5.93it/s]"
          ],
          "name": "stderr"
        },
        {
          "output_type": "stream",
          "text": [
            "f1\n",
            "f2\n",
            "f3\n",
            "f1\n",
            "f2\n",
            "f3\n"
          ],
          "name": "stdout"
        },
        {
          "output_type": "stream",
          "text": [
            "Loss=7.416285514831543 Batch_id=287 Accuracy=39.60:  74%|███████▎  | 288/391 [00:47<00:17,  5.98it/s]"
          ],
          "name": "stderr"
        },
        {
          "output_type": "stream",
          "text": [
            "f1\n",
            "f2\n",
            "f3\n",
            "f1\n",
            "f2\n",
            "f3\n"
          ],
          "name": "stdout"
        },
        {
          "output_type": "stream",
          "text": [
            "Loss=7.279070854187012 Batch_id=289 Accuracy=39.67:  74%|███████▍  | 290/391 [00:47<00:17,  5.91it/s]"
          ],
          "name": "stderr"
        },
        {
          "output_type": "stream",
          "text": [
            "f1\n",
            "f2\n",
            "f3\n",
            "f1\n",
            "f2\n",
            "f3\n"
          ],
          "name": "stdout"
        },
        {
          "output_type": "stream",
          "text": [
            "Loss=7.183462619781494 Batch_id=291 Accuracy=39.77:  75%|███████▍  | 292/391 [00:48<00:16,  5.93it/s]"
          ],
          "name": "stderr"
        },
        {
          "output_type": "stream",
          "text": [
            "f1\n",
            "f2\n",
            "f3\n",
            "f1\n",
            "f2\n",
            "f3\n"
          ],
          "name": "stdout"
        },
        {
          "output_type": "stream",
          "text": [
            "Loss=7.4247918128967285 Batch_id=293 Accuracy=39.85:  75%|███████▌  | 294/391 [00:48<00:16,  5.95it/s]"
          ],
          "name": "stderr"
        },
        {
          "output_type": "stream",
          "text": [
            "f1\n",
            "f2\n",
            "f3\n",
            "f1\n",
            "f2\n",
            "f3\n"
          ],
          "name": "stdout"
        },
        {
          "output_type": "stream",
          "text": [
            "Loss=7.147864818572998 Batch_id=295 Accuracy=39.93:  76%|███████▌  | 296/391 [00:48<00:16,  5.91it/s]"
          ],
          "name": "stderr"
        },
        {
          "output_type": "stream",
          "text": [
            "f1\n",
            "f2\n",
            "f3\n",
            "f1\n",
            "f2\n",
            "f3\n"
          ],
          "name": "stdout"
        },
        {
          "output_type": "stream",
          "text": [
            "Loss=7.216489791870117 Batch_id=297 Accuracy=40.00:  76%|███████▌  | 298/391 [00:49<00:15,  5.83it/s]"
          ],
          "name": "stderr"
        },
        {
          "output_type": "stream",
          "text": [
            "f1\n",
            "f2\n",
            "f3\n",
            "f1\n",
            "f2\n",
            "f3\n"
          ],
          "name": "stdout"
        },
        {
          "output_type": "stream",
          "text": [
            "Loss=6.961744785308838 Batch_id=299 Accuracy=40.06:  77%|███████▋  | 300/391 [00:49<00:15,  5.86it/s]"
          ],
          "name": "stderr"
        },
        {
          "output_type": "stream",
          "text": [
            "f1\n",
            "f2\n",
            "f3\n",
            "f1\n",
            "f2\n",
            "f3\n"
          ],
          "name": "stdout"
        },
        {
          "output_type": "stream",
          "text": [
            "Loss=7.064072608947754 Batch_id=301 Accuracy=40.11:  77%|███████▋  | 302/391 [00:49<00:15,  5.89it/s]"
          ],
          "name": "stderr"
        },
        {
          "output_type": "stream",
          "text": [
            "f1\n",
            "f2\n",
            "f3\n",
            "f1\n",
            "f2\n",
            "f3\n"
          ],
          "name": "stdout"
        },
        {
          "output_type": "stream",
          "text": [
            "Loss=7.127863883972168 Batch_id=303 Accuracy=40.18:  78%|███████▊  | 304/391 [00:50<00:14,  5.87it/s]"
          ],
          "name": "stderr"
        },
        {
          "output_type": "stream",
          "text": [
            "f1\n",
            "f2\n",
            "f3\n",
            "f1\n",
            "f2\n",
            "f3\n"
          ],
          "name": "stdout"
        },
        {
          "output_type": "stream",
          "text": [
            "Loss=7.177067756652832 Batch_id=305 Accuracy=40.23:  78%|███████▊  | 306/391 [00:50<00:14,  5.97it/s]"
          ],
          "name": "stderr"
        },
        {
          "output_type": "stream",
          "text": [
            "f1\n",
            "f2\n",
            "f3\n",
            "f1\n",
            "f2\n",
            "f3\n"
          ],
          "name": "stdout"
        },
        {
          "output_type": "stream",
          "text": [
            "Loss=6.923351287841797 Batch_id=307 Accuracy=40.28:  79%|███████▉  | 308/391 [00:50<00:13,  5.97it/s]"
          ],
          "name": "stderr"
        },
        {
          "output_type": "stream",
          "text": [
            "f1\n",
            "f2\n",
            "f3\n",
            "f1\n",
            "f2\n",
            "f3\n"
          ],
          "name": "stdout"
        },
        {
          "output_type": "stream",
          "text": [
            "Loss=7.063670635223389 Batch_id=309 Accuracy=40.34:  79%|███████▉  | 310/391 [00:51<00:13,  5.97it/s]"
          ],
          "name": "stderr"
        },
        {
          "output_type": "stream",
          "text": [
            "f1\n",
            "f2\n",
            "f3\n",
            "f1\n",
            "f2\n",
            "f3\n"
          ],
          "name": "stdout"
        },
        {
          "output_type": "stream",
          "text": [
            "Loss=6.883829116821289 Batch_id=311 Accuracy=40.42:  80%|███████▉  | 312/391 [00:51<00:13,  5.95it/s]"
          ],
          "name": "stderr"
        },
        {
          "output_type": "stream",
          "text": [
            "f1\n",
            "f2\n",
            "f3\n",
            "f1\n",
            "f2\n",
            "f3\n"
          ],
          "name": "stdout"
        },
        {
          "output_type": "stream",
          "text": [
            "Loss=6.912437438964844 Batch_id=313 Accuracy=40.52:  80%|████████  | 314/391 [00:51<00:12,  5.93it/s]"
          ],
          "name": "stderr"
        },
        {
          "output_type": "stream",
          "text": [
            "f1\n",
            "f2\n",
            "f3\n",
            "f1\n",
            "f2\n",
            "f3\n"
          ],
          "name": "stdout"
        },
        {
          "output_type": "stream",
          "text": [
            "Loss=7.1687822341918945 Batch_id=315 Accuracy=40.57:  81%|████████  | 316/391 [00:52<00:12,  5.88it/s]"
          ],
          "name": "stderr"
        },
        {
          "output_type": "stream",
          "text": [
            "f1\n",
            "f2\n",
            "f3\n",
            "f1\n",
            "f2\n",
            "f3\n"
          ],
          "name": "stdout"
        },
        {
          "output_type": "stream",
          "text": [
            "Loss=6.80823278427124 Batch_id=317 Accuracy=40.61:  81%|████████▏ | 318/391 [00:52<00:12,  5.85it/s]"
          ],
          "name": "stderr"
        },
        {
          "output_type": "stream",
          "text": [
            "f1\n",
            "f2\n",
            "f3\n",
            "f1\n",
            "f2\n",
            "f3\n"
          ],
          "name": "stdout"
        },
        {
          "output_type": "stream",
          "text": [
            "Loss=6.976654052734375 Batch_id=319 Accuracy=40.68:  82%|████████▏ | 320/391 [00:52<00:12,  5.90it/s]"
          ],
          "name": "stderr"
        },
        {
          "output_type": "stream",
          "text": [
            "f1\n",
            "f2\n",
            "f3\n",
            "f1\n",
            "f2\n",
            "f3\n"
          ],
          "name": "stdout"
        },
        {
          "output_type": "stream",
          "text": [
            "Loss=6.738458633422852 Batch_id=321 Accuracy=40.74:  82%|████████▏ | 322/391 [00:53<00:11,  5.92it/s]"
          ],
          "name": "stderr"
        },
        {
          "output_type": "stream",
          "text": [
            "f1\n",
            "f2\n",
            "f3\n",
            "f1\n",
            "f2\n",
            "f3\n"
          ],
          "name": "stdout"
        },
        {
          "output_type": "stream",
          "text": [
            "Loss=6.5873212814331055 Batch_id=323 Accuracy=40.81:  83%|████████▎ | 324/391 [00:53<00:11,  5.95it/s]"
          ],
          "name": "stderr"
        },
        {
          "output_type": "stream",
          "text": [
            "f1\n",
            "f2\n",
            "f3\n",
            "f1\n",
            "f2\n",
            "f3\n"
          ],
          "name": "stdout"
        },
        {
          "output_type": "stream",
          "text": [
            "Loss=6.7442498207092285 Batch_id=325 Accuracy=40.89:  83%|████████▎ | 326/391 [00:53<00:10,  5.97it/s]"
          ],
          "name": "stderr"
        },
        {
          "output_type": "stream",
          "text": [
            "f1\n",
            "f2\n",
            "f3\n",
            "f1\n",
            "f2\n",
            "f3\n"
          ],
          "name": "stdout"
        },
        {
          "output_type": "stream",
          "text": [
            "Loss=6.632286071777344 Batch_id=327 Accuracy=40.95:  84%|████████▍ | 328/391 [00:54<00:10,  5.95it/s]"
          ],
          "name": "stderr"
        },
        {
          "output_type": "stream",
          "text": [
            "f1\n",
            "f2\n",
            "f3\n",
            "f1\n",
            "f2\n",
            "f3\n"
          ],
          "name": "stdout"
        },
        {
          "output_type": "stream",
          "text": [
            "Loss=6.798956394195557 Batch_id=329 Accuracy=40.99:  84%|████████▍ | 330/391 [00:54<00:10,  5.97it/s]"
          ],
          "name": "stderr"
        },
        {
          "output_type": "stream",
          "text": [
            "f1\n",
            "f2\n",
            "f3\n",
            "f1\n",
            "f2\n",
            "f3\n"
          ],
          "name": "stdout"
        },
        {
          "output_type": "stream",
          "text": [
            "Loss=6.911831378936768 Batch_id=331 Accuracy=41.03:  85%|████████▍ | 332/391 [00:54<00:09,  5.98it/s]"
          ],
          "name": "stderr"
        },
        {
          "output_type": "stream",
          "text": [
            "f1\n",
            "f2\n",
            "f3\n",
            "f1\n",
            "f2\n",
            "f3\n"
          ],
          "name": "stdout"
        },
        {
          "output_type": "stream",
          "text": [
            "Loss=6.654114246368408 Batch_id=333 Accuracy=41.10:  85%|████████▌ | 334/391 [00:55<00:09,  5.86it/s]"
          ],
          "name": "stderr"
        },
        {
          "output_type": "stream",
          "text": [
            "f1\n",
            "f2\n",
            "f3\n",
            "f1\n",
            "f2\n",
            "f3\n"
          ],
          "name": "stdout"
        },
        {
          "output_type": "stream",
          "text": [
            "Loss=6.783288955688477 Batch_id=335 Accuracy=41.13:  86%|████████▌ | 336/391 [00:55<00:09,  5.87it/s]"
          ],
          "name": "stderr"
        },
        {
          "output_type": "stream",
          "text": [
            "f1\n",
            "f2\n",
            "f3\n",
            "f1\n",
            "f2\n",
            "f3\n"
          ],
          "name": "stdout"
        },
        {
          "output_type": "stream",
          "text": [
            "Loss=6.578296184539795 Batch_id=337 Accuracy=41.21:  86%|████████▋ | 338/391 [00:55<00:09,  5.80it/s]"
          ],
          "name": "stderr"
        },
        {
          "output_type": "stream",
          "text": [
            "f1\n",
            "f2\n",
            "f3\n",
            "f1\n",
            "f2\n",
            "f3\n"
          ],
          "name": "stdout"
        },
        {
          "output_type": "stream",
          "text": [
            "Loss=6.57295560836792 Batch_id=339 Accuracy=41.26:  87%|████████▋ | 340/391 [00:56<00:08,  5.78it/s]"
          ],
          "name": "stderr"
        },
        {
          "output_type": "stream",
          "text": [
            "f1\n",
            "f2\n",
            "f3\n",
            "f1\n",
            "f2\n",
            "f3\n"
          ],
          "name": "stdout"
        },
        {
          "output_type": "stream",
          "text": [
            "Loss=6.409707069396973 Batch_id=341 Accuracy=41.36:  87%|████████▋ | 342/391 [00:56<00:08,  5.88it/s]"
          ],
          "name": "stderr"
        },
        {
          "output_type": "stream",
          "text": [
            "f1\n",
            "f2\n",
            "f3\n",
            "f1\n",
            "f2\n",
            "f3\n"
          ],
          "name": "stdout"
        },
        {
          "output_type": "stream",
          "text": [
            "Loss=6.377679824829102 Batch_id=343 Accuracy=41.42:  88%|████████▊ | 344/391 [00:56<00:08,  5.85it/s]"
          ],
          "name": "stderr"
        },
        {
          "output_type": "stream",
          "text": [
            "f1\n",
            "f2\n",
            "f3\n",
            "f1\n",
            "f2\n",
            "f3\n"
          ],
          "name": "stdout"
        },
        {
          "output_type": "stream",
          "text": [
            "Loss=6.467242240905762 Batch_id=345 Accuracy=41.49:  88%|████████▊ | 346/391 [00:57<00:07,  5.85it/s]"
          ],
          "name": "stderr"
        },
        {
          "output_type": "stream",
          "text": [
            "f1\n",
            "f2\n",
            "f3\n",
            "f1\n",
            "f2\n",
            "f3\n"
          ],
          "name": "stdout"
        },
        {
          "output_type": "stream",
          "text": [
            "Loss=6.539575576782227 Batch_id=347 Accuracy=41.55:  89%|████████▉ | 348/391 [00:57<00:07,  5.86it/s]"
          ],
          "name": "stderr"
        },
        {
          "output_type": "stream",
          "text": [
            "f1\n",
            "f2\n",
            "f3\n",
            "f1\n",
            "f2\n",
            "f3\n"
          ],
          "name": "stdout"
        },
        {
          "output_type": "stream",
          "text": [
            "Loss=6.666207313537598 Batch_id=349 Accuracy=41.63:  90%|████████▉ | 350/391 [00:57<00:07,  5.82it/s]"
          ],
          "name": "stderr"
        },
        {
          "output_type": "stream",
          "text": [
            "f1\n",
            "f2\n",
            "f3\n",
            "f1\n",
            "f2\n",
            "f3\n"
          ],
          "name": "stdout"
        },
        {
          "output_type": "stream",
          "text": [
            "Loss=6.376630783081055 Batch_id=351 Accuracy=41.66:  90%|█████████ | 352/391 [00:58<00:06,  5.91it/s]"
          ],
          "name": "stderr"
        },
        {
          "output_type": "stream",
          "text": [
            "f1\n",
            "f2\n",
            "f3\n",
            "f1\n",
            "f2\n",
            "f3\n"
          ],
          "name": "stdout"
        },
        {
          "output_type": "stream",
          "text": [
            "Loss=6.274980545043945 Batch_id=353 Accuracy=41.73:  91%|█████████ | 354/391 [00:58<00:06,  5.87it/s]"
          ],
          "name": "stderr"
        },
        {
          "output_type": "stream",
          "text": [
            "f1\n",
            "f2\n",
            "f3\n",
            "f1\n",
            "f2\n",
            "f3\n"
          ],
          "name": "stdout"
        },
        {
          "output_type": "stream",
          "text": [
            "Loss=6.240993499755859 Batch_id=355 Accuracy=41.79:  91%|█████████ | 356/391 [00:58<00:06,  5.82it/s]"
          ],
          "name": "stderr"
        },
        {
          "output_type": "stream",
          "text": [
            "f1\n",
            "f2\n",
            "f3\n",
            "f1\n",
            "f2\n",
            "f3\n"
          ],
          "name": "stdout"
        },
        {
          "output_type": "stream",
          "text": [
            "Loss=6.202432632446289 Batch_id=357 Accuracy=41.84:  92%|█████████▏| 358/391 [00:59<00:05,  5.83it/s]"
          ],
          "name": "stderr"
        },
        {
          "output_type": "stream",
          "text": [
            "f1\n",
            "f2\n",
            "f3\n",
            "f1\n",
            "f2\n",
            "f3\n"
          ],
          "name": "stdout"
        },
        {
          "output_type": "stream",
          "text": [
            "Loss=6.281286239624023 Batch_id=359 Accuracy=41.92:  92%|█████████▏| 360/391 [00:59<00:05,  5.83it/s]"
          ],
          "name": "stderr"
        },
        {
          "output_type": "stream",
          "text": [
            "f1\n",
            "f2\n",
            "f3\n",
            "f1\n",
            "f2\n",
            "f3\n"
          ],
          "name": "stdout"
        },
        {
          "output_type": "stream",
          "text": [
            "Loss=6.381915092468262 Batch_id=361 Accuracy=41.98:  93%|█████████▎| 362/391 [01:00<00:04,  5.86it/s]"
          ],
          "name": "stderr"
        },
        {
          "output_type": "stream",
          "text": [
            "f1\n",
            "f2\n",
            "f3\n",
            "f1\n",
            "f2\n",
            "f3\n"
          ],
          "name": "stdout"
        },
        {
          "output_type": "stream",
          "text": [
            "Loss=6.234130859375 Batch_id=363 Accuracy=42.03:  93%|█████████▎| 364/391 [01:00<00:04,  5.83it/s]"
          ],
          "name": "stderr"
        },
        {
          "output_type": "stream",
          "text": [
            "f1\n",
            "f2\n",
            "f3\n",
            "f1\n",
            "f2\n",
            "f3\n"
          ],
          "name": "stdout"
        },
        {
          "output_type": "stream",
          "text": [
            "Loss=5.954331874847412 Batch_id=365 Accuracy=42.11:  94%|█████████▎| 366/391 [01:00<00:04,  5.87it/s]"
          ],
          "name": "stderr"
        },
        {
          "output_type": "stream",
          "text": [
            "f1\n",
            "f2\n",
            "f3\n",
            "f1\n",
            "f2\n",
            "f3\n"
          ],
          "name": "stdout"
        },
        {
          "output_type": "stream",
          "text": [
            "Loss=6.16835880279541 Batch_id=367 Accuracy=42.12:  94%|█████████▍| 368/391 [01:01<00:03,  5.87it/s]"
          ],
          "name": "stderr"
        },
        {
          "output_type": "stream",
          "text": [
            "f1\n",
            "f2\n",
            "f3\n",
            "f1\n",
            "f2\n",
            "f3\n"
          ],
          "name": "stdout"
        },
        {
          "output_type": "stream",
          "text": [
            "Loss=5.989190101623535 Batch_id=369 Accuracy=42.21:  95%|█████████▍| 370/391 [01:01<00:03,  5.89it/s]"
          ],
          "name": "stderr"
        },
        {
          "output_type": "stream",
          "text": [
            "f1\n",
            "f2\n",
            "f3\n",
            "f1\n",
            "f2\n",
            "f3\n"
          ],
          "name": "stdout"
        },
        {
          "output_type": "stream",
          "text": [
            "Loss=6.0604753494262695 Batch_id=371 Accuracy=42.28:  95%|█████████▌| 372/391 [01:01<00:03,  5.84it/s]"
          ],
          "name": "stderr"
        },
        {
          "output_type": "stream",
          "text": [
            "f1\n",
            "f2\n",
            "f3\n",
            "f1\n",
            "f2\n",
            "f3\n"
          ],
          "name": "stdout"
        },
        {
          "output_type": "stream",
          "text": [
            "Loss=5.979986667633057 Batch_id=373 Accuracy=42.35:  96%|█████████▌| 374/391 [01:02<00:02,  5.81it/s]"
          ],
          "name": "stderr"
        },
        {
          "output_type": "stream",
          "text": [
            "f1\n",
            "f2\n",
            "f3\n",
            "f1\n",
            "f2\n",
            "f3\n"
          ],
          "name": "stdout"
        },
        {
          "output_type": "stream",
          "text": [
            "Loss=6.166593551635742 Batch_id=375 Accuracy=42.40:  96%|█████████▌| 376/391 [01:02<00:02,  5.83it/s]"
          ],
          "name": "stderr"
        },
        {
          "output_type": "stream",
          "text": [
            "f1\n",
            "f2\n",
            "f3\n",
            "f1\n",
            "f2\n",
            "f3\n"
          ],
          "name": "stdout"
        },
        {
          "output_type": "stream",
          "text": [
            "Loss=6.104691505432129 Batch_id=377 Accuracy=42.45:  97%|█████████▋| 378/391 [01:02<00:02,  5.88it/s]"
          ],
          "name": "stderr"
        },
        {
          "output_type": "stream",
          "text": [
            "f1\n",
            "f2\n",
            "f3\n",
            "f1\n",
            "f2\n",
            "f3\n"
          ],
          "name": "stdout"
        },
        {
          "output_type": "stream",
          "text": [
            "Loss=5.994327545166016 Batch_id=379 Accuracy=42.51:  97%|█████████▋| 380/391 [01:03<00:01,  5.87it/s]"
          ],
          "name": "stderr"
        },
        {
          "output_type": "stream",
          "text": [
            "f1\n",
            "f2\n",
            "f3\n",
            "f1\n",
            "f2\n",
            "f3\n"
          ],
          "name": "stdout"
        },
        {
          "output_type": "stream",
          "text": [
            "Loss=6.092439651489258 Batch_id=381 Accuracy=42.57:  98%|█████████▊| 382/391 [01:03<00:01,  5.87it/s]"
          ],
          "name": "stderr"
        },
        {
          "output_type": "stream",
          "text": [
            "f1\n",
            "f2\n",
            "f3\n",
            "f1\n",
            "f2\n",
            "f3\n"
          ],
          "name": "stdout"
        },
        {
          "output_type": "stream",
          "text": [
            "Loss=6.108669281005859 Batch_id=383 Accuracy=42.60:  98%|█████████▊| 384/391 [01:03<00:01,  5.88it/s]"
          ],
          "name": "stderr"
        },
        {
          "output_type": "stream",
          "text": [
            "f1\n",
            "f2\n",
            "f3\n",
            "f1\n",
            "f2\n",
            "f3\n"
          ],
          "name": "stdout"
        },
        {
          "output_type": "stream",
          "text": [
            "Loss=5.97414493560791 Batch_id=385 Accuracy=42.64:  99%|█████████▊| 386/391 [01:04<00:00,  5.86it/s]"
          ],
          "name": "stderr"
        },
        {
          "output_type": "stream",
          "text": [
            "f1\n",
            "f2\n",
            "f3\n",
            "f1\n",
            "f2\n",
            "f3\n"
          ],
          "name": "stdout"
        },
        {
          "output_type": "stream",
          "text": [
            "Loss=6.011746406555176 Batch_id=387 Accuracy=42.70:  99%|█████████▉| 388/391 [01:04<00:00,  5.87it/s]"
          ],
          "name": "stderr"
        },
        {
          "output_type": "stream",
          "text": [
            "f1\n",
            "f2\n",
            "f3\n",
            "f1\n",
            "f2\n",
            "f3\n"
          ],
          "name": "stdout"
        },
        {
          "output_type": "stream",
          "text": [
            "Loss=5.972417831420898 Batch_id=389 Accuracy=42.75: 100%|█████████▉| 390/391 [01:04<00:00,  5.86it/s]"
          ],
          "name": "stderr"
        },
        {
          "output_type": "stream",
          "text": [
            "f1\n",
            "f2\n",
            "f3\n",
            "f1\n",
            "f2\n",
            "f3\n"
          ],
          "name": "stdout"
        },
        {
          "output_type": "stream",
          "text": [
            "Loss=5.8413543701171875 Batch_id=390 Accuracy=42.77: 100%|██████████| 391/391 [01:04<00:00,  6.02it/s]\n"
          ],
          "name": "stderr"
        }
      ]
    },
    {
      "cell_type": "code",
      "metadata": {
        "id": "MZdwnIvh9_UV",
        "outputId": "0e60a8ae-7da1-4732-d82d-52c5bed4b350",
        "colab": {
          "base_uri": "https://localhost:8080/",
          "height": 1000
        }
      },
      "source": [
        "#print(model.named_modules)\n",
        "def unnorm_img(img):\n",
        "  img = img.cpu()\n",
        "  img = img.numpy()\n",
        "  img[0] = img[0] * 0.247 + 0.4914\n",
        "  img[1] = img[1] * 0.2435 + 0.4822\n",
        "  img[2] = img[2] * 0.2616 + 0.4465\n",
        "\n",
        "  img = torch.from_numpy(img)\n",
        "  return img\n",
        "\n",
        "classes = ('plane', 'car', 'bird', 'cat','deer', 'dog', 'frog', 'horse', 'ship', 'truck')\n",
        "\n",
        "def gradCAM(model,device,test_loader,num_images):\n",
        "\n",
        "    model.eval()\n",
        "\n",
        "    test_failed_data = []\n",
        "    \n",
        "    counter = 0\n",
        "\n",
        "    for data, target in test_loader:\n",
        "      data, target = data.to(device), target.to(device)\n",
        "      output = model(data)\n",
        "      pred = output.argmax(dim=1, keepdim=True)\n",
        "\n",
        "        \n",
        "      for k,x in enumerate(pred.eq(target.view_as(pred))):\n",
        "        \n",
        "        if not x:\n",
        "          if num_images <= 0:\n",
        "            break\n",
        "          counter = counter+1\n",
        "          prediction = output[k][pred[k].unsqueeze(dim=1)]\n",
        "          prediction = prediction.backward(retain_graph=True)\n",
        "          gradients = model.get_gradient()\n",
        "          pooled_gradients = torch.mean(gradients, dim=[0, 2, 3])\n",
        "          activations = model.get_activations(data[k].unsqueeze(dim=0)).detach()\n",
        "          for i in range(512):\n",
        "            activations[:, i, :, :] *= pooled_gradients[i]\n",
        "          heatmap = torch.mean(activations.cpu(), dim=1).squeeze()\n",
        "          heatmap = np.maximum(heatmap, 0)\n",
        "          heatmap /= torch.max(heatmap)\n",
        "          heatmap = heatmap.numpy()\n",
        "\n",
        "          img = unnorm_img(data[k])\n",
        "\n",
        "          save_image(img,'img.jpg')\n",
        "          img = cv2.imread('./img.jpg')\n",
        "          heatmap = cv2.resize(heatmap,(img.shape[1],img.shape[0]))\n",
        "          heatmap = np.uint8(255 * heatmap)\n",
        "          heatmap = cv2.applyColorMap(heatmap, cv2.COLORMAP_JET)\n",
        "          superimposed_img = cv2.addWeighted(img, 0.6, heatmap, 0.4, 0)\n",
        "          gradcam = cv2.cvtColor(superimposed_img, cv2.COLOR_BGR2RGB)\n",
        "          tran = transforms.ToTensor()\n",
        "          plt.subplot(2, 5, counter)\n",
        "          plt.imshow(gradcam)\n",
        "          plt.axis('off')\n",
        "          plt.title(\"actual: %s\\npredicted: %s\" % (classes[target[k]], classes [pred[k]]), fontsize=8)\n",
        "          plt.subplots_adjust(top=3, bottom=2, left=3, right=5)\n",
        "          num_images = num_images - 1;\n",
        "      break\n",
        "\n",
        "gradCAM(model,device,test_loader,num_images)"
      ],
      "execution_count": 43,
      "outputs": [
        {
          "output_type": "stream",
          "text": [
            "f1\n",
            "f2\n",
            "f3\n",
            "a1\n",
            "a6\n",
            "1\n",
            "10\n",
            "1\n",
            "a1\n",
            "a6\n",
            "2\n",
            "9\n",
            "2\n",
            "a1\n",
            "a6\n",
            "3\n",
            "8\n",
            "3\n",
            "a1\n",
            "a6\n",
            "4\n",
            "7\n",
            "4\n",
            "a1\n",
            "a6\n",
            "5\n",
            "6\n",
            "5\n",
            "a1\n",
            "a6\n",
            "6\n",
            "5\n",
            "6\n",
            "a1\n",
            "a6\n",
            "7\n",
            "4\n",
            "7\n",
            "a1\n",
            "a6\n",
            "8\n",
            "3\n",
            "8\n",
            "a1\n",
            "a6\n",
            "9\n",
            "2\n",
            "9\n",
            "a1\n",
            "a6\n",
            "10\n",
            "1\n",
            "10\n"
          ],
          "name": "stdout"
        },
        {
          "output_type": "display_data",
          "data": {
            "image/png": "[encoded data removed]",
            "text/plain": [
              "<Figure size 432x288 with 10 Axes>"
            ]
          },
          "metadata": {
            "tags": [],
            "needs_background": "light"
          }
        }
      ]
    },
    {
      "cell_type": "code",
      "metadata": {
        "id": "RzoQppVMwV1b"
      },
      "source": [
        "im = Image.open('map.jpg')\n",
        "im.show() "
      ],
      "execution_count": null,
      "outputs": []
    },
    {
      "cell_type": "code",
      "metadata": {
        "id": "VrepRdx3fJHN"
      },
      "source": [
        "# set the evaluation mode\n",
        "model.eval()\n",
        "#len(test_10_images)\n",
        "\n",
        "test_10_images_unnorm = []\n",
        "for img in test_10_images:\n",
        "  img = img.cpu()\n",
        "  img = img.numpy()\n",
        "  img[0] = img[0] * 0.247 + 0.4914\n",
        "  img[1] = img[1] * 0.2435 + 0.4822\n",
        "  img[2] = img[2] * 0.2616 + 0.4465\n",
        "\n",
        "  img = torch.from_numpy(img)\n",
        "  test_10_images_unnorm.append(img)\n",
        "\n",
        "for i in range(1):\n",
        "  pred = model(test_10_images_unnorm[i].cpu())\n",
        "\n",
        "  pred.argmax(dim=1)\n",
        "\n",
        "  pred[:, 2].backward()\n",
        "\n",
        "  gradients = model.get_gradient()\n",
        "\n",
        "  pooled_gradients = torch.mean(gradients, dim=[0, 2, 3])\n",
        "\n",
        "  activations = model.get_activations(test_10_images_unnorm[i]).detach()\n",
        "\n",
        "  for y in range(512):\n",
        "    activations[:, i, :, :] *= pooled_gradients[i]\n",
        "\n",
        "  heatmap = torch.mean(activations, dim=1).squeeze()\n",
        "\n",
        "  heatmap = np.maximum(heatmap, 0)\n",
        "\n",
        "  heatmap /= torch.max(heatmap)\n",
        "\n",
        "  plt.matshow(heatmap.squeeze())\n",
        "\n",
        "  heatmap = heatmap.numpy()\n",
        "\n",
        "  img = test_10_images_unnorm[i]\n",
        "\n",
        "  print(img.shape[1])\n",
        "\n",
        "  break\n",
        "\n",
        "  save_image(img,'img.jpg')\n",
        "\n",
        "  img = cv2.imread('./img.jpg')\n",
        "\n",
        "  heatmap = cv2.resize(heatmap, (img.shape[1], img.shape[0]))\n",
        "\n",
        "  heatmap = np.uint8(255 * heatmap)\n",
        "\n",
        "  heatmap = cv2.applyColorMap(heatmap, cv2.COLORMAP_JET)\n",
        "\n",
        "  superimposed_img = heatmap * 0.4 + img\n",
        "\n",
        "  img = torch.from_numpy(superimposed_img)\n",
        "\n",
        "  \n",
        "\n",
        "  cv2.imwrite('./map.jpg', superimposed_img)\n",
        "#save_image(img,'img.jpg')\n",
        "# interpolate the heatmap\n",
        "#img = cv2.imread('./img.jpg')\n",
        "#heatmap = cv2.resize(heatmap, (img.shape[1], img.shape[0]))\n",
        "#heatmap = np.uint8(255 * heatmap)\n",
        "#heatmap = cv2.applyColorMap(heatmap, cv2.COLORMAP_JET)\n",
        "#superimposed_img = heatmap * 0.4 + img\n",
        "#cv2.imwrite('./map.jpg', superimposed_img)"
      ],
      "execution_count": null,
      "outputs": []
    },
    {
      "cell_type": "code",
      "metadata": {
        "id": "vC8_fkj-5-uD"
      },
      "source": [
        "  grid = torchvision.utils.make_grid(torch.stack(test_10_images).cpu(), nrow=5)\n",
        "  plt.figure(figsize=(5,5))\n",
        "  plt.imshow(np.transpose(grid, (1,2,0)))"
      ],
      "execution_count": null,
      "outputs": []
    },
    {
      "cell_type": "code",
      "metadata": {
        "id": "A8i6aDg_3PTO"
      },
      "source": [
        "test_10_images_unnorm = []\n",
        "for img in test_10_images:\n",
        "  img = img.cpu()\n",
        "  img = img.numpy()\n",
        "  img[0] = img[0] * 0.247 + 0.4914\n",
        "  img[1] = img[1] * 0.2435 + 0.4822\n",
        "  img[2] = img[2] * 0.2616 + 0.4465\n",
        "\n",
        "  img = torch.from_numpy(img)\n",
        "  test_10_images_unnorm.append(img)\n",
        "\n",
        "grid = torchvision.utils.make_grid(torch.stack(test_10_images_unnorm).cpu(), nrow=5)\n",
        "plt.figure(figsize=(5,5))\n",
        "plt.imshow(np.transpose(grid, (1,2,0)))\n",
        "  \n"
      ],
      "execution_count": null,
      "outputs": []
    }
  ]
}