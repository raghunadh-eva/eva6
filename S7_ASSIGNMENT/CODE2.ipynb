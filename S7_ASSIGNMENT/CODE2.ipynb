{
  "nbformat": 4,
  "nbformat_minor": 0,
  "metadata": {
    "accelerator": "GPU",
    "colab": {
      "name": "3MODELS.ipynb",
      "provenance": [],
      "collapsed_sections": [],
      "include_colab_link": true
    },
    "kernelspec": {
      "display_name": "Python 3",
      "name": "python3"
    },
    "language_info": {
      "name": "python"
    }
  },
  "cells": [
    {
      "cell_type": "markdown",
      "metadata": {
        "id": "view-in-github",
        "colab_type": "text"
      },
      "source": [
        "<a href=\"https://colab.research.google.com/github/raghunadh-eva/eva6/blob/master/S7_ASSIGNMENT/CODE2.ipynb\" target=\"_parent\"><img src=\"https://colab.research.google.com/assets/colab-badge.svg\" alt=\"Open In Colab\"/></a>"
      ]
    },
    {
      "cell_type": "markdown",
      "metadata": {
        "id": "89D3tlw_dJnV"
      },
      "source": [
        "**Basic setup block**\n",
        "\n",
        "\n",
        "*   Load the required utils/libraries\n",
        "*   Setup the transformations needed to load the data\n",
        "*   Split the input data into train and test\n",
        "*   Create the train and test data objects\n",
        "\n",
        "\n",
        "\n"
      ]
    },
    {
      "cell_type": "code",
      "metadata": {
        "id": "c2UphvIXcJ4D",
        "colab": {
          "base_uri": "https://localhost:8080/"
        },
        "outputId": "4683e20d-8205-4078-c5d8-b3ce5b774297"
      },
      "source": [
        "from __future__ import print_function\n",
        "import torch\n",
        "import torch.nn as nn\n",
        "import torch.nn.functional as F\n",
        "import torch.optim as optim\n",
        "import torchvision\n",
        "from torchvision import datasets, transforms, utils\n",
        "%matplotlib inline\n",
        "import matplotlib.pyplot as plt\n",
        "from torch.optim.lr_scheduler import StepLR\n",
        "!pip install torchsummary\n",
        "from torchsummary import summary\n",
        "import numpy as np"
      ],
      "execution_count": 1,
      "outputs": [
        {
          "output_type": "stream",
          "text": [
            "Requirement already satisfied: torchsummary in /usr/local/lib/python3.7/dist-packages (1.5.1)\n"
          ],
          "name": "stdout"
        }
      ]
    },
    {
      "cell_type": "code",
      "metadata": {
        "id": "hYM0Q5RKfHyR"
      },
      "source": [
        "train_transforms = transforms.Compose([\n",
        "                                       transforms.ToTensor(),\n",
        "                                       transforms.Normalize((0.4914,0.4822,0.4465), (0.247,0.2435,0.2616))\n",
        "                                       #transforms.RandomRotation((-7.0,7.0),fill=(0))\n",
        "                                       #Ideally use mean - adding #0 since MNIST dark pixels and no-information around the borders\n",
        "                                       #transforms.ColorJitter(brightness = 0.1, contrast= 0.1, saturation = 0.1, hue =0.1),\n",
        "                                       #transforms.Resize((28,28)) #should be before converting to Tensor logically\n",
        "                                       ])\n",
        "test_transforms  = transforms.Compose([\n",
        "                                       transforms.ToTensor(),\n",
        "                                       transforms.Normalize((0.4914,0.4822,0.4465), (0.247,0.2435,0.2616))\n",
        "                                       #transforms.RandomRotation((-7.0,7.0),fill=(0,)), #Ideally use mean - adding #0 since MNIST dark pixels and no-information around the borders\n",
        "                                       #transforms.ColorJitter(brightness = 0.1, contrast= 0.1, saturation = 0.1, hue =0.1)\n",
        "                                       #transforms.Resize((28,28)) #should be before converting to Tensor logically\n",
        "                                      ])"
      ],
      "execution_count": 2,
      "outputs": []
    },
    {
      "cell_type": "code",
      "metadata": {
        "id": "t8fMRGI4h-bV",
        "colab": {
          "base_uri": "https://localhost:8080/"
        },
        "outputId": "21e3bd40-f97b-4e3b-ff74-eafc5c2295a5"
      },
      "source": [
        "train = datasets.CIFAR10('./data', train=True,  download=True, transform=train_transforms)\n",
        "test =  datasets.CIFAR10('./data', train=False, download=True, transform=test_transforms)"
      ],
      "execution_count": 3,
      "outputs": [
        {
          "output_type": "stream",
          "text": [
            "Files already downloaded and verified\n",
            "Files already downloaded and verified\n"
          ],
          "name": "stdout"
        }
      ]
    },
    {
      "cell_type": "code",
      "metadata": {
        "colab": {
          "base_uri": "https://localhost:8080/"
        },
        "id": "tOstmqZoiluZ",
        "outputId": "7e64c795-aa1a-4865-bf8b-3feb8806e0a6"
      },
      "source": [
        "#Always start with same random set everytime\n",
        "SEED = 1\n",
        "\n",
        "#Is GPU ?\n",
        "cuda = torch.cuda.is_available()\n",
        "\n",
        "print('CUDA Available?',cuda)\n",
        "\n",
        "#what happens when SEED = 2 ?\n",
        "torch.manual_seed(SEED)\n",
        "\n",
        "#set the seed for GPU device as well\n",
        "if cuda:\n",
        "  torch.cuda.manual_seed(SEED)\n",
        "\n",
        "device = torch.device(\"cuda\" if cuda else \"cpu\")\n",
        "print(device)\n",
        "\n",
        "dataloader_args = dict(shuffle=True, batch_size=128, num_workers=2, pin_memory=True) if cuda else dict(shuffle=True, batch_size=64)\n",
        "#Why change batch_size for CPU - since it should not matter\n",
        "\n",
        "train_loader = torch.utils.data.DataLoader(train, **dataloader_args)\n",
        "\n",
        "\n",
        "test_loader  = torch.utils.data.DataLoader(test, **dataloader_args)\n",
        "\n",
        "classes = ('plane', 'car', 'bird', 'cat',\n",
        "           'deer', 'dog', 'frog', 'horse', 'ship', 'truck')\n",
        "\n",
        "##Why shuffle=false in the example provided ?"
      ],
      "execution_count": 4,
      "outputs": [
        {
          "output_type": "stream",
          "text": [
            "CUDA Available? True\n",
            "cuda\n"
          ],
          "name": "stdout"
        }
      ]
    },
    {
      "cell_type": "markdown",
      "metadata": {
        "id": "81Z01DMclQgP"
      },
      "source": [
        "**Visualize the input data with image standardization**\n"
      ]
    },
    {
      "cell_type": "code",
      "metadata": {
        "colab": {
          "base_uri": "https://localhost:8080/",
          "height": 155
        },
        "id": "ZW6kBIPPsAJ6",
        "outputId": "2a333a54-20a6-454e-9bee-585caef49176"
      },
      "source": [
        "image_loader = torch.utils.data.DataLoader(train, shuffle=True,batch_size=4)\n",
        "\n",
        "def imshow(img):\n",
        "    npimg = img.numpy()\n",
        "    npimg[0] = (npimg[0] * 0.247) + 0.4914\n",
        "    npimg[1] = (npimg[1] * 0.2435) + 0.4822\n",
        "    npimg[2] = (npimg[2] * 0.2616) + 0.4465\n",
        "    #we can use this directly but simply converting to tensor and converting back\n",
        "    timg = torch.from_numpy(npimg)\n",
        "    nimg = timg.numpy()\n",
        "    plt.imshow(np.transpose(nimg, (1, 2, 0)))\n",
        "\n",
        "# get some random training images\n",
        "dataiter = iter(image_loader)\n",
        "images, labels = dataiter.next()\n",
        "\n",
        "# show images\n",
        "imshow(torchvision.utils.make_grid(images))\n",
        "#print(classes[labels[10]])\n",
        "print(' '.join('%5s' % classes[labels[j]] for j in range(4)))"
      ],
      "execution_count": 5,
      "outputs": [
        {
          "output_type": "stream",
          "text": [
            " deer   car horse   dog\n"
          ],
          "name": "stdout"
        },
        {
          "output_type": "display_data",
          "data": {
            "image/png": "[encoded data removed]",
            "text/plain": [
              "<Figure size 432x288 with 1 Axes>"
            ]
          },
          "metadata": {
            "tags": [],
            "needs_background": "light"
          }
        }
      ]
    },
    {
      "cell_type": "markdown",
      "metadata": {
        "id": "dv3mXm9isgs6"
      },
      "source": [
        "**Visualize the input data without image standardization**\n",
        "\n"
      ]
    },
    {
      "cell_type": "code",
      "metadata": {
        "id": "z7LD-U8Mlaxg",
        "colab": {
          "base_uri": "https://localhost:8080/"
        },
        "outputId": "5e5246bc-d07c-4c7b-c4e5-f72577cfc861"
      },
      "source": [
        "#Comment this block from CODE2 onwards\n",
        "train_nonorm_transforms = transforms.Compose([\n",
        "                                       transforms.ToTensor()\n",
        "                                       #transforms.Normalize((0.1307,), (0.3081,))\n",
        "                                       #transforms.RandomRotation((-7.0,7.0),fill=(0,)), #Ideally use mean - adding #0 since MNIST dark pixels and no-information around the borders\n",
        "                                       #transforms.ColorJitter(brightness = 0.1, contrast= 0.1, saturation = 0.1, hue =0.1),\n",
        "                                       #transforms.Resize((28,28)) #should be before converting to Tensor logically\n",
        "                                       ])\n",
        "test_nonorm_transforms  = transforms.Compose([\n",
        "                                       transforms.ToTensor()\n",
        "                                       #transforms.Normalize((0.1307,), (0.3081,))\n",
        "                                       #transforms.RandomRotation((-7.0,7.0),fill=(0,)), #Ideally use mean - adding #0 since MNIST dark pixels and no-information around the borders\n",
        "                                       #transforms.ColorJitter(brightness = 0.1, contrast= 0.1, saturation = 0.1, hue =0.1)\n",
        "                                       #transforms.Resize((28,28)) #should be before converting to Tensor logically\n",
        "                                      ])\n",
        "train_nonorm = datasets.CIFAR10('./data_nonorm', train=True,  download=True, transform=train_nonorm_transforms)\n",
        "test_nonorm =  datasets.CIFAR10('./data_nonorm', train=False, download=True, transform=test_nonorm_transforms)\n",
        "train_loader_nonorm = torch.utils.data.DataLoader(train_nonorm, **dataloader_args)\n",
        "test_loader_nonorm  = torch.utils.data.DataLoader(test_nonorm, **dataloader_args)"
      ],
      "execution_count": 6,
      "outputs": [
        {
          "output_type": "stream",
          "text": [
            "Files already downloaded and verified\n",
            "Files already downloaded and verified\n"
          ],
          "name": "stdout"
        }
      ]
    },
    {
      "cell_type": "code",
      "metadata": {
        "id": "IPCPA7N-LLY2"
      },
      "source": [
        "#chsum = 0\n",
        "##pbar = tqdm(train_loader_nonorm)\n",
        "\n",
        "#for index, (data,target) in enumerate(train_loader_nonorm):\n",
        "#    chsum += data.sum(dim=(0,2,3),keepdim=True)\n",
        "\n",
        "#mean = chsum / (len(train_nonorm) * 32 *32)\n",
        "#\n",
        "#chsum = None\n",
        "#for index, (data,target) in enumerate(train_loader_nonorm):\n",
        "#  if index == 0:\n",
        "#   print(data.min(),data.max())\n",
        "#   chsum = (data - mean).pow(2).sum(dim=(0,2,3),keepdim=True)\n",
        "#  else:\n",
        "#   chsum += (data - mean).pow(2).sum(dim=(0,2,3),keepdim=True)\n",
        "\n",
        "#std = torch.sqrt(chsum/(len(train_nonorm) * 32 * 32))\n",
        "#print(\"Traindata Mean\",mean)\n",
        "#print(\"Traindata std dev\",std)\n",
        "\n",
        "#chsum = 0\n",
        "#from tqdm import tqdm\n",
        "#pbar = tqdm(test_loader_nonorm)\n",
        "\n",
        "#for index, (data,target) in enumerate(test_loader_nonorm):\n",
        "#    chsum += data.sum(dim=(0,2,3),keepdim=True)\n",
        "\n",
        "#mean = chsum / (len(test_nonorm) * 32 *32)\n",
        "\n",
        "#chsum = None\n",
        "#for index, (data,target) in enumerate(test_loader_nonorm):\n",
        "#  if index == 0:\n",
        "#    chsum = (data - mean).pow(2).sum(dim=(0,2,3),keepdim=True)\n",
        "#  else:\n",
        "#   chsum += (data - mean).pow(2).sum(dim=(0,2,3),keepdim=True)\n",
        "\n",
        "#std = torch.sqrt(chsum/(len(test_nonorm) * 32 * 32))\n",
        "#print(\"Test data Mean\",mean)\n",
        "#print(\"Test data std dev\",std)"
      ],
      "execution_count": 7,
      "outputs": []
    },
    {
      "cell_type": "code",
      "metadata": {
        "colab": {
          "base_uri": "https://localhost:8080/",
          "height": 283
        },
        "id": "2i0FYCLFEas_",
        "outputId": "eb41a777-c63b-4afa-ace0-0d2e69ef5c71"
      },
      "source": [
        "dataiter = iter(train_loader_nonorm)\n",
        "images, labels = dataiter.next()\n",
        "\n",
        "def imshow_nonorm(img):\n",
        "    img = img     # unnormalize\n",
        "    npimg = img.numpy()\n",
        "    plt.imshow(np.transpose(npimg, (1, 2, 0)))\n",
        "    \n",
        "# show images\n",
        "imshow_nonorm(torchvision.utils.make_grid(images[10]))\n",
        "\n",
        "print(classes[labels[10]])\n",
        "#print(' '.join('%5s' % classes[labels[j]] for j in range(4)))"
      ],
      "execution_count": 8,
      "outputs": [
        {
          "output_type": "stream",
          "text": [
            "horse\n"
          ],
          "name": "stdout"
        },
        {
          "output_type": "display_data",
          "data": {
            "image/png": "[encoded data removed]",
            "text/plain": [
              "<Figure size 432x288 with 1 Axes>"
            ]
          },
          "metadata": {
            "tags": [],
            "needs_background": "light"
          }
        }
      ]
    },
    {
      "cell_type": "code",
      "metadata": {
        "id": "50wZ62qSQObp"
      },
      "source": [
        "dropout_perc = 0.05"
      ],
      "execution_count": 9,
      "outputs": []
    },
    {
      "cell_type": "markdown",
      "metadata": {
        "id": "7bYxdYKtQBk9"
      },
      "source": [
        "**####Batch Normalization + L1 LOSS**"
      ]
    },
    {
      "cell_type": "code",
      "metadata": {
        "id": "5pSLtPQPvktt"
      },
      "source": [
        "class BatchNormNet(nn.Module):\n",
        "    def __init__(self):\n",
        "        super(BatchNormNet, self).__init__()\n",
        "\n",
        "        #BLOCK C1\n",
        "        self.convblock1 = nn.Sequential(\n",
        "            nn.Conv2d(in_channels=3, out_channels=16, kernel_size=(3, 3), padding=1, bias=False),\n",
        "            nn.BatchNorm2d(16),\n",
        "            nn.ReLU(),\n",
        "            nn.Dropout(dropout_perc)\n",
        "        ) # output_size = 32 ; #Receptive field = 3x3\n",
        "\n",
        "        self.convblock2 = nn.Sequential(\n",
        "            nn.Conv2d(in_channels=16, out_channels=32, kernel_size=(3, 3), padding=1, bias=False),\n",
        "            nn.BatchNorm2d(32),\n",
        "            nn.ReLU(),\n",
        "            nn.Dropout(dropout_perc)\n",
        "        ) # output_size = 32; #Receptive field = 5x5\n",
        "        \n",
        "        self.convblock3 = nn.Sequential(\n",
        "            nn.Conv2d(in_channels=32, out_channels=64, kernel_size=(3, 3), padding=1, dilation =2 ,bias=False),\n",
        "            nn.BatchNorm2d(64),\n",
        "            nn.ReLU(),\n",
        "            nn.Dropout(dropout_perc)\n",
        "        ) # output_size = 32; #Receptive field = 7x7\n",
        "\n",
        "        #BLOCK C1 TRANSITION\n",
        "        self.convblock4 = nn.Sequential(\n",
        "            nn.Conv2d(in_channels=64, out_channels=16, kernel_size=(1, 1), padding=0, bias=False),\n",
        "        ) # output_size = 32; #Receptive field = 7x7\n",
        "\n",
        "        #self.pool1 = nn.MaxPool2d(2, 2) # output_size = 16 ; #Receptive field = 8x8\n",
        "        #Drop maxPooling and use strided convolution\n",
        "        self.pool1 = nn.Sequential(\n",
        "            nn.Conv2d(in_channels=16, out_channels=16, kernel_size=(3, 3), stride=2, padding=1, bias=False),\n",
        "            nn.BatchNorm2d(16),\n",
        "            nn.ReLU(),\n",
        "            nn.Dropout(dropout_perc)\n",
        "        )\n",
        "        #Use dilated kernels instead of Max pooling\n",
        "        #self.pool1 = nn.Sequential(\n",
        "        #    nn.Conv2d(in_channels=16, out_channels=16, kernel_size=(3, 3), dilation=2, padding=0, bias=False),\n",
        "        #    nn.BatchNorm2d(16),\n",
        "        #    nn.ReLU(),\n",
        "        #    nn.Dropout(dropout_perc),\n",
        "        #    nn.Conv2d(in_channels=16, out_channels=16, kernel_size=(3, 3), dilation=2, padding=0, bias=False),\n",
        "        #    nn.BatchNorm2d(16),\n",
        "        #    nn.ReLU(),\n",
        "        #    nn.Dropout(dropout_perc),\n",
        "        #    nn.Conv2d(in_channels=16, out_channels=16, kernel_size=(3, 3), dilation=2, padding=0, bias=False),\n",
        "        #    nn.BatchNorm2d(16),\n",
        "        #    nn.ReLU(),\n",
        "        #    nn.Dropout(dropout_perc),\n",
        "        #    nn.Conv2d(in_channels=16, out_channels=16, kernel_size=(3, 3), dilation=2, padding=0, bias=False),\n",
        "        #    nn.BatchNorm2d(16),\n",
        "        #    nn.ReLU(),\n",
        "        #   nn.Dropout(dropout_perc)\n",
        "        #    #nn.Conv2d(in_channels=64, out_channels=16, kernel_size=(1, 1), padding=0, bias=False),\n",
        "        #)\n",
        "        #BLOCK C2\n",
        "        \n",
        "        self.convblock5 = nn.Sequential(\n",
        "            nn.Conv2d(in_channels=16, out_channels=32, kernel_size=(3, 3), padding=1, bias=False),\n",
        "            nn.BatchNorm2d(32),\n",
        "            nn.ReLU(),\n",
        "            nn.Dropout(dropout_perc)\n",
        "        ) # output_size = 16; #Receptive field = 5x5\n",
        "        \n",
        "        self.convblock6 = nn.Sequential(\n",
        "            nn.Conv2d(in_channels=32, out_channels=64, groups = 32, kernel_size=(3, 3), padding=1, bias=False),\n",
        "            nn.BatchNorm2d(64),\n",
        "            nn.ReLU(),\n",
        "            nn.Dropout(dropout_perc)\n",
        "        ) # output_size = 16; #Receptive field = 5x5\n",
        "\n",
        "        #BLOCK C2 TRANSITION\n",
        "        self.convblock7 = nn.Sequential(\n",
        "            nn.Conv2d(in_channels=64, out_channels=16, kernel_size=(1, 1), padding=0, bias=False),\n",
        "        ) # output_size = 16; #Receptive field = 5x5\n",
        "        \n",
        "        #BLOCK C3\n",
        "        \n",
        "        self.convblock8 = nn.Sequential(\n",
        "            nn.Conv2d(in_channels=16, out_channels=32, kernel_size=(3, 3), padding=1, bias=False),\n",
        "            nn.BatchNorm2d(32),\n",
        "            nn.ReLU(),\n",
        "            nn.Dropout(dropout_perc)\n",
        "        ) # output_size = 16; #Receptive field = 5x5\n",
        "        \n",
        "        self.convblock9 = nn.Sequential(\n",
        "            nn.Conv2d(in_channels=32, out_channels=64, groups = 32, kernel_size=(3, 3), padding=1, bias=False),\n",
        "            nn.BatchNorm2d(64),\n",
        "            nn.ReLU(),\n",
        "            nn.Dropout(dropout_perc)\n",
        "        ) # output_size = 16; #Receptive field = 5x5\n",
        "\n",
        "        #BLOCK C3 TRANSITION\n",
        "        self.convblock10 = nn.Sequential(\n",
        "            nn.Conv2d(in_channels=64, out_channels=16, kernel_size=(1, 1), padding=0, bias=False),\n",
        "        ) # output_size = 16; #Receptive field = 5x5\n",
        "        \n",
        "        \n",
        "        #self.pool2 = nn.MaxPool2d(2, 2) # output_size = 8 ; #Receptive field = 8x8\n",
        "        self.pool2 = nn.Sequential(\n",
        "            nn.Conv2d(in_channels=16, out_channels=16, kernel_size=(3, 3), stride=2, padding=1, bias=False),\n",
        "            nn.BatchNorm2d(16),\n",
        "            nn.ReLU(),\n",
        "            nn.Dropout(dropout_perc)\n",
        "        )\n",
        "        #BLOCK C4\n",
        "        \n",
        "        self.convblock11 = nn.Sequential(\n",
        "            nn.Conv2d(in_channels=16, out_channels=32, kernel_size=(3, 3), padding=1, bias=False),\n",
        "            nn.BatchNorm2d(32),\n",
        "            nn.ReLU(),\n",
        "            nn.Dropout(dropout_perc)\n",
        "        ) # output_size = 8; #Receptive field = 5x5\n",
        "        \n",
        "        self.convblock12 = nn.Sequential(\n",
        "            nn.Conv2d(in_channels=32, out_channels=64, kernel_size=(3, 3), padding=1, bias=False),\n",
        "            nn.BatchNorm2d(64),\n",
        "            nn.ReLU(),\n",
        "            nn.Dropout(dropout_perc)\n",
        "        ) # output_size = 8; #Receptive field = 5x5\n",
        "\n",
        "        #BLOCK C4 TRANSITION\n",
        "        #self.convblock13 = nn.Sequential(\n",
        "        #    nn.Conv2d(in_channels=64, out_channels=16, kernel_size=(1, 1), padding=0, bias=False),\n",
        "        #) # output_size = 8; #Receptive field = 5x5\n",
        "                 \n",
        "        # OUTPUT BLOCK\n",
        "        self.gap = nn.Sequential(\n",
        "            nn.AvgPool2d(kernel_size=8)\n",
        "        ) # output_size = 1\n",
        "\n",
        "        self.convblock14 = nn.Sequential(\n",
        "            nn.Linear(64,10,0)\n",
        "        )\n",
        "\n",
        "    def forward(self, x):\n",
        "        x = self.convblock1(x)\n",
        "        x = self.convblock2(x)\n",
        "        x = self.convblock3(x)\n",
        "        x = self.convblock4(x)\n",
        "        x = self.pool1(x)\n",
        "        x = self.convblock5(x)\n",
        "        x = self.convblock6(x)\n",
        "        x = self.convblock7(x)\n",
        "        x = self.convblock8(x)\n",
        "        x = self.convblock9(x)\n",
        "        x = self.convblock10(x)\n",
        "        x = self.pool2(x)\n",
        "        x = self.convblock11(x)\n",
        "        x = self.convblock12(x)\n",
        "        #x = self.convblock13(x)\n",
        "        x = self.gap(x)\n",
        "        \n",
        "        x = x.view(x.size(0), -1)\n",
        "        x = self.convblock14(x)\n",
        "   \n",
        "        return F.log_softmax(x, dim=-1)"
      ],
      "execution_count": 10,
      "outputs": []
    },
    {
      "cell_type": "code",
      "metadata": {
        "colab": {
          "base_uri": "https://localhost:8080/"
        },
        "id": "yxbYtWxRvP6I",
        "outputId": "e4cd1fcf-3c1c-4a8f-9fd6-c1f72ef990d4"
      },
      "source": [
        "model = BatchNormNet().to(device)\n",
        "summary(model, input_size=(3, 32, 32))"
      ],
      "execution_count": 11,
      "outputs": [
        {
          "output_type": "stream",
          "text": [
            "----------------------------------------------------------------\n",
            "        Layer (type)               Output Shape         Param #\n",
            "================================================================\n",
            "            Conv2d-1           [-1, 16, 32, 32]             432\n",
            "       BatchNorm2d-2           [-1, 16, 32, 32]              32\n",
            "              ReLU-3           [-1, 16, 32, 32]               0\n",
            "           Dropout-4           [-1, 16, 32, 32]               0\n",
            "            Conv2d-5           [-1, 32, 32, 32]           4,608\n",
            "       BatchNorm2d-6           [-1, 32, 32, 32]              64\n",
            "              ReLU-7           [-1, 32, 32, 32]               0\n",
            "           Dropout-8           [-1, 32, 32, 32]               0\n",
            "            Conv2d-9           [-1, 64, 30, 30]          18,432\n",
            "      BatchNorm2d-10           [-1, 64, 30, 30]             128\n",
            "             ReLU-11           [-1, 64, 30, 30]               0\n",
            "          Dropout-12           [-1, 64, 30, 30]               0\n",
            "           Conv2d-13           [-1, 16, 30, 30]           1,024\n",
            "           Conv2d-14           [-1, 16, 15, 15]           2,304\n",
            "      BatchNorm2d-15           [-1, 16, 15, 15]              32\n",
            "             ReLU-16           [-1, 16, 15, 15]               0\n",
            "          Dropout-17           [-1, 16, 15, 15]               0\n",
            "           Conv2d-18           [-1, 32, 15, 15]           4,608\n",
            "      BatchNorm2d-19           [-1, 32, 15, 15]              64\n",
            "             ReLU-20           [-1, 32, 15, 15]               0\n",
            "          Dropout-21           [-1, 32, 15, 15]               0\n",
            "           Conv2d-22           [-1, 64, 15, 15]             576\n",
            "      BatchNorm2d-23           [-1, 64, 15, 15]             128\n",
            "             ReLU-24           [-1, 64, 15, 15]               0\n",
            "          Dropout-25           [-1, 64, 15, 15]               0\n",
            "           Conv2d-26           [-1, 16, 15, 15]           1,024\n",
            "           Conv2d-27           [-1, 32, 15, 15]           4,608\n",
            "      BatchNorm2d-28           [-1, 32, 15, 15]              64\n",
            "             ReLU-29           [-1, 32, 15, 15]               0\n",
            "          Dropout-30           [-1, 32, 15, 15]               0\n",
            "           Conv2d-31           [-1, 64, 15, 15]             576\n",
            "      BatchNorm2d-32           [-1, 64, 15, 15]             128\n",
            "             ReLU-33           [-1, 64, 15, 15]               0\n",
            "          Dropout-34           [-1, 64, 15, 15]               0\n",
            "           Conv2d-35           [-1, 16, 15, 15]           1,024\n",
            "           Conv2d-36             [-1, 16, 8, 8]           2,304\n",
            "      BatchNorm2d-37             [-1, 16, 8, 8]              32\n",
            "             ReLU-38             [-1, 16, 8, 8]               0\n",
            "          Dropout-39             [-1, 16, 8, 8]               0\n",
            "           Conv2d-40             [-1, 32, 8, 8]           4,608\n",
            "      BatchNorm2d-41             [-1, 32, 8, 8]              64\n",
            "             ReLU-42             [-1, 32, 8, 8]               0\n",
            "          Dropout-43             [-1, 32, 8, 8]               0\n",
            "           Conv2d-44             [-1, 64, 8, 8]          18,432\n",
            "      BatchNorm2d-45             [-1, 64, 8, 8]             128\n",
            "             ReLU-46             [-1, 64, 8, 8]               0\n",
            "          Dropout-47             [-1, 64, 8, 8]               0\n",
            "        AvgPool2d-48             [-1, 64, 1, 1]               0\n",
            "           Linear-49                   [-1, 10]             640\n",
            "================================================================\n",
            "Total params: 66,064\n",
            "Trainable params: 66,064\n",
            "Non-trainable params: 0\n",
            "----------------------------------------------------------------\n",
            "Input size (MB): 0.01\n",
            "Forward/backward pass size (MB): 5.07\n",
            "Params size (MB): 0.25\n",
            "Estimated Total Size (MB): 5.33\n",
            "----------------------------------------------------------------\n"
          ],
          "name": "stdout"
        }
      ]
    },
    {
      "cell_type": "markdown",
      "metadata": {
        "id": "ghFiQ6mjQXdl"
      },
      "source": [
        "####LayerNorm Normalization + L1 LOSS"
      ]
    },
    {
      "cell_type": "code",
      "metadata": {
        "id": "tCU6KY3UQhUI"
      },
      "source": [
        "class LayerNormNet(nn.Module):\n",
        "    def __init__(self):\n",
        "        super(LayerNormNet, self).__init__()\n",
        "\n",
        "        # Input Block\n",
        "        self.convblock1 = nn.Sequential(\n",
        "            nn.Conv2d(in_channels=1, out_channels=10, kernel_size=(3, 3), padding=0, bias=False),\n",
        "            nn.ReLU(),\n",
        "            nn.GroupNorm(1,10),\n",
        "            nn.Dropout(dropout_perc)\n",
        "        ) # output_size = 26 ; #Receptive field = 3x3\n",
        "\n",
        "        #CT1\n",
        "        self.convblock2 = nn.Sequential(\n",
        "            nn.Conv2d(in_channels=10, out_channels=18, kernel_size=(3, 3), padding=0, bias=False),\n",
        "            nn.ReLU(),\n",
        "            nn.GroupNorm(1,18),\n",
        "            nn.Dropout(dropout_perc)\n",
        "        ) # output_size = 24; #Receptive field = 5x5\n",
        "\n",
        "        self.convblock3 = nn.Sequential(\n",
        "            nn.Conv2d(in_channels=18, out_channels=10, kernel_size=(1, 1), padding=0, bias=False),\n",
        "        ) # output_size = 24; #Receptive field = 5x5\n",
        "\n",
        "        self.pool1 = nn.MaxPool2d(2, 2) # output_size = 12 ; #Receptive field = 6x6\n",
        "\n",
        "        #CT2\n",
        "        self.convblock4 = nn.Sequential(\n",
        "            nn.Conv2d(in_channels=10, out_channels=16, kernel_size=(3, 3), padding=0, bias=False),\n",
        "            nn.ReLU(),\n",
        "            nn.GroupNorm(1,16),\n",
        "            nn.Dropout(dropout_perc)\n",
        "        ) # output_size = 10 ;  #Receptive field = 10x10\n",
        "\n",
        "        self.convblock6 = nn.Sequential(\n",
        "            nn.Conv2d(in_channels=16, out_channels=20, kernel_size=(3, 3), padding=0, bias=False),\n",
        "            nn.ReLU(),\n",
        "            nn.GroupNorm(1,20),            \n",
        "            nn.Dropout(dropout_perc)\n",
        "        ) # output_size = 8 ; #Receptive field = 14x14\n",
        "\n",
        "        self.convblock7 = nn.Sequential(\n",
        "            nn.Conv2d(in_channels=20, out_channels=10, kernel_size=(1, 1), padding=0, bias=False),\n",
        "        ) # output_size = 8 ; #Receptive field = 14x14\n",
        "     \n",
        "        #CT3\n",
        "        self.convblock8 = nn.Sequential(\n",
        "            nn.Conv2d(in_channels=10, out_channels=32, kernel_size=(3, 3), padding=0, bias=False), \n",
        "            nn.ReLU(),\n",
        "            nn.GroupNorm(1,32),\n",
        "            nn.Dropout(dropout_perc)          \n",
        "        ) # output_size = 6 ; #Receptive field = 18x18\n",
        "                 \n",
        "        # OUTPUT BLOCK\n",
        "        self.gap = nn.Sequential(\n",
        "            nn.AvgPool2d(kernel_size=6)\n",
        "        ) # output_size = 1\n",
        "\n",
        "        self.convblock9 = nn.Sequential(\n",
        "            nn.Conv2d(in_channels=32, out_channels=10, kernel_size=(1, 1), padding=0, bias=False)\n",
        "        )\n",
        "\n",
        "    def forward(self, x):\n",
        "        x = self.convblock1(x)\n",
        "        x = self.convblock2(x)\n",
        "        x = self.convblock3(x)\n",
        "        x = self.pool1(x)\n",
        "        x = self.convblock4(x)\n",
        "        x = self.convblock6(x)\n",
        "        x = self.convblock7(x)\n",
        "        x = self.convblock8(x)\n",
        "        x = self.gap(x)        \n",
        "        x = self.convblock9(x)\n",
        "\n",
        "        x = x.view(-1, 10)\n",
        "        return F.log_softmax(x, dim=-1)"
      ],
      "execution_count": 12,
      "outputs": []
    },
    {
      "cell_type": "markdown",
      "metadata": {
        "id": "SuN00vTAQphA"
      },
      "source": [
        "**`####Group normalization network + L1 LOSS`**"
      ]
    },
    {
      "cell_type": "code",
      "metadata": {
        "id": "p8RvVtzzQyGg"
      },
      "source": [
        "class GroupNormNet(nn.Module):\n",
        "    def __init__(self):\n",
        "        super(GroupNormNet, self).__init__()\n",
        "\n",
        "        # Input Block\n",
        "        self.convblock1 = nn.Sequential(\n",
        "            nn.Conv2d(in_channels=1, out_channels=10, kernel_size=(3, 3), padding=0, bias=False),\n",
        "            nn.ReLU(),\n",
        "            nn.GroupNorm(2,10),\n",
        "            nn.Dropout(dropout_perc)\n",
        "        ) # output_size = 26 ; #Receptive field = 3x3\n",
        "\n",
        "        #CT1\n",
        "        self.convblock2 = nn.Sequential(\n",
        "            nn.Conv2d(in_channels=10, out_channels=18, kernel_size=(3, 3), padding=0, bias=False),\n",
        "            nn.ReLU(),\n",
        "            nn.GroupNorm(3,18),\n",
        "            nn.Dropout(dropout_perc)\n",
        "        ) # output_size = 24; #Receptive field = 5x5\n",
        "\n",
        "        self.convblock3 = nn.Sequential(\n",
        "            nn.Conv2d(in_channels=18, out_channels=10, kernel_size=(1, 1), padding=0, bias=False),\n",
        "        ) # output_size = 24; #Receptive field = 5x5\n",
        "\n",
        "        self.pool1 = nn.MaxPool2d(2, 2) # output_size = 12 ; #Receptive field = 6x6\n",
        "\n",
        "        #CT2\n",
        "        self.convblock4 = nn.Sequential(\n",
        "            nn.Conv2d(in_channels=10, out_channels=16, kernel_size=(3, 3), padding=0, bias=False),\n",
        "            nn.ReLU(),\n",
        "            nn.GroupNorm(2,16),\n",
        "            nn.Dropout(dropout_perc)\n",
        "        ) # output_size = 10 ;  #Receptive field = 10x10\n",
        "\n",
        "        self.convblock6 = nn.Sequential(\n",
        "            nn.Conv2d(in_channels=16, out_channels=20, kernel_size=(3, 3), padding=0, bias=False),\n",
        "            nn.ReLU(),\n",
        "            nn.GroupNorm(2,20),            \n",
        "            nn.Dropout(dropout_perc)\n",
        "        ) # output_size = 8 ; #Receptive field = 14x14\n",
        "\n",
        "        self.convblock7 = nn.Sequential(\n",
        "            nn.Conv2d(in_channels=20, out_channels=10, kernel_size=(1, 1), padding=0, bias=False),\n",
        "        ) # output_size = 8 ; #Receptive field = 14x14\n",
        "     \n",
        "        #CT3\n",
        "        self.convblock8 = nn.Sequential(\n",
        "            nn.Conv2d(in_channels=10, out_channels=32, kernel_size=(3, 3), padding=0, bias=False), \n",
        "            nn.ReLU(),\n",
        "            nn.GroupNorm(2,32),\n",
        "            nn.Dropout(dropout_perc)          \n",
        "        ) # output_size = 6 ; #Receptive field = 18x18\n",
        "                 \n",
        "        # OUTPUT BLOCK\n",
        "        self.gap = nn.Sequential(\n",
        "            nn.AvgPool2d(kernel_size=6)\n",
        "        ) # output_size = 1\n",
        "\n",
        "        self.convblock9 = nn.Sequential(\n",
        "            nn.Conv2d(in_channels=32, out_channels=10, kernel_size=(1, 1), padding=0, bias=False)\n",
        "        )\n",
        "\n",
        "    def forward(self, x):\n",
        "        x = self.convblock1(x)\n",
        "        x = self.convblock2(x)\n",
        "        x = self.convblock3(x)\n",
        "        x = self.pool1(x)\n",
        "        x = self.convblock4(x)\n",
        "        x = self.convblock6(x)\n",
        "        x = self.convblock7(x)\n",
        "        x = self.convblock8(x)\n",
        "        x = self.gap(x)        \n",
        "        x = self.convblock9(x)\n",
        "\n",
        "        x = x.view(-1, 10)\n",
        "        return F.log_softmax(x, dim=-1)"
      ],
      "execution_count": 13,
      "outputs": []
    },
    {
      "cell_type": "code",
      "metadata": {
        "id": "33qg7uBpxtYe"
      },
      "source": [
        "from tqdm import tqdm\n",
        "\n",
        "test_fail_data = []\n",
        "test_fail_target = []\n",
        "test_pred_target = []\n",
        "test_losses = []\n",
        "test_acc = []\n",
        "train_acc = []\n",
        "train_losses = []\n",
        "\n",
        "loss_function = nn.CrossEntropyLoss()\n",
        "\n",
        "def train(model, device, train_loader, optimizer, epoch):\n",
        "  model.train()\n",
        "  pbar = tqdm(train_loader)\n",
        "\n",
        "  l1_lamda = 0.0001\n",
        "  \n",
        "  correct = 0\n",
        "  processed = 0\n",
        "  for batch_idx, (data, target) in enumerate(pbar):\n",
        "    # get samples\n",
        "    data, target = data.to(device), target.to(device)\n",
        "\n",
        "    # Init\n",
        "    optimizer.zero_grad()\n",
        "    # In PyTorch, we need to set the gradients to zero before starting to do backpropragation because PyTorch accumulates the gradients on subsequent backward passes. \n",
        "    # Because of this, when you start your training loop, ideally you should zero out the gradients so that you do the parameter update correctly.\n",
        "\n",
        "    # Predict\n",
        "    y_pred = model(data)\n",
        "\n",
        "    # Calculate loss\n",
        "    #Cross entropy loss\n",
        "    #loss = F.nll_loss(y_pred, target)\n",
        "    loss = loss_function(y_pred,target)\n",
        "    #\n",
        "\n",
        "    ##Add L1 Loss\n",
        "    l1 = 0\n",
        "    for p in model.parameters():\n",
        "      p_tensor = torch.sum(torch.abs(p))\n",
        "      l1 += p_tensor\n",
        "\n",
        "    loss = loss + l1_lamda * l1\n",
        "    \n",
        "    train_losses.append(loss)\n",
        "\n",
        "    # Backpropagation\n",
        "    loss.backward()\n",
        "    optimizer.step()\n",
        "\n",
        "    # Update pbar-tqdm\n",
        "    \n",
        "    pred = y_pred.argmax(dim=1, keepdim=True)  # get the index of the max log-probability\n",
        "    correct += pred.eq(target.view_as(pred)).sum().item()\n",
        "    processed += len(data)\n",
        "\n",
        "    pbar.set_description(desc= f'Loss={loss.item()} Batch_id={batch_idx} Accuracy={100*correct/processed:0.2f}')\n",
        "    train_acc.append(100*correct/processed)\n",
        "\n",
        "def test(model, device, test_loader):\n",
        "    test_fail_data = []\n",
        "    test_fail_target = []\n",
        "    test_pred_target = []\n",
        "\n",
        "    model.eval()\n",
        "    test_loss = 0\n",
        "    correct = 0\n",
        "    with torch.no_grad():\n",
        "        for data, target in test_loader:\n",
        "            data, target = data.to(device), target.to(device)\n",
        "            output = model(data)\n",
        "            test_loss += F.nll_loss(output, target, reduction='sum').item()  # sum up batch loss\n",
        "            pred = output.argmax(dim=1, keepdim=True)  # get the index of the max log-probability\n",
        "            #print(pred,target.view_as(pred))\n",
        "            correct += pred.eq(target.view_as(pred)).sum().item()\n",
        "            for i,x in enumerate(pred.eq(target.view_as(pred))):\n",
        "              if not x:\n",
        "                test_fail_data.append(data[i])\n",
        "                test_fail_target.append(target[i])\n",
        "                test_pred_target.append(pred[i])\n",
        "                #print(target[i])\n",
        "\n",
        "    test_losses.append(test_loss)\n",
        "    \n",
        "    print('\\nTest set: Average loss: {:.4f}, Accuracy: {}/{} ({:.2f}%)\\n'.format(\n",
        "        test_loss, correct, len(test_loader.dataset),\n",
        "        100. * correct / len(test_loader.dataset)))\n",
        "    \n",
        "    test_acc.append(100. * correct / len(test_loader.dataset))\n",
        "\n",
        "    return test_losses, test_acc, test_fail_data, test_fail_target, test_pred_target;"
      ],
      "execution_count": 14,
      "outputs": []
    },
    {
      "cell_type": "markdown",
      "metadata": {
        "id": "i_4SP4-nRGKG"
      },
      "source": [
        "**####Block to pass argment and call the Model**\n",
        "\n",
        "Pass the model to be Invoked based on Input Argument"
      ]
    },
    {
      "cell_type": "code",
      "metadata": {
        "id": "bf_rAU10xhSU"
      },
      "source": [
        "def main(input_model_type,EPOCHS):\n",
        "  if input_model_type == 0:\n",
        "    model = BatchNormNet().to(device)\n",
        "    run_train_test(model,EPOCHS,input_model_type)\n",
        "  elif input_model_type == 1:\n",
        "    model = LayerNormNet().to(device)\n",
        "    run_train_test(model,EPOCHS,input_model_type)\n",
        "  elif input_model_type == 2:\n",
        "    model = GroupNormNet().to(device)\n",
        "    run_train_test(model,EPOCHS,input_model_type)\n",
        "  else:\n",
        "    print(\"Invalid input for input_model_type\",input_model_type)\n",
        "    print(\"Supported values are 0 = Batch Norm,1 = Layer Norm,2 = Group Norm\")\n",
        "\n",
        "def run_train_test(model,EPOCHS,input_model_type):\n",
        "  summary(model, input_size=(3, 32, 32))\n",
        "  optimizer = optim.SGD(model.parameters(), lr=0.01, momentum=0.9)\n",
        "\n",
        "  for epoch in range(EPOCHS):\n",
        "    print(\"EPOCH:\", epoch)\n",
        "    \n",
        "    train(model, device, train_loader, optimizer, epoch)\n",
        "    \n",
        "    test_losses, test_acc, test_fail_data, test_fail_target, test_pred_target = test(model, device, test_loader)\n",
        "  \n",
        "  #print(test_fail_data)\n",
        "  fig, axs = plt.subplots(1, 2)\n",
        "  if input_model_type == 0:\n",
        "    fig.suptitle('Model Type: Batch normalization')\n",
        "  if input_model_type == 1:\n",
        "    fig.suptitle('Model Type: Layer normalization')\n",
        "  if input_model_type == 2:\n",
        "    fig.suptitle('Model Type: Group normalization')\n",
        "  \n",
        "  axs[0].set_title('Test/Validation Loss Graph')\n",
        "  axs[0].set_xticks(np.arange(1,EPOCHS+1))\n",
        "  #axs[0].xlabel('Test/Validation Loss Graph')\n",
        "  #axs[0].ylabel('LOSS')\n",
        "  axs[1].set_title('Test/Validation Accuracy Graph')\n",
        "  axs[1].set_xticks(np.arange(1,EPOCHS+1))\n",
        "  #axs[1].xlabel('Test/Validation Accuracy Graph')\n",
        "  #axs[1].ylabel('Accuracy')\n",
        "  \n",
        "  axs[0].plot(test_losses)\n",
        "  axs[1].plot(test_acc)\n",
        "\n",
        "  test_10_images = []\n",
        "  for i in range(0,10):\n",
        "    test_10_images.append(test_fail_data[i])\n",
        "  \n",
        "  test_10_images_target = []\n",
        "  for i in range(0,10):\n",
        "    test_10_images_target.append(test_fail_target[i])\n",
        "\n",
        "  test_10_pred_target = []\n",
        "  for i in range(0,10):\n",
        "    test_10_pred_target.append(test_pred_target[i])\n",
        "  #print(test_10_images_target)\n",
        "\n",
        "  print('Actual Labels')\n",
        "  print(' '.join('%5s' % classes[test_10_images_target[j]] for j in range(0,10)))\n",
        "  print('Predicted Labels')\n",
        "  print(' '.join('%5s' % classes[test_10_pred_target[j]] for j in range(0,10)))\n",
        "  \n",
        "  grid = torchvision.utils.make_grid(torch.stack(test_10_images).cpu(), nrow=5)\n",
        "  plt.figure(figsize=(15,15))\n",
        "  plt.imshow(np.transpose(grid, (1,2,0)))"
      ],
      "execution_count": 15,
      "outputs": []
    },
    {
      "cell_type": "markdown",
      "metadata": {
        "id": "bEXmcfDRXoGN"
      },
      "source": [
        "**####Call to main function**\n",
        "\n",
        "main(input_model_type,EPOCHS)\n",
        "\n",
        "input_model_type:\n",
        "\n",
        "Supported values are\n",
        "\n",
        "0 = Train a model with Batch normalization\n",
        "\n",
        "1 = Train a model with Layer normalization\n",
        "\n",
        "2 = Train a model with Group Normalization\n",
        "\n",
        "EPOCHS: num_epochs\n"
      ]
    },
    {
      "cell_type": "code",
      "metadata": {
        "colab": {
          "base_uri": "https://localhost:8080/",
          "height": 1000
        },
        "id": "U-ScCBSfbadI",
        "outputId": "cbd247f7-d4de-4cd2-f1cd-97714126ea5d"
      },
      "source": [
        "main(0,5)\n"
      ],
      "execution_count": 16,
      "outputs": [
        {
          "output_type": "stream",
          "text": [
            "\r  0%|          | 0/391 [00:00<?, ?it/s]"
          ],
          "name": "stderr"
        },
        {
          "output_type": "stream",
          "text": [
            "----------------------------------------------------------------\n",
            "        Layer (type)               Output Shape         Param #\n",
            "================================================================\n",
            "            Conv2d-1           [-1, 16, 32, 32]             432\n",
            "       BatchNorm2d-2           [-1, 16, 32, 32]              32\n",
            "              ReLU-3           [-1, 16, 32, 32]               0\n",
            "           Dropout-4           [-1, 16, 32, 32]               0\n",
            "            Conv2d-5           [-1, 32, 32, 32]           4,608\n",
            "       BatchNorm2d-6           [-1, 32, 32, 32]              64\n",
            "              ReLU-7           [-1, 32, 32, 32]               0\n",
            "           Dropout-8           [-1, 32, 32, 32]               0\n",
            "            Conv2d-9           [-1, 64, 30, 30]          18,432\n",
            "      BatchNorm2d-10           [-1, 64, 30, 30]             128\n",
            "             ReLU-11           [-1, 64, 30, 30]               0\n",
            "          Dropout-12           [-1, 64, 30, 30]               0\n",
            "           Conv2d-13           [-1, 16, 30, 30]           1,024\n",
            "           Conv2d-14           [-1, 16, 15, 15]           2,304\n",
            "      BatchNorm2d-15           [-1, 16, 15, 15]              32\n",
            "             ReLU-16           [-1, 16, 15, 15]               0\n",
            "          Dropout-17           [-1, 16, 15, 15]               0\n",
            "           Conv2d-18           [-1, 32, 15, 15]           4,608\n",
            "      BatchNorm2d-19           [-1, 32, 15, 15]              64\n",
            "             ReLU-20           [-1, 32, 15, 15]               0\n",
            "          Dropout-21           [-1, 32, 15, 15]               0\n",
            "           Conv2d-22           [-1, 64, 15, 15]             576\n",
            "      BatchNorm2d-23           [-1, 64, 15, 15]             128\n",
            "             ReLU-24           [-1, 64, 15, 15]               0\n",
            "          Dropout-25           [-1, 64, 15, 15]               0\n",
            "           Conv2d-26           [-1, 16, 15, 15]           1,024\n",
            "           Conv2d-27           [-1, 32, 15, 15]           4,608\n",
            "      BatchNorm2d-28           [-1, 32, 15, 15]              64\n",
            "             ReLU-29           [-1, 32, 15, 15]               0\n",
            "          Dropout-30           [-1, 32, 15, 15]               0\n",
            "           Conv2d-31           [-1, 64, 15, 15]             576\n",
            "      BatchNorm2d-32           [-1, 64, 15, 15]             128\n",
            "             ReLU-33           [-1, 64, 15, 15]               0\n",
            "          Dropout-34           [-1, 64, 15, 15]               0\n",
            "           Conv2d-35           [-1, 16, 15, 15]           1,024\n",
            "           Conv2d-36             [-1, 16, 8, 8]           2,304\n",
            "      BatchNorm2d-37             [-1, 16, 8, 8]              32\n",
            "             ReLU-38             [-1, 16, 8, 8]               0\n",
            "          Dropout-39             [-1, 16, 8, 8]               0\n",
            "           Conv2d-40             [-1, 32, 8, 8]           4,608\n",
            "      BatchNorm2d-41             [-1, 32, 8, 8]              64\n",
            "             ReLU-42             [-1, 32, 8, 8]               0\n",
            "          Dropout-43             [-1, 32, 8, 8]               0\n",
            "           Conv2d-44             [-1, 64, 8, 8]          18,432\n",
            "      BatchNorm2d-45             [-1, 64, 8, 8]             128\n",
            "             ReLU-46             [-1, 64, 8, 8]               0\n",
            "          Dropout-47             [-1, 64, 8, 8]               0\n",
            "        AvgPool2d-48             [-1, 64, 1, 1]               0\n",
            "           Linear-49                   [-1, 10]             640\n",
            "================================================================\n",
            "Total params: 66,064\n",
            "Trainable params: 66,064\n",
            "Non-trainable params: 0\n",
            "----------------------------------------------------------------\n",
            "Input size (MB): 0.01\n",
            "Forward/backward pass size (MB): 5.07\n",
            "Params size (MB): 0.25\n",
            "Estimated Total Size (MB): 5.33\n",
            "----------------------------------------------------------------\n",
            "EPOCH: 0\n"
          ],
          "name": "stdout"
        },
        {
          "output_type": "stream",
          "text": [
            "Loss=1.8156251907348633 Batch_id=390 Accuracy=36.54: 100%|██████████| 391/391 [00:14<00:00, 27.75it/s]\n",
            "  0%|          | 0/391 [00:00<?, ?it/s]"
          ],
          "name": "stderr"
        },
        {
          "output_type": "stream",
          "text": [
            "\n",
            "Test set: Average loss: 15486.9941, Accuracy: 4342/10000 (43.42%)\n",
            "\n",
            "EPOCH: 1\n"
          ],
          "name": "stdout"
        },
        {
          "output_type": "stream",
          "text": [
            "Loss=1.5019524097442627 Batch_id=390 Accuracy=53.22: 100%|██████████| 391/391 [00:14<00:00, 27.74it/s]\n",
            "  0%|          | 0/391 [00:00<?, ?it/s]"
          ],
          "name": "stderr"
        },
        {
          "output_type": "stream",
          "text": [
            "\n",
            "Test set: Average loss: 11918.1585, Accuracy: 5680/10000 (56.80%)\n",
            "\n",
            "EPOCH: 2\n"
          ],
          "name": "stdout"
        },
        {
          "output_type": "stream",
          "text": [
            "Loss=1.2700153589248657 Batch_id=390 Accuracy=60.14: 100%|██████████| 391/391 [00:13<00:00, 28.12it/s]\n",
            "  0%|          | 0/391 [00:00<?, ?it/s]"
          ],
          "name": "stderr"
        },
        {
          "output_type": "stream",
          "text": [
            "\n",
            "Test set: Average loss: 11276.2534, Accuracy: 6029/10000 (60.29%)\n",
            "\n",
            "EPOCH: 3\n"
          ],
          "name": "stdout"
        },
        {
          "output_type": "stream",
          "text": [
            "Loss=1.3184654712677002 Batch_id=390 Accuracy=65.03: 100%|██████████| 391/391 [00:13<00:00, 28.08it/s]\n",
            "  0%|          | 0/391 [00:00<?, ?it/s]"
          ],
          "name": "stderr"
        },
        {
          "output_type": "stream",
          "text": [
            "\n",
            "Test set: Average loss: 11127.4128, Accuracy: 5984/10000 (59.84%)\n",
            "\n",
            "EPOCH: 4\n"
          ],
          "name": "stdout"
        },
        {
          "output_type": "stream",
          "text": [
            "Loss=1.078700065612793 Batch_id=390 Accuracy=68.34: 100%|██████████| 391/391 [00:13<00:00, 28.28it/s]\n",
            "Clipping input data to the valid range for imshow with RGB data ([0..1] for floats or [0..255] for integers).\n"
          ],
          "name": "stderr"
        },
        {
          "output_type": "stream",
          "text": [
            "\n",
            "Test set: Average loss: 10881.4826, Accuracy: 6186/10000 (61.86%)\n",
            "\n",
            "Actual Labels\n",
            "horse  frog   car truck   dog   cat   dog   car  bird plane\n",
            "Predicted Labels\n",
            "  cat   cat  ship   cat  bird   dog   cat   cat  deer  bird\n"
          ],
          "name": "stdout"
        },
        {
          "output_type": "display_data",
          "data": {
            "image/png": "[encoded data removed]",
            "text/plain": [
              "<Figure size 432x288 with 2 Axes>"
            ]
          },
          "metadata": {
            "tags": [],
            "needs_background": "light"
          }
        },
        {
          "output_type": "display_data",
          "data": {
            "image/png": "[encoded data removed]",
            "text/plain": [
              "<Figure size 1080x1080 with 1 Axes>"
            ]
          },
          "metadata": {
            "tags": [],
            "needs_background": "light"
          }
        }
      ]
    },
    {
      "cell_type": "code",
      "metadata": {
        "id": "A8i6aDg_3PTO"
      },
      "source": [
        "#\n",
        "\n",
        "#test_10_images = torch.stack(test_10_images)\n",
        "#print(test_10_images.dtype)\n",
        "##print(test_10_images)\n",
        "#grid = torchvision.utils.make_grid(torch.stack(test_fail_data), nrow=5)\n",
        "#plt.figure(figsize=(15,15))\n",
        "#plt.imshow(np.transpose(grid, (1,2,0)))"
      ],
      "execution_count": 17,
      "outputs": []
    }
  ]
}