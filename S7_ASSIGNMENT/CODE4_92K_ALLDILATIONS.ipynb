{
  "nbformat": 4,
  "nbformat_minor": 0,
  "metadata": {
    "accelerator": "GPU",
    "colab": {
      "name": "3MODELS.ipynb",
      "provenance": [],
      "collapsed_sections": [],
      "include_colab_link": true
    },
    "kernelspec": {
      "display_name": "Python 3",
      "name": "python3"
    },
    "language_info": {
      "name": "python"
    }
  },
  "cells": [
    {
      "cell_type": "markdown",
      "metadata": {
        "id": "view-in-github",
        "colab_type": "text"
      },
      "source": [
        "<a href=\"https://colab.research.google.com/github/raghunadh-eva/eva6/blob/master/S7_ASSIGNMENT/CODE4_92K_ALLDILATIONS.ipynb\" target=\"_parent\"><img src=\"https://colab.research.google.com/assets/colab-badge.svg\" alt=\"Open In Colab\"/></a>"
      ]
    },
    {
      "cell_type": "markdown",
      "metadata": {
        "id": "89D3tlw_dJnV"
      },
      "source": [
        "**Basic setup block**\n",
        "\n",
        "\n",
        "*   Load the required utils/libraries\n",
        "*   Setup the transformations needed to load the data\n",
        "*   Split the input data into train and test\n",
        "*   Create the train and test data objects\n",
        "\n",
        "\n",
        "\n"
      ]
    },
    {
      "cell_type": "code",
      "metadata": {
        "id": "c2UphvIXcJ4D",
        "colab": {
          "base_uri": "https://localhost:8080/"
        },
        "outputId": "79cdd544-140c-435d-f894-1dde43a49854"
      },
      "source": [
        "from __future__ import print_function\n",
        "import torch\n",
        "import torch.nn as nn\n",
        "import torch.nn.functional as F\n",
        "import torch.optim as optim\n",
        "import torchvision\n",
        "from torchvision import datasets, transforms, utils\n",
        "%matplotlib inline\n",
        "import matplotlib.pyplot as plt\n",
        "from torch.optim.lr_scheduler import StepLR\n",
        "!pip install torchsummary\n",
        "from torchsummary import summary\n",
        "import numpy as np"
      ],
      "execution_count": 1,
      "outputs": [
        {
          "output_type": "stream",
          "text": [
            "Requirement already satisfied: torchsummary in /usr/local/lib/python3.7/dist-packages (1.5.1)\n"
          ],
          "name": "stdout"
        }
      ]
    },
    {
      "cell_type": "code",
      "metadata": {
        "colab": {
          "base_uri": "https://localhost:8080/"
        },
        "id": "7juHzCDavqqZ",
        "outputId": "960c216a-2651-40e4-c0ff-e35a72a476c0"
      },
      "source": [
        "!pip install -U albumentations\n",
        "import albumentations as A\n",
        "import cv2\n",
        "\n",
        "\n",
        "import albumentations as A\n",
        "from albumentations.pytorch import ToTensorV2"
      ],
      "execution_count": 2,
      "outputs": [
        {
          "output_type": "stream",
          "text": [
            "Requirement already up-to-date: albumentations in /usr/local/lib/python3.7/dist-packages (1.0.0)\n",
            "Requirement already satisfied, skipping upgrade: PyYAML in /usr/local/lib/python3.7/dist-packages (from albumentations) (3.13)\n",
            "Requirement already satisfied, skipping upgrade: opencv-python-headless>=4.1.1 in /usr/local/lib/python3.7/dist-packages (from albumentations) (4.5.2.54)\n",
            "Requirement already satisfied, skipping upgrade: numpy>=1.11.1 in /usr/local/lib/python3.7/dist-packages (from albumentations) (1.19.5)\n",
            "Requirement already satisfied, skipping upgrade: scipy in /usr/local/lib/python3.7/dist-packages (from albumentations) (1.4.1)\n",
            "Requirement already satisfied, skipping upgrade: scikit-image>=0.16.1 in /usr/local/lib/python3.7/dist-packages (from albumentations) (0.16.2)\n",
            "Requirement already satisfied, skipping upgrade: PyWavelets>=0.4.0 in /usr/local/lib/python3.7/dist-packages (from scikit-image>=0.16.1->albumentations) (1.1.1)\n",
            "Requirement already satisfied, skipping upgrade: imageio>=2.3.0 in /usr/local/lib/python3.7/dist-packages (from scikit-image>=0.16.1->albumentations) (2.4.1)\n",
            "Requirement already satisfied, skipping upgrade: matplotlib!=3.0.0,>=2.0.0 in /usr/local/lib/python3.7/dist-packages (from scikit-image>=0.16.1->albumentations) (3.2.2)\n",
            "Requirement already satisfied, skipping upgrade: pillow>=4.3.0 in /usr/local/lib/python3.7/dist-packages (from scikit-image>=0.16.1->albumentations) (7.1.2)\n",
            "Requirement already satisfied, skipping upgrade: networkx>=2.0 in /usr/local/lib/python3.7/dist-packages (from scikit-image>=0.16.1->albumentations) (2.5.1)\n",
            "Requirement already satisfied, skipping upgrade: python-dateutil>=2.1 in /usr/local/lib/python3.7/dist-packages (from matplotlib!=3.0.0,>=2.0.0->scikit-image>=0.16.1->albumentations) (2.8.1)\n",
            "Requirement already satisfied, skipping upgrade: kiwisolver>=1.0.1 in /usr/local/lib/python3.7/dist-packages (from matplotlib!=3.0.0,>=2.0.0->scikit-image>=0.16.1->albumentations) (1.3.1)\n",
            "Requirement already satisfied, skipping upgrade: pyparsing!=2.0.4,!=2.1.2,!=2.1.6,>=2.0.1 in /usr/local/lib/python3.7/dist-packages (from matplotlib!=3.0.0,>=2.0.0->scikit-image>=0.16.1->albumentations) (2.4.7)\n",
            "Requirement already satisfied, skipping upgrade: cycler>=0.10 in /usr/local/lib/python3.7/dist-packages (from matplotlib!=3.0.0,>=2.0.0->scikit-image>=0.16.1->albumentations) (0.10.0)\n",
            "Requirement already satisfied, skipping upgrade: decorator<5,>=4.3 in /usr/local/lib/python3.7/dist-packages (from networkx>=2.0->scikit-image>=0.16.1->albumentations) (4.4.2)\n",
            "Requirement already satisfied, skipping upgrade: six>=1.5 in /usr/local/lib/python3.7/dist-packages (from python-dateutil>=2.1->matplotlib!=3.0.0,>=2.0.0->scikit-image>=0.16.1->albumentations) (1.15.0)\n"
          ],
          "name": "stdout"
        }
      ]
    },
    {
      "cell_type": "code",
      "metadata": {
        "id": "hYM0Q5RKfHyR"
      },
      "source": [
        "test_transforms  = transforms.Compose([\n",
        "                                       transforms.ToTensor(),\n",
        "                                       transforms.Normalize((0.4914,0.4822,0.4465), (0.247,0.2435,0.2616))\n",
        "                                      ])"
      ],
      "execution_count": 3,
      "outputs": []
    },
    {
      "cell_type": "code",
      "metadata": {
        "id": "LD5RlnxdxSzs"
      },
      "source": [
        "train_transforms_a = A.Compose([\n",
        "                                       A.Normalize(mean=(0.4914, 0.4822, 0.4465), std=(0.247, 0.2435, 0.2616)),\n",
        "                                       A.HorizontalFlip(p=0.5),\n",
        "                                       A.ShiftScaleRotate(),\n",
        "                                       A.CoarseDropout(max_holes=1,max_height=16,max_width=16,min_holes=1,min_height=16,min_width=16,fill_value=(0.4914, 0.4822, 0.4465),mask_fill_value=None),\n",
        "                                       ToTensorV2()\n",
        "                                       ])"
      ],
      "execution_count": 4,
      "outputs": []
    },
    {
      "cell_type": "code",
      "metadata": {
        "id": "oejBzxzq50tX"
      },
      "source": [
        "import cv2\n",
        "import torchvision\n",
        "\n",
        "##copied from albumentations.io\n",
        "cv2.setNumThreads(0)\n",
        "cv2.ocl.setUseOpenCL(False)\n",
        "\n",
        "class data_albumentations(datasets.CIFAR10):\n",
        "    def __init__(self, root=\"~/data/cifar10\", train=True, download=True, transform=None):\n",
        "        super().__init__(root=root, train=train, download=download, transform=transform)\n",
        "\n",
        "    def __getitem__(self, index):\n",
        "        image, label = self.data[index], self.targets[index]\n",
        "\n",
        "        if self.transform is not None:\n",
        "            transformed = self.transform(image=image)\n",
        "            image = transformed[\"image\"]\n",
        "\n",
        "        return image, label\n",
        "\n"
      ],
      "execution_count": 5,
      "outputs": []
    },
    {
      "cell_type": "code",
      "metadata": {
        "id": "t8fMRGI4h-bV",
        "colab": {
          "base_uri": "https://localhost:8080/"
        },
        "outputId": "6d0f9aa7-f279-4219-fd1a-82156572b216"
      },
      "source": [
        "#train = datasets.CIFAR10('./data', train=True,  download=True, transform=train_transforms)\n",
        "train = data_albumentations(train=True,  download=True, transform=train_transforms_a)\n",
        "test =  datasets.CIFAR10('./data', train=False, download=True, transform=test_transforms)\n"
      ],
      "execution_count": 6,
      "outputs": [
        {
          "output_type": "stream",
          "text": [
            "Files already downloaded and verified\n",
            "Files already downloaded and verified\n"
          ],
          "name": "stdout"
        }
      ]
    },
    {
      "cell_type": "code",
      "metadata": {
        "colab": {
          "base_uri": "https://localhost:8080/"
        },
        "id": "tOstmqZoiluZ",
        "outputId": "f2d168bb-34a6-4681-d4a4-afe3ae61c063"
      },
      "source": [
        "#Always start with same random set everytime\n",
        "SEED = 1\n",
        "\n",
        "#Is GPU ?\n",
        "cuda = torch.cuda.is_available()\n",
        "\n",
        "print('CUDA Available?',cuda)\n",
        "\n",
        "#what happens when SEED = 2 ?\n",
        "torch.manual_seed(SEED)\n",
        "\n",
        "#set the seed for GPU device as well\n",
        "if cuda:\n",
        "  torch.cuda.manual_seed(SEED)\n",
        "\n",
        "device = torch.device(\"cuda\" if cuda else \"cpu\")\n",
        "print(device)\n",
        "\n",
        "dataloader_args = dict(shuffle=True, batch_size=128, num_workers=2, pin_memory=True) if cuda else dict(shuffle=True, batch_size=64)\n",
        "#Why change batch_size for CPU - since it should not matter\n",
        "\n",
        "train_loader = torch.utils.data.DataLoader(train, **dataloader_args)\n",
        "\n",
        "\n",
        "test_loader  = torch.utils.data.DataLoader(test, **dataloader_args)\n",
        "\n",
        "classes = ('plane', 'car', 'bird', 'cat',\n",
        "           'deer', 'dog', 'frog', 'horse', 'ship', 'truck')\n",
        "\n",
        "##Why shuffle=false in the example provided ?"
      ],
      "execution_count": 7,
      "outputs": [
        {
          "output_type": "stream",
          "text": [
            "CUDA Available? True\n",
            "cuda\n"
          ],
          "name": "stdout"
        }
      ]
    },
    {
      "cell_type": "markdown",
      "metadata": {
        "id": "81Z01DMclQgP"
      },
      "source": [
        "**Visualize the input data with image standardization**\n"
      ]
    },
    {
      "cell_type": "code",
      "metadata": {
        "id": "ZW6kBIPPsAJ6"
      },
      "source": [
        "image_loader = torch.utils.data.DataLoader(train, shuffle=True,batch_size=4)\n",
        "\n",
        "def imshow(img):\n",
        "    npimg = img.numpy()\n",
        "    npimg[0] = (npimg[0] * 0.247) + 0.4914\n",
        "    npimg[1] = (npimg[1] * 0.2435) + 0.4822\n",
        "    npimg[2] = (npimg[2] * 0.2616) + 0.4465\n",
        "    #we can use this directly but simply converting to tensor and converting back\n",
        "    timg = torch.from_numpy(npimg)\n",
        "    nimg = timg.numpy()\n",
        "    plt.imshow(np.transpose(nimg, (1, 2, 0)))\n",
        "\n",
        "# get some random training images\n",
        "dataiter = iter(image_loader)\n",
        "images, labels = dataiter.next()\n",
        "\n",
        "# show images\n",
        "#imshow(torchvision.utils.make_grid(images))\n",
        "#print(classes[labels[10]])\n",
        "#print(' '.join('%5s' % classes[labels[j]] for j in range(4)))"
      ],
      "execution_count": 8,
      "outputs": []
    },
    {
      "cell_type": "markdown",
      "metadata": {
        "id": "dv3mXm9isgs6"
      },
      "source": [
        "**Visualize the input data without image standardization**\n",
        "\n"
      ]
    },
    {
      "cell_type": "code",
      "metadata": {
        "id": "z7LD-U8Mlaxg",
        "colab": {
          "base_uri": "https://localhost:8080/"
        },
        "outputId": "149674c9-de58-4050-fd67-5298ac4a4014"
      },
      "source": [
        "#Comment this block from CODE2 onwards\n",
        "train_nonorm_transforms = transforms.Compose([\n",
        "                                       transforms.ToTensor()\n",
        "                                       #transforms.Normalize((0.1307,), (0.3081,))\n",
        "                                       #transforms.RandomRotation((-7.0,7.0),fill=(0,)), #Ideally use mean - adding #0 since MNIST dark pixels and no-information around the borders\n",
        "                                       #transforms.ColorJitter(brightness = 0.1, contrast= 0.1, saturation = 0.1, hue =0.1),\n",
        "                                       #transforms.Resize((28,28)) #should be before converting to Tensor logically\n",
        "                                       ])\n",
        "test_nonorm_transforms  = transforms.Compose([\n",
        "                                       transforms.ToTensor()\n",
        "                                       #transforms.Normalize((0.1307,), (0.3081,))\n",
        "                                       #transforms.RandomRotation((-7.0,7.0),fill=(0,)), #Ideally use mean - adding #0 since MNIST dark pixels and no-information around the borders\n",
        "                                       #transforms.ColorJitter(brightness = 0.1, contrast= 0.1, saturation = 0.1, hue =0.1)\n",
        "                                       #transforms.Resize((28,28)) #should be before converting to Tensor logically\n",
        "                                      ])\n",
        "train_nonorm = datasets.CIFAR10('./data_nonorm', train=True,  download=True, transform=train_nonorm_transforms)\n",
        "test_nonorm =  datasets.CIFAR10('./data_nonorm', train=False, download=True, transform=test_nonorm_transforms)\n",
        "train_loader_nonorm = torch.utils.data.DataLoader(train_nonorm, **dataloader_args)\n",
        "test_loader_nonorm  = torch.utils.data.DataLoader(test_nonorm, **dataloader_args)"
      ],
      "execution_count": 9,
      "outputs": [
        {
          "output_type": "stream",
          "text": [
            "Files already downloaded and verified\n",
            "Files already downloaded and verified\n"
          ],
          "name": "stdout"
        }
      ]
    },
    {
      "cell_type": "code",
      "metadata": {
        "id": "IPCPA7N-LLY2"
      },
      "source": [
        "#chsum = 0\n",
        "##pbar = tqdm(train_loader_nonorm)\n",
        "\n",
        "#for index, (data,target) in enumerate(train_loader_nonorm):\n",
        "#    chsum += data.sum(dim=(0,2,3),keepdim=True)\n",
        "\n",
        "#mean = chsum / (len(train_nonorm) * 32 *32)\n",
        "#\n",
        "#chsum = None\n",
        "#for index, (data,target) in enumerate(train_loader_nonorm):\n",
        "#  if index == 0:\n",
        "#   print(data.min(),data.max())\n",
        "#   chsum = (data - mean).pow(2).sum(dim=(0,2,3),keepdim=True)\n",
        "#  else:\n",
        "#   chsum += (data - mean).pow(2).sum(dim=(0,2,3),keepdim=True)\n",
        "\n",
        "#std = torch.sqrt(chsum/(len(train_nonorm) * 32 * 32))\n",
        "#print(\"Traindata Mean\",mean)\n",
        "#print(\"Traindata std dev\",std)\n",
        "\n",
        "#chsum = 0\n",
        "\n",
        "#for index, (data,target) in enumerate(test_loader_nonorm):\n",
        "#    chsum += data.sum(dim=(0,2,3),keepdim=True)\n",
        "\n",
        "#mean = chsum / (len(test_nonorm) * 32 *32)\n",
        "\n",
        "#chsum = None\n",
        "#for index, (data,target) in enumerate(test_loader_nonorm):\n",
        "#  if index == 0:\n",
        "#    chsum = (data - mean).pow(2).sum(dim=(0,2,3),keepdim=True)\n",
        "#  else:\n",
        "#   chsum += (data - mean).pow(2).sum(dim=(0,2,3),keepdim=True)\n",
        "\n",
        "#std = torch.sqrt(chsum/(len(test_nonorm) * 32 * 32))\n",
        "#print(\"Test data Mean\",mean)\n",
        "#print(\"Test data std dev\",std)"
      ],
      "execution_count": 10,
      "outputs": []
    },
    {
      "cell_type": "code",
      "metadata": {
        "colab": {
          "base_uri": "https://localhost:8080/",
          "height": 283
        },
        "id": "2i0FYCLFEas_",
        "outputId": "b3756ca6-ab4d-4a74-d28f-c6e722ff6fbc"
      },
      "source": [
        "dataiter = iter(train_loader_nonorm)\n",
        "images, labels = dataiter.next()\n",
        "\n",
        "def imshow_nonorm(img):\n",
        "    img = img     # unnormalize\n",
        "    npimg = img.numpy()\n",
        "    plt.imshow(np.transpose(npimg, (1, 2, 0)))\n",
        "    \n",
        "# show images\n",
        "imshow_nonorm(torchvision.utils.make_grid(images[10]))\n",
        "\n",
        "print(classes[labels[10]])\n",
        "#print(' '.join('%5s' % classes[labels[j]] for j in range(4)))"
      ],
      "execution_count": 11,
      "outputs": [
        {
          "output_type": "stream",
          "text": [
            "ship\n"
          ],
          "name": "stdout"
        },
        {
          "output_type": "display_data",
          "data": {
            "image/png": "[encoded data removed]",
            "text/plain": [
              "<Figure size 432x288 with 1 Axes>"
            ]
          },
          "metadata": {
            "tags": [],
            "needs_background": "light"
          }
        }
      ]
    },
    {
      "cell_type": "markdown",
      "metadata": {
        "id": "7bYxdYKtQBk9"
      },
      "source": [
        "**####Batch Normalization + L1 LOSS**"
      ]
    },
    {
      "cell_type": "code",
      "metadata": {
        "id": "5pSLtPQPvktt"
      },
      "source": [
        "dropout_perc = 0.05\n",
        "\n",
        "class BatchNormNet(nn.Module):\n",
        "    def __init__(self):\n",
        "        super(BatchNormNet, self).__init__()\n",
        "\n",
        "        #BLOCK C1\n",
        "        self.convblock1 = nn.Sequential(\n",
        "            nn.Conv2d(in_channels=3, out_channels=32, kernel_size=(3, 3), padding=1, dilation = 1,bias=False),\n",
        "            nn.BatchNorm2d(32),\n",
        "            nn.ReLU(),\n",
        "            nn.Dropout(dropout_perc)\n",
        "        ) \n",
        "\n",
        "        self.convblock2 = nn.Sequential(\n",
        "            nn.Conv2d(in_channels=32, out_channels=64, kernel_size=(3, 3), padding=1, dilation = 1,bias=False),\n",
        "            nn.BatchNorm2d(64),\n",
        "            nn.ReLU(),\n",
        "            nn.Dropout(dropout_perc)\n",
        "        ) \n",
        "        \n",
        "       #BLOCK C1 TRANSITION\n",
        "        self.convblock4 = nn.Sequential(\n",
        "            nn.Conv2d(in_channels=64, out_channels=32, kernel_size=(1, 1), padding=0, bias=False),\n",
        "        ) \n",
        "\n",
        "        #self.pool1 = nn.MaxPool2d(2, 2) # output_size = 16 ; #Receptive field = 8x8\n",
        "        #Drop maxPooling and use strided convolution\n",
        "        self.pool1 = nn.Sequential(\n",
        "            nn.Conv2d(in_channels=32, out_channels=64, kernel_size=(3, 3), stride=2, padding=1, dilation =1, bias=False),\n",
        "            nn.BatchNorm2d(64),\n",
        "            nn.ReLU(),\n",
        "            nn.Dropout(dropout_perc)\n",
        "        )\n",
        "        #Use dilated kernels instead of Max pooling / stride =2 conv\n",
        "        self.pool1_dilation = nn.Sequential(\n",
        "            nn.Conv2d(in_channels=32, out_channels=64, groups = 32 , kernel_size=(3, 3), dilation=2, padding=0, bias=False),\n",
        "            nn.BatchNorm2d(64),\n",
        "            nn.ReLU(),\n",
        "            nn.Dropout(dropout_perc),\n",
        "            nn.Conv2d(in_channels=64, out_channels=128, groups = 64 ,kernel_size=(3, 3), dilation=2, padding=0, bias=False),\n",
        "            nn.BatchNorm2d(128),\n",
        "            nn.ReLU(),\n",
        "            nn.Dropout(dropout_perc),\n",
        "            #nn.Conv2d(in_channels=128, out_channels=256, groups = 128 , kernel_size=(3, 3), dilation=2, padding=0, bias=False),\n",
        "            #nn.BatchNorm2d(256),\n",
        "            #nn.ReLU(),\n",
        "            #nn.Dropout(dropout_perc),\n",
        "            #nn.Conv2d(in_channels=256, out_channels=512, groups = 256 ,kernel_size=(3, 3), dilation=2, padding=0, bias=False),\n",
        "            #nn.BatchNorm2d(512),\n",
        "            #nn.ReLU(),\n",
        "            #nn.Dropout(dropout_perc),\n",
        "            nn.Conv2d(in_channels=128, out_channels=64, kernel_size=(1, 1), padding=0, bias=False)\n",
        "        )\n",
        "        #BLOCK C2\n",
        "        \n",
        "        self.convblock5 = nn.Sequential(\n",
        "            nn.Conv2d(in_channels=64, out_channels=128, groups = 64, kernel_size=(3, 3), padding=2, dilation = 2 ,bias=False),\n",
        "            nn.BatchNorm2d(128),\n",
        "            nn.ReLU(),\n",
        "            nn.Dropout(dropout_perc)\n",
        "        )\n",
        "        \n",
        "        self.convblock6 = nn.Sequential(\n",
        "            nn.Conv2d(in_channels=128, out_channels=256, groups = 128, kernel_size=(3, 3), padding=0, dilation =2, bias=False),\n",
        "            nn.BatchNorm2d(256),\n",
        "            nn.ReLU(),\n",
        "            nn.Dropout(dropout_perc)\n",
        "        )\n",
        "\n",
        "        self.convblock6a = nn.Sequential(\n",
        "            nn.Conv2d(in_channels=256, out_channels=512, groups = 256, kernel_size=(3, 3), padding=0, dilation =2, bias=False),\n",
        "            nn.BatchNorm2d(512),\n",
        "            nn.ReLU(),\n",
        "            nn.Dropout(dropout_perc)\n",
        "        )  \n",
        "\n",
        "        \n",
        "        #BLOCK C2 TRANSITION\n",
        "        self.convblock7 = nn.Sequential(\n",
        "            nn.Conv2d(in_channels=512, out_channels=32, kernel_size=(1, 1), padding=0, bias=False),\n",
        "        ) \n",
        "        \n",
        "        \n",
        "        #self.pool2 = nn.MaxPool2d(2, 2) # output_size = 8 ; #Receptive field = 8x8\n",
        "        self.pool2 = nn.Sequential(\n",
        "            nn.Conv2d(in_channels=32, out_channels=64, kernel_size=(3, 3), stride=2, padding=1, dilation = 1,bias=False),\n",
        "            nn.BatchNorm2d(64),\n",
        "            nn.ReLU(),\n",
        "            nn.Dropout(dropout_perc)\n",
        "        )\n",
        "        self.pool2_dilation = nn.Sequential(\n",
        "            nn.Conv2d(in_channels=32, out_channels=64, groups = 32, kernel_size=(3, 3), padding=0, dilation =2,bias=False),\n",
        "            nn.BatchNorm2d(64),\n",
        "            nn.ReLU(),\n",
        "            nn.Dropout(dropout_perc),\n",
        "            nn.Conv2d(in_channels=64, out_channels=128, groups = 64, kernel_size=(3, 3), padding=0, dilation =2,bias=False),\n",
        "            nn.BatchNorm2d(128),\n",
        "            nn.ReLU(),\n",
        "            nn.Dropout(dropout_perc),\n",
        "            nn.Conv2d(in_channels=128, out_channels=32, kernel_size=(1, 1), padding=0,bias=False)\n",
        "        )\n",
        "\n",
        "        #BLOCK C3\n",
        "\n",
        "        self.convblock8a = nn.Sequential(\n",
        "            nn.Conv2d(in_channels=32, out_channels=64, groups = 32, kernel_size=(3, 3), padding=2, dilation =2,bias=False),\n",
        "            nn.BatchNorm2d(64),\n",
        "            nn.ReLU(),\n",
        "            nn.Dropout(dropout_perc)\n",
        "        )\n",
        "        \n",
        "        self.convblock8 = nn.Sequential(\n",
        "            nn.Conv2d(in_channels=64, out_channels=128, groups = 64, kernel_size=(3, 3), padding=2, dilation =2,bias=False),\n",
        "            nn.BatchNorm2d(128),\n",
        "            nn.ReLU(),\n",
        "            nn.Dropout(dropout_perc)\n",
        "        )\n",
        "        \n",
        "        self.convblock9 = nn.Sequential(\n",
        "            nn.Conv2d(in_channels=128, out_channels=256, groups = 128, kernel_size=(3, 3), padding=2, dilation=2 , bias=False),\n",
        "            nn.BatchNorm2d(256),\n",
        "            nn.ReLU(),\n",
        "            nn.Dropout(dropout_perc)\n",
        "        ) \n",
        "\n",
        "        #BLOCK C3 TRANSITION\n",
        "        self.convblock10 = nn.Sequential(\n",
        "            nn.Conv2d(in_channels=256, out_channels=32, kernel_size=(1, 1), padding=0, bias=False),\n",
        "        ) \n",
        "        \n",
        "        #self.pool2 = nn.MaxPool2d(2, 2) # output_size = 8 ; #Receptive field = 8x8\n",
        "        self.pool3 = nn.Sequential(\n",
        "            nn.Conv2d(in_channels=32, out_channels=64, kernel_size=(3, 3), stride=2, padding=1, dilation = 1,bias=False),\n",
        "            nn.BatchNorm2d(64),\n",
        "            nn.ReLU(),\n",
        "            nn.Dropout(dropout_perc)\n",
        "        )\n",
        "        \n",
        "        self.pool3_dilation = nn.Sequential(\n",
        "            nn.Conv2d(in_channels=32, out_channels=64, groups=32 , kernel_size=(3, 3), padding=0, dilation = 2,bias=False),\n",
        "            nn.BatchNorm2d(64),\n",
        "            nn.ReLU(),\n",
        "            nn.Dropout(dropout_perc)\n",
        "        )\n",
        "        #BLOCK C4\n",
        "        \n",
        "        \n",
        "        self.convblock11 = nn.Sequential(\n",
        "            nn.Conv2d(in_channels=64, out_channels=128, groups = 64, kernel_size=(3, 3), padding=2, dilation=2 , bias=False),\n",
        "            nn.BatchNorm2d(128),\n",
        "            nn.ReLU(),\n",
        "            nn.Dropout(dropout_perc)\n",
        "        ) \n",
        "        \n",
        "        self.convblock12 = nn.Sequential(\n",
        "            nn.Conv2d(in_channels=128, out_channels=256, groups = 128 , kernel_size=(3, 3), padding=2, dilation =2,bias=False),\n",
        "            nn.BatchNorm2d(256),\n",
        "            nn.ReLU(),\n",
        "            nn.Dropout(dropout_perc)\n",
        "        )\n",
        "\n",
        "        self.convblock25 = nn.Sequential(\n",
        "            nn.Conv2d(in_channels=256, groups = 256, out_channels=512, kernel_size=(3, 3), padding=2, dilation=2, bias=False)\n",
        "        ) \n",
        "\n",
        "                 \n",
        "        # OUTPUT BLOCK\n",
        "        self.gap = nn.Sequential(\n",
        "            nn.AvgPool2d(kernel_size=4)\n",
        "        ) # output_size = 1\n",
        "\n",
        "        self.convblock13 = nn.Sequential(\n",
        "            nn.Linear(512,10,0)\n",
        "        )\n",
        "\n",
        "    def forward(self, x):\n",
        "        x = self.convblock1(x)\n",
        "        x = self.convblock2(x)\n",
        "        x = self.convblock4(x)\n",
        "        \n",
        "        #x = self.pool1(x)\n",
        "        x = self.pool1_dilation(x)\n",
        "        \n",
        "        x = self.convblock5(x)\n",
        "        x = self.convblock6(x)\n",
        "        x = self.convblock6a(x)\n",
        "        x = self.convblock7(x)\n",
        "\n",
        "        #x = self.pool2(x)\n",
        "        x = self.pool2_dilation(x)\n",
        "\n",
        "        x = self.convblock8a(x)\n",
        "        x = self.convblock8(x)\n",
        "        x = self.convblock9(x)\n",
        "        x = self.convblock10(x)\n",
        "\n",
        "        #x = self.pool3(x)\n",
        "        x = self.pool3_dilation(x)\n",
        "        \n",
        "        x = self.convblock11(x)\n",
        "        x = self.convblock12(x)\n",
        "        x = self.convblock25(x)\n",
        "        x = self.gap(x)\n",
        "        \n",
        "        x = x.view(x.size(0), -1)\n",
        "        x = self.convblock13(x)\n",
        "   \n",
        "        return F.log_softmax(x, dim=-1)"
      ],
      "execution_count": 12,
      "outputs": []
    },
    {
      "cell_type": "code",
      "metadata": {
        "colab": {
          "base_uri": "https://localhost:8080/"
        },
        "id": "yxbYtWxRvP6I",
        "outputId": "30f8a22f-2f57-4300-f0e5-fe8686ce93cb"
      },
      "source": [
        "model = BatchNormNet().to(device)\n",
        "summary(model, input_size=(3, 32, 32))"
      ],
      "execution_count": 13,
      "outputs": [
        {
          "output_type": "stream",
          "text": [
            "----------------------------------------------------------------\n",
            "        Layer (type)               Output Shape         Param #\n",
            "================================================================\n",
            "            Conv2d-1           [-1, 32, 32, 32]             864\n",
            "       BatchNorm2d-2           [-1, 32, 32, 32]              64\n",
            "              ReLU-3           [-1, 32, 32, 32]               0\n",
            "           Dropout-4           [-1, 32, 32, 32]               0\n",
            "            Conv2d-5           [-1, 64, 32, 32]          18,432\n",
            "       BatchNorm2d-6           [-1, 64, 32, 32]             128\n",
            "              ReLU-7           [-1, 64, 32, 32]               0\n",
            "           Dropout-8           [-1, 64, 32, 32]               0\n",
            "            Conv2d-9           [-1, 32, 32, 32]           2,048\n",
            "           Conv2d-10           [-1, 64, 28, 28]             576\n",
            "      BatchNorm2d-11           [-1, 64, 28, 28]             128\n",
            "             ReLU-12           [-1, 64, 28, 28]               0\n",
            "          Dropout-13           [-1, 64, 28, 28]               0\n",
            "           Conv2d-14          [-1, 128, 24, 24]           1,152\n",
            "      BatchNorm2d-15          [-1, 128, 24, 24]             256\n",
            "             ReLU-16          [-1, 128, 24, 24]               0\n",
            "          Dropout-17          [-1, 128, 24, 24]               0\n",
            "           Conv2d-18           [-1, 64, 24, 24]           8,192\n",
            "           Conv2d-19          [-1, 128, 24, 24]           1,152\n",
            "      BatchNorm2d-20          [-1, 128, 24, 24]             256\n",
            "             ReLU-21          [-1, 128, 24, 24]               0\n",
            "          Dropout-22          [-1, 128, 24, 24]               0\n",
            "           Conv2d-23          [-1, 256, 20, 20]           2,304\n",
            "      BatchNorm2d-24          [-1, 256, 20, 20]             512\n",
            "             ReLU-25          [-1, 256, 20, 20]               0\n",
            "          Dropout-26          [-1, 256, 20, 20]               0\n",
            "           Conv2d-27          [-1, 512, 16, 16]           4,608\n",
            "      BatchNorm2d-28          [-1, 512, 16, 16]           1,024\n",
            "             ReLU-29          [-1, 512, 16, 16]               0\n",
            "          Dropout-30          [-1, 512, 16, 16]               0\n",
            "           Conv2d-31           [-1, 32, 16, 16]          16,384\n",
            "           Conv2d-32           [-1, 64, 12, 12]             576\n",
            "      BatchNorm2d-33           [-1, 64, 12, 12]             128\n",
            "             ReLU-34           [-1, 64, 12, 12]               0\n",
            "          Dropout-35           [-1, 64, 12, 12]               0\n",
            "           Conv2d-36            [-1, 128, 8, 8]           1,152\n",
            "      BatchNorm2d-37            [-1, 128, 8, 8]             256\n",
            "             ReLU-38            [-1, 128, 8, 8]               0\n",
            "          Dropout-39            [-1, 128, 8, 8]               0\n",
            "           Conv2d-40             [-1, 32, 8, 8]           4,096\n",
            "           Conv2d-41             [-1, 64, 8, 8]             576\n",
            "      BatchNorm2d-42             [-1, 64, 8, 8]             128\n",
            "             ReLU-43             [-1, 64, 8, 8]               0\n",
            "          Dropout-44             [-1, 64, 8, 8]               0\n",
            "           Conv2d-45            [-1, 128, 8, 8]           1,152\n",
            "      BatchNorm2d-46            [-1, 128, 8, 8]             256\n",
            "             ReLU-47            [-1, 128, 8, 8]               0\n",
            "          Dropout-48            [-1, 128, 8, 8]               0\n",
            "           Conv2d-49            [-1, 256, 8, 8]           2,304\n",
            "      BatchNorm2d-50            [-1, 256, 8, 8]             512\n",
            "             ReLU-51            [-1, 256, 8, 8]               0\n",
            "          Dropout-52            [-1, 256, 8, 8]               0\n",
            "           Conv2d-53             [-1, 32, 8, 8]           8,192\n",
            "           Conv2d-54             [-1, 64, 4, 4]             576\n",
            "      BatchNorm2d-55             [-1, 64, 4, 4]             128\n",
            "             ReLU-56             [-1, 64, 4, 4]               0\n",
            "          Dropout-57             [-1, 64, 4, 4]               0\n",
            "           Conv2d-58            [-1, 128, 4, 4]           1,152\n",
            "      BatchNorm2d-59            [-1, 128, 4, 4]             256\n",
            "             ReLU-60            [-1, 128, 4, 4]               0\n",
            "          Dropout-61            [-1, 128, 4, 4]               0\n",
            "           Conv2d-62            [-1, 256, 4, 4]           2,304\n",
            "      BatchNorm2d-63            [-1, 256, 4, 4]             512\n",
            "             ReLU-64            [-1, 256, 4, 4]               0\n",
            "          Dropout-65            [-1, 256, 4, 4]               0\n",
            "           Conv2d-66            [-1, 512, 4, 4]           4,608\n",
            "        AvgPool2d-67            [-1, 512, 1, 1]               0\n",
            "           Linear-68                   [-1, 10]           5,120\n",
            "================================================================\n",
            "Total params: 92,064\n",
            "Trainable params: 92,064\n",
            "Non-trainable params: 0\n",
            "----------------------------------------------------------------\n",
            "Input size (MB): 0.01\n",
            "Forward/backward pass size (MB): 18.47\n",
            "Params size (MB): 0.35\n",
            "Estimated Total Size (MB): 18.84\n",
            "----------------------------------------------------------------\n"
          ],
          "name": "stdout"
        }
      ]
    },
    {
      "cell_type": "markdown",
      "metadata": {
        "id": "ghFiQ6mjQXdl"
      },
      "source": [
        "####LayerNorm Normalization + L1 LOSS"
      ]
    },
    {
      "cell_type": "markdown",
      "metadata": {
        "id": "SuN00vTAQphA"
      },
      "source": [
        "**`####Group normalization network + L1 LOSS`**"
      ]
    },
    {
      "cell_type": "code",
      "metadata": {
        "id": "33qg7uBpxtYe"
      },
      "source": [
        "from tqdm import tqdm\n",
        "\n",
        "test_fail_data = []\n",
        "test_fail_target = []\n",
        "test_pred_target = []\n",
        "test_losses = []\n",
        "test_acc = []\n",
        "train_acc = []\n",
        "train_losses = []\n",
        "\n",
        "loss_function = nn.CrossEntropyLoss()\n",
        "\n",
        "def train(model, device, train_loader, optimizer, epoch):\n",
        "  model.train()\n",
        "  pbar = tqdm(train_loader)\n",
        "\n",
        "  l1_lamda = 0.0001\n",
        "  \n",
        "  correct = 0\n",
        "  processed = 0\n",
        "  for batch_idx, (data, target) in enumerate(pbar):\n",
        "    # get samples\n",
        "    data, target = data.to(device), target.to(device)\n",
        "\n",
        "    # Init\n",
        "    optimizer.zero_grad()\n",
        "    # In PyTorch, we need to set the gradients to zero before starting to do backpropragation because PyTorch accumulates the gradients on subsequent backward passes. \n",
        "    # Because of this, when you start your training loop, ideally you should zero out the gradients so that you do the parameter update correctly.\n",
        "\n",
        "    # Predict\n",
        "    y_pred = model(data)\n",
        "\n",
        "    # Calculate loss\n",
        "    #Cross entropy loss\n",
        "    #loss = F.nll_loss(y_pred, target)\n",
        "    loss = loss_function(y_pred,target)\n",
        "    #\n",
        "\n",
        "    ##Add L1 Loss\n",
        "    l1 = 0\n",
        "    for p in model.parameters():\n",
        "      p_tensor = torch.sum(torch.abs(p))\n",
        "      l1 += p_tensor\n",
        "\n",
        "    loss = loss + l1_lamda * l1\n",
        "    \n",
        "    train_losses.append(loss)\n",
        "\n",
        "    # Backpropagation\n",
        "    loss.backward()\n",
        "    optimizer.step()\n",
        "\n",
        "    # Update pbar-tqdm\n",
        "    \n",
        "    pred = y_pred.argmax(dim=1, keepdim=True)  # get the index of the max log-probability\n",
        "    correct += pred.eq(target.view_as(pred)).sum().item()\n",
        "    processed += len(data)\n",
        "\n",
        "    pbar.set_description(desc= f'Loss={loss.item()} Batch_id={batch_idx} Accuracy={100*correct/processed:0.2f}')\n",
        "    train_acc.append(100*correct/processed)\n",
        "\n",
        "def test(model, device, test_loader):\n",
        "    test_fail_data = []\n",
        "    test_fail_target = []\n",
        "    test_pred_target = []\n",
        "\n",
        "    model.eval()\n",
        "    test_loss = 0\n",
        "    correct = 0\n",
        "    with torch.no_grad():\n",
        "        for data, target in test_loader:\n",
        "            data, target = data.to(device), target.to(device)\n",
        "            output = model(data)\n",
        "            test_loss += F.nll_loss(output, target, reduction='sum').item()  # sum up batch loss\n",
        "            pred = output.argmax(dim=1, keepdim=True)  # get the index of the max log-probability\n",
        "            #print(pred,target.view_as(pred))\n",
        "            correct += pred.eq(target.view_as(pred)).sum().item()\n",
        "            for i,x in enumerate(pred.eq(target.view_as(pred))):\n",
        "              if not x:\n",
        "                test_fail_data.append(data[i])\n",
        "                test_fail_target.append(target[i])\n",
        "                test_pred_target.append(pred[i])\n",
        "                #print(target[i])\n",
        "\n",
        "    test_losses.append(test_loss)\n",
        "    \n",
        "    print('\\nTest set: Average loss: {:.4f}, Accuracy: {}/{} ({:.2f}%)\\n'.format(\n",
        "        test_loss, correct, len(test_loader.dataset),\n",
        "        100. * correct / len(test_loader.dataset)))\n",
        "    \n",
        "    test_acc.append(100. * correct / len(test_loader.dataset))\n",
        "\n",
        "    return test_losses, test_acc, test_fail_data, test_fail_target, test_pred_target;"
      ],
      "execution_count": 14,
      "outputs": []
    },
    {
      "cell_type": "markdown",
      "metadata": {
        "id": "i_4SP4-nRGKG"
      },
      "source": [
        "**####Block to pass argment and call the Model**\n",
        "\n",
        "Pass the model to be Invoked based on Input Argument"
      ]
    },
    {
      "cell_type": "code",
      "metadata": {
        "id": "bf_rAU10xhSU"
      },
      "source": [
        "def main(input_model_type,EPOCHS):\n",
        "  if input_model_type == 0:\n",
        "    model = BatchNormNet().to(device)\n",
        "    test_10_images, test_10_images_target , test_10_pred_target = run_train_test(model,EPOCHS,input_model_type)\n",
        "    return test_10_images, test_10_images_target , test_10_pred_target ;\n",
        "  elif input_model_type == 1:\n",
        "    model = LayerNormNet().to(device)\n",
        "    test_10_images, test_10_images_target , test_10_pred_target = run_train_test(model,EPOCHS,input_model_type)\n",
        "    return test_10_images, test_10_images_target , test_10_pred_target ;\n",
        "  elif input_model_type == 2:\n",
        "    model = GroupNormNet().to(device)\n",
        "    test_10_images, test_10_images_target , test_10_pred_target = run_train_test(model,EPOCHS,input_model_type)\n",
        "    return test_10_images, test_10_images_target , test_10_pred_target ;\n",
        "  else:\n",
        "    print(\"Invalid input for input_model_type\",input_model_type)\n",
        "    print(\"Supported values are 0 = Batch Norm,1 = Layer Norm,2 = Group Norm\")\n",
        "\n",
        "def run_train_test(model,EPOCHS,input_model_type):\n",
        "  #summary(model, input_size=(3, 32, 32))\n",
        "  optimizer = optim.SGD(model.parameters(), lr=0.02, momentum=0.9)\n",
        "  scheduler = optim.lr_scheduler.StepLR(optimizer,step_size=10, gamma=0.7)\n",
        "\n",
        "  for epoch in range(EPOCHS):\n",
        "    #print(\"EPOCH:\", epoch)\n",
        "         \n",
        "    print('Epoch {}, lr {}'.format(\n",
        "        epoch, optimizer.param_groups[0]['lr']))\n",
        "    \n",
        "    train(model, device, train_loader, optimizer, epoch)\n",
        "    scheduler.step()\n",
        "    test_losses, test_acc, test_fail_data, test_fail_target, test_pred_target = test(model, device, test_loader)\n",
        "  \n",
        "  #print(test_fail_data)\n",
        "  fig, axs = plt.subplots(1, 2)\n",
        "  if input_model_type == 0:\n",
        "    fig.suptitle('Model Type: Batch normalization')\n",
        "  if input_model_type == 1:\n",
        "    fig.suptitle('Model Type: Layer normalization')\n",
        "  if input_model_type == 2:\n",
        "    fig.suptitle('Model Type: Group normalization')\n",
        "  \n",
        "  axs[0].set_title('Test/Validation Loss Graph')\n",
        "  axs[0].set_xticks(np.arange(1,EPOCHS+1))\n",
        "  #axs[0].xlabel('Test/Validation Loss Graph')\n",
        "  #axs[0].ylabel('LOSS')\n",
        "  axs[1].set_title('Test/Validation Accuracy Graph')\n",
        "  axs[1].set_xticks(np.arange(1,EPOCHS+1))\n",
        "  #axs[1].xlabel('Test/Validation Accuracy Graph')\n",
        "  #axs[1].ylabel('Accuracy')\n",
        "  \n",
        "  axs[0].plot(test_losses)\n",
        "  axs[1].plot(test_acc)\n",
        "\n",
        "  test_10_images = []\n",
        "  for i in range(0,10):\n",
        "    test_10_images.append(test_fail_data[i])\n",
        "  \n",
        "  test_10_images_target = []\n",
        "  for i in range(0,10):\n",
        "    test_10_images_target.append(test_fail_target[i])\n",
        "\n",
        "  test_10_pred_target = []\n",
        "  for i in range(0,10):\n",
        "    test_10_pred_target.append(test_pred_target[i])\n",
        "  #print(test_10_images_target)\n",
        "\n",
        "  print('Actual Labels')\n",
        "  print(' '.join('%5s' % classes[test_10_images_target[j]] for j in range(0,10)))\n",
        "  print('Predicted Labels')\n",
        "  print(' '.join('%5s' % classes[test_10_pred_target[j]] for j in range(0,10)))\n",
        "\n",
        "  test_10_images_unnorm = []\n",
        "  for img in test_10_images:\n",
        "    img = img.cpu()\n",
        "    img = img.numpy()\n",
        "    img[0] = img[0] * 0.247 + 0.4914\n",
        "    img[1] = img[1] * 0.2435 + 0.4822\n",
        "    img[2] = img[2] * 0.2616 + 0.4465\n",
        "\n",
        "    img = torch.from_numpy(img)\n",
        "    test_10_images_unnorm.append(img)\n",
        "  \n",
        "  grid = torchvision.utils.make_grid(torch.stack(test_10_images_unnorm).cpu(), nrow=5)\n",
        "  plt.figure(figsize=(5,5))\n",
        "  plt.imshow(np.transpose(grid, (1,2,0)))\n",
        "\n",
        "  return test_10_images, test_10_images_target , test_10_pred_target;"
      ],
      "execution_count": 15,
      "outputs": []
    },
    {
      "cell_type": "markdown",
      "metadata": {
        "id": "bEXmcfDRXoGN"
      },
      "source": [
        "**####Call to main function**\n",
        "\n",
        "main(input_model_type,EPOCHS)\n",
        "\n",
        "input_model_type:\n",
        "\n",
        "Supported values are\n",
        "\n",
        "0 = Train a model with Batch normalization\n",
        "\n",
        "1 = Train a model with Layer normalization\n",
        "\n",
        "2 = Train a model with Group Normalization\n",
        "\n",
        "EPOCHS: num_epochs\n"
      ]
    },
    {
      "cell_type": "code",
      "metadata": {
        "id": "U-ScCBSfbadI",
        "colab": {
          "base_uri": "https://localhost:8080/"
        },
        "outputId": "b637db75-9565-47ef-8917-a24f5d604a1b"
      },
      "source": [
        "test_10_images, test_10_images_target , test_10_pred_target = main(0,100)\n"
      ],
      "execution_count": null,
      "outputs": [
        {
          "output_type": "stream",
          "text": [
            "\r  0%|          | 0/391 [00:00<?, ?it/s]"
          ],
          "name": "stderr"
        },
        {
          "output_type": "stream",
          "text": [
            "Epoch 0, lr 0.02\n"
          ],
          "name": "stdout"
        },
        {
          "output_type": "stream",
          "text": [
            "Loss=2.6708273887634277 Batch_id=390 Accuracy=28.83: 100%|██████████| 391/391 [00:34<00:00, 11.39it/s]\n",
            "  0%|          | 0/391 [00:00<?, ?it/s]"
          ],
          "name": "stderr"
        },
        {
          "output_type": "stream",
          "text": [
            "\n",
            "Test set: Average loss: 15269.2252, Accuracy: 4446/10000 (44.46%)\n",
            "\n",
            "Epoch 1, lr 0.02\n"
          ],
          "name": "stdout"
        },
        {
          "output_type": "stream",
          "text": [
            "Loss=2.1897480487823486 Batch_id=390 Accuracy=45.90: 100%|██████████| 391/391 [00:34<00:00, 11.41it/s]\n",
            "  0%|          | 0/391 [00:00<?, ?it/s]"
          ],
          "name": "stderr"
        },
        {
          "output_type": "stream",
          "text": [
            "\n",
            "Test set: Average loss: 13579.2132, Accuracy: 5084/10000 (50.84%)\n",
            "\n",
            "Epoch 2, lr 0.02\n"
          ],
          "name": "stdout"
        },
        {
          "output_type": "stream",
          "text": [
            "Loss=2.1567859649658203 Batch_id=390 Accuracy=51.36: 100%|██████████| 391/391 [00:34<00:00, 11.42it/s]\n",
            "  0%|          | 0/391 [00:00<?, ?it/s]"
          ],
          "name": "stderr"
        },
        {
          "output_type": "stream",
          "text": [
            "\n",
            "Test set: Average loss: 11565.2219, Accuracy: 5845/10000 (58.45%)\n",
            "\n",
            "Epoch 3, lr 0.02\n"
          ],
          "name": "stdout"
        },
        {
          "output_type": "stream",
          "text": [
            "Loss=2.0279650688171387 Batch_id=390 Accuracy=55.10: 100%|██████████| 391/391 [00:34<00:00, 11.42it/s]\n",
            "  0%|          | 0/391 [00:00<?, ?it/s]"
          ],
          "name": "stderr"
        },
        {
          "output_type": "stream",
          "text": [
            "\n",
            "Test set: Average loss: 10461.8184, Accuracy: 6303/10000 (63.03%)\n",
            "\n",
            "Epoch 4, lr 0.02\n"
          ],
          "name": "stdout"
        },
        {
          "output_type": "stream",
          "text": [
            "Loss=2.0272274017333984 Batch_id=390 Accuracy=57.25: 100%|██████████| 391/391 [00:34<00:00, 11.42it/s]\n",
            "  0%|          | 0/391 [00:00<?, ?it/s]"
          ],
          "name": "stderr"
        },
        {
          "output_type": "stream",
          "text": [
            "\n",
            "Test set: Average loss: 9870.8284, Accuracy: 6449/10000 (64.49%)\n",
            "\n",
            "Epoch 5, lr 0.02\n"
          ],
          "name": "stdout"
        },
        {
          "output_type": "stream",
          "text": [
            "Loss=1.8812527656555176 Batch_id=41 Accuracy=59.26:  10%|█         | 41/391 [00:03<00:30, 11.49it/s]"
          ],
          "name": "stderr"
        }
      ]
    },
    {
      "cell_type": "code",
      "metadata": {
        "id": "vC8_fkj-5-uD"
      },
      "source": [
        "  grid = torchvision.utils.make_grid(torch.stack(test_10_images).cpu(), nrow=5)\n",
        "  plt.figure(figsize=(5,5))\n",
        "  plt.imshow(np.transpose(grid, (1,2,0)))"
      ],
      "execution_count": null,
      "outputs": []
    },
    {
      "cell_type": "code",
      "metadata": {
        "id": "A8i6aDg_3PTO"
      },
      "source": [
        "test_10_images_unnorm = []\n",
        "for img in test_10_images:\n",
        "  img = img.cpu()\n",
        "  img = img.numpy()\n",
        "  img[0] = img[0] * 0.247 + 0.4914\n",
        "  img[1] = img[1] * 0.2435 + 0.4822\n",
        "  img[2] = img[2] * 0.2616 + 0.4465\n",
        "\n",
        "  img = torch.from_numpy(img)\n",
        "  test_10_images_unnorm.append(img)\n",
        "\n",
        "grid = torchvision.utils.make_grid(torch.stack(test_10_images_unnorm).cpu(), nrow=5)\n",
        "plt.figure(figsize=(5,5))\n",
        "plt.imshow(np.transpose(grid, (1,2,0)))\n",
        "  \n"
      ],
      "execution_count": null,
      "outputs": []
    }
  ]
}