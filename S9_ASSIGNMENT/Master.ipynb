{
  "nbformat": 4,
  "nbformat_minor": 0,
  "metadata": {
    "colab": {
      "name": "Master.ipynb",
      "provenance": [],
      "collapsed_sections": [],
      "include_colab_link": true
    },
    "kernelspec": {
      "name": "python3",
      "display_name": "Python 3"
    },
    "language_info": {
      "name": "python"
    },
    "accelerator": "GPU"
  },
  "cells": [
    {
      "cell_type": "markdown",
      "metadata": {
        "id": "view-in-github",
        "colab_type": "text"
      },
      "source": [
        "<a href=\"https://colab.research.google.com/github/raghunadh-eva/eva6/blob/master/S9_ASSIGNMENT/Master.ipynb\" target=\"_parent\"><img src=\"https://colab.research.google.com/assets/colab-badge.svg\" alt=\"Open In Colab\"/></a>"
      ]
    },
    {
      "cell_type": "code",
      "metadata": {
        "colab": {
          "base_uri": "https://localhost:8080/"
        },
        "id": "plymgU7xVrPO",
        "outputId": "3d75d7bd-e0d5-4a13-fabe-5f454c5d34c1"
      },
      "source": [
        "gpu_info = !nvidia-smi\n",
        "gpu_info = '\\n'.join(gpu_info)\n",
        "if gpu_info.find('failed') >= 0:\n",
        "  print('Select the Runtime > \"Change runtime type\" menu to enable a GPU accelerator, ')\n",
        "  print('and then re-execute this cell.')\n",
        "else:\n",
        "  print(gpu_info)"
      ],
      "execution_count": 1,
      "outputs": [
        {
          "output_type": "stream",
          "text": [
            "Fri Jul 30 14:03:34 2021       \n",
            "+-----------------------------------------------------------------------------+\n",
            "| NVIDIA-SMI 470.42.01    Driver Version: 460.32.03    CUDA Version: 11.2     |\n",
            "|-------------------------------+----------------------+----------------------+\n",
            "| GPU  Name        Persistence-M| Bus-Id        Disp.A | Volatile Uncorr. ECC |\n",
            "| Fan  Temp  Perf  Pwr:Usage/Cap|         Memory-Usage | GPU-Util  Compute M. |\n",
            "|                               |                      |               MIG M. |\n",
            "|===============================+======================+======================|\n",
            "|   0  Tesla P100-PCIE...  Off  | 00000000:00:04.0 Off |                    0 |\n",
            "| N/A   54C    P0    32W / 250W |      0MiB / 16280MiB |      0%      Default |\n",
            "|                               |                      |                  N/A |\n",
            "+-------------------------------+----------------------+----------------------+\n",
            "                                                                               \n",
            "+-----------------------------------------------------------------------------+\n",
            "| Processes:                                                                  |\n",
            "|  GPU   GI   CI        PID   Type   Process name                  GPU Memory |\n",
            "|        ID   ID                                                   Usage      |\n",
            "|=============================================================================|\n",
            "|  No running processes found                                                 |\n",
            "+-----------------------------------------------------------------------------+\n"
          ],
          "name": "stdout"
        }
      ]
    },
    {
      "cell_type": "code",
      "metadata": {
        "colab": {
          "base_uri": "https://localhost:8080/"
        },
        "id": "lCDznI3phMpC",
        "outputId": "93808456-0364-4432-f5ae-b2b191264c5e"
      },
      "source": [
        "!pip install torchsummary\n",
        "!pip install tqdm\n",
        "!pip install -U albumentations\n",
        "!pip install torch-lr-finder"
      ],
      "execution_count": 2,
      "outputs": [
        {
          "output_type": "stream",
          "text": [
            "Requirement already satisfied: torchsummary in /usr/local/lib/python3.7/dist-packages (1.5.1)\n",
            "Requirement already satisfied: tqdm in /usr/local/lib/python3.7/dist-packages (4.41.1)\n",
            "Requirement already satisfied: albumentations in /usr/local/lib/python3.7/dist-packages (1.0.3)\n",
            "Requirement already satisfied: numpy>=1.11.1 in /usr/local/lib/python3.7/dist-packages (from albumentations) (1.19.5)\n",
            "Requirement already satisfied: opencv-python-headless>=4.1.1 in /usr/local/lib/python3.7/dist-packages (from albumentations) (4.5.3.56)\n",
            "Requirement already satisfied: PyYAML in /usr/local/lib/python3.7/dist-packages (from albumentations) (3.13)\n",
            "Requirement already satisfied: scikit-image>=0.16.1 in /usr/local/lib/python3.7/dist-packages (from albumentations) (0.16.2)\n",
            "Requirement already satisfied: scipy in /usr/local/lib/python3.7/dist-packages (from albumentations) (1.4.1)\n",
            "Requirement already satisfied: networkx>=2.0 in /usr/local/lib/python3.7/dist-packages (from scikit-image>=0.16.1->albumentations) (2.5.1)\n",
            "Requirement already satisfied: PyWavelets>=0.4.0 in /usr/local/lib/python3.7/dist-packages (from scikit-image>=0.16.1->albumentations) (1.1.1)\n",
            "Requirement already satisfied: matplotlib!=3.0.0,>=2.0.0 in /usr/local/lib/python3.7/dist-packages (from scikit-image>=0.16.1->albumentations) (3.2.2)\n",
            "Requirement already satisfied: imageio>=2.3.0 in /usr/local/lib/python3.7/dist-packages (from scikit-image>=0.16.1->albumentations) (2.4.1)\n",
            "Requirement already satisfied: pillow>=4.3.0 in /usr/local/lib/python3.7/dist-packages (from scikit-image>=0.16.1->albumentations) (7.1.2)\n",
            "Requirement already satisfied: kiwisolver>=1.0.1 in /usr/local/lib/python3.7/dist-packages (from matplotlib!=3.0.0,>=2.0.0->scikit-image>=0.16.1->albumentations) (1.3.1)\n",
            "Requirement already satisfied: python-dateutil>=2.1 in /usr/local/lib/python3.7/dist-packages (from matplotlib!=3.0.0,>=2.0.0->scikit-image>=0.16.1->albumentations) (2.8.1)\n",
            "Requirement already satisfied: cycler>=0.10 in /usr/local/lib/python3.7/dist-packages (from matplotlib!=3.0.0,>=2.0.0->scikit-image>=0.16.1->albumentations) (0.10.0)\n",
            "Requirement already satisfied: pyparsing!=2.0.4,!=2.1.2,!=2.1.6,>=2.0.1 in /usr/local/lib/python3.7/dist-packages (from matplotlib!=3.0.0,>=2.0.0->scikit-image>=0.16.1->albumentations) (2.4.7)\n",
            "Requirement already satisfied: six in /usr/local/lib/python3.7/dist-packages (from cycler>=0.10->matplotlib!=3.0.0,>=2.0.0->scikit-image>=0.16.1->albumentations) (1.15.0)\n",
            "Requirement already satisfied: decorator<5,>=4.3 in /usr/local/lib/python3.7/dist-packages (from networkx>=2.0->scikit-image>=0.16.1->albumentations) (4.4.2)\n",
            "Requirement already satisfied: torch-lr-finder in /usr/local/lib/python3.7/dist-packages (0.2.1)\n",
            "Requirement already satisfied: packaging in /usr/local/lib/python3.7/dist-packages (from torch-lr-finder) (21.0)\n",
            "Requirement already satisfied: numpy in /usr/local/lib/python3.7/dist-packages (from torch-lr-finder) (1.19.5)\n",
            "Requirement already satisfied: tqdm in /usr/local/lib/python3.7/dist-packages (from torch-lr-finder) (4.41.1)\n",
            "Requirement already satisfied: matplotlib in /usr/local/lib/python3.7/dist-packages (from torch-lr-finder) (3.2.2)\n",
            "Requirement already satisfied: torch>=0.4.1 in /usr/local/lib/python3.7/dist-packages (from torch-lr-finder) (1.9.0+cu102)\n",
            "Requirement already satisfied: typing-extensions in /usr/local/lib/python3.7/dist-packages (from torch>=0.4.1->torch-lr-finder) (3.7.4.3)\n",
            "Requirement already satisfied: cycler>=0.10 in /usr/local/lib/python3.7/dist-packages (from matplotlib->torch-lr-finder) (0.10.0)\n",
            "Requirement already satisfied: pyparsing!=2.0.4,!=2.1.2,!=2.1.6,>=2.0.1 in /usr/local/lib/python3.7/dist-packages (from matplotlib->torch-lr-finder) (2.4.7)\n",
            "Requirement already satisfied: kiwisolver>=1.0.1 in /usr/local/lib/python3.7/dist-packages (from matplotlib->torch-lr-finder) (1.3.1)\n",
            "Requirement already satisfied: python-dateutil>=2.1 in /usr/local/lib/python3.7/dist-packages (from matplotlib->torch-lr-finder) (2.8.1)\n",
            "Requirement already satisfied: six in /usr/local/lib/python3.7/dist-packages (from cycler>=0.10->matplotlib->torch-lr-finder) (1.15.0)\n"
          ],
          "name": "stdout"
        }
      ]
    },
    {
      "cell_type": "markdown",
      "metadata": {
        "id": "KivSFRiGQGHg"
      },
      "source": [
        "###Import all functionalities from my repository"
      ]
    },
    {
      "cell_type": "code",
      "metadata": {
        "id": "4Xg4sH6oQFXt"
      },
      "source": [
        "#%run main.py -h"
      ],
      "execution_count": 3,
      "outputs": []
    },
    {
      "cell_type": "code",
      "metadata": {
        "colab": {
          "base_uri": "https://localhost:8080/"
        },
        "id": "79HOyZ-7aopD",
        "outputId": "4f865927-ac9b-4883-cdd0-6c05d9fd89c1"
      },
      "source": [
        "%cd /content\n",
        "\n",
        "!git clone https://github.com/raghunadh-eva/eva6.git\n",
        "\n",
        "%cd ./eva6/master_repo\n",
        "\n",
        "!git pull"
      ],
      "execution_count": 4,
      "outputs": [
        {
          "output_type": "stream",
          "text": [
            "/content\n",
            "fatal: destination path 'eva6' already exists and is not an empty directory.\n",
            "/content/eva6/master_repo\n",
            "remote: Enumerating objects: 7, done.\u001b[K\n",
            "remote: Counting objects: 100% (7/7), done.\u001b[K\n",
            "remote: Compressing objects: 100% (2/2), done.\u001b[K\n",
            "remote: Total 4 (delta 2), reused 4 (delta 2), pack-reused 0\u001b[K\n",
            "Unpacking objects: 100% (4/4), done.\n",
            "From https://github.com/raghunadh-eva/eva6\n",
            "   d758379..ca016ba  master     -> origin/master\n",
            "Updating d758379..ca016ba\n",
            "Fast-forward\n",
            " master_repo/main.py | 2 \u001b[32m+\u001b[m\u001b[31m-\u001b[m\n",
            " 1 file changed, 1 insertion(+), 1 deletion(-)\n"
          ],
          "name": "stdout"
        }
      ]
    },
    {
      "cell_type": "code",
      "metadata": {
        "colab": {
          "base_uri": "https://localhost:8080/",
          "height": 1000
        },
        "id": "FD2PzMqpdvFQ",
        "outputId": "6d959856-fd2f-4b0e-f301-33102c21222d"
      },
      "source": [
        "%matplotlib inline\n",
        "%run main.py -d \"CIFAR10\" -e 24 -m \"custom_resnet\" -s 9 -lr 0.05 -b 512 -sch OneLR\n",
        "#%run main.py -d \"CIFAR10\" -m \"custom_resnet\" -s 9 -lr 0.0000001 -b 512 -sch OneLR -find_lr -lr_type exp"
      ],
      "execution_count": 5,
      "outputs": [
        {
          "output_type": "stream",
          "text": [
            "Files already downloaded and verified\n",
            "Files already downloaded and verified\n",
            "CUDA Available? True\n",
            "cuda\n"
          ],
          "name": "stdout"
        },
        {
          "output_type": "stream",
          "text": [
            "/usr/local/lib/python3.7/dist-packages/torch/nn/functional.py:718: UserWarning: Named tensors and all their associated APIs are an experimental feature and subject to change. Please do not use them for anything important until they are released as stable. (Triggered internally at  /pytorch/c10/core/TensorImpl.h:1156.)\n",
            "  return torch.max_pool2d(input, kernel_size, stride, padding, dilation, ceil_mode)\n",
            "\r  0%|          | 0/98 [00:00<?, ?it/s]"
          ],
          "name": "stderr"
        },
        {
          "output_type": "stream",
          "text": [
            "----------------------------------------------------------------\n",
            "        Layer (type)               Output Shape         Param #\n",
            "================================================================\n",
            "            Conv2d-1           [-1, 64, 32, 32]           1,728\n",
            "       BatchNorm2d-2           [-1, 64, 32, 32]             128\n",
            "              ReLU-3           [-1, 64, 32, 32]               0\n",
            "            Conv2d-4          [-1, 128, 32, 32]          73,728\n",
            "       BatchNorm2d-5          [-1, 128, 32, 32]             256\n",
            "            Conv2d-6          [-1, 128, 16, 16]          16,384\n",
            "       BatchNorm2d-7          [-1, 128, 16, 16]             256\n",
            "      BasicBlock_c-8          [-1, 128, 16, 16]               0\n",
            "            Conv2d-9          [-1, 128, 32, 32]          73,728\n",
            "        MaxPool2d-10          [-1, 128, 16, 16]               0\n",
            "      BatchNorm2d-11          [-1, 128, 16, 16]             256\n",
            "             ReLU-12          [-1, 128, 16, 16]               0\n",
            "           Conv2d-13          [-1, 256, 16, 16]         294,912\n",
            "        MaxPool2d-14            [-1, 256, 8, 8]               0\n",
            "      BatchNorm2d-15            [-1, 256, 8, 8]             512\n",
            "             ReLU-16            [-1, 256, 8, 8]               0\n",
            "           Conv2d-17            [-1, 512, 8, 8]       1,179,648\n",
            "      BatchNorm2d-18            [-1, 512, 8, 8]           1,024\n",
            "           Conv2d-19            [-1, 512, 4, 4]         262,144\n",
            "      BatchNorm2d-20            [-1, 512, 4, 4]           1,024\n",
            "     BasicBlock_c-21            [-1, 512, 4, 4]               0\n",
            "           Conv2d-22            [-1, 512, 8, 8]       1,179,648\n",
            "        MaxPool2d-23            [-1, 512, 4, 4]               0\n",
            "      BatchNorm2d-24            [-1, 512, 4, 4]           1,024\n",
            "             ReLU-25            [-1, 512, 4, 4]               0\n",
            "        MaxPool2d-26            [-1, 512, 1, 1]               0\n",
            "           Linear-27                   [-1, 10]           5,130\n",
            "          Softmax-28                   [-1, 10]               0\n",
            "================================================================\n",
            "Total params: 3,091,530\n",
            "Trainable params: 3,091,530\n",
            "Non-trainable params: 0\n",
            "----------------------------------------------------------------\n",
            "Input size (MB): 0.01\n",
            "Forward/backward pass size (MB): 8.00\n",
            "Params size (MB): 11.79\n",
            "Estimated Total Size (MB): 19.81\n",
            "----------------------------------------------------------------\n",
            "No of EPOCHS: 24\n",
            "Epoch 0, lr 0.009999999999999995\n"
          ],
          "name": "stdout"
        },
        {
          "output_type": "stream",
          "text": [
            "Loss=5.556072235107422 Batch_id=97 Accuracy=31.63: 100%|██████████| 98/98 [00:18<00:00,  5.30it/s]"
          ],
          "name": "stderr"
        },
        {
          "output_type": "stream",
          "text": [
            "Scheduler stepping should be for every batch\n"
          ],
          "name": "stdout"
        },
        {
          "output_type": "stream",
          "text": [
            "\n",
            "  0%|          | 0/98 [00:00<?, ?it/s]"
          ],
          "name": "stderr"
        },
        {
          "output_type": "stream",
          "text": [
            "\n",
            "Test set: Average loss: -3427.3168, Accuracy: 3563/10000 (35.63%)\n",
            "\n",
            "Epoch 1, lr 0.023345418421123143\n"
          ],
          "name": "stdout"
        },
        {
          "output_type": "stream",
          "text": [
            "Loss=4.337271690368652 Batch_id=97 Accuracy=44.57: 100%|██████████| 98/98 [00:18<00:00,  5.31it/s]"
          ],
          "name": "stderr"
        },
        {
          "output_type": "stream",
          "text": [
            "Scheduler stepping should be for every batch\n"
          ],
          "name": "stdout"
        },
        {
          "output_type": "stream",
          "text": [
            "\n",
            "  0%|          | 0/98 [00:00<?, ?it/s]"
          ],
          "name": "stderr"
        },
        {
          "output_type": "stream",
          "text": [
            "\n",
            "Test set: Average loss: -4958.4612, Accuracy: 5077/10000 (50.77%)\n",
            "\n",
            "Epoch 2, lr 0.0554661095584991\n"
          ],
          "name": "stdout"
        },
        {
          "output_type": "stream",
          "text": [
            "Loss=3.3594186305999756 Batch_id=97 Accuracy=56.61: 100%|██████████| 98/98 [00:18<00:00,  5.31it/s]"
          ],
          "name": "stderr"
        },
        {
          "output_type": "stream",
          "text": [
            "Scheduler stepping should be for every batch\n"
          ],
          "name": "stdout"
        },
        {
          "output_type": "stream",
          "text": [
            "\n",
            "  0%|          | 0/98 [00:00<?, ?it/s]"
          ],
          "name": "stderr"
        },
        {
          "output_type": "stream",
          "text": [
            "\n",
            "Test set: Average loss: -5762.1221, Accuracy: 5858/10000 (58.58%)\n",
            "\n",
            "Epoch 3, lr 0.08731033726973039\n"
          ],
          "name": "stdout"
        },
        {
          "output_type": "stream",
          "text": [
            "Loss=2.91347599029541 Batch_id=97 Accuracy=61.78: 100%|██████████| 98/98 [00:18<00:00,  5.32it/s]"
          ],
          "name": "stderr"
        },
        {
          "output_type": "stream",
          "text": [
            "Scheduler stepping should be for every batch\n"
          ],
          "name": "stdout"
        },
        {
          "output_type": "stream",
          "text": [
            "\n",
            "  0%|          | 0/98 [00:00<?, ?it/s]"
          ],
          "name": "stderr"
        },
        {
          "output_type": "stream",
          "text": [
            "\n",
            "Test set: Average loss: -5656.0695, Accuracy: 5743/10000 (57.43%)\n",
            "\n",
            "Epoch 4, lr 0.0999996194033564\n"
          ],
          "name": "stdout"
        },
        {
          "output_type": "stream",
          "text": [
            "Loss=2.773329257965088 Batch_id=97 Accuracy=63.12: 100%|██████████| 98/98 [00:18<00:00,  5.29it/s]"
          ],
          "name": "stderr"
        },
        {
          "output_type": "stream",
          "text": [
            "Scheduler stepping should be for every batch\n"
          ],
          "name": "stdout"
        },
        {
          "output_type": "stream",
          "text": [
            "\n",
            "  0%|          | 0/98 [00:00<?, ?it/s]"
          ],
          "name": "stderr"
        },
        {
          "output_type": "stream",
          "text": [
            "\n",
            "Test set: Average loss: -5685.5632, Accuracy: 5701/10000 (57.01%)\n",
            "\n",
            "Epoch 5, lr 0.09941755347437362\n"
          ],
          "name": "stdout"
        },
        {
          "output_type": "stream",
          "text": [
            "Loss=2.671894073486328 Batch_id=97 Accuracy=62.02: 100%|██████████| 98/98 [00:18<00:00,  5.31it/s]"
          ],
          "name": "stderr"
        },
        {
          "output_type": "stream",
          "text": [
            "Scheduler stepping should be for every batch\n"
          ],
          "name": "stdout"
        },
        {
          "output_type": "stream",
          "text": [
            "\n",
            "  0%|          | 0/98 [00:00<?, ?it/s]"
          ],
          "name": "stderr"
        },
        {
          "output_type": "stream",
          "text": [
            "\n",
            "Test set: Average loss: -5446.9815, Accuracy: 5472/10000 (54.72%)\n",
            "\n",
            "Epoch 6, lr 0.09774352421031197\n"
          ],
          "name": "stdout"
        },
        {
          "output_type": "stream",
          "text": [
            "Loss=2.590977191925049 Batch_id=97 Accuracy=63.22: 100%|██████████| 98/98 [00:18<00:00,  5.24it/s]"
          ],
          "name": "stderr"
        },
        {
          "output_type": "stream",
          "text": [
            "Scheduler stepping should be for every batch\n"
          ],
          "name": "stdout"
        },
        {
          "output_type": "stream",
          "text": [
            "\n",
            "  0%|          | 0/98 [00:00<?, ?it/s]"
          ],
          "name": "stderr"
        },
        {
          "output_type": "stream",
          "text": [
            "\n",
            "Test set: Average loss: -5401.6668, Accuracy: 5450/10000 (54.50%)\n",
            "\n",
            "Epoch 7, lr 0.0950186860295313\n"
          ],
          "name": "stdout"
        },
        {
          "output_type": "stream",
          "text": [
            "Loss=2.5319406986236572 Batch_id=97 Accuracy=63.66: 100%|██████████| 98/98 [00:18<00:00,  5.31it/s]"
          ],
          "name": "stderr"
        },
        {
          "output_type": "stream",
          "text": [
            "Scheduler stepping should be for every batch\n"
          ],
          "name": "stdout"
        },
        {
          "output_type": "stream",
          "text": [
            "\n",
            "  0%|          | 0/98 [00:00<?, ?it/s]"
          ],
          "name": "stderr"
        },
        {
          "output_type": "stream",
          "text": [
            "\n",
            "Test set: Average loss: -6138.8909, Accuracy: 6187/10000 (61.87%)\n",
            "\n",
            "Epoch 8, lr 0.09131002648885754\n"
          ],
          "name": "stdout"
        },
        {
          "output_type": "stream",
          "text": [
            "Loss=2.542695999145508 Batch_id=97 Accuracy=64.38: 100%|██████████| 98/98 [00:18<00:00,  5.29it/s]"
          ],
          "name": "stderr"
        },
        {
          "output_type": "stream",
          "text": [
            "Scheduler stepping should be for every batch\n"
          ],
          "name": "stdout"
        },
        {
          "output_type": "stream",
          "text": [
            "\n",
            "  0%|          | 0/98 [00:00<?, ?it/s]"
          ],
          "name": "stderr"
        },
        {
          "output_type": "stream",
          "text": [
            "\n",
            "Test set: Average loss: -6263.1681, Accuracy: 6299/10000 (62.99%)\n",
            "\n",
            "Epoch 9, lr 0.08670871945816727\n"
          ],
          "name": "stdout"
        },
        {
          "output_type": "stream",
          "text": [
            "Loss=2.562265634536743 Batch_id=97 Accuracy=65.45: 100%|██████████| 98/98 [00:18<00:00,  5.27it/s]"
          ],
          "name": "stderr"
        },
        {
          "output_type": "stream",
          "text": [
            "Scheduler stepping should be for every batch\n"
          ],
          "name": "stdout"
        },
        {
          "output_type": "stream",
          "text": [
            "\n",
            "  0%|          | 0/98 [00:00<?, ?it/s]"
          ],
          "name": "stderr"
        },
        {
          "output_type": "stream",
          "text": [
            "\n",
            "Test set: Average loss: -5468.1512, Accuracy: 5498/10000 (54.98%)\n",
            "\n",
            "Epoch 10, lr 0.0813278836974537\n"
          ],
          "name": "stdout"
        },
        {
          "output_type": "stream",
          "text": [
            "Loss=2.494616985321045 Batch_id=97 Accuracy=65.89: 100%|██████████| 98/98 [00:18<00:00,  5.30it/s]"
          ],
          "name": "stderr"
        },
        {
          "output_type": "stream",
          "text": [
            "Scheduler stepping should be for every batch\n"
          ],
          "name": "stdout"
        },
        {
          "output_type": "stream",
          "text": [
            "\n",
            "  0%|          | 0/98 [00:00<?, ?it/s]"
          ],
          "name": "stderr"
        },
        {
          "output_type": "stream",
          "text": [
            "\n",
            "Test set: Average loss: -5947.1135, Accuracy: 5997/10000 (59.97%)\n",
            "\n",
            "Epoch 11, lr 0.07529980193962714\n"
          ],
          "name": "stdout"
        },
        {
          "output_type": "stream",
          "text": [
            "Loss=2.4764389991760254 Batch_id=97 Accuracy=67.26: 100%|██████████| 98/98 [00:18<00:00,  5.31it/s]"
          ],
          "name": "stderr"
        },
        {
          "output_type": "stream",
          "text": [
            "Scheduler stepping should be for every batch\n"
          ],
          "name": "stdout"
        },
        {
          "output_type": "stream",
          "text": [
            "\n",
            "  0%|          | 0/98 [00:00<?, ?it/s]"
          ],
          "name": "stderr"
        },
        {
          "output_type": "stream",
          "text": [
            "\n",
            "Test set: Average loss: -6066.4073, Accuracy: 6131/10000 (61.31%)\n",
            "\n",
            "Epoch 12, lr 0.0687726688452558\n"
          ],
          "name": "stdout"
        },
        {
          "output_type": "stream",
          "text": [
            "Loss=2.4482061862945557 Batch_id=97 Accuracy=68.53: 100%|██████████| 98/98 [00:18<00:00,  5.28it/s]"
          ],
          "name": "stderr"
        },
        {
          "output_type": "stream",
          "text": [
            "Scheduler stepping should be for every batch\n"
          ],
          "name": "stdout"
        },
        {
          "output_type": "stream",
          "text": [
            "\n",
            "  0%|          | 0/98 [00:00<?, ?it/s]"
          ],
          "name": "stderr"
        },
        {
          "output_type": "stream",
          "text": [
            "\n",
            "Test set: Average loss: -5948.7791, Accuracy: 5993/10000 (59.93%)\n",
            "\n",
            "Epoch 13, lr 0.061906947777688716\n"
          ],
          "name": "stdout"
        },
        {
          "output_type": "stream",
          "text": [
            "Loss=2.448489189147949 Batch_id=97 Accuracy=69.27: 100%|██████████| 98/98 [00:18<00:00,  5.32it/s]"
          ],
          "name": "stderr"
        },
        {
          "output_type": "stream",
          "text": [
            "Scheduler stepping should be for every batch\n"
          ],
          "name": "stdout"
        },
        {
          "output_type": "stream",
          "text": [
            "\n",
            "  0%|          | 0/98 [00:00<?, ?it/s]"
          ],
          "name": "stderr"
        },
        {
          "output_type": "stream",
          "text": [
            "\n",
            "Test set: Average loss: -6236.3976, Accuracy: 6292/10000 (62.92%)\n",
            "\n",
            "Epoch 14, lr 0.054871425963781736\n"
          ],
          "name": "stdout"
        },
        {
          "output_type": "stream",
          "text": [
            "Loss=2.439012050628662 Batch_id=97 Accuracy=69.84: 100%|██████████| 98/98 [00:18<00:00,  5.30it/s]"
          ],
          "name": "stderr"
        },
        {
          "output_type": "stream",
          "text": [
            "Scheduler stepping should be for every batch\n"
          ],
          "name": "stdout"
        },
        {
          "output_type": "stream",
          "text": [
            "\n",
            "  0%|          | 0/98 [00:00<?, ?it/s]"
          ],
          "name": "stderr"
        },
        {
          "output_type": "stream",
          "text": [
            "\n",
            "Test set: Average loss: -6730.0632, Accuracy: 6799/10000 (67.99%)\n",
            "\n",
            "Epoch 15, lr 0.04783906502035075\n"
          ],
          "name": "stdout"
        },
        {
          "output_type": "stream",
          "text": [
            "Loss=2.3721728324890137 Batch_id=97 Accuracy=70.36: 100%|██████████| 98/98 [00:18<00:00,  5.29it/s]"
          ],
          "name": "stderr"
        },
        {
          "output_type": "stream",
          "text": [
            "Scheduler stepping should be for every batch\n"
          ],
          "name": "stdout"
        },
        {
          "output_type": "stream",
          "text": [
            "\n",
            "  0%|          | 0/98 [00:00<?, ?it/s]"
          ],
          "name": "stderr"
        },
        {
          "output_type": "stream",
          "text": [
            "\n",
            "Test set: Average loss: -6743.2556, Accuracy: 6812/10000 (68.12%)\n",
            "\n",
            "Epoch 16, lr 0.040982748857215284\n"
          ],
          "name": "stdout"
        },
        {
          "output_type": "stream",
          "text": [
            "Loss=2.3126397132873535 Batch_id=97 Accuracy=71.79: 100%|██████████| 98/98 [00:18<00:00,  5.30it/s]"
          ],
          "name": "stderr"
        },
        {
          "output_type": "stream",
          "text": [
            "Scheduler stepping should be for every batch\n"
          ],
          "name": "stdout"
        },
        {
          "output_type": "stream",
          "text": [
            "\n",
            "  0%|          | 0/98 [00:00<?, ?it/s]"
          ],
          "name": "stderr"
        },
        {
          "output_type": "stream",
          "text": [
            "\n",
            "Test set: Average loss: -6810.6948, Accuracy: 6886/10000 (68.86%)\n",
            "\n",
            "Epoch 17, lr 0.034471033490594744\n"
          ],
          "name": "stdout"
        },
        {
          "output_type": "stream",
          "text": [
            "Loss=2.3803200721740723 Batch_id=97 Accuracy=72.50: 100%|██████████| 98/98 [00:18<00:00,  5.32it/s]"
          ],
          "name": "stderr"
        },
        {
          "output_type": "stream",
          "text": [
            "Scheduler stepping should be for every batch\n"
          ],
          "name": "stdout"
        },
        {
          "output_type": "stream",
          "text": [
            "\n",
            "  0%|          | 0/98 [00:00<?, ?it/s]"
          ],
          "name": "stderr"
        },
        {
          "output_type": "stream",
          "text": [
            "\n",
            "Test set: Average loss: -5520.1258, Accuracy: 5577/10000 (55.77%)\n",
            "\n",
            "Epoch 18, lr 0.028464003253655334\n"
          ],
          "name": "stdout"
        },
        {
          "output_type": "stream",
          "text": [
            "Loss=2.316697835922241 Batch_id=97 Accuracy=72.27: 100%|██████████| 98/98 [00:18<00:00,  5.28it/s]"
          ],
          "name": "stderr"
        },
        {
          "output_type": "stream",
          "text": [
            "Scheduler stepping should be for every batch\n"
          ],
          "name": "stdout"
        },
        {
          "output_type": "stream",
          "text": [
            "\n",
            "  0%|          | 0/98 [00:00<?, ?it/s]"
          ],
          "name": "stderr"
        },
        {
          "output_type": "stream",
          "text": [
            "\n",
            "Test set: Average loss: -6105.2701, Accuracy: 6149/10000 (61.49%)\n",
            "\n",
            "Epoch 19, lr 0.02310933527533285\n"
          ],
          "name": "stdout"
        },
        {
          "output_type": "stream",
          "text": [
            "Loss=2.3087048530578613 Batch_id=97 Accuracy=73.70: 100%|██████████| 98/98 [00:18<00:00,  5.30it/s]"
          ],
          "name": "stderr"
        },
        {
          "output_type": "stream",
          "text": [
            "Scheduler stepping should be for every batch\n"
          ],
          "name": "stdout"
        },
        {
          "output_type": "stream",
          "text": [
            "\n",
            "  0%|          | 0/98 [00:00<?, ?it/s]"
          ],
          "name": "stderr"
        },
        {
          "output_type": "stream",
          "text": [
            "\n",
            "Test set: Average loss: -7192.0224, Accuracy: 7242/10000 (72.42%)\n",
            "\n",
            "Epoch 20, lr 0.018538668978478938\n"
          ],
          "name": "stdout"
        },
        {
          "output_type": "stream",
          "text": [
            "Loss=2.2496700286865234 Batch_id=97 Accuracy=74.60: 100%|██████████| 98/98 [00:18<00:00,  5.31it/s]"
          ],
          "name": "stderr"
        },
        {
          "output_type": "stream",
          "text": [
            "Scheduler stepping should be for every batch\n"
          ],
          "name": "stdout"
        },
        {
          "output_type": "stream",
          "text": [
            "\n",
            "  0%|          | 0/98 [00:00<?, ?it/s]"
          ],
          "name": "stderr"
        },
        {
          "output_type": "stream",
          "text": [
            "\n",
            "Test set: Average loss: -7344.4992, Accuracy: 7412/10000 (74.12%)\n",
            "\n",
            "Epoch 21, lr 0.014864369849768258\n"
          ],
          "name": "stdout"
        },
        {
          "output_type": "stream",
          "text": [
            "Loss=2.2324576377868652 Batch_id=97 Accuracy=75.39: 100%|██████████| 98/98 [00:18<00:00,  5.29it/s]"
          ],
          "name": "stderr"
        },
        {
          "output_type": "stream",
          "text": [
            "Scheduler stepping should be for every batch\n"
          ],
          "name": "stdout"
        },
        {
          "output_type": "stream",
          "text": [
            "\n",
            "  0%|          | 0/98 [00:00<?, ?it/s]"
          ],
          "name": "stderr"
        },
        {
          "output_type": "stream",
          "text": [
            "\n",
            "Test set: Average loss: -7489.8699, Accuracy: 7559/10000 (75.59%)\n",
            "\n",
            "Epoch 22, lr 0.012176767041007393\n"
          ],
          "name": "stdout"
        },
        {
          "output_type": "stream",
          "text": [
            "Loss=2.2162303924560547 Batch_id=97 Accuracy=76.14: 100%|██████████| 98/98 [00:18<00:00,  5.29it/s]"
          ],
          "name": "stderr"
        },
        {
          "output_type": "stream",
          "text": [
            "Scheduler stepping should be for every batch\n"
          ],
          "name": "stdout"
        },
        {
          "output_type": "stream",
          "text": [
            "\n",
            "  0%|          | 0/98 [00:00<?, ?it/s]"
          ],
          "name": "stderr"
        },
        {
          "output_type": "stream",
          "text": [
            "\n",
            "Test set: Average loss: -7513.6771, Accuracy: 7580/10000 (75.80%)\n",
            "\n",
            "Epoch 23, lr 0.010541932712791939\n"
          ],
          "name": "stdout"
        },
        {
          "output_type": "stream",
          "text": [
            "Loss=2.2197999954223633 Batch_id=97 Accuracy=76.62: 100%|██████████| 98/98 [00:18<00:00,  5.30it/s]"
          ],
          "name": "stderr"
        },
        {
          "output_type": "stream",
          "text": [
            "Scheduler stepping should be for every batch\n"
          ],
          "name": "stdout"
        },
        {
          "output_type": "stream",
          "text": [
            "\n"
          ],
          "name": "stderr"
        },
        {
          "output_type": "stream",
          "text": [
            "\n",
            "Test set: Average loss: -7566.3121, Accuracy: 7651/10000 (76.51%)\n",
            "\n"
          ],
          "name": "stdout"
        },
        {
          "output_type": "display_data",
          "data": {
            "image/png": "[encoded data removed]",
            "text/plain": [
              "<Figure size 432x288 with 2 Axes>"
            ]
          },
          "metadata": {
            "tags": [],
            "needs_background": "light"
          }
        },
        {
          "output_type": "stream",
          "text": [
            "Actual Labels\n",
            "  dog   cat   car   cat  ship  bird   cat  bird  bird   car\n",
            "Predicted Labels\n",
            " deer  frog truck  bird  bird   dog  frog plane plane  frog\n"
          ],
          "name": "stdout"
        },
        {
          "output_type": "display_data",
          "data": {
            "image/png": "[encoded data removed]",
            "text/plain": [
              "<Figure size 432x288 with 1 Axes>"
            ]
          },
          "metadata": {
            "tags": [],
            "needs_background": "light"
          }
        }
      ]
    }
  ]
}